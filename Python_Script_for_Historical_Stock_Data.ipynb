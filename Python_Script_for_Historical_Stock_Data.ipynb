{
  "cells": [
    {
      "cell_type": "markdown",
      "metadata": {
        "id": "view-in-github",
        "colab_type": "text"
      },
      "source": [
        "<a href=\"https://colab.research.google.com/github/Rbh2733/docs/blob/main/Python_Script_for_Historical_Stock_Data.ipynb\" target=\"_parent\"><img src=\"https://colab.research.google.com/assets/colab-badge.svg\" alt=\"Open In Colab\"/></a>"
      ]
    },
    {
      "cell_type": "code",
      "source": [
        "import yfinance as yf\n",
        "import pandas as pd\n",
        "from datetime import date, timedelta\n",
        "\n",
        "def get_historical_data(ticker_symbol, start_date, end_date):\n",
        "    \"\"\"\n",
        "    Fetches historical stock market data for a given ticker symbol between two dates.\n",
        "\n",
        "    Args:\n",
        "        ticker_symbol (str): The stock ticker symbol (e.g., 'AAPL', 'MSFT').\n",
        "        start_date (str): The start date in 'YYYY-MM-DD' format.\n",
        "        end_date (str): The end date in 'YYYY-MM-DD' format.\n",
        "\n",
        "    Returns:\n",
        "        pandas.DataFrame: A DataFrame containing the historical data (Open, High,\n",
        "                          Low, Close, Volume, Dividends, Stock Splits), or None\n",
        "                          if the ticker is invalid or no data is found.\n",
        "    \"\"\"\n",
        "    print(f\"Attempting to download data for {ticker_symbol} from {start_date} to {end_date}...\")\n",
        "    try:\n",
        "        # Download the stock data from Yahoo Finance\n",
        "        stock_data = yf.download(ticker_symbol, start=start_date, end=end_date, progress=False)\n",
        "\n",
        "        # Check if the returned DataFrame is empty\n",
        "        if stock_data.empty:\n",
        "            print(f\"No data found for ticker '{ticker_symbol}'. It might be an invalid ticker or delisted.\")\n",
        "            return None\n",
        "\n",
        "        print(f\"Successfully downloaded data for {ticker_symbol}.\")\n",
        "        return stock_data\n",
        "\n",
        "    except Exception as e:\n",
        "        print(f\"An error occurred for {ticker_symbol}: {e}\")\n",
        "        return None\n",
        "\n",
        "def save_data_to_csv(dataframe, ticker_symbol):\n",
        "    \"\"\"\n",
        "    Saves a pandas DataFrame to a CSV file.\n",
        "\n",
        "    Args:\n",
        "        dataframe (pandas.DataFrame): The DataFrame to save.\n",
        "        ticker_symbol (str): The ticker symbol, used for the filename.\n",
        "    \"\"\"\n",
        "    if dataframe is not None:\n",
        "        # Create a filename based on the ticker and the current date\n",
        "        filename = f\"{ticker_symbol}_historical_data_{date.today()}.csv\"\n",
        "        try:\n",
        "            dataframe.to_csv(filename)\n",
        "            print(f\"Data successfully saved to '{filename}'\")\n",
        "        except Exception as e:\n",
        "            print(f\"Failed to save data to CSV for {ticker_symbol}: {e}\")\n",
        "\n",
        "\n",
        "# --- Example Usage ---\n",
        "if __name__ == \"__main__\":\n",
        "    # Define the ticker symbols you're interested in.\n",
        "    tickers = ['NVDA', 'DIS', 'TSM', 'GOOGL', 'AMZN', 'MSFT', 'SONY', 'AMD', 'TXN', 'CSCO', 'VRTX', 'ADBE', 'META', 'BAC', 'KO', 'ORCL', 'WMT', 'IBM', 'BRK.B', 'LLY', 'AVGO', 'JPM', 'TSLA', 'V', 'JNJ', 'XOM', 'UNH', 'PG', 'MA', 'HD', 'COST', 'MRK', 'ABBV', 'CVX', 'CRM', 'NFLX', 'PEP', 'LIN', 'QCOM', 'TMO', 'ABT', 'GE', 'INTU', 'CAT', 'DHR', 'ISRG', 'AMGN', 'AMAT', 'WFC', 'NOW', 'PM', 'MMM', 'AOS', 'AFL', 'A', 'APD', 'AKAM', 'ALK', 'ALB', 'ARE', 'ALGN', 'ALLE', 'LNT', 'ALL', 'MO', 'AMCR', 'AEE', 'AAL', 'AEP', 'AXP', 'AIG', 'AMT', 'AWK', 'AMP', 'ABC', 'AME', 'APH', 'ADI', 'ANSS', 'AON', 'APA', 'AIRC', 'APTV', 'ADM', 'ANET', 'AJG', 'AIZ', 'T', 'ATO', 'ADSK', 'ADP', 'AZO', 'AVB', 'AVY', 'BKR', 'BLL', 'BK', 'BBWI', 'BAX', 'BDX', 'BBY', 'BIO', 'TECH', 'BIIB', 'BLK', 'BA', 'BKNG', 'BWA', 'BXP', 'BSX', 'BMY', 'BR', 'BRO', 'BF.B', 'CHRW', 'CDNS', 'CPB', 'COF', 'CAH', 'KMX', 'CCL', 'CARR', 'CTLT', 'CBOE', 'CBRE', 'CDW', 'CE', 'CNC', 'CNP', 'CDAY', 'CF', 'SCHW', 'CHTR', 'CMG', 'CB', 'CI', 'CINF', 'CTAS', 'C', 'CFG', 'CLX', 'CME', 'CMS', 'CTSH', 'CL', 'CMCSA', 'CMA', 'CAG', 'COP', 'ED', 'STZ', 'COO', 'CPRT', 'GLW', 'CTVA', 'CSGP', 'CTRA', 'CCI', 'CSX', 'CMI', 'CVS', 'DHI', 'DRI', 'DVA', 'DE', 'DAL', 'XRAY', 'DVN', 'DXCM', 'FANG', 'DLR', 'DFS', 'DISH', 'DG', 'DLTR', 'D', 'DPZ', 'DOV', 'DOW', 'DTE', 'DUK', 'DD', 'DT', 'EMN', 'ETN', 'EBAY', 'ECL', 'EIX', 'EW', 'EA', 'EMR', 'ENPH', 'ETR', 'EOG', 'EFX', 'EQIX', 'EQR', 'ESS', 'EL', 'ETSY', 'EVRG', 'ES', 'EXC', 'EXPE', 'EXPD', 'EXR', 'FFIV', 'FDS', 'FAST', 'FRT', 'FDX', 'FIS', 'FITB', 'FE', 'FISV', 'FLT', 'FMC', 'F', 'FTNT', 'FTV', 'BEN', 'FCX', 'GRMN', 'IT', 'GD', 'GIS', 'GM', 'GPC', 'GILD', 'GPN', 'GL', 'GS', 'GWW', 'HAL', 'HBI', 'HIG', 'HAS', 'HCA', 'PEAK', 'HSIC', 'HSY', 'HES', 'HPE', 'HLT', 'HOLX', 'HON', 'HRL', 'HST', 'HWM', 'HPQ', 'HUM', 'HBAN', 'IEX', 'IDXX', 'ITW', 'ILMN', 'INCY', 'IR', 'ICE', 'IFF', 'IP', 'IPG', 'IVZ', 'IPGP', 'IQV', 'IRM', 'JBHT', 'JKHY', 'J', 'JCI', 'JNPR', 'K', 'KEY', 'KEYS', 'KMB', 'KIM', 'KMI', 'KLAC', 'KHC', 'KR', 'LHX', 'LH', 'LRCX', 'LW', 'LVS', 'LEG', 'LDOS', 'LEN', 'LNC', 'LYV', 'LKQ', 'LMT', 'L', 'LOW', 'LUMN', 'LYB', 'MTB', 'MRO', 'MPC', 'MKTX', 'MAR', 'MMC', 'MLM', 'MAS', 'MTCH', 'MKC', 'MCD', 'MCK', 'MDT', 'MET', 'MTD', 'MGM', 'MCHP', 'MU', 'MAA', 'MHK', 'MOH', 'TAP', 'MDLZ', 'MPWR', 'MCO', 'MS', 'MORN', 'MSI', 'MSCI', 'NTAP', 'NEM', 'NWSA', 'NEE', 'NKE', 'NI', 'NSC', 'NTRS', 'NOC', 'NLOK', 'NCLH', 'NRG', 'NUE', 'NVR', 'ORLY', 'OXY', 'ODFL', 'OMC', 'ON', 'OGN', 'OTIS', 'PCAR', 'PKG', 'PH', 'PAYX', 'PAYC', 'PYPL', 'PENN', 'PNR', 'PEP', 'PFE', 'PSX', 'PNW', 'PXD', 'PNC', 'POOL', 'PPG', 'PPL', 'PFG', 'PGR', 'PLD', 'PRU', 'PEG', 'PSA', 'PHM', 'QRVO', 'PWR', 'DGX', 'RL', 'RJF', 'RTX', 'O', 'REGN', 'RF', 'RSG', 'RMD', 'RHI', 'ROK', 'ROL', 'ROP', 'ROST', 'RCL', 'SPGI', 'SBAC', 'SLB', 'STX', 'SEE', 'SRE', 'SHW', 'SPG', 'SWKS', 'SNA', 'SEDG', 'SO', 'LUV', 'SWK', 'SBUX', 'STT', 'STE', 'SYK', 'SYF', 'SNPS', 'SYY', 'TMUS', 'TROW', 'TTWO', 'TPR', 'TGT', 'TEL', 'TDY', 'TFX', 'TER', 'TXT', 'TJX', 'TSCO', 'TT', 'TDG', 'TRV', 'TRMB', 'TFC', 'TYL', 'TSN', 'USB', 'UDR', 'ULTA', 'UAA', 'UNP', 'UAL', 'UPS', 'URI', 'UHS', 'VLO', 'VTR', 'VRSN', 'VRSK', 'VZ', 'VTRS', 'VICI', 'VNO', 'VMC', 'WBA', 'WM', 'WAT', 'WEC', 'WELL', 'WST', 'WDC', 'WRK', 'WY', 'WHR', 'WMB', 'WTW', 'WRB', 'XEL', 'YUM', 'ZBRA', 'ZION', 'ZTS']\n",
        "\n",
        "    # Define the date range.\n",
        "    # Let's pull data for the last year.\n",
        "    end = date.today()\n",
        "    start = end - timedelta(days=365)\n",
        "\n",
        "    # Format dates as strings\n",
        "    start_str = start.strftime('%Y-%m-%d')\n",
        "    end_str = end.strftime('%Y-%m-%d')\n",
        "\n",
        "    # Set pandas to display all columns for better output\n",
        "    pd.set_option('display.max_columns', None)\n",
        "\n",
        "    for ticker in tickers:\n",
        "        # Call the function to get the data\n",
        "        historical_data = get_historical_data(ticker, start_str, end_str)\n",
        "\n",
        "        # If data was successfully retrieved, print the last 5 rows and save\n",
        "        if historical_data is not None:\n",
        "            print(f\"\\n--- Last 5 Days of Data for {ticker} ---\")\n",
        "            print(historical_data.tail())\n",
        "\n",
        "            # Save the retrieved data to a CSV file\n",
        "            save_data_to_csv(historical_data, ticker)\n",
        "\n",
        "        print(\"-\" * 30) # Separator for clarity\n",
        "\n",
        "    # The invalid ticker test is removed as we are now processing a list of valid tickers.\n",
        "    # If you need to test with an invalid ticker, you can add it to the 'tickers' list."
      ],
      "outputs": [
        {
          "output_type": "stream",
          "name": "stdout",
          "text": [
            "Attempting to download data for NVDA from 2024-08-01 to 2025-08-01...\n",
            "Successfully downloaded data for NVDA.\n",
            "\n",
            "--- Last 5 Days of Data for NVDA ---\n",
            "Price            Close        High         Low        Open     Volume\n",
            "Ticker            NVDA        NVDA        NVDA        NVDA       NVDA\n",
            "Date                                                                 \n",
            "2025-07-25  173.500000  174.720001  172.960007  173.610001  122316800\n",
            "2025-07-28  176.750000  177.000000  173.970001  174.020004  140023500\n",
            "2025-07-29  175.509995  179.380005  175.020004  177.960007  154077500\n",
            "2025-07-30  179.270004  179.889999  176.039993  176.509995  174312200\n",
            "2025-07-31  177.869995  183.300003  175.929993  182.899994  220508800\n",
            "Data successfully saved to 'NVDA_historical_data_2025-08-01.csv'\n",
            "------------------------------\n",
            "Attempting to download data for DIS from 2024-08-01 to 2025-08-01...\n"
          ]
        },
        {
          "output_type": "stream",
          "name": "stderr",
          "text": [
            "/tmp/ipython-input-2137805434.py:22: FutureWarning: YF.download() has changed argument auto_adjust default to True\n",
            "  stock_data = yf.download(ticker_symbol, start=start_date, end=end_date, progress=False)\n",
            "/tmp/ipython-input-2137805434.py:22: FutureWarning: YF.download() has changed argument auto_adjust default to True\n",
            "  stock_data = yf.download(ticker_symbol, start=start_date, end=end_date, progress=False)\n"
          ]
        },
        {
          "output_type": "stream",
          "name": "stdout",
          "text": [
            "Successfully downloaded data for DIS.\n",
            "\n",
            "--- Last 5 Days of Data for DIS ---\n",
            "Price            Close        High         Low        Open   Volume\n",
            "Ticker             DIS         DIS         DIS         DIS      DIS\n",
            "Date                                                               \n",
            "2025-07-25  121.470001  122.449997  120.870003  122.260002  5656600\n",
            "2025-07-28  120.370003  121.400002  119.889999  121.029999  6042200\n",
            "2025-07-29  119.910004  120.809998  119.360001  120.580002  6283700\n",
            "2025-07-30  119.540001  120.500000  119.180000  119.949997  5281500\n",
            "2025-07-31  119.110001  119.910004  118.580002  119.459999  7228400\n",
            "Data successfully saved to 'DIS_historical_data_2025-08-01.csv'\n",
            "------------------------------\n",
            "Attempting to download data for TSM from 2024-08-01 to 2025-08-01...\n"
          ]
        },
        {
          "output_type": "stream",
          "name": "stderr",
          "text": [
            "/tmp/ipython-input-2137805434.py:22: FutureWarning: YF.download() has changed argument auto_adjust default to True\n",
            "  stock_data = yf.download(ticker_symbol, start=start_date, end=end_date, progress=False)\n"
          ]
        },
        {
          "output_type": "stream",
          "name": "stdout",
          "text": [
            "Successfully downloaded data for TSM.\n",
            "\n",
            "--- Last 5 Days of Data for TSM ---\n",
            "Price            Close        High         Low        Open    Volume\n",
            "Ticker             TSM         TSM         TSM         TSM       TSM\n",
            "Date                                                                \n",
            "2025-07-25  245.600006  246.240005  240.940002  241.320007  11593400\n",
            "2025-07-28  242.750000  243.949997  241.050003  243.000000  11892200\n",
            "2025-07-29  241.330002  243.970001  239.820007  241.500000   9411500\n",
            "2025-07-30  242.910004  244.570007  241.220001  242.119995   6823800\n",
            "2025-07-31  241.619995  247.410004  239.800003  245.979996  13451500\n",
            "Data successfully saved to 'TSM_historical_data_2025-08-01.csv'\n",
            "------------------------------\n",
            "Attempting to download data for GOOGL from 2024-08-01 to 2025-08-01...\n"
          ]
        },
        {
          "output_type": "stream",
          "name": "stderr",
          "text": [
            "/tmp/ipython-input-2137805434.py:22: FutureWarning: YF.download() has changed argument auto_adjust default to True\n",
            "  stock_data = yf.download(ticker_symbol, start=start_date, end=end_date, progress=False)\n"
          ]
        },
        {
          "output_type": "stream",
          "name": "stdout",
          "text": [
            "Successfully downloaded data for GOOGL.\n",
            "\n",
            "--- Last 5 Days of Data for GOOGL ---\n",
            "Price            Close        High         Low        Open    Volume\n",
            "Ticker           GOOGL       GOOGL       GOOGL       GOOGL     GOOGL\n",
            "Date                                                                \n",
            "2025-07-25  193.179993  194.330002  191.259995  191.979996  39785900\n",
            "2025-07-28  192.580002  194.050003  190.839996  193.649994  38139500\n",
            "2025-07-29  195.750000  195.919998  192.080002  192.429993  41389200\n",
            "2025-07-30  196.529999  197.600006  194.690002  195.600006  32445400\n",
            "2025-07-31  191.899994  195.990005  191.089996  195.710007  51177700\n",
            "Data successfully saved to 'GOOGL_historical_data_2025-08-01.csv'\n",
            "------------------------------\n",
            "Attempting to download data for AMZN from 2024-08-01 to 2025-08-01...\n",
            "Successfully downloaded data for AMZN.\n",
            "\n",
            "--- Last 5 Days of Data for AMZN ---\n",
            "Price            Close        High         Low        Open     Volume\n",
            "Ticker            AMZN        AMZN        AMZN        AMZN       AMZN\n",
            "Date                                                                 \n",
            "2025-07-25  231.440002  232.479996  231.179993  232.220001   28712100\n",
            "2025-07-28  232.789993  234.289993  232.250000  233.350006   26300100\n",
            "2025-07-29  231.009995  234.720001  230.309998  234.149994   33716200\n",
            "2025-07-30  230.190002  231.800003  229.289993  231.639999   32993300\n",
            "2025-07-31  234.110001  236.529999  231.399994  235.770004  102204600\n",
            "Data successfully saved to 'AMZN_historical_data_2025-08-01.csv'\n",
            "------------------------------\n",
            "Attempting to download data for MSFT from 2024-08-01 to 2025-08-01...\n"
          ]
        },
        {
          "output_type": "stream",
          "name": "stderr",
          "text": [
            "/tmp/ipython-input-2137805434.py:22: FutureWarning: YF.download() has changed argument auto_adjust default to True\n",
            "  stock_data = yf.download(ticker_symbol, start=start_date, end=end_date, progress=False)\n",
            "/tmp/ipython-input-2137805434.py:22: FutureWarning: YF.download() has changed argument auto_adjust default to True\n",
            "  stock_data = yf.download(ticker_symbol, start=start_date, end=end_date, progress=False)\n"
          ]
        },
        {
          "output_type": "stream",
          "name": "stdout",
          "text": [
            "Successfully downloaded data for MSFT.\n",
            "\n",
            "--- Last 5 Days of Data for MSFT ---\n",
            "Price            Close        High         Low        Open    Volume\n",
            "Ticker            MSFT        MSFT        MSFT        MSFT      MSFT\n",
            "Date                                                                \n",
            "2025-07-25  513.710022  518.289978  510.359985  512.469971  19125700\n",
            "2025-07-28  512.500000  515.000000  510.119995  514.080017  14308000\n",
            "2025-07-29  512.570007  517.619995  511.559998  515.530029  16469200\n",
            "2025-07-30  513.239990  515.950012  509.440002  515.169983  26380400\n",
            "2025-07-31  533.500000  555.450012  531.900024  555.229980  51500000\n",
            "Data successfully saved to 'MSFT_historical_data_2025-08-01.csv'\n",
            "------------------------------\n",
            "Attempting to download data for SONY from 2024-08-01 to 2025-08-01...\n"
          ]
        },
        {
          "output_type": "stream",
          "name": "stderr",
          "text": [
            "/tmp/ipython-input-2137805434.py:22: FutureWarning: YF.download() has changed argument auto_adjust default to True\n",
            "  stock_data = yf.download(ticker_symbol, start=start_date, end=end_date, progress=False)\n"
          ]
        },
        {
          "output_type": "stream",
          "name": "stdout",
          "text": [
            "Successfully downloaded data for SONY.\n",
            "\n",
            "--- Last 5 Days of Data for SONY ---\n",
            "Price           Close       High        Low       Open   Volume\n",
            "Ticker           SONY       SONY       SONY       SONY     SONY\n",
            "Date                                                           \n",
            "2025-07-25  24.879999  25.040001  24.790001  25.010000  3727000\n",
            "2025-07-28  24.360001  24.490000  24.290001  24.430000  2298300\n",
            "2025-07-29  24.150000  24.420000  24.110001  24.340000  3297000\n",
            "2025-07-30  24.200001  24.400000  24.110001  24.370001  2794200\n",
            "2025-07-31  24.320000  24.580000  24.219999  24.580000  3787300\n",
            "Data successfully saved to 'SONY_historical_data_2025-08-01.csv'\n",
            "------------------------------\n",
            "Attempting to download data for AMD from 2024-08-01 to 2025-08-01...\n",
            "Successfully downloaded data for AMD.\n",
            "\n",
            "--- Last 5 Days of Data for AMD ---\n",
            "Price            Close        High         Low        Open     Volume\n",
            "Ticker             AMD         AMD         AMD         AMD        AMD\n",
            "Date                                                                 \n",
            "2025-07-25  166.470001  167.179993  162.360001  163.509995   53432300\n",
            "2025-07-28  173.660004  174.699997  168.669998  169.080002   68267800\n",
            "2025-07-29  177.440002  182.309998  174.679993  175.210007  108154800\n",
            "2025-07-30  179.509995  180.369995  173.800003  175.610001   64820300\n",
            "2025-07-31  176.309998  182.500000  173.000000  182.020004   71361500\n",
            "Data successfully saved to 'AMD_historical_data_2025-08-01.csv'\n",
            "------------------------------\n",
            "Attempting to download data for TXN from 2024-08-01 to 2025-08-01...\n"
          ]
        },
        {
          "output_type": "stream",
          "name": "stderr",
          "text": [
            "/tmp/ipython-input-2137805434.py:22: FutureWarning: YF.download() has changed argument auto_adjust default to True\n",
            "  stock_data = yf.download(ticker_symbol, start=start_date, end=end_date, progress=False)\n",
            "/tmp/ipython-input-2137805434.py:22: FutureWarning: YF.download() has changed argument auto_adjust default to True\n",
            "  stock_data = yf.download(ticker_symbol, start=start_date, end=end_date, progress=False)\n"
          ]
        },
        {
          "output_type": "stream",
          "name": "stdout",
          "text": [
            "Successfully downloaded data for TXN.\n",
            "\n",
            "--- Last 5 Days of Data for TXN ---\n",
            "Price            Close        High         Low        Open   Volume\n",
            "Ticker             TXN         TXN         TXN         TXN      TXN\n",
            "Date                                                               \n",
            "2025-07-25  183.662506  184.546119  181.885343  184.367403  7031800\n",
            "2025-07-28  187.891937  189.172674  186.402701  186.531773  8586800\n",
            "2025-07-29  190.006653  191.505812  187.544439  188.348639  7144700\n",
            "2025-07-30  188.160004  191.198043  186.948757  190.771120  6985100\n",
            "2025-07-31  181.059998  186.910004  179.809998  186.139999  9534200\n",
            "Data successfully saved to 'TXN_historical_data_2025-08-01.csv'\n",
            "------------------------------\n",
            "Attempting to download data for CSCO from 2024-08-01 to 2025-08-01...\n",
            "Successfully downloaded data for CSCO.\n",
            "\n",
            "--- Last 5 Days of Data for CSCO ---\n",
            "Price           Close       High        Low       Open    Volume\n",
            "Ticker           CSCO       CSCO       CSCO       CSCO      CSCO\n",
            "Date                                                            \n",
            "2025-07-25  68.690002  68.820000  68.070000  68.379997  11590000\n",
            "2025-07-28  67.919998  67.959999  67.370003  67.750000  20558400\n",
            "2025-07-29  67.959999  68.720001  67.830002  68.230003  15261800\n",
            "2025-07-30  68.279999  68.580002  67.349998  67.839996  15518200\n",
            "2025-07-31  68.080002  69.150002  67.879997  68.309998  18505100\n",
            "Data successfully saved to 'CSCO_historical_data_2025-08-01.csv'\n",
            "------------------------------\n",
            "Attempting to download data for VRTX from 2024-08-01 to 2025-08-01...\n"
          ]
        },
        {
          "output_type": "stream",
          "name": "stderr",
          "text": [
            "/tmp/ipython-input-2137805434.py:22: FutureWarning: YF.download() has changed argument auto_adjust default to True\n",
            "  stock_data = yf.download(ticker_symbol, start=start_date, end=end_date, progress=False)\n",
            "/tmp/ipython-input-2137805434.py:22: FutureWarning: YF.download() has changed argument auto_adjust default to True\n",
            "  stock_data = yf.download(ticker_symbol, start=start_date, end=end_date, progress=False)\n"
          ]
        },
        {
          "output_type": "stream",
          "name": "stdout",
          "text": [
            "Successfully downloaded data for VRTX.\n",
            "\n",
            "--- Last 5 Days of Data for VRTX ---\n",
            "Price            Close        High         Low        Open   Volume\n",
            "Ticker            VRTX        VRTX        VRTX        VRTX     VRTX\n",
            "Date                                                               \n",
            "2025-07-25  469.649994  472.709991  465.839996  472.660004  1176900\n",
            "2025-07-28  460.829987  471.000000  460.730011  467.440002  2107300\n",
            "2025-07-29  468.410004  468.980011  460.549988  464.329987  1151400\n",
            "2025-07-30  469.160004  474.760010  466.799988  471.200012   993300\n",
            "2025-07-31  456.869995  470.589996  455.450012  465.290009  1480000\n",
            "Data successfully saved to 'VRTX_historical_data_2025-08-01.csv'\n",
            "------------------------------\n",
            "Attempting to download data for ADBE from 2024-08-01 to 2025-08-01...\n"
          ]
        },
        {
          "output_type": "stream",
          "name": "stderr",
          "text": [
            "/tmp/ipython-input-2137805434.py:22: FutureWarning: YF.download() has changed argument auto_adjust default to True\n",
            "  stock_data = yf.download(ticker_symbol, start=start_date, end=end_date, progress=False)\n"
          ]
        },
        {
          "output_type": "stream",
          "name": "stdout",
          "text": [
            "Successfully downloaded data for ADBE.\n",
            "\n",
            "--- Last 5 Days of Data for ADBE ---\n",
            "Price            Close        High         Low        Open   Volume\n",
            "Ticker            ADBE        ADBE        ADBE        ADBE     ADBE\n",
            "Date                                                               \n",
            "2025-07-25  370.739990  372.410004  369.510010  372.309998  2053200\n",
            "2025-07-28  369.470001  372.589996  368.720001  371.029999  2984200\n",
            "2025-07-29  370.700012  376.160004  369.709991  370.450012  4234200\n",
            "2025-07-30  364.000000  370.720001  363.480011  370.679993  3295200\n",
            "2025-07-31  357.690002  362.500000  354.269989  362.260010  4506600\n",
            "Data successfully saved to 'ADBE_historical_data_2025-08-01.csv'\n",
            "------------------------------\n",
            "Attempting to download data for META from 2024-08-01 to 2025-08-01...\n",
            "Successfully downloaded data for META.\n",
            "\n",
            "--- Last 5 Days of Data for META ---\n",
            "Price            Close        High         Low        Open    Volume\n",
            "Ticker            META        META        META        META      META\n",
            "Date                                                                \n",
            "2025-07-25  712.679993  720.650024  711.900024  716.919983   8271700\n",
            "2025-07-28  717.630005  724.739990  712.679993  715.200012   8715700\n",
            "2025-07-29  700.000000  724.469971  699.909973  720.000000  13267000\n",
            "2025-07-30  695.210022  708.500000  691.200012  708.090027  27077300\n",
            "2025-07-31  773.440002  784.750000  765.510010  775.200012  38735900\n",
            "Data successfully saved to 'META_historical_data_2025-08-01.csv'\n",
            "------------------------------\n",
            "Attempting to download data for BAC from 2024-08-01 to 2025-08-01...\n"
          ]
        },
        {
          "output_type": "stream",
          "name": "stderr",
          "text": [
            "/tmp/ipython-input-2137805434.py:22: FutureWarning: YF.download() has changed argument auto_adjust default to True\n",
            "  stock_data = yf.download(ticker_symbol, start=start_date, end=end_date, progress=False)\n",
            "/tmp/ipython-input-2137805434.py:22: FutureWarning: YF.download() has changed argument auto_adjust default to True\n",
            "  stock_data = yf.download(ticker_symbol, start=start_date, end=end_date, progress=False)\n"
          ]
        },
        {
          "output_type": "stream",
          "name": "stdout",
          "text": [
            "Successfully downloaded data for BAC.\n",
            "\n",
            "--- Last 5 Days of Data for BAC ---\n",
            "Price           Close       High        Low       Open    Volume\n",
            "Ticker            BAC        BAC        BAC        BAC       BAC\n",
            "Date                                                            \n",
            "2025-07-25  48.450001  48.549999  47.939999  48.389999  24461200\n",
            "2025-07-28  48.230000  48.540001  48.080002  48.450001  20590400\n",
            "2025-07-29  47.950001  48.509998  47.889999  48.389999  26216500\n",
            "2025-07-30  47.959999  48.500000  47.740002  48.259998  32265900\n",
            "2025-07-31  47.270000  48.029999  47.189999  47.759998  39989000\n",
            "Data successfully saved to 'BAC_historical_data_2025-08-01.csv'\n",
            "------------------------------\n",
            "Attempting to download data for KO from 2024-08-01 to 2025-08-01...\n"
          ]
        },
        {
          "output_type": "stream",
          "name": "stderr",
          "text": [
            "/tmp/ipython-input-2137805434.py:22: FutureWarning: YF.download() has changed argument auto_adjust default to True\n",
            "  stock_data = yf.download(ticker_symbol, start=start_date, end=end_date, progress=False)\n"
          ]
        },
        {
          "output_type": "stream",
          "name": "stdout",
          "text": [
            "Successfully downloaded data for KO.\n",
            "\n",
            "--- Last 5 Days of Data for KO ---\n",
            "Price           Close       High        Low       Open    Volume\n",
            "Ticker             KO         KO         KO         KO        KO\n",
            "Date                                                            \n",
            "2025-07-25  69.169998  69.230003  68.750000  69.129997  12574800\n",
            "2025-07-28  68.089996  68.900002  68.059998  68.739998  13668800\n",
            "2025-07-29  69.379997  69.419998  68.150002  68.339996  16223400\n",
            "2025-07-30  68.750000  69.330002  68.529999  69.110001  10448200\n",
            "2025-07-31  67.889999  68.650002  67.739998  68.150002  17182000\n",
            "Data successfully saved to 'KO_historical_data_2025-08-01.csv'\n",
            "------------------------------\n",
            "Attempting to download data for ORCL from 2024-08-01 to 2025-08-01...\n",
            "Successfully downloaded data for ORCL.\n",
            "\n",
            "--- Last 5 Days of Data for ORCL ---\n",
            "Price            Close        High         Low        Open    Volume\n",
            "Ticker            ORCL        ORCL        ORCL        ORCL      ORCL\n",
            "Date                                                                \n",
            "2025-07-25  245.119995  245.470001  241.429993  242.339996   7149600\n",
            "2025-07-28  247.710007  247.779999  243.419998  246.000000   6756800\n",
            "2025-07-29  249.979996  253.070007  246.589996  248.699997   8415300\n",
            "2025-07-30  250.600006  251.050003  245.600006  248.639999   8441400\n",
            "2025-07-31  253.770004  260.869995  253.320007  255.770004  15520400\n",
            "Data successfully saved to 'ORCL_historical_data_2025-08-01.csv'\n",
            "------------------------------\n",
            "Attempting to download data for WMT from 2024-08-01 to 2025-08-01...\n"
          ]
        },
        {
          "output_type": "stream",
          "name": "stderr",
          "text": [
            "/tmp/ipython-input-2137805434.py:22: FutureWarning: YF.download() has changed argument auto_adjust default to True\n",
            "  stock_data = yf.download(ticker_symbol, start=start_date, end=end_date, progress=False)\n",
            "/tmp/ipython-input-2137805434.py:22: FutureWarning: YF.download() has changed argument auto_adjust default to True\n",
            "  stock_data = yf.download(ticker_symbol, start=start_date, end=end_date, progress=False)\n"
          ]
        },
        {
          "output_type": "stream",
          "name": "stdout",
          "text": [
            "Successfully downloaded data for WMT.\n",
            "\n",
            "--- Last 5 Days of Data for WMT ---\n",
            "Price           Close       High        Low       Open    Volume\n",
            "Ticker            WMT        WMT        WMT        WMT       WMT\n",
            "Date                                                            \n",
            "2025-07-25  97.470001  97.650002  96.529999  96.839996  12868500\n",
            "2025-07-28  97.610001  98.129997  97.080002  97.279999  12293100\n",
            "2025-07-29  98.330002  98.720001  97.339996  97.779999  14034300\n",
            "2025-07-30  97.589996  98.879997  97.290001  98.610001  13864100\n",
            "2025-07-31  97.980003  98.629997  97.309998  97.440002  14735100\n",
            "Data successfully saved to 'WMT_historical_data_2025-08-01.csv'\n",
            "------------------------------\n",
            "Attempting to download data for IBM from 2024-08-01 to 2025-08-01...\n"
          ]
        },
        {
          "output_type": "stream",
          "name": "stderr",
          "text": [
            "/tmp/ipython-input-2137805434.py:22: FutureWarning: YF.download() has changed argument auto_adjust default to True\n",
            "  stock_data = yf.download(ticker_symbol, start=start_date, end=end_date, progress=False)\n"
          ]
        },
        {
          "output_type": "stream",
          "name": "stdout",
          "text": [
            "Successfully downloaded data for IBM.\n",
            "\n",
            "--- Last 5 Days of Data for IBM ---\n",
            "Price            Close        High         Low        Open   Volume\n",
            "Ticker             IBM         IBM         IBM         IBM      IBM\n",
            "Date                                                               \n",
            "2025-07-25  259.720001  260.799988  256.350006  260.019989  7758700\n",
            "2025-07-28  263.209991  264.000000  259.609985  260.299988  5192500\n",
            "2025-07-29  262.410004  265.799988  261.019989  264.299988  4627300\n",
            "2025-07-30  260.260010  262.000000  258.899994  261.600006  3718300\n",
            "2025-07-31  253.149994  259.989990  252.220001  259.570007  6725300\n",
            "Data successfully saved to 'IBM_historical_data_2025-08-01.csv'\n",
            "------------------------------\n",
            "Attempting to download data for BRK.B from 2024-08-01 to 2025-08-01...\n"
          ]
        },
        {
          "output_type": "stream",
          "name": "stderr",
          "text": [
            "/tmp/ipython-input-2137805434.py:22: FutureWarning: YF.download() has changed argument auto_adjust default to True\n",
            "  stock_data = yf.download(ticker_symbol, start=start_date, end=end_date, progress=False)\n",
            "ERROR:yfinance:\n",
            "1 Failed download:\n",
            "ERROR:yfinance:['BRK.B']: YFTzMissingError('possibly delisted; no timezone found')\n",
            "/tmp/ipython-input-2137805434.py:22: FutureWarning: YF.download() has changed argument auto_adjust default to True\n",
            "  stock_data = yf.download(ticker_symbol, start=start_date, end=end_date, progress=False)\n"
          ]
        },
        {
          "output_type": "stream",
          "name": "stdout",
          "text": [
            "No data found for ticker 'BRK.B'. It might be an invalid ticker or delisted.\n",
            "------------------------------\n",
            "Attempting to download data for LLY from 2024-08-01 to 2025-08-01...\n",
            "Successfully downloaded data for LLY.\n",
            "\n",
            "--- Last 5 Days of Data for LLY ---\n",
            "Price            Close        High         Low        Open   Volume\n",
            "Ticker             LLY         LLY         LLY         LLY      LLY\n",
            "Date                                                               \n",
            "2025-07-25  812.690002  815.190002  802.369995  809.000000  2976900\n",
            "2025-07-28  808.109985  820.219971  802.500000  812.650024  2587700\n",
            "2025-07-29  762.950012  779.489990  755.179993  774.500000  7100700\n",
            "2025-07-30  760.080017  778.099976  758.409973  774.000000  4338700\n",
            "2025-07-31  740.070007  766.450012  735.440002  747.299988  5804200\n",
            "Data successfully saved to 'LLY_historical_data_2025-08-01.csv'\n",
            "------------------------------\n",
            "Attempting to download data for AVGO from 2024-08-01 to 2025-08-01...\n"
          ]
        },
        {
          "output_type": "stream",
          "name": "stderr",
          "text": [
            "/tmp/ipython-input-2137805434.py:22: FutureWarning: YF.download() has changed argument auto_adjust default to True\n",
            "  stock_data = yf.download(ticker_symbol, start=start_date, end=end_date, progress=False)\n",
            "/tmp/ipython-input-2137805434.py:22: FutureWarning: YF.download() has changed argument auto_adjust default to True\n",
            "  stock_data = yf.download(ticker_symbol, start=start_date, end=end_date, progress=False)\n"
          ]
        },
        {
          "output_type": "stream",
          "name": "stdout",
          "text": [
            "Successfully downloaded data for AVGO.\n",
            "\n",
            "--- Last 5 Days of Data for AVGO ---\n",
            "Price            Close        High         Low        Open    Volume\n",
            "Ticker            AVGO        AVGO        AVGO        AVGO      AVGO\n",
            "Date                                                                \n",
            "2025-07-25  290.179993  292.589996  287.269989  288.070007  12476200\n",
            "2025-07-28  294.299988  295.450012  290.589996  292.459991  13683400\n",
            "2025-07-29  297.420013  302.190002  294.869995  297.500000  19210800\n",
            "2025-07-30  302.619995  303.260010  295.799988  297.149994  16738900\n",
            "2025-07-31  293.700012  306.950012  290.230011  302.799988  25419400\n",
            "Data successfully saved to 'AVGO_historical_data_2025-08-01.csv'\n",
            "------------------------------\n",
            "Attempting to download data for JPM from 2024-08-01 to 2025-08-01...\n",
            "Successfully downloaded data for JPM.\n",
            "\n",
            "--- Last 5 Days of Data for JPM ---\n",
            "Price            Close        High         Low        Open    Volume\n",
            "Ticker             JPM         JPM         JPM         JPM       JPM\n",
            "Date                                                                \n",
            "2025-07-25  298.619995  298.899994  295.959991  296.700012   5918500\n",
            "2025-07-28  298.279999  299.429993  296.820007  297.660004   5840400\n",
            "2025-07-29  297.040009  301.290009  296.200012  300.000000   7635700\n",
            "2025-07-30  299.630005  300.609985  297.380005  297.420013   8061700\n",
            "2025-07-31  296.239990  300.980011  295.500000  299.140015  14739600\n",
            "Data successfully saved to 'JPM_historical_data_2025-08-01.csv'\n",
            "------------------------------\n",
            "Attempting to download data for TSLA from 2024-08-01 to 2025-08-01...\n"
          ]
        },
        {
          "output_type": "stream",
          "name": "stderr",
          "text": [
            "/tmp/ipython-input-2137805434.py:22: FutureWarning: YF.download() has changed argument auto_adjust default to True\n",
            "  stock_data = yf.download(ticker_symbol, start=start_date, end=end_date, progress=False)\n",
            "/tmp/ipython-input-2137805434.py:22: FutureWarning: YF.download() has changed argument auto_adjust default to True\n",
            "  stock_data = yf.download(ticker_symbol, start=start_date, end=end_date, progress=False)\n"
          ]
        },
        {
          "output_type": "stream",
          "name": "stdout",
          "text": [
            "Successfully downloaded data for TSLA.\n",
            "\n",
            "--- Last 5 Days of Data for TSLA ---\n",
            "Price            Close        High         Low        Open     Volume\n",
            "Ticker            TSLA        TSLA        TSLA        TSLA       TSLA\n",
            "Date                                                                 \n",
            "2025-07-25  316.059998  323.630005  308.010010  308.739990  148227000\n",
            "2025-07-28  325.589996  330.489990  315.690002  318.450012  112673800\n",
            "2025-07-29  321.200012  326.250000  318.250000  325.549988   87358900\n",
            "2025-07-30  319.040009  324.450012  311.619995  322.179993   83931900\n",
            "2025-07-31  308.269989  321.369995  306.100006  319.609985   84932800\n",
            "Data successfully saved to 'TSLA_historical_data_2025-08-01.csv'\n",
            "------------------------------\n",
            "Attempting to download data for V from 2024-08-01 to 2025-08-01...\n",
            "Successfully downloaded data for V.\n",
            "\n",
            "--- Last 5 Days of Data for V ---\n",
            "Price            Close        High         Low        Open    Volume\n",
            "Ticker               V           V           V           V         V\n",
            "Date                                                                \n",
            "2025-07-25  357.040009  357.649994  353.010010  354.000000   3915400\n",
            "2025-07-28  355.470001  358.320007  354.730011  356.380005   3921000\n",
            "2025-07-29  351.290009  358.320007  350.809998  356.290009   7402300\n",
            "2025-07-30  350.910004  356.619995  347.230011  351.700012  12129700\n",
            "2025-07-31  345.470001  352.820007  345.089996  348.929993   8634800\n",
            "Data successfully saved to 'V_historical_data_2025-08-01.csv'\n",
            "------------------------------\n",
            "Attempting to download data for JNJ from 2024-08-01 to 2025-08-01...\n"
          ]
        },
        {
          "output_type": "stream",
          "name": "stderr",
          "text": [
            "/tmp/ipython-input-2137805434.py:22: FutureWarning: YF.download() has changed argument auto_adjust default to True\n",
            "  stock_data = yf.download(ticker_symbol, start=start_date, end=end_date, progress=False)\n"
          ]
        },
        {
          "output_type": "stream",
          "name": "stdout",
          "text": [
            "Successfully downloaded data for JNJ.\n",
            "\n",
            "--- Last 5 Days of Data for JNJ ---\n",
            "Price            Close        High         Low        Open    Volume\n",
            "Ticker             JNJ         JNJ         JNJ         JNJ       JNJ\n",
            "Date                                                                \n",
            "2025-07-25  168.300003  169.880005  167.440002  169.750000   6254900\n",
            "2025-07-28  166.220001  167.940002  165.050003  167.860001   8014600\n",
            "2025-07-29  168.110001  168.779999  166.369995  166.669998   7663400\n",
            "2025-07-30  167.259995  168.610001  166.779999  167.699997   6189200\n",
            "2025-07-31  164.740005  167.070007  164.229996  165.929993  10327800\n",
            "Data successfully saved to 'JNJ_historical_data_2025-08-01.csv'\n",
            "------------------------------\n",
            "Attempting to download data for XOM from 2024-08-01 to 2025-08-01...\n"
          ]
        },
        {
          "output_type": "stream",
          "name": "stderr",
          "text": [
            "/tmp/ipython-input-2137805434.py:22: FutureWarning: YF.download() has changed argument auto_adjust default to True\n",
            "  stock_data = yf.download(ticker_symbol, start=start_date, end=end_date, progress=False)\n"
          ]
        },
        {
          "output_type": "stream",
          "name": "stdout",
          "text": [
            "Successfully downloaded data for XOM.\n",
            "\n",
            "--- Last 5 Days of Data for XOM ---\n",
            "Price            Close        High         Low        Open    Volume\n",
            "Ticker             XOM         XOM         XOM         XOM       XOM\n",
            "Date                                                                \n",
            "2025-07-25  110.400002  110.980003  109.699997  110.730003  10548900\n",
            "2025-07-28  111.440002  112.110001  110.839996  111.000000  12353000\n",
            "2025-07-29  112.879997  113.000000  111.410004  111.900002  15928000\n",
            "2025-07-30  111.900002  112.610001  111.260002  112.410004  12996900\n",
            "2025-07-31  111.639999  112.500000  110.360001  110.360001  17211600\n",
            "Data successfully saved to 'XOM_historical_data_2025-08-01.csv'\n",
            "------------------------------\n",
            "Attempting to download data for UNH from 2024-08-01 to 2025-08-01...\n",
            "Successfully downloaded data for UNH.\n",
            "\n",
            "--- Last 5 Days of Data for UNH ---\n",
            "Price            Close        High         Low        Open    Volume\n",
            "Ticker             UNH         UNH         UNH         UNH       UNH\n",
            "Date                                                                \n",
            "2025-07-25  281.059998  286.140015  279.940002  281.000000  16486600\n",
            "2025-07-28  282.119995  285.000000  279.690002  283.500000  15779400\n",
            "2025-07-29  261.070007  272.910004  260.549988  265.700012  41706000\n",
            "2025-07-30  266.040009  266.630005  258.119995  264.799988  22371800\n",
            "2025-07-31  249.559998  261.399994  247.750000  261.399994  29449500\n",
            "Data successfully saved to 'UNH_historical_data_2025-08-01.csv'\n",
            "------------------------------\n",
            "Attempting to download data for PG from 2024-08-01 to 2025-08-01...\n"
          ]
        },
        {
          "output_type": "stream",
          "name": "stderr",
          "text": [
            "/tmp/ipython-input-2137805434.py:22: FutureWarning: YF.download() has changed argument auto_adjust default to True\n",
            "  stock_data = yf.download(ticker_symbol, start=start_date, end=end_date, progress=False)\n",
            "/tmp/ipython-input-2137805434.py:22: FutureWarning: YF.download() has changed argument auto_adjust default to True\n",
            "  stock_data = yf.download(ticker_symbol, start=start_date, end=end_date, progress=False)\n"
          ]
        },
        {
          "output_type": "stream",
          "name": "stdout",
          "text": [
            "Successfully downloaded data for PG.\n",
            "\n",
            "--- Last 5 Days of Data for PG ---\n",
            "Price            Close        High         Low        Open    Volume\n",
            "Ticker              PG          PG          PG          PG        PG\n",
            "Date                                                                \n",
            "2025-07-25  158.300003  158.440002  157.020004  157.339996   5799900\n",
            "2025-07-28  157.110001  158.089996  156.229996  157.630005   7885000\n",
            "2025-07-29  156.610001  158.649994  154.839996  158.649994  11466100\n",
            "2025-07-30  152.880005  157.000000  152.050003  157.000000   8162900\n",
            "2025-07-31  150.470001  152.000000  149.910004  151.800003  11843700\n",
            "Data successfully saved to 'PG_historical_data_2025-08-01.csv'\n",
            "------------------------------\n",
            "Attempting to download data for MA from 2024-08-01 to 2025-08-01...\n",
            "Successfully downloaded data for MA.\n",
            "\n",
            "--- Last 5 Days of Data for MA ---\n",
            "Price            Close        High         Low        Open   Volume\n",
            "Ticker              MA          MA          MA          MA       MA\n",
            "Date                                                               \n",
            "2025-07-25  568.219971  569.960022  563.849976  564.359985  1513300\n",
            "2025-07-28  568.280029  571.650024  566.219971  567.369995  2492400\n",
            "2025-07-29  563.320007  573.000000  563.000000  570.030029  2393800\n",
            "2025-07-30  559.109985  565.609985  555.210022  560.330017  2833200\n",
            "2025-07-31  566.469971  579.440002  562.510010  568.570007  4398000\n",
            "Data successfully saved to 'MA_historical_data_2025-08-01.csv'\n",
            "------------------------------\n",
            "Attempting to download data for HD from 2024-08-01 to 2025-08-01...\n"
          ]
        },
        {
          "output_type": "stream",
          "name": "stderr",
          "text": [
            "/tmp/ipython-input-2137805434.py:22: FutureWarning: YF.download() has changed argument auto_adjust default to True\n",
            "  stock_data = yf.download(ticker_symbol, start=start_date, end=end_date, progress=False)\n",
            "/tmp/ipython-input-2137805434.py:22: FutureWarning: YF.download() has changed argument auto_adjust default to True\n",
            "  stock_data = yf.download(ticker_symbol, start=start_date, end=end_date, progress=False)\n"
          ]
        },
        {
          "output_type": "stream",
          "name": "stdout",
          "text": [
            "Successfully downloaded data for HD.\n",
            "\n",
            "--- Last 5 Days of Data for HD ---\n",
            "Price            Close        High         Low        Open   Volume\n",
            "Ticker              HD          HD          HD          HD       HD\n",
            "Date                                                               \n",
            "2025-07-25  375.339996  375.989990  373.049988  374.660004  2221000\n",
            "2025-07-28  377.230011  381.079987  372.980011  373.739990  4062800\n",
            "2025-07-29  377.339996  379.730011  374.769989  377.000000  2931600\n",
            "2025-07-30  372.079987  378.529999  369.630005  377.679993  3110700\n",
            "2025-07-31  367.510010  372.809998  366.839996  369.170013  3087100\n",
            "Data successfully saved to 'HD_historical_data_2025-08-01.csv'\n",
            "------------------------------\n",
            "Attempting to download data for COST from 2024-08-01 to 2025-08-01...\n",
            "Successfully downloaded data for COST.\n",
            "\n",
            "--- Last 5 Days of Data for COST ---\n",
            "Price            Close        High         Low        Open   Volume\n",
            "Ticker            COST        COST        COST        COST     COST\n",
            "Date                                                               \n",
            "2025-07-25  935.479980  941.289978  934.349976  936.299988  1827700\n",
            "2025-07-28  933.989990  940.239990  930.890015  935.500000  2006300\n",
            "2025-07-29  934.570007  941.789978  927.380005  933.989990  2065900\n",
            "2025-07-30  927.510010  937.750000  925.140015  935.000000  1699600\n",
            "2025-07-31  939.640015  945.950012  925.000000  925.359985  2561600\n",
            "Data successfully saved to 'COST_historical_data_2025-08-01.csv'\n",
            "------------------------------\n",
            "Attempting to download data for MRK from 2024-08-01 to 2025-08-01...\n"
          ]
        },
        {
          "output_type": "stream",
          "name": "stderr",
          "text": [
            "/tmp/ipython-input-2137805434.py:22: FutureWarning: YF.download() has changed argument auto_adjust default to True\n",
            "  stock_data = yf.download(ticker_symbol, start=start_date, end=end_date, progress=False)\n",
            "/tmp/ipython-input-2137805434.py:22: FutureWarning: YF.download() has changed argument auto_adjust default to True\n",
            "  stock_data = yf.download(ticker_symbol, start=start_date, end=end_date, progress=False)\n"
          ]
        },
        {
          "output_type": "stream",
          "name": "stdout",
          "text": [
            "Successfully downloaded data for MRK.\n",
            "\n",
            "--- Last 5 Days of Data for MRK ---\n",
            "Price           Close       High        Low       Open    Volume\n",
            "Ticker            MRK        MRK        MRK        MRK       MRK\n",
            "Date                                                            \n",
            "2025-07-25  84.709999  85.220001  83.839996  84.160004  10058800\n",
            "2025-07-28  84.059998  84.970001  83.870003  84.470001  12882000\n",
            "2025-07-29  82.629997  82.889999  76.660004  79.849998  27826400\n",
            "2025-07-30  81.750000  83.580002  81.519997  82.910004  13055200\n",
            "2025-07-31  78.120003  81.489998  77.849998  80.800003  19793500\n",
            "Data successfully saved to 'MRK_historical_data_2025-08-01.csv'\n",
            "------------------------------\n",
            "Attempting to download data for ABBV from 2024-08-01 to 2025-08-01...\n",
            "Successfully downloaded data for ABBV.\n",
            "\n",
            "--- Last 5 Days of Data for ABBV ---\n",
            "Price            Close        High         Low        Open    Volume\n",
            "Ticker            ABBV        ABBV        ABBV        ABBV      ABBV\n",
            "Date                                                                \n",
            "2025-07-25  190.279999  191.399994  188.529999  191.399994   3786800\n",
            "2025-07-28  188.520004  191.210007  187.639999  191.210007   3776900\n",
            "2025-07-29  191.220001  192.490005  187.860001  189.149994   6715500\n",
            "2025-07-30  189.309998  192.699997  188.009995  191.770004   5008400\n",
            "2025-07-31  189.020004  198.830002  187.619995  197.059998  10342300\n",
            "Data successfully saved to 'ABBV_historical_data_2025-08-01.csv'\n",
            "------------------------------\n",
            "Attempting to download data for CVX from 2024-08-01 to 2025-08-01...\n"
          ]
        },
        {
          "output_type": "stream",
          "name": "stderr",
          "text": [
            "/tmp/ipython-input-2137805434.py:22: FutureWarning: YF.download() has changed argument auto_adjust default to True\n",
            "  stock_data = yf.download(ticker_symbol, start=start_date, end=end_date, progress=False)\n",
            "/tmp/ipython-input-2137805434.py:22: FutureWarning: YF.download() has changed argument auto_adjust default to True\n",
            "  stock_data = yf.download(ticker_symbol, start=start_date, end=end_date, progress=False)\n"
          ]
        },
        {
          "output_type": "stream",
          "name": "stdout",
          "text": [
            "Successfully downloaded data for CVX.\n",
            "\n",
            "--- Last 5 Days of Data for CVX ---\n",
            "Price            Close        High         Low        Open    Volume\n",
            "Ticker             CVX         CVX         CVX         CVX       CVX\n",
            "Date                                                                \n",
            "2025-07-25  154.839996  156.199997  153.960007  155.830002   7875500\n",
            "2025-07-28  156.279999  156.550003  154.949997  155.399994   8755400\n",
            "2025-07-29  157.029999  157.210007  155.449997  156.679993   6446000\n",
            "2025-07-30  153.559998  156.309998  152.699997  156.139999   9191700\n",
            "2025-07-31  151.639999  153.929993  151.139999  152.000000  10222900\n",
            "Data successfully saved to 'CVX_historical_data_2025-08-01.csv'\n",
            "------------------------------\n",
            "Attempting to download data for CRM from 2024-08-01 to 2025-08-01...\n",
            "Successfully downloaded data for CRM.\n",
            "\n",
            "--- Last 5 Days of Data for CRM ---\n",
            "Price            Close        High         Low        Open   Volume\n",
            "Ticker             CRM         CRM         CRM         CRM      CRM\n",
            "Date                                                               \n",
            "2025-07-25  269.109985  271.100006  267.010010  268.010010  4015400\n",
            "2025-07-28  270.250000  270.339996  266.589996  269.500000  4533700\n",
            "2025-07-29  267.390015  274.000000  267.309998  271.600006  5137100\n",
            "2025-07-30  264.809998  267.769989  263.329987  266.869995  3928200\n",
            "2025-07-31  258.329987  265.040009  257.859985  265.000000  7333500\n",
            "Data successfully saved to 'CRM_historical_data_2025-08-01.csv'\n",
            "------------------------------\n",
            "Attempting to download data for NFLX from 2024-08-01 to 2025-08-01...\n"
          ]
        },
        {
          "output_type": "stream",
          "name": "stderr",
          "text": [
            "/tmp/ipython-input-2137805434.py:22: FutureWarning: YF.download() has changed argument auto_adjust default to True\n",
            "  stock_data = yf.download(ticker_symbol, start=start_date, end=end_date, progress=False)\n",
            "/tmp/ipython-input-2137805434.py:22: FutureWarning: YF.download() has changed argument auto_adjust default to True\n",
            "  stock_data = yf.download(ticker_symbol, start=start_date, end=end_date, progress=False)\n"
          ]
        },
        {
          "output_type": "stream",
          "name": "stdout",
          "text": [
            "Successfully downloaded data for NFLX.\n",
            "\n",
            "--- Last 5 Days of Data for NFLX ---\n",
            "Price             Close         High          Low         Open   Volume\n",
            "Ticker             NFLX         NFLX         NFLX         NFLX     NFLX\n",
            "Date                                                                   \n",
            "2025-07-25  1180.489990  1187.319946  1174.380005  1178.420044  2629300\n",
            "2025-07-28  1174.599976  1197.790039  1168.530029  1181.199951  3447000\n",
            "2025-07-29  1168.739990  1179.599976  1163.290039  1179.000000  2752500\n",
            "2025-07-30  1184.199951  1184.849976  1166.099976  1168.550049  2922700\n",
            "2025-07-31  1159.400024  1190.000000  1157.739990  1184.800049  3700600\n",
            "Data successfully saved to 'NFLX_historical_data_2025-08-01.csv'\n",
            "------------------------------\n",
            "Attempting to download data for PEP from 2024-08-01 to 2025-08-01...\n",
            "Successfully downloaded data for PEP.\n",
            "\n",
            "--- Last 5 Days of Data for PEP ---\n",
            "Price            Close        High         Low        Open    Volume\n",
            "Ticker             PEP         PEP         PEP         PEP       PEP\n",
            "Date                                                                \n",
            "2025-07-25  143.449997  144.820007  142.699997  144.809998   7021600\n",
            "2025-07-28  141.570007  143.100006  141.460007  142.699997  10639100\n",
            "2025-07-29  143.889999  143.990005  141.130005  141.570007   6282900\n",
            "2025-07-30  142.860001  144.399994  142.289993  143.770004   9738400\n",
            "2025-07-31  137.919998  141.570007  137.639999  140.979996  11686100\n",
            "Data successfully saved to 'PEP_historical_data_2025-08-01.csv'\n",
            "------------------------------\n",
            "Attempting to download data for LIN from 2024-08-01 to 2025-08-01...\n",
            "Successfully downloaded data for LIN.\n",
            "\n",
            "--- Last 5 Days of Data for LIN ---\n",
            "Price            Close        High         Low        Open   Volume\n",
            "Ticker             LIN         LIN         LIN         LIN      LIN\n",
            "Date                                                               \n",
            "2025-07-25  472.890015  473.660004  468.570007  472.440002  1212100\n",
            "2025-07-28  467.459991  471.350006  466.010010  468.750000  1283700\n",
            "2025-07-29  471.510010  471.670013  467.250000  469.899994  1386100\n",
            "2025-07-30  466.230011  472.339996  465.260010  471.399994  1301600\n",
            "2025-07-31  460.260010  467.600006  458.410004  458.410004  2126500\n",
            "Data successfully saved to 'LIN_historical_data_2025-08-01.csv'\n",
            "------------------------------\n",
            "Attempting to download data for QCOM from 2024-08-01 to 2025-08-01...\n"
          ]
        },
        {
          "output_type": "stream",
          "name": "stderr",
          "text": [
            "/tmp/ipython-input-2137805434.py:22: FutureWarning: YF.download() has changed argument auto_adjust default to True\n",
            "  stock_data = yf.download(ticker_symbol, start=start_date, end=end_date, progress=False)\n",
            "/tmp/ipython-input-2137805434.py:22: FutureWarning: YF.download() has changed argument auto_adjust default to True\n",
            "  stock_data = yf.download(ticker_symbol, start=start_date, end=end_date, progress=False)\n",
            "/tmp/ipython-input-2137805434.py:22: FutureWarning: YF.download() has changed argument auto_adjust default to True\n",
            "  stock_data = yf.download(ticker_symbol, start=start_date, end=end_date, progress=False)\n"
          ]
        },
        {
          "output_type": "stream",
          "name": "stdout",
          "text": [
            "Successfully downloaded data for QCOM.\n",
            "\n",
            "--- Last 5 Days of Data for QCOM ---\n",
            "Price            Close        High         Low        Open    Volume\n",
            "Ticker            QCOM        QCOM        QCOM        QCOM      QCOM\n",
            "Date                                                                \n",
            "2025-07-25  158.399994  159.199997  157.410004  158.899994   4808200\n",
            "2025-07-28  161.050003  161.960007  159.160004  159.759995   9627300\n",
            "2025-07-29  162.080002  163.600006  161.139999  162.039993   9460900\n",
            "2025-07-30  159.059998  163.270004  158.000000  163.000000  14382500\n",
            "2025-07-31  146.759995  156.800003  145.580002  153.110001  24414300\n",
            "Data successfully saved to 'QCOM_historical_data_2025-08-01.csv'\n",
            "------------------------------\n",
            "Attempting to download data for TMO from 2024-08-01 to 2025-08-01...\n",
            "Successfully downloaded data for TMO.\n",
            "\n",
            "--- Last 5 Days of Data for TMO ---\n",
            "Price            Close        High         Low        Open   Volume\n",
            "Ticker             TMO         TMO         TMO         TMO      TMO\n",
            "Date                                                               \n",
            "2025-07-25  478.320007  483.600006  474.410004  479.980011  4205500\n",
            "2025-07-28  484.959991  487.109985  474.869995  475.440002  3412200\n",
            "2025-07-29  482.160004  488.519989  480.410004  482.239990  3164200\n",
            "2025-07-30  477.279999  484.880005  473.649994  483.980011  2583500\n",
            "2025-07-31  467.679993  483.869995  466.739990  470.779999  3413900\n",
            "Data successfully saved to 'TMO_historical_data_2025-08-01.csv'\n",
            "------------------------------\n",
            "Attempting to download data for ABT from 2024-08-01 to 2025-08-01...\n",
            "Successfully downloaded data for ABT.\n",
            "\n",
            "--- Last 5 Days of Data for ABT ---\n",
            "Price            Close        High         Low        Open   Volume\n",
            "Ticker             ABT         ABT         ABT         ABT      ABT\n",
            "Date                                                               \n",
            "2025-07-25  126.540001  126.730003  125.449997  125.769997  4741200\n",
            "2025-07-28  126.349998  126.989998  125.629997  126.150002  8168400\n",
            "2025-07-29  128.009995  128.100006  125.470001  126.010002  5834100\n",
            "2025-07-30  128.550003  129.699997  127.080002  127.970001  5359700\n",
            "2025-07-31  126.190002  129.149994  125.809998  127.540001  6716100\n",
            "Data successfully saved to 'ABT_historical_data_2025-08-01.csv'\n",
            "------------------------------\n",
            "Attempting to download data for GE from 2024-08-01 to 2025-08-01...\n",
            "Successfully downloaded data for GE.\n",
            "\n",
            "--- Last 5 Days of Data for GE ---\n",
            "Price            Close        High         Low        Open   Volume\n",
            "Ticker              GE          GE          GE          GE       GE\n",
            "Date                                                               \n",
            "2025-07-25  271.589996  272.829987  268.260010  268.829987  4598400\n",
            "2025-07-28  270.609985  273.440002  267.440002  273.359985  5006400\n",
            "2025-07-29  270.309998  273.799988  269.119995  272.730011  4125300\n",
            "2025-07-30  273.549988  273.630005  269.510010  270.920013  4697000\n",
            "2025-07-31  271.079987  274.940002  269.880005  273.070007  4520000\n",
            "Data successfully saved to 'GE_historical_data_2025-08-01.csv'\n",
            "------------------------------\n",
            "Attempting to download data for INTU from 2024-08-01 to 2025-08-01...\n",
            "Successfully downloaded data for INTU.\n",
            "\n",
            "--- Last 5 Days of Data for INTU ---\n",
            "Price            Close        High         Low        Open   Volume\n",
            "Ticker            INTU        INTU        INTU        INTU     INTU\n",
            "Date                                                               \n",
            "2025-07-25  785.950012  790.500000  780.500000  782.909973  1406400\n",
            "2025-07-28  798.729980  800.500000  783.000000  785.030029  1933200\n",
            "2025-07-29  806.340027  807.929993  794.830017  804.479980  1693800\n",
            "2025-07-30  807.390015  813.700012  800.960022  804.869995  1606400\n",
            "2025-07-31  785.130005  807.150024  783.940002  807.150024  1777000\n",
            "Data successfully saved to 'INTU_historical_data_2025-08-01.csv'\n",
            "------------------------------\n",
            "Attempting to download data for CAT from 2024-08-01 to 2025-08-01...\n"
          ]
        },
        {
          "output_type": "stream",
          "name": "stderr",
          "text": [
            "/tmp/ipython-input-2137805434.py:22: FutureWarning: YF.download() has changed argument auto_adjust default to True\n",
            "  stock_data = yf.download(ticker_symbol, start=start_date, end=end_date, progress=False)\n",
            "/tmp/ipython-input-2137805434.py:22: FutureWarning: YF.download() has changed argument auto_adjust default to True\n",
            "  stock_data = yf.download(ticker_symbol, start=start_date, end=end_date, progress=False)\n",
            "/tmp/ipython-input-2137805434.py:22: FutureWarning: YF.download() has changed argument auto_adjust default to True\n",
            "  stock_data = yf.download(ticker_symbol, start=start_date, end=end_date, progress=False)\n",
            "/tmp/ipython-input-2137805434.py:22: FutureWarning: YF.download() has changed argument auto_adjust default to True\n",
            "  stock_data = yf.download(ticker_symbol, start=start_date, end=end_date, progress=False)\n",
            "/tmp/ipython-input-2137805434.py:22: FutureWarning: YF.download() has changed argument auto_adjust default to True\n",
            "  stock_data = yf.download(ticker_symbol, start=start_date, end=end_date, progress=False)\n"
          ]
        },
        {
          "output_type": "stream",
          "name": "stdout",
          "text": [
            "Successfully downloaded data for CAT.\n",
            "\n",
            "--- Last 5 Days of Data for CAT ---\n",
            "Price            Close        High         Low        Open   Volume\n",
            "Ticker             CAT         CAT         CAT         CAT      CAT\n",
            "Date                                                               \n",
            "2025-07-25  433.750000  434.869995  428.619995  429.690002  2218400\n",
            "2025-07-28  432.940002  436.399994  431.119995  431.250000  2550300\n",
            "2025-07-29  430.049988  435.209991  424.799988  434.549988  2383700\n",
            "2025-07-30  434.119995  436.829987  426.429993  430.000000  3172600\n",
            "2025-07-31  438.019989  441.149994  433.679993  434.130005  4115400\n",
            "Data successfully saved to 'CAT_historical_data_2025-08-01.csv'\n",
            "------------------------------\n",
            "Attempting to download data for DHR from 2024-08-01 to 2025-08-01...\n",
            "Successfully downloaded data for DHR.\n",
            "\n",
            "--- Last 5 Days of Data for DHR ---\n",
            "Price            Close        High         Low        Open   Volume\n",
            "Ticker             DHR         DHR         DHR         DHR      DHR\n",
            "Date                                                               \n",
            "2025-07-25  205.479996  206.389999  202.660004  203.529999  5355700\n",
            "2025-07-28  202.940002  206.039993  202.229996  204.199997  5160200\n",
            "2025-07-29  206.850006  207.529999  202.000000  203.100006  4973300\n",
            "2025-07-30  203.990005  207.470001  203.080002  206.940002  5692900\n",
            "2025-07-31  197.160004  204.020004  196.800003  201.500000  6060700\n",
            "Data successfully saved to 'DHR_historical_data_2025-08-01.csv'\n",
            "------------------------------\n",
            "Attempting to download data for ISRG from 2024-08-01 to 2025-08-01...\n",
            "Successfully downloaded data for ISRG.\n",
            "\n",
            "--- Last 5 Days of Data for ISRG ---\n",
            "Price            Close        High         Low        Open   Volume\n",
            "Ticker            ISRG        ISRG        ISRG        ISRG     ISRG\n",
            "Date                                                               \n",
            "2025-07-25  495.859985  497.500000  490.760010  492.480011  1871100\n",
            "2025-07-28  493.950012  502.809998  493.220001  498.000000  2473700\n",
            "2025-07-29  496.869995  502.420013  496.170013  497.250000  1831100\n",
            "2025-07-30  500.510010  503.220001  496.950012  497.709991  1758800\n",
            "2025-07-31  481.089996  498.970001  479.600006  497.239990  2599600\n",
            "Data successfully saved to 'ISRG_historical_data_2025-08-01.csv'\n",
            "------------------------------\n",
            "Attempting to download data for AMGN from 2024-08-01 to 2025-08-01...\n",
            "Successfully downloaded data for AMGN.\n",
            "\n",
            "--- Last 5 Days of Data for AMGN ---\n",
            "Price            Close        High         Low        Open   Volume\n",
            "Ticker            AMGN        AMGN        AMGN        AMGN     AMGN\n",
            "Date                                                               \n",
            "2025-07-25  306.579987  309.029999  304.450012  308.579987  1451300\n",
            "2025-07-28  301.290009  306.000000  300.100006  305.820007  1948000\n",
            "2025-07-29  303.559998  304.070007  297.779999  301.119995  1406500\n",
            "2025-07-30  301.369995  305.570007  299.660004  304.329987  1550400\n",
            "2025-07-31  295.100006  302.959991  293.630005  298.440002  2252200\n",
            "Data successfully saved to 'AMGN_historical_data_2025-08-01.csv'\n",
            "------------------------------\n",
            "Attempting to download data for AMAT from 2024-08-01 to 2025-08-01...\n",
            "Successfully downloaded data for AMAT.\n",
            "\n",
            "--- Last 5 Days of Data for AMAT ---\n",
            "Price            Close        High         Low        Open    Volume\n",
            "Ticker            AMAT        AMAT        AMAT        AMAT      AMAT\n",
            "Date                                                                \n",
            "2025-07-25  185.690002  186.520004  184.100006  185.809998   6608700\n",
            "2025-07-28  190.270004  190.500000  188.630005  189.009995   4913000\n",
            "2025-07-29  188.410004  192.449997  187.949997  191.619995   4605400\n",
            "2025-07-30  189.389999  190.869995  187.740005  189.729996   4018500\n",
            "2025-07-31  180.059998  181.470001  174.509995  177.880005  11370800\n",
            "Data successfully saved to 'AMAT_historical_data_2025-08-01.csv'\n",
            "------------------------------\n",
            "Attempting to download data for WFC from 2024-08-01 to 2025-08-01...\n",
            "Successfully downloaded data for WFC.\n",
            "\n",
            "--- Last 5 Days of Data for WFC ---\n",
            "Price           Close       High        Low       Open    Volume\n",
            "Ticker            WFC        WFC        WFC        WFC       WFC\n",
            "Date                                                            \n",
            "2025-07-25  84.320000  84.459999  83.230003  84.120003  14072400\n",
            "2025-07-28  83.070000  84.500000  82.709999  84.320000  10627100\n",
            "2025-07-29  82.650002  83.699997  82.199997  83.629997  12478200\n",
            "2025-07-30  81.779999  83.089996  81.309998  82.989998  15579100\n",
            "2025-07-31  80.629997  81.930000  80.330002  81.349998  14803000\n",
            "Data successfully saved to 'WFC_historical_data_2025-08-01.csv'\n",
            "------------------------------\n",
            "Attempting to download data for NOW from 2024-08-01 to 2025-08-01...\n",
            "Successfully downloaded data for NOW.\n",
            "\n",
            "--- Last 5 Days of Data for NOW ---\n",
            "Price            Close         High         Low         Open   Volume\n",
            "Ticker             NOW          NOW         NOW          NOW      NOW\n",
            "Date                                                                 \n",
            "2025-07-25  968.789978  1001.000000  964.080017  1000.119995  1999600\n",
            "2025-07-28  985.750000   996.039978  975.979980   976.000000  1474600\n",
            "2025-07-29  993.200012  1005.750000  982.280029   991.530029  1207700\n",
            "2025-07-30  977.479980   993.030029  973.000000   991.590027  1094200\n",
            "2025-07-31  943.119995   982.000000  940.059998   982.000000  2129100\n"
          ]
        },
        {
          "output_type": "stream",
          "name": "stderr",
          "text": [
            "/tmp/ipython-input-2137805434.py:22: FutureWarning: YF.download() has changed argument auto_adjust default to True\n",
            "  stock_data = yf.download(ticker_symbol, start=start_date, end=end_date, progress=False)\n",
            "/tmp/ipython-input-2137805434.py:22: FutureWarning: YF.download() has changed argument auto_adjust default to True\n",
            "  stock_data = yf.download(ticker_symbol, start=start_date, end=end_date, progress=False)\n",
            "/tmp/ipython-input-2137805434.py:22: FutureWarning: YF.download() has changed argument auto_adjust default to True\n",
            "  stock_data = yf.download(ticker_symbol, start=start_date, end=end_date, progress=False)\n",
            "/tmp/ipython-input-2137805434.py:22: FutureWarning: YF.download() has changed argument auto_adjust default to True\n",
            "  stock_data = yf.download(ticker_symbol, start=start_date, end=end_date, progress=False)\n",
            "/tmp/ipython-input-2137805434.py:22: FutureWarning: YF.download() has changed argument auto_adjust default to True\n",
            "  stock_data = yf.download(ticker_symbol, start=start_date, end=end_date, progress=False)\n",
            "/tmp/ipython-input-2137805434.py:22: FutureWarning: YF.download() has changed argument auto_adjust default to True\n",
            "  stock_data = yf.download(ticker_symbol, start=start_date, end=end_date, progress=False)\n"
          ]
        },
        {
          "output_type": "stream",
          "name": "stdout",
          "text": [
            "Data successfully saved to 'NOW_historical_data_2025-08-01.csv'\n",
            "------------------------------\n",
            "Attempting to download data for PM from 2024-08-01 to 2025-08-01...\n",
            "Successfully downloaded data for PM.\n",
            "\n",
            "--- Last 5 Days of Data for PM ---\n",
            "Price            Close        High         Low        Open   Volume\n",
            "Ticker              PM          PM          PM          PM       PM\n",
            "Date                                                               \n",
            "2025-07-25  160.919998  163.050003  160.729996  161.360001  4544600\n",
            "2025-07-28  157.770004  160.600006  155.699997  159.600006  8676900\n",
            "2025-07-29  162.750000  162.850006  157.830002  158.470001  9429100\n",
            "2025-07-30  162.169998  164.500000  162.059998  162.470001  7778700\n",
            "2025-07-31  164.050003  165.070007  161.070007  161.789993  9902700\n",
            "Data successfully saved to 'PM_historical_data_2025-08-01.csv'\n",
            "------------------------------\n",
            "Attempting to download data for MMM from 2024-08-01 to 2025-08-01...\n"
          ]
        },
        {
          "output_type": "stream",
          "name": "stderr",
          "text": [
            "/tmp/ipython-input-2137805434.py:22: FutureWarning: YF.download() has changed argument auto_adjust default to True\n",
            "  stock_data = yf.download(ticker_symbol, start=start_date, end=end_date, progress=False)\n",
            "/tmp/ipython-input-2137805434.py:22: FutureWarning: YF.download() has changed argument auto_adjust default to True\n",
            "  stock_data = yf.download(ticker_symbol, start=start_date, end=end_date, progress=False)\n"
          ]
        },
        {
          "output_type": "stream",
          "name": "stdout",
          "text": [
            "Successfully downloaded data for MMM.\n",
            "\n",
            "--- Last 5 Days of Data for MMM ---\n",
            "Price            Close        High         Low        Open   Volume\n",
            "Ticker             MMM         MMM         MMM         MMM      MMM\n",
            "Date                                                               \n",
            "2025-07-25  151.270004  151.399994  149.199997  150.000000  2818000\n",
            "2025-07-28  152.050003  153.880005  150.149994  150.600006  3970300\n",
            "2025-07-29  151.789993  153.100006  151.149994  152.399994  3918100\n",
            "2025-07-30  146.619995  152.500000  146.500000  152.479996  3529500\n",
            "2025-07-31  149.220001  149.559998  145.559998  146.190002  4389700\n",
            "Data successfully saved to 'MMM_historical_data_2025-08-01.csv'\n",
            "------------------------------\n",
            "Attempting to download data for AOS from 2024-08-01 to 2025-08-01...\n"
          ]
        },
        {
          "output_type": "stream",
          "name": "stderr",
          "text": [
            "/tmp/ipython-input-2137805434.py:22: FutureWarning: YF.download() has changed argument auto_adjust default to True\n",
            "  stock_data = yf.download(ticker_symbol, start=start_date, end=end_date, progress=False)\n"
          ]
        },
        {
          "output_type": "stream",
          "name": "stdout",
          "text": [
            "Successfully downloaded data for AOS.\n",
            "\n",
            "--- Last 5 Days of Data for AOS ---\n",
            "Price           Close       High        Low       Open   Volume\n",
            "Ticker            AOS        AOS        AOS        AOS      AOS\n",
            "Date                                                           \n",
            "2025-07-25  71.714096  74.022959  71.146832  73.804022  1924100\n",
            "2025-07-28  70.689041  71.584722  70.519859  71.276213  1400300\n",
            "2025-07-29  71.296112  71.375730  70.360622  71.017457  1382700\n",
            "2025-07-30  70.490005  71.335924  69.982451  71.276214  1453900\n",
            "2025-07-31  70.790001  71.139999  69.889999  69.930000  2465000\n",
            "Data successfully saved to 'AOS_historical_data_2025-08-01.csv'\n",
            "------------------------------\n",
            "Attempting to download data for AFL from 2024-08-01 to 2025-08-01...\n"
          ]
        },
        {
          "output_type": "stream",
          "name": "stderr",
          "text": [
            "/tmp/ipython-input-2137805434.py:22: FutureWarning: YF.download() has changed argument auto_adjust default to True\n",
            "  stock_data = yf.download(ticker_symbol, start=start_date, end=end_date, progress=False)\n"
          ]
        },
        {
          "output_type": "stream",
          "name": "stdout",
          "text": [
            "Successfully downloaded data for AFL.\n",
            "\n",
            "--- Last 5 Days of Data for AFL ---\n",
            "Price            Close        High         Low        Open   Volume\n",
            "Ticker             AFL         AFL         AFL         AFL      AFL\n",
            "Date                                                               \n",
            "2025-07-25  103.370003  103.529999  102.000000  102.629997  2023600\n",
            "2025-07-28  100.879997  103.290001  100.739998  103.000000  1877600\n",
            "2025-07-29  100.820000  102.080002  100.589996  101.529999  2002800\n",
            "2025-07-30   98.589996  100.720001   98.110001  100.720001  2508700\n",
            "2025-07-31   99.360001  100.230003   98.050003   98.360001  3106200\n",
            "Data successfully saved to 'AFL_historical_data_2025-08-01.csv'\n",
            "------------------------------\n",
            "Attempting to download data for A from 2024-08-01 to 2025-08-01...\n"
          ]
        },
        {
          "output_type": "stream",
          "name": "stderr",
          "text": [
            "/tmp/ipython-input-2137805434.py:22: FutureWarning: YF.download() has changed argument auto_adjust default to True\n",
            "  stock_data = yf.download(ticker_symbol, start=start_date, end=end_date, progress=False)\n"
          ]
        },
        {
          "output_type": "stream",
          "name": "stdout",
          "text": [
            "Successfully downloaded data for A.\n",
            "\n",
            "--- Last 5 Days of Data for A ---\n",
            "Price            Close        High         Low        Open   Volume\n",
            "Ticker               A           A           A           A        A\n",
            "Date                                                               \n",
            "2025-07-25  120.180000  121.010002  119.019997  120.500000  1972700\n",
            "2025-07-28  119.540001  120.769997  118.720001  119.410004  1679100\n",
            "2025-07-29  119.839996  120.510002  118.860001  119.750000  1212200\n",
            "2025-07-30  118.050003  120.459999  117.230003  120.239998   979100\n",
            "2025-07-31  114.809998  118.339996  114.470001  116.570000  2339500\n",
            "Data successfully saved to 'A_historical_data_2025-08-01.csv'\n",
            "------------------------------\n",
            "Attempting to download data for APD from 2024-08-01 to 2025-08-01...\n"
          ]
        },
        {
          "output_type": "stream",
          "name": "stderr",
          "text": [
            "/tmp/ipython-input-2137805434.py:22: FutureWarning: YF.download() has changed argument auto_adjust default to True\n",
            "  stock_data = yf.download(ticker_symbol, start=start_date, end=end_date, progress=False)\n"
          ]
        },
        {
          "output_type": "stream",
          "name": "stdout",
          "text": [
            "Successfully downloaded data for APD.\n",
            "\n",
            "--- Last 5 Days of Data for APD ---\n",
            "Price            Close        High         Low        Open   Volume\n",
            "Ticker             APD         APD         APD         APD      APD\n",
            "Date                                                               \n",
            "2025-07-25  299.239990  299.529999  294.549988  297.480011   713000\n",
            "2025-07-28  295.559998  297.869995  294.690002  297.829987   661900\n",
            "2025-07-29  295.190002  296.489990  293.459991  296.049988   654100\n",
            "2025-07-30  290.130005  294.779999  288.320007  294.779999  1539800\n",
            "2025-07-31  287.880005  296.510010  285.989990  292.540009  1544300\n",
            "Data successfully saved to 'APD_historical_data_2025-08-01.csv'\n",
            "------------------------------\n",
            "Attempting to download data for AKAM from 2024-08-01 to 2025-08-01...\n",
            "Successfully downloaded data for AKAM.\n",
            "\n",
            "--- Last 5 Days of Data for AKAM ---\n",
            "Price           Close       High        Low       Open   Volume\n",
            "Ticker           AKAM       AKAM       AKAM       AKAM     AKAM\n",
            "Date                                                           \n",
            "2025-07-25  80.750000  81.250000  80.300003  80.800003  2285100\n",
            "2025-07-28  79.709999  80.940002  79.440002  80.820000  1145400\n",
            "2025-07-29  79.489998  80.410004  78.940002  79.720001  1315400\n",
            "2025-07-30  78.059998  79.519997  77.809998  79.489998  1933300\n",
            "2025-07-31  76.309998  78.639999  76.089996  78.510002  1727600\n",
            "Data successfully saved to 'AKAM_historical_data_2025-08-01.csv'\n",
            "------------------------------\n",
            "Attempting to download data for ALK from 2024-08-01 to 2025-08-01...\n"
          ]
        },
        {
          "output_type": "stream",
          "name": "stderr",
          "text": [
            "/tmp/ipython-input-2137805434.py:22: FutureWarning: YF.download() has changed argument auto_adjust default to True\n",
            "  stock_data = yf.download(ticker_symbol, start=start_date, end=end_date, progress=False)\n",
            "/tmp/ipython-input-2137805434.py:22: FutureWarning: YF.download() has changed argument auto_adjust default to True\n",
            "  stock_data = yf.download(ticker_symbol, start=start_date, end=end_date, progress=False)\n"
          ]
        },
        {
          "output_type": "stream",
          "name": "stdout",
          "text": [
            "Successfully downloaded data for ALK.\n",
            "\n",
            "--- Last 5 Days of Data for ALK ---\n",
            "Price           Close       High        Low       Open   Volume\n",
            "Ticker            ALK        ALK        ALK        ALK      ALK\n",
            "Date                                                           \n",
            "2025-07-25  52.160000  52.869999  50.639999  51.259998  3261200\n",
            "2025-07-28  54.330002  54.380001  51.779999  52.180000  3613400\n",
            "2025-07-29  54.150002  56.220001  53.650002  54.490002  4514000\n",
            "2025-07-30  53.330002  54.360001  52.709999  54.150002  2201600\n",
            "2025-07-31  52.959999  54.200001  52.669998  53.520000  1574600\n",
            "Data successfully saved to 'ALK_historical_data_2025-08-01.csv'\n",
            "------------------------------\n",
            "Attempting to download data for ALB from 2024-08-01 to 2025-08-01...\n"
          ]
        },
        {
          "output_type": "stream",
          "name": "stderr",
          "text": [
            "/tmp/ipython-input-2137805434.py:22: FutureWarning: YF.download() has changed argument auto_adjust default to True\n",
            "  stock_data = yf.download(ticker_symbol, start=start_date, end=end_date, progress=False)\n"
          ]
        },
        {
          "output_type": "stream",
          "name": "stdout",
          "text": [
            "Successfully downloaded data for ALB.\n",
            "\n",
            "--- Last 5 Days of Data for ALB ---\n",
            "Price           Close       High        Low       Open    Volume\n",
            "Ticker            ALB        ALB        ALB        ALB       ALB\n",
            "Date                                                            \n",
            "2025-07-25  83.739998  84.820000  82.000000  84.669998   5379500\n",
            "2025-07-28  74.769997  80.879997  74.190002  79.000000  10165500\n",
            "2025-07-29  71.599998  74.440002  71.000000  73.809998   6543200\n",
            "2025-07-30  68.889999  71.839996  68.440002  71.769997   4953500\n",
            "2025-07-31  67.849998  70.080002  65.290001  70.050003   8467100\n",
            "Data successfully saved to 'ALB_historical_data_2025-08-01.csv'\n",
            "------------------------------\n",
            "Attempting to download data for ARE from 2024-08-01 to 2025-08-01...\n"
          ]
        },
        {
          "output_type": "stream",
          "name": "stderr",
          "text": [
            "/tmp/ipython-input-2137805434.py:22: FutureWarning: YF.download() has changed argument auto_adjust default to True\n",
            "  stock_data = yf.download(ticker_symbol, start=start_date, end=end_date, progress=False)\n"
          ]
        },
        {
          "output_type": "stream",
          "name": "stdout",
          "text": [
            "Successfully downloaded data for ARE.\n",
            "\n",
            "--- Last 5 Days of Data for ARE ---\n",
            "Price           Close       High        Low       Open   Volume\n",
            "Ticker            ARE        ARE        ARE        ARE      ARE\n",
            "Date                                                           \n",
            "2025-07-25  82.190002  82.480003  79.000000  81.959999  1805300\n",
            "2025-07-28  79.120003  81.739998  79.120003  81.739998  1233100\n",
            "2025-07-29  79.480003  79.580002  78.660004  79.250000  1169800\n",
            "2025-07-30  78.029999  80.150002  77.470001  79.809998  1290800\n",
            "2025-07-31  76.430000  78.180000  76.230003  77.550003  2659000\n",
            "Data successfully saved to 'ARE_historical_data_2025-08-01.csv'\n",
            "------------------------------\n",
            "Attempting to download data for ALGN from 2024-08-01 to 2025-08-01...\n"
          ]
        },
        {
          "output_type": "stream",
          "name": "stderr",
          "text": [
            "/tmp/ipython-input-2137805434.py:22: FutureWarning: YF.download() has changed argument auto_adjust default to True\n",
            "  stock_data = yf.download(ticker_symbol, start=start_date, end=end_date, progress=False)\n"
          ]
        },
        {
          "output_type": "stream",
          "name": "stdout",
          "text": [
            "Successfully downloaded data for ALGN.\n",
            "\n",
            "--- Last 5 Days of Data for ALGN ---\n",
            "Price            Close        High         Low        Open    Volume\n",
            "Ticker            ALGN        ALGN        ALGN        ALGN      ALGN\n",
            "Date                                                                \n",
            "2025-07-25  205.559998  206.050003  200.419998  202.910004    703300\n",
            "2025-07-28  207.190002  207.750000  203.240005  206.070007   1308200\n",
            "2025-07-29  205.809998  208.309998  204.520004  207.559998   1188300\n",
            "2025-07-30  203.570007  207.080002  201.880005  205.410004   2687400\n",
            "2025-07-31  129.009995  149.750000  127.699997  142.500000  13716000\n",
            "Data successfully saved to 'ALGN_historical_data_2025-08-01.csv'\n",
            "------------------------------\n",
            "Attempting to download data for ALLE from 2024-08-01 to 2025-08-01...\n"
          ]
        },
        {
          "output_type": "stream",
          "name": "stderr",
          "text": [
            "/tmp/ipython-input-2137805434.py:22: FutureWarning: YF.download() has changed argument auto_adjust default to True\n",
            "  stock_data = yf.download(ticker_symbol, start=start_date, end=end_date, progress=False)\n"
          ]
        },
        {
          "output_type": "stream",
          "name": "stdout",
          "text": [
            "Successfully downloaded data for ALLE.\n",
            "\n",
            "--- Last 5 Days of Data for ALLE ---\n",
            "Price            Close        High         Low        Open   Volume\n",
            "Ticker            ALLE        ALLE        ALLE        ALLE     ALLE\n",
            "Date                                                               \n",
            "2025-07-25  165.389999  166.220001  161.720001  164.039993  1446800\n",
            "2025-07-28  163.669998  165.639999  163.000000  165.020004  1066100\n",
            "2025-07-29  164.110001  165.649994  163.300003  165.320007  1109400\n",
            "2025-07-30  164.820007  165.690002  163.220001  163.470001  1191000\n",
            "2025-07-31  165.919998  166.369995  163.910004  164.020004  1322700\n",
            "Data successfully saved to 'ALLE_historical_data_2025-08-01.csv'\n",
            "------------------------------\n",
            "Attempting to download data for LNT from 2024-08-01 to 2025-08-01...\n"
          ]
        },
        {
          "output_type": "stream",
          "name": "stderr",
          "text": [
            "/tmp/ipython-input-2137805434.py:22: FutureWarning: YF.download() has changed argument auto_adjust default to True\n",
            "  stock_data = yf.download(ticker_symbol, start=start_date, end=end_date, progress=False)\n"
          ]
        },
        {
          "output_type": "stream",
          "name": "stdout",
          "text": [
            "Successfully downloaded data for LNT.\n",
            "\n",
            "--- Last 5 Days of Data for LNT ---\n",
            "Price           Close       High        Low       Open   Volume\n",
            "Ticker            LNT        LNT        LNT        LNT      LNT\n",
            "Date                                                           \n",
            "2025-07-25  64.433472  64.860118  64.175498  64.741051  1417900\n",
            "2025-07-28  63.332130  64.324330  63.302362  64.324330  1133600\n",
            "2025-07-29  63.996902  64.106045  63.262673  63.679399  1406500\n",
            "2025-07-30  64.493004  65.237154  63.996904  64.066358  1941200\n",
            "2025-07-31  65.010002  65.169998  64.059998  64.139999  2357800\n",
            "Data successfully saved to 'LNT_historical_data_2025-08-01.csv'\n",
            "------------------------------\n",
            "Attempting to download data for ALL from 2024-08-01 to 2025-08-01...\n"
          ]
        },
        {
          "output_type": "stream",
          "name": "stderr",
          "text": [
            "/tmp/ipython-input-2137805434.py:22: FutureWarning: YF.download() has changed argument auto_adjust default to True\n",
            "  stock_data = yf.download(ticker_symbol, start=start_date, end=end_date, progress=False)\n"
          ]
        },
        {
          "output_type": "stream",
          "name": "stdout",
          "text": [
            "Successfully downloaded data for ALL.\n",
            "\n",
            "--- Last 5 Days of Data for ALL ---\n",
            "Price            Close        High         Low        Open   Volume\n",
            "Ticker             ALL         ALL         ALL         ALL      ALL\n",
            "Date                                                               \n",
            "2025-07-25  195.699997  196.710007  194.279999  194.279999  1370900\n",
            "2025-07-28  192.000000  195.729996  191.550003  195.119995  1583600\n",
            "2025-07-29  193.899994  194.550003  192.250000  193.419998  1419200\n",
            "2025-07-30  192.279999  195.009995  191.470001  195.009995  1892000\n",
            "2025-07-31  203.250000  207.089996  196.669998  197.089996  4538200\n",
            "Data successfully saved to 'ALL_historical_data_2025-08-01.csv'\n",
            "------------------------------\n",
            "Attempting to download data for MO from 2024-08-01 to 2025-08-01...\n"
          ]
        },
        {
          "output_type": "stream",
          "name": "stderr",
          "text": [
            "/tmp/ipython-input-2137805434.py:22: FutureWarning: YF.download() has changed argument auto_adjust default to True\n",
            "  stock_data = yf.download(ticker_symbol, start=start_date, end=end_date, progress=False)\n"
          ]
        },
        {
          "output_type": "stream",
          "name": "stdout",
          "text": [
            "Successfully downloaded data for MO.\n",
            "\n",
            "--- Last 5 Days of Data for MO ---\n",
            "Price           Close       High        Low       Open    Volume\n",
            "Ticker             MO         MO         MO         MO        MO\n",
            "Date                                                            \n",
            "2025-07-25  59.840000  59.930000  59.480000  59.560001   6368800\n",
            "2025-07-28  58.720001  59.830002  58.599998  59.750000   7419900\n",
            "2025-07-29  59.360001  59.680000  58.430000  58.520000  11825600\n",
            "2025-07-30  61.500000  62.209999  59.810001  59.869999  20487500\n",
            "2025-07-31  61.939999  62.320000  60.910000  61.209999  10620000\n",
            "Data successfully saved to 'MO_historical_data_2025-08-01.csv'\n",
            "------------------------------\n",
            "Attempting to download data for AMCR from 2024-08-01 to 2025-08-01...\n"
          ]
        },
        {
          "output_type": "stream",
          "name": "stderr",
          "text": [
            "/tmp/ipython-input-2137805434.py:22: FutureWarning: YF.download() has changed argument auto_adjust default to True\n",
            "  stock_data = yf.download(ticker_symbol, start=start_date, end=end_date, progress=False)\n"
          ]
        },
        {
          "output_type": "stream",
          "name": "stdout",
          "text": [
            "Successfully downloaded data for AMCR.\n",
            "\n",
            "--- Last 5 Days of Data for AMCR ---\n",
            "Price      Close  High   Low  Open    Volume\n",
            "Ticker      AMCR  AMCR  AMCR  AMCR      AMCR\n",
            "Date                                        \n",
            "2025-07-25  9.74  9.79  9.65  9.77  14899500\n",
            "2025-07-28  9.63  9.74  9.60  9.74  14444200\n",
            "2025-07-29  9.66  9.70  9.56  9.61  27665900\n",
            "2025-07-30  9.53  9.69  9.49  9.63  32894600\n",
            "2025-07-31  9.35  9.49  9.32  9.48  35114900\n",
            "Data successfully saved to 'AMCR_historical_data_2025-08-01.csv'\n",
            "------------------------------\n",
            "Attempting to download data for AEE from 2024-08-01 to 2025-08-01...\n"
          ]
        },
        {
          "output_type": "stream",
          "name": "stderr",
          "text": [
            "/tmp/ipython-input-2137805434.py:22: FutureWarning: YF.download() has changed argument auto_adjust default to True\n",
            "  stock_data = yf.download(ticker_symbol, start=start_date, end=end_date, progress=False)\n"
          ]
        },
        {
          "output_type": "stream",
          "name": "stdout",
          "text": [
            "Successfully downloaded data for AEE.\n",
            "\n",
            "--- Last 5 Days of Data for AEE ---\n",
            "Price            Close        High        Low        Open   Volume\n",
            "Ticker             AEE         AEE        AEE         AEE      AEE\n",
            "Date                                                              \n",
            "2025-07-25  100.099998  100.389999  99.870003  100.180000  1059000\n",
            "2025-07-28   98.320000   99.959999  98.040001   99.919998  1965100\n",
            "2025-07-29   99.820000   99.870003  98.379997   98.760002  1326600\n",
            "2025-07-30   99.839996  100.910004  99.639999   99.870003  2117400\n",
            "2025-07-31  101.129997  101.239998  99.120003   99.480003  2002100\n",
            "Data successfully saved to 'AEE_historical_data_2025-08-01.csv'\n",
            "------------------------------\n",
            "Attempting to download data for AAL from 2024-08-01 to 2025-08-01...\n"
          ]
        },
        {
          "output_type": "stream",
          "name": "stderr",
          "text": [
            "/tmp/ipython-input-2137805434.py:22: FutureWarning: YF.download() has changed argument auto_adjust default to True\n",
            "  stock_data = yf.download(ticker_symbol, start=start_date, end=end_date, progress=False)\n"
          ]
        },
        {
          "output_type": "stream",
          "name": "stdout",
          "text": [
            "Successfully downloaded data for AAL.\n",
            "\n",
            "--- Last 5 Days of Data for AAL ---\n",
            "Price       Close   High    Low   Open    Volume\n",
            "Ticker        AAL    AAL    AAL    AAL       AAL\n",
            "Date                                            \n",
            "2025-07-25  11.50  11.70  11.46  11.55  63485400\n",
            "2025-07-28  11.58  11.63  11.40  11.50  70184300\n",
            "2025-07-29  11.42  11.64  11.38  11.61  71092100\n",
            "2025-07-30  11.51  11.63  11.31  11.43  73201200\n",
            "2025-07-31  11.49  11.64  11.36  11.47  84714600\n",
            "Data successfully saved to 'AAL_historical_data_2025-08-01.csv'\n",
            "------------------------------\n",
            "Attempting to download data for AEP from 2024-08-01 to 2025-08-01...\n"
          ]
        },
        {
          "output_type": "stream",
          "name": "stderr",
          "text": [
            "/tmp/ipython-input-2137805434.py:22: FutureWarning: YF.download() has changed argument auto_adjust default to True\n",
            "  stock_data = yf.download(ticker_symbol, start=start_date, end=end_date, progress=False)\n"
          ]
        },
        {
          "output_type": "stream",
          "name": "stdout",
          "text": [
            "Successfully downloaded data for AEP.\n",
            "\n",
            "--- Last 5 Days of Data for AEP ---\n",
            "Price            Close        High         Low        Open   Volume\n",
            "Ticker             AEP         AEP         AEP         AEP      AEP\n",
            "Date                                                               \n",
            "2025-07-25  109.790001  109.970001  108.750000  109.120003  2287300\n",
            "2025-07-28  107.949997  109.580002  107.739998  109.500000  3049900\n",
            "2025-07-29  109.220001  109.279999  107.750000  108.389999  3585200\n",
            "2025-07-30  113.250000  114.230003  110.699997  110.940002  8827800\n",
            "2025-07-31  113.139999  113.900002  111.730003  112.559998  4718300\n",
            "Data successfully saved to 'AEP_historical_data_2025-08-01.csv'\n",
            "------------------------------\n",
            "Attempting to download data for AXP from 2024-08-01 to 2025-08-01...\n"
          ]
        },
        {
          "output_type": "stream",
          "name": "stderr",
          "text": [
            "/tmp/ipython-input-2137805434.py:22: FutureWarning: YF.download() has changed argument auto_adjust default to True\n",
            "  stock_data = yf.download(ticker_symbol, start=start_date, end=end_date, progress=False)\n"
          ]
        },
        {
          "output_type": "stream",
          "name": "stdout",
          "text": [
            "Successfully downloaded data for AXP.\n",
            "\n",
            "--- Last 5 Days of Data for AXP ---\n",
            "Price            Close        High         Low        Open   Volume\n",
            "Ticker             AXP         AXP         AXP         AXP      AXP\n",
            "Date                                                               \n",
            "2025-07-25  311.609985  312.649994  307.510010  309.420013  2149300\n",
            "2025-07-28  310.739990  313.500000  309.290009  311.600006  1653800\n",
            "2025-07-29  308.540009  313.619995  307.850006  312.910004  1796400\n",
            "2025-07-30  303.410004  308.750000  301.369995  308.549988  3132400\n",
            "2025-07-31  299.309998  303.910004  298.070007  301.899994  2716600\n",
            "Data successfully saved to 'AXP_historical_data_2025-08-01.csv'\n",
            "------------------------------\n",
            "Attempting to download data for AIG from 2024-08-01 to 2025-08-01...\n"
          ]
        },
        {
          "output_type": "stream",
          "name": "stderr",
          "text": [
            "/tmp/ipython-input-2137805434.py:22: FutureWarning: YF.download() has changed argument auto_adjust default to True\n",
            "  stock_data = yf.download(ticker_symbol, start=start_date, end=end_date, progress=False)\n"
          ]
        },
        {
          "output_type": "stream",
          "name": "stdout",
          "text": [
            "Successfully downloaded data for AIG.\n",
            "\n",
            "--- Last 5 Days of Data for AIG ---\n",
            "Price           Close       High        Low       Open   Volume\n",
            "Ticker            AIG        AIG        AIG        AIG      AIG\n",
            "Date                                                           \n",
            "2025-07-25  80.099998  80.300003  79.250000  79.300003  4476800\n",
            "2025-07-28  79.230003  80.230003  78.779999  79.959999  4499300\n",
            "2025-07-29  78.919998  80.129997  78.330002  79.730003  4504400\n",
            "2025-07-30  77.410004  78.970001  76.849998  78.570000  4479500\n",
            "2025-07-31  77.629997  78.529999  77.220001  77.220001  5026500\n",
            "Data successfully saved to 'AIG_historical_data_2025-08-01.csv'\n",
            "------------------------------\n",
            "Attempting to download data for AMT from 2024-08-01 to 2025-08-01...\n",
            "Successfully downloaded data for AMT.\n",
            "\n",
            "--- Last 5 Days of Data for AMT ---\n",
            "Price            Close        High         Low        Open   Volume\n",
            "Ticker             AMT         AMT         AMT         AMT      AMT\n",
            "Date                                                               \n",
            "2025-07-25  229.869995  231.550003  228.250000  230.619995  1031300\n",
            "2025-07-28  224.210007  229.070007  223.350006  227.720001  2176300\n",
            "2025-07-29  214.710007  219.000000  211.800003  219.000000  3704000\n",
            "2025-07-30  208.740005  215.080002  207.660004  211.559998  3693300\n",
            "2025-07-31  208.389999  209.600006  205.710007  207.220001  2774000\n"
          ]
        },
        {
          "output_type": "stream",
          "name": "stderr",
          "text": [
            "/tmp/ipython-input-2137805434.py:22: FutureWarning: YF.download() has changed argument auto_adjust default to True\n",
            "  stock_data = yf.download(ticker_symbol, start=start_date, end=end_date, progress=False)\n"
          ]
        },
        {
          "output_type": "stream",
          "name": "stdout",
          "text": [
            "Data successfully saved to 'AMT_historical_data_2025-08-01.csv'\n",
            "------------------------------\n",
            "Attempting to download data for AWK from 2024-08-01 to 2025-08-01...\n"
          ]
        },
        {
          "output_type": "stream",
          "name": "stderr",
          "text": [
            "/tmp/ipython-input-2137805434.py:22: FutureWarning: YF.download() has changed argument auto_adjust default to True\n",
            "  stock_data = yf.download(ticker_symbol, start=start_date, end=end_date, progress=False)\n"
          ]
        },
        {
          "output_type": "stream",
          "name": "stdout",
          "text": [
            "Successfully downloaded data for AWK.\n",
            "\n",
            "--- Last 5 Days of Data for AWK ---\n",
            "Price            Close        High         Low        Open   Volume\n",
            "Ticker             AWK         AWK         AWK         AWK      AWK\n",
            "Date                                                               \n",
            "2025-07-25  140.320007  141.059998  139.679993  140.190002   893900\n",
            "2025-07-28  138.710007  140.539993  137.850006  139.550003  1065800\n",
            "2025-07-29  140.949997  141.000000  137.910004  138.619995  1138000\n",
            "2025-07-30  139.649994  141.169998  139.190002  139.770004  1109000\n",
            "2025-07-31  140.240005  141.080002  137.500000  138.500000  2078200\n",
            "Data successfully saved to 'AWK_historical_data_2025-08-01.csv'\n",
            "------------------------------\n",
            "Attempting to download data for AMP from 2024-08-01 to 2025-08-01...\n"
          ]
        },
        {
          "output_type": "stream",
          "name": "stderr",
          "text": [
            "/tmp/ipython-input-2137805434.py:22: FutureWarning: YF.download() has changed argument auto_adjust default to True\n",
            "  stock_data = yf.download(ticker_symbol, start=start_date, end=end_date, progress=False)\n",
            "/tmp/ipython-input-2137805434.py:22: FutureWarning: YF.download() has changed argument auto_adjust default to True\n",
            "  stock_data = yf.download(ticker_symbol, start=start_date, end=end_date, progress=False)\n",
            "ERROR:yfinance:\n",
            "1 Failed download:\n",
            "ERROR:yfinance:['ABC']: YFTzMissingError('possibly delisted; no timezone found')\n"
          ]
        },
        {
          "output_type": "stream",
          "name": "stdout",
          "text": [
            "Successfully downloaded data for AMP.\n",
            "\n",
            "--- Last 5 Days of Data for AMP ---\n",
            "Price            Close        High         Low        Open  Volume\n",
            "Ticker             AMP         AMP         AMP         AMP     AMP\n",
            "Date                                                              \n",
            "2025-07-25  521.059998  527.409973  516.039978  516.700012  465200\n",
            "2025-07-28  518.450012  530.140015  517.299988  521.169983  456100\n",
            "2025-07-29  520.989990  524.919983  517.289978  522.679993  420000\n",
            "2025-07-30  519.750000  526.349976  515.969971  524.229980  483600\n",
            "2025-07-31  518.190002  525.390015  514.739990  518.179993  553300\n",
            "Data successfully saved to 'AMP_historical_data_2025-08-01.csv'\n",
            "------------------------------\n",
            "Attempting to download data for ABC from 2024-08-01 to 2025-08-01...\n",
            "No data found for ticker 'ABC'. It might be an invalid ticker or delisted.\n",
            "------------------------------\n",
            "Attempting to download data for AME from 2024-08-01 to 2025-08-01...\n"
          ]
        },
        {
          "output_type": "stream",
          "name": "stderr",
          "text": [
            "/tmp/ipython-input-2137805434.py:22: FutureWarning: YF.download() has changed argument auto_adjust default to True\n",
            "  stock_data = yf.download(ticker_symbol, start=start_date, end=end_date, progress=False)\n"
          ]
        },
        {
          "output_type": "stream",
          "name": "stdout",
          "text": [
            "Successfully downloaded data for AME.\n",
            "\n",
            "--- Last 5 Days of Data for AME ---\n",
            "Price            Close        High         Low        Open   Volume\n",
            "Ticker             AME         AME         AME         AME      AME\n",
            "Date                                                               \n",
            "2025-07-25  180.089996  180.779999  179.020004  179.960007  1566200\n",
            "2025-07-28  178.839996  180.889999  178.600006  180.639999  1394600\n",
            "2025-07-29  178.960007  179.990005  178.100006  179.350006  1473200\n",
            "2025-07-30  176.759995  180.080002  175.610001  179.509995  2286600\n",
            "2025-07-31  184.850006  189.199997  180.899994  180.979996  3163300\n",
            "Data successfully saved to 'AME_historical_data_2025-08-01.csv'\n",
            "------------------------------\n",
            "Attempting to download data for APH from 2024-08-01 to 2025-08-01...\n"
          ]
        },
        {
          "output_type": "stream",
          "name": "stderr",
          "text": [
            "/tmp/ipython-input-2137805434.py:22: FutureWarning: YF.download() has changed argument auto_adjust default to True\n",
            "  stock_data = yf.download(ticker_symbol, start=start_date, end=end_date, progress=False)\n"
          ]
        },
        {
          "output_type": "stream",
          "name": "stdout",
          "text": [
            "Successfully downloaded data for APH.\n",
            "\n",
            "--- Last 5 Days of Data for APH ---\n",
            "Price            Close        High         Low        Open    Volume\n",
            "Ticker             APH         APH         APH         APH       APH\n",
            "Date                                                                \n",
            "2025-07-25  105.019997  106.019997  104.669998  104.790001   7303600\n",
            "2025-07-28  106.699997  107.150002  105.040001  105.910004   8368800\n",
            "2025-07-29  105.309998  108.550003  104.970001  107.820000   9476600\n",
            "2025-07-30  105.489998  106.010002  104.290001  105.309998   7247600\n",
            "2025-07-31  106.510002  108.199997  106.269997  106.800003  15266000\n",
            "Data successfully saved to 'APH_historical_data_2025-08-01.csv'\n",
            "------------------------------\n",
            "Attempting to download data for ADI from 2024-08-01 to 2025-08-01...\n"
          ]
        },
        {
          "output_type": "stream",
          "name": "stderr",
          "text": [
            "/tmp/ipython-input-2137805434.py:22: FutureWarning: YF.download() has changed argument auto_adjust default to True\n",
            "  stock_data = yf.download(ticker_symbol, start=start_date, end=end_date, progress=False)\n"
          ]
        },
        {
          "output_type": "stream",
          "name": "stdout",
          "text": [
            "Successfully downloaded data for ADI.\n",
            "\n",
            "--- Last 5 Days of Data for ADI ---\n",
            "Price            Close        High         Low        Open   Volume\n",
            "Ticker             ADI         ADI         ADI         ADI      ADI\n",
            "Date                                                               \n",
            "2025-07-25  227.820007  228.649994  225.179993  226.639999  2695600\n",
            "2025-07-28  230.770004  231.039993  228.860001  228.910004  3136200\n",
            "2025-07-29  230.750000  232.639999  229.139999  231.979996  2174200\n",
            "2025-07-30  231.110001  232.199997  229.100006  231.830002  2324100\n",
            "2025-07-31  224.630005  229.779999  222.369995  228.279999  4944100\n",
            "Data successfully saved to 'ADI_historical_data_2025-08-01.csv'\n",
            "------------------------------\n",
            "Attempting to download data for ANSS from 2024-08-01 to 2025-08-01...\n"
          ]
        },
        {
          "output_type": "stream",
          "name": "stderr",
          "text": [
            "/tmp/ipython-input-2137805434.py:22: FutureWarning: YF.download() has changed argument auto_adjust default to True\n",
            "  stock_data = yf.download(ticker_symbol, start=start_date, end=end_date, progress=False)\n"
          ]
        },
        {
          "output_type": "stream",
          "name": "stdout",
          "text": [
            "Successfully downloaded data for ANSS.\n",
            "\n",
            "--- Last 5 Days of Data for ANSS ---\n",
            "Price            Close        High         Low        Open    Volume\n",
            "Ticker            ANSS        ANSS        ANSS        ANSS      ANSS\n",
            "Date                                                                \n",
            "2025-07-11  374.519989  380.070007  371.500000  373.130005   1090761\n",
            "2025-07-14  385.850006  395.484985  383.149994  394.049988   4585673\n",
            "2025-07-15  392.720001  393.200012  385.630005  386.519989   2956182\n",
            "2025-07-16  374.299988  395.000000  374.299988  392.529999  18893246\n",
            "2025-07-17  374.299988  374.299988  374.299988  374.299988         0\n",
            "Data successfully saved to 'ANSS_historical_data_2025-08-01.csv'\n",
            "------------------------------\n",
            "Attempting to download data for AON from 2024-08-01 to 2025-08-01...\n"
          ]
        },
        {
          "output_type": "stream",
          "name": "stderr",
          "text": [
            "/tmp/ipython-input-2137805434.py:22: FutureWarning: YF.download() has changed argument auto_adjust default to True\n",
            "  stock_data = yf.download(ticker_symbol, start=start_date, end=end_date, progress=False)\n"
          ]
        },
        {
          "output_type": "stream",
          "name": "stdout",
          "text": [
            "Successfully downloaded data for AON.\n",
            "\n",
            "--- Last 5 Days of Data for AON ---\n",
            "Price            Close        High         Low        Open   Volume\n",
            "Ticker             AON         AON         AON         AON      AON\n",
            "Date                                                               \n",
            "2025-07-25  372.890015  381.000000  368.510010  368.510010  2251400\n",
            "2025-07-28  369.160004  373.549988  367.570007  371.299988  1503400\n",
            "2025-07-29  354.029999  369.160004  352.029999  369.160004  2218400\n",
            "2025-07-30  355.339996  359.529999  353.730011  356.000000  1526100\n",
            "2025-07-31  355.709991  360.170013  352.910004  352.910004  1387300\n",
            "Data successfully saved to 'AON_historical_data_2025-08-01.csv'\n",
            "------------------------------\n",
            "Attempting to download data for APA from 2024-08-01 to 2025-08-01...\n"
          ]
        },
        {
          "output_type": "stream",
          "name": "stderr",
          "text": [
            "/tmp/ipython-input-2137805434.py:22: FutureWarning: YF.download() has changed argument auto_adjust default to True\n",
            "  stock_data = yf.download(ticker_symbol, start=start_date, end=end_date, progress=False)\n"
          ]
        },
        {
          "output_type": "stream",
          "name": "stdout",
          "text": [
            "Successfully downloaded data for APA.\n",
            "\n",
            "--- Last 5 Days of Data for APA ---\n",
            "Price           Close       High        Low   Open   Volume\n",
            "Ticker            APA        APA        APA    APA      APA\n",
            "Date                                                       \n",
            "2025-07-25  19.100000  19.480000  18.840000  19.35  4360000\n",
            "2025-07-28  19.570000  19.700001  19.330000  19.40  6239700\n",
            "2025-07-29  19.680000  19.879999  19.150000  19.50  6102700\n",
            "2025-07-30  19.480000  19.620001  19.110001  19.52  7927100\n",
            "2025-07-31  19.290001  19.670000  19.100000  19.18  7387100\n",
            "Data successfully saved to 'APA_historical_data_2025-08-01.csv'\n",
            "------------------------------\n",
            "Attempting to download data for AIRC from 2024-08-01 to 2025-08-01...\n"
          ]
        },
        {
          "output_type": "stream",
          "name": "stderr",
          "text": [
            "/tmp/ipython-input-2137805434.py:22: FutureWarning: YF.download() has changed argument auto_adjust default to True\n",
            "  stock_data = yf.download(ticker_symbol, start=start_date, end=end_date, progress=False)\n",
            "ERROR:yfinance:\n",
            "1 Failed download:\n",
            "ERROR:yfinance:['AIRC']: YFTzMissingError('possibly delisted; no timezone found')\n"
          ]
        },
        {
          "output_type": "stream",
          "name": "stdout",
          "text": [
            "No data found for ticker 'AIRC'. It might be an invalid ticker or delisted.\n",
            "------------------------------\n",
            "Attempting to download data for APTV from 2024-08-01 to 2025-08-01...\n"
          ]
        },
        {
          "output_type": "stream",
          "name": "stderr",
          "text": [
            "/tmp/ipython-input-2137805434.py:22: FutureWarning: YF.download() has changed argument auto_adjust default to True\n",
            "  stock_data = yf.download(ticker_symbol, start=start_date, end=end_date, progress=False)\n"
          ]
        },
        {
          "output_type": "stream",
          "name": "stdout",
          "text": [
            "Successfully downloaded data for APTV.\n",
            "\n",
            "--- Last 5 Days of Data for APTV ---\n",
            "Price           Close       High        Low       Open   Volume\n",
            "Ticker           APTV       APTV       APTV       APTV     APTV\n",
            "Date                                                           \n",
            "2025-07-25  70.910004  71.220001  69.809998  70.769997  1807100\n",
            "2025-07-28  69.870003  70.980003  69.690002  70.720001  2013600\n",
            "2025-07-29  68.239998  70.370003  68.190002  70.040001  2638600\n",
            "2025-07-30  66.680000  68.690002  66.250000  68.589996  4595500\n",
            "2025-07-31  68.639999  69.790001  66.400002  68.230003  3932500\n",
            "Data successfully saved to 'APTV_historical_data_2025-08-01.csv'\n",
            "------------------------------\n",
            "Attempting to download data for ADM from 2024-08-01 to 2025-08-01...\n"
          ]
        },
        {
          "output_type": "stream",
          "name": "stderr",
          "text": [
            "/tmp/ipython-input-2137805434.py:22: FutureWarning: YF.download() has changed argument auto_adjust default to True\n",
            "  stock_data = yf.download(ticker_symbol, start=start_date, end=end_date, progress=False)\n"
          ]
        },
        {
          "output_type": "stream",
          "name": "stdout",
          "text": [
            "Successfully downloaded data for ADM.\n",
            "\n",
            "--- Last 5 Days of Data for ADM ---\n",
            "Price           Close       High        Low       Open   Volume\n",
            "Ticker            ADM        ADM        ADM        ADM      ADM\n",
            "Date                                                           \n",
            "2025-07-25  55.349998  55.430000  54.070000  55.259998  2684300\n",
            "2025-07-28  54.759998  55.000000  54.310001  54.930000  1751300\n",
            "2025-07-29  54.200001  54.970001  53.810001  54.970001  3370700\n",
            "2025-07-30  55.200001  55.900002  54.270000  54.380001  3352600\n",
            "2025-07-31  54.180000  55.020000  53.970001  54.770000  3986300\n",
            "Data successfully saved to 'ADM_historical_data_2025-08-01.csv'\n",
            "------------------------------\n",
            "Attempting to download data for ANET from 2024-08-01 to 2025-08-01...\n"
          ]
        },
        {
          "output_type": "stream",
          "name": "stderr",
          "text": [
            "/tmp/ipython-input-2137805434.py:22: FutureWarning: YF.download() has changed argument auto_adjust default to True\n",
            "  stock_data = yf.download(ticker_symbol, start=start_date, end=end_date, progress=False)\n"
          ]
        },
        {
          "output_type": "stream",
          "name": "stdout",
          "text": [
            "Successfully downloaded data for ANET.\n",
            "\n",
            "--- Last 5 Days of Data for ANET ---\n",
            "Price            Close        High         Low        Open    Volume\n",
            "Ticker            ANET        ANET        ANET        ANET      ANET\n",
            "Date                                                                \n",
            "2025-07-25  114.279999  115.099998  113.554001  113.750000   4868100\n",
            "2025-07-28  117.550003  117.870003  114.830002  115.000000   9431500\n",
            "2025-07-29  118.620003  119.860001  117.309998  118.000000   9916700\n",
            "2025-07-30  122.089996  123.099998  119.599998  119.625000   9861700\n",
            "2025-07-31  123.220001  125.809998  121.346001  124.540001  16029500\n",
            "Data successfully saved to 'ANET_historical_data_2025-08-01.csv'\n",
            "------------------------------\n",
            "Attempting to download data for AJG from 2024-08-01 to 2025-08-01...\n"
          ]
        },
        {
          "output_type": "stream",
          "name": "stderr",
          "text": [
            "/tmp/ipython-input-2137805434.py:22: FutureWarning: YF.download() has changed argument auto_adjust default to True\n",
            "  stock_data = yf.download(ticker_symbol, start=start_date, end=end_date, progress=False)\n"
          ]
        },
        {
          "output_type": "stream",
          "name": "stdout",
          "text": [
            "Successfully downloaded data for AJG.\n",
            "\n",
            "--- Last 5 Days of Data for AJG ---\n",
            "Price            Close        High         Low        Open   Volume\n",
            "Ticker             AJG         AJG         AJG         AJG      AJG\n",
            "Date                                                               \n",
            "2025-07-25  315.140015  315.480011  310.100006  310.100006   897400\n",
            "2025-07-28  309.119995  315.000000  308.290009  315.000000  1237200\n",
            "2025-07-29  288.350006  309.049988  287.609985  307.899994  4081200\n",
            "2025-07-30  285.839996  291.149994  284.940002  291.149994  2920400\n",
            "2025-07-31  287.250000  290.929993  281.829987  282.019989  2554700\n",
            "Data successfully saved to 'AJG_historical_data_2025-08-01.csv'\n",
            "------------------------------\n",
            "Attempting to download data for AIZ from 2024-08-01 to 2025-08-01...\n"
          ]
        },
        {
          "output_type": "stream",
          "name": "stderr",
          "text": [
            "/tmp/ipython-input-2137805434.py:22: FutureWarning: YF.download() has changed argument auto_adjust default to True\n",
            "  stock_data = yf.download(ticker_symbol, start=start_date, end=end_date, progress=False)\n"
          ]
        },
        {
          "output_type": "stream",
          "name": "stdout",
          "text": [
            "Successfully downloaded data for AIZ.\n",
            "\n",
            "--- Last 5 Days of Data for AIZ ---\n",
            "Price            Close        High         Low        Open  Volume\n",
            "Ticker             AIZ         AIZ         AIZ         AIZ     AIZ\n",
            "Date                                                              \n",
            "2025-07-25  186.279999  187.539993  185.490005  185.490005  271700\n",
            "2025-07-28  184.850006  186.199997  184.330002  185.660004  315000\n",
            "2025-07-29  185.179993  186.570007  184.710007  186.000000  350700\n",
            "2025-07-30  184.559998  185.860001  183.389999  185.240005  301000\n",
            "2025-07-31  187.300003  189.169998  184.149994  184.149994  573400\n",
            "Data successfully saved to 'AIZ_historical_data_2025-08-01.csv'\n",
            "------------------------------\n",
            "Attempting to download data for T from 2024-08-01 to 2025-08-01...\n"
          ]
        },
        {
          "output_type": "stream",
          "name": "stderr",
          "text": [
            "/tmp/ipython-input-2137805434.py:22: FutureWarning: YF.download() has changed argument auto_adjust default to True\n",
            "  stock_data = yf.download(ticker_symbol, start=start_date, end=end_date, progress=False)\n"
          ]
        },
        {
          "output_type": "stream",
          "name": "stdout",
          "text": [
            "Successfully downloaded data for T.\n",
            "\n",
            "--- Last 5 Days of Data for T ---\n",
            "Price       Close       High        Low   Open    Volume\n",
            "Ticker          T          T          T      T         T\n",
            "Date                                                    \n",
            "2025-07-25  28.00  28.350000  27.750000  27.91  33987800\n",
            "2025-07-28  27.60  27.930000  27.540001  27.93  29164400\n",
            "2025-07-29  27.41  27.930000  27.320000  27.68  34202400\n",
            "2025-07-30  27.50  27.709999  27.240000  27.34  30096100\n",
            "2025-07-31  27.41  27.719999  27.309999  27.35  34095300\n",
            "Data successfully saved to 'T_historical_data_2025-08-01.csv'\n",
            "------------------------------\n",
            "Attempting to download data for ATO from 2024-08-01 to 2025-08-01...\n"
          ]
        },
        {
          "output_type": "stream",
          "name": "stderr",
          "text": [
            "/tmp/ipython-input-2137805434.py:22: FutureWarning: YF.download() has changed argument auto_adjust default to True\n",
            "  stock_data = yf.download(ticker_symbol, start=start_date, end=end_date, progress=False)\n"
          ]
        },
        {
          "output_type": "stream",
          "name": "stdout",
          "text": [
            "Successfully downloaded data for ATO.\n",
            "\n",
            "--- Last 5 Days of Data for ATO ---\n",
            "Price            Close        High         Low        Open   Volume\n",
            "Ticker             ATO         ATO         ATO         ATO      ATO\n",
            "Date                                                               \n",
            "2025-07-25  156.839996  158.009995  156.119995  157.389999   533700\n",
            "2025-07-28  154.679993  156.589996  154.229996  156.399994   734500\n",
            "2025-07-29  156.110001  156.529999  154.529999  155.399994   614300\n",
            "2025-07-30  156.199997  157.539993  155.750000  156.690002   656400\n",
            "2025-07-31  155.919998  156.869995  154.550003  155.869995  1166500\n",
            "Data successfully saved to 'ATO_historical_data_2025-08-01.csv'\n",
            "------------------------------\n",
            "Attempting to download data for ADSK from 2024-08-01 to 2025-08-01...\n"
          ]
        },
        {
          "output_type": "stream",
          "name": "stderr",
          "text": [
            "/tmp/ipython-input-2137805434.py:22: FutureWarning: YF.download() has changed argument auto_adjust default to True\n",
            "  stock_data = yf.download(ticker_symbol, start=start_date, end=end_date, progress=False)\n"
          ]
        },
        {
          "output_type": "stream",
          "name": "stdout",
          "text": [
            "Successfully downloaded data for ADSK.\n",
            "\n",
            "--- Last 5 Days of Data for ADSK ---\n",
            "Price            Close        High         Low        Open   Volume\n",
            "Ticker            ADSK        ADSK        ADSK        ADSK     ADSK\n",
            "Date                                                               \n",
            "2025-07-25  303.279999  304.359985  300.070007  301.709991  1025300\n",
            "2025-07-28  304.470001  306.109985  303.220001  304.579987   720100\n",
            "2025-07-29  306.609985  307.779999  304.429993  305.179993  1120900\n",
            "2025-07-30  308.140015  309.809998  305.489990  306.079987   960700\n",
            "2025-07-31  303.109985  309.200012  302.239990  307.920013  1491700\n",
            "Data successfully saved to 'ADSK_historical_data_2025-08-01.csv'\n",
            "------------------------------\n",
            "Attempting to download data for ADP from 2024-08-01 to 2025-08-01...\n"
          ]
        },
        {
          "output_type": "stream",
          "name": "stderr",
          "text": [
            "/tmp/ipython-input-2137805434.py:22: FutureWarning: YF.download() has changed argument auto_adjust default to True\n",
            "  stock_data = yf.download(ticker_symbol, start=start_date, end=end_date, progress=False)\n"
          ]
        },
        {
          "output_type": "stream",
          "name": "stdout",
          "text": [
            "Successfully downloaded data for ADP.\n",
            "\n",
            "--- Last 5 Days of Data for ADP ---\n",
            "Price            Close        High         Low        Open   Volume\n",
            "Ticker             ADP         ADP         ADP         ADP      ADP\n",
            "Date                                                               \n",
            "2025-07-25  308.630005  308.820007  306.170013  307.160004   967200\n",
            "2025-07-28  306.890015  309.190002  306.309998  308.600006  1184800\n",
            "2025-07-29  308.640015  309.690002  305.500000  307.970001  2670900\n",
            "2025-07-30  310.940002  315.980011  298.690002  299.309998  2558200\n",
            "2025-07-31  309.500000  315.260010  308.809998  309.320007  2030400\n",
            "Data successfully saved to 'ADP_historical_data_2025-08-01.csv'\n",
            "------------------------------\n",
            "Attempting to download data for AZO from 2024-08-01 to 2025-08-01...\n",
            "Successfully downloaded data for AZO.\n",
            "\n",
            "--- Last 5 Days of Data for AZO ---\n",
            "Price             Close         High          Low         Open  Volume\n",
            "Ticker              AZO          AZO          AZO          AZO     AZO\n",
            "Date                                                                  \n",
            "2025-07-25  3820.909912  3893.209961  3814.110107  3861.060059   80700\n",
            "2025-07-28  3796.560059  3822.000000  3780.770020  3802.899902   77300\n",
            "2025-07-29  3873.850098  3879.459961  3803.929932  3824.600098  171100\n",
            "2025-07-30  3843.110107  3919.500000  3817.449951  3891.280029  124300\n",
            "2025-07-31  3768.379883  3860.929932  3754.419922  3828.989990  162300\n",
            "Data successfully saved to 'AZO_historical_data_2025-08-01.csv'\n",
            "------------------------------\n",
            "Attempting to download data for AVB from 2024-08-01 to 2025-08-01...\n"
          ]
        },
        {
          "output_type": "stream",
          "name": "stderr",
          "text": [
            "/tmp/ipython-input-2137805434.py:22: FutureWarning: YF.download() has changed argument auto_adjust default to True\n",
            "  stock_data = yf.download(ticker_symbol, start=start_date, end=end_date, progress=False)\n",
            "/tmp/ipython-input-2137805434.py:22: FutureWarning: YF.download() has changed argument auto_adjust default to True\n",
            "  stock_data = yf.download(ticker_symbol, start=start_date, end=end_date, progress=False)\n"
          ]
        },
        {
          "output_type": "stream",
          "name": "stdout",
          "text": [
            "Successfully downloaded data for AVB.\n",
            "\n",
            "--- Last 5 Days of Data for AVB ---\n",
            "Price            Close        High         Low        Open   Volume\n",
            "Ticker             AVB         AVB         AVB         AVB      AVB\n",
            "Date                                                               \n",
            "2025-07-25  201.750000  203.110001  200.410004  201.240005   319700\n",
            "2025-07-28  198.770004  202.240005  198.639999  201.350006   588900\n",
            "2025-07-29  203.119995  203.289993  198.779999  199.619995   533600\n",
            "2025-07-30  196.309998  202.070007  194.449997  202.070007  1078300\n",
            "2025-07-31  186.279999  194.199997  185.820007  193.320007  1582900\n",
            "Data successfully saved to 'AVB_historical_data_2025-08-01.csv'\n",
            "------------------------------\n",
            "Attempting to download data for AVY from 2024-08-01 to 2025-08-01...\n"
          ]
        },
        {
          "output_type": "stream",
          "name": "stderr",
          "text": [
            "/tmp/ipython-input-2137805434.py:22: FutureWarning: YF.download() has changed argument auto_adjust default to True\n",
            "  stock_data = yf.download(ticker_symbol, start=start_date, end=end_date, progress=False)\n"
          ]
        },
        {
          "output_type": "stream",
          "name": "stdout",
          "text": [
            "Successfully downloaded data for AVY.\n",
            "\n",
            "--- Last 5 Days of Data for AVY ---\n",
            "Price            Close        High         Low        Open  Volume\n",
            "Ticker             AVY         AVY         AVY         AVY     AVY\n",
            "Date                                                              \n",
            "2025-07-25  177.789993  179.800003  176.660004  178.960007  461300\n",
            "2025-07-28  174.360001  176.990005  174.070007  176.899994  434600\n",
            "2025-07-29  172.270004  174.869995  171.929993  174.399994  708500\n",
            "2025-07-30  168.419998  171.949997  167.910004  171.949997  587200\n",
            "2025-07-31  167.770004  170.009995  167.250000  167.250000  720300\n",
            "Data successfully saved to 'AVY_historical_data_2025-08-01.csv'\n",
            "------------------------------\n",
            "Attempting to download data for BKR from 2024-08-01 to 2025-08-01...\n"
          ]
        },
        {
          "output_type": "stream",
          "name": "stderr",
          "text": [
            "/tmp/ipython-input-2137805434.py:22: FutureWarning: YF.download() has changed argument auto_adjust default to True\n",
            "  stock_data = yf.download(ticker_symbol, start=start_date, end=end_date, progress=False)\n",
            "/tmp/ipython-input-2137805434.py:22: FutureWarning: YF.download() has changed argument auto_adjust default to True\n",
            "  stock_data = yf.download(ticker_symbol, start=start_date, end=end_date, progress=False)\n",
            "ERROR:yfinance:\n",
            "1 Failed download:\n",
            "ERROR:yfinance:['BLL']: YFTzMissingError('possibly delisted; no timezone found')\n"
          ]
        },
        {
          "output_type": "stream",
          "name": "stdout",
          "text": [
            "Successfully downloaded data for BKR.\n",
            "\n",
            "--- Last 5 Days of Data for BKR ---\n",
            "Price           Close       High        Low       Open    Volume\n",
            "Ticker            BKR        BKR        BKR        BKR       BKR\n",
            "Date                                                            \n",
            "2025-07-25  46.049999  46.070000  45.459999  45.799999   5869800\n",
            "2025-07-28  46.549999  46.720001  46.180000  46.320000   5775000\n",
            "2025-07-29  45.750000  46.240002  44.900002  45.000000  15815800\n",
            "2025-07-30  45.529999  46.130001  45.040001  45.700001  12435400\n",
            "2025-07-31  45.049999  45.939999  44.900002  45.240002   7721700\n",
            "Data successfully saved to 'BKR_historical_data_2025-08-01.csv'\n",
            "------------------------------\n",
            "Attempting to download data for BLL from 2024-08-01 to 2025-08-01...\n",
            "No data found for ticker 'BLL'. It might be an invalid ticker or delisted.\n",
            "------------------------------\n",
            "Attempting to download data for BK from 2024-08-01 to 2025-08-01...\n"
          ]
        },
        {
          "output_type": "stream",
          "name": "stderr",
          "text": [
            "/tmp/ipython-input-2137805434.py:22: FutureWarning: YF.download() has changed argument auto_adjust default to True\n",
            "  stock_data = yf.download(ticker_symbol, start=start_date, end=end_date, progress=False)\n"
          ]
        },
        {
          "output_type": "stream",
          "name": "stdout",
          "text": [
            "Successfully downloaded data for BK.\n",
            "\n",
            "--- Last 5 Days of Data for BK ---\n",
            "Price            Close        High         Low        Open   Volume\n",
            "Ticker              BK          BK          BK          BK       BK\n",
            "Date                                                               \n",
            "2025-07-25  100.919998  101.160004   98.769997   99.440002  4123300\n",
            "2025-07-28  100.629997  100.970001  100.199997  100.919998  2331100\n",
            "2025-07-29  101.870003  102.019997  100.889999  101.370003  3561400\n",
            "2025-07-30  102.300003  103.160004  101.510002  101.669998  3188300\n",
            "2025-07-31  101.449997  102.699997  101.099998  102.029999  4076100\n",
            "Data successfully saved to 'BK_historical_data_2025-08-01.csv'\n",
            "------------------------------\n",
            "Attempting to download data for BBWI from 2024-08-01 to 2025-08-01...\n"
          ]
        },
        {
          "output_type": "stream",
          "name": "stderr",
          "text": [
            "/tmp/ipython-input-2137805434.py:22: FutureWarning: YF.download() has changed argument auto_adjust default to True\n",
            "  stock_data = yf.download(ticker_symbol, start=start_date, end=end_date, progress=False)\n"
          ]
        },
        {
          "output_type": "stream",
          "name": "stdout",
          "text": [
            "Successfully downloaded data for BBWI.\n",
            "\n",
            "--- Last 5 Days of Data for BBWI ---\n",
            "Price           Close       High        Low       Open   Volume\n",
            "Ticker           BBWI       BBWI       BBWI       BBWI     BBWI\n",
            "Date                                                           \n",
            "2025-07-25  31.559999  31.740000  30.930000  31.690001  3723400\n",
            "2025-07-28  31.010000  31.850000  30.809999  31.850000  5399800\n",
            "2025-07-29  30.940001  31.389999  30.709999  31.150000  4044900\n",
            "2025-07-30  30.049999  31.400000  29.790001  31.160000  4839900\n",
            "2025-07-31  28.959999  30.240000  28.820000  30.110001  4677300\n",
            "Data successfully saved to 'BBWI_historical_data_2025-08-01.csv'\n",
            "------------------------------\n",
            "Attempting to download data for BAX from 2024-08-01 to 2025-08-01...\n"
          ]
        },
        {
          "output_type": "stream",
          "name": "stderr",
          "text": [
            "/tmp/ipython-input-2137805434.py:22: FutureWarning: YF.download() has changed argument auto_adjust default to True\n",
            "  stock_data = yf.download(ticker_symbol, start=start_date, end=end_date, progress=False)\n"
          ]
        },
        {
          "output_type": "stream",
          "name": "stdout",
          "text": [
            "Successfully downloaded data for BAX.\n",
            "\n",
            "--- Last 5 Days of Data for BAX ---\n",
            "Price           Close       High        Low       Open    Volume\n",
            "Ticker            BAX        BAX        BAX        BAX       BAX\n",
            "Date                                                            \n",
            "2025-07-25  29.219999  29.309999  28.700001  28.760000   4031200\n",
            "2025-07-28  28.520000  29.350000  28.480000  29.040001   6889700\n",
            "2025-07-29  28.840000  29.000000  28.330000  28.370001   6929800\n",
            "2025-07-30  28.049999  28.940001  27.900000  28.830000   7798700\n",
            "2025-07-31  21.760000  24.160000  21.469999  23.760000  47006200\n",
            "Data successfully saved to 'BAX_historical_data_2025-08-01.csv'\n",
            "------------------------------\n",
            "Attempting to download data for BDX from 2024-08-01 to 2025-08-01...\n"
          ]
        },
        {
          "output_type": "stream",
          "name": "stderr",
          "text": [
            "/tmp/ipython-input-2137805434.py:22: FutureWarning: YF.download() has changed argument auto_adjust default to True\n",
            "  stock_data = yf.download(ticker_symbol, start=start_date, end=end_date, progress=False)\n"
          ]
        },
        {
          "output_type": "stream",
          "name": "stdout",
          "text": [
            "Successfully downloaded data for BDX.\n",
            "\n",
            "--- Last 5 Days of Data for BDX ---\n",
            "Price            Close        High         Low        Open   Volume\n",
            "Ticker             BDX         BDX         BDX         BDX      BDX\n",
            "Date                                                               \n",
            "2025-07-25  185.320007  185.919998  183.419998  184.350006  1875900\n",
            "2025-07-28  182.940002  185.440002  182.820007  184.889999  1850200\n",
            "2025-07-29  182.380005  183.529999  181.679993  182.630005  1500800\n",
            "2025-07-30  181.539993  182.649994  180.330002  182.229996  1846700\n",
            "2025-07-31  178.250000  182.259995  178.250000  180.500000  3733900\n",
            "Data successfully saved to 'BDX_historical_data_2025-08-01.csv'\n",
            "------------------------------\n",
            "Attempting to download data for BBY from 2024-08-01 to 2025-08-01...\n"
          ]
        },
        {
          "output_type": "stream",
          "name": "stderr",
          "text": [
            "/tmp/ipython-input-2137805434.py:22: FutureWarning: YF.download() has changed argument auto_adjust default to True\n",
            "  stock_data = yf.download(ticker_symbol, start=start_date, end=end_date, progress=False)\n"
          ]
        },
        {
          "output_type": "stream",
          "name": "stdout",
          "text": [
            "Successfully downloaded data for BBY.\n",
            "\n",
            "--- Last 5 Days of Data for BBY ---\n",
            "Price           Close       High        Low       Open   Volume\n",
            "Ticker            BBY        BBY        BBY        BBY      BBY\n",
            "Date                                                           \n",
            "2025-07-25  67.440002  68.220001  66.800003  67.800003  2553400\n",
            "2025-07-28  67.790001  68.980003  67.279999  67.709999  2443300\n",
            "2025-07-29  66.440002  67.879997  66.150002  67.839996  3172000\n",
            "2025-07-30  65.790001  67.150002  65.400002  66.440002  3284800\n",
            "2025-07-31  65.059998  65.739998  64.790001  65.320000  3149200\n",
            "Data successfully saved to 'BBY_historical_data_2025-08-01.csv'\n",
            "------------------------------\n",
            "Attempting to download data for BIO from 2024-08-01 to 2025-08-01...\n"
          ]
        },
        {
          "output_type": "stream",
          "name": "stderr",
          "text": [
            "/tmp/ipython-input-2137805434.py:22: FutureWarning: YF.download() has changed argument auto_adjust default to True\n",
            "  stock_data = yf.download(ticker_symbol, start=start_date, end=end_date, progress=False)\n"
          ]
        },
        {
          "output_type": "stream",
          "name": "stdout",
          "text": [
            "Successfully downloaded data for BIO.\n",
            "\n",
            "--- Last 5 Days of Data for BIO ---\n",
            "Price            Close        High         Low        Open  Volume\n",
            "Ticker             BIO         BIO         BIO         BIO     BIO\n",
            "Date                                                              \n",
            "2025-07-25  264.190002  267.489990  260.559998  262.500000  247200\n",
            "2025-07-28  253.229996  262.049988  249.410004  261.410004  323100\n",
            "2025-07-29  252.600006  256.040009  251.490005  253.360001  312300\n",
            "2025-07-30  250.080002  255.149994  247.800003  253.059998  424400\n",
            "2025-07-31  241.949997  251.350006  241.020004  247.190002  430900\n",
            "Data successfully saved to 'BIO_historical_data_2025-08-01.csv'\n",
            "------------------------------\n",
            "Attempting to download data for TECH from 2024-08-01 to 2025-08-01...\n"
          ]
        },
        {
          "output_type": "stream",
          "name": "stderr",
          "text": [
            "/tmp/ipython-input-2137805434.py:22: FutureWarning: YF.download() has changed argument auto_adjust default to True\n",
            "  stock_data = yf.download(ticker_symbol, start=start_date, end=end_date, progress=False)\n"
          ]
        },
        {
          "output_type": "stream",
          "name": "stdout",
          "text": [
            "Successfully downloaded data for TECH.\n",
            "\n",
            "--- Last 5 Days of Data for TECH ---\n",
            "Price           Close       High        Low       Open   Volume\n",
            "Ticker           TECH       TECH       TECH       TECH     TECH\n",
            "Date                                                           \n",
            "2025-07-25  58.779999  59.500000  57.759998  58.860001  2697000\n",
            "2025-07-28  58.549999  60.060001  58.360001  58.820000  2952200\n",
            "2025-07-29  57.869999  58.939999  57.439999  58.450001  2100400\n",
            "2025-07-30  57.709999  58.500000  57.099998  58.200001  1981200\n",
            "2025-07-31  54.730000  57.740002  54.610001  56.730000  2876900\n",
            "Data successfully saved to 'TECH_historical_data_2025-08-01.csv'\n",
            "------------------------------\n",
            "Attempting to download data for BIIB from 2024-08-01 to 2025-08-01...\n"
          ]
        },
        {
          "output_type": "stream",
          "name": "stderr",
          "text": [
            "/tmp/ipython-input-2137805434.py:22: FutureWarning: YF.download() has changed argument auto_adjust default to True\n",
            "  stock_data = yf.download(ticker_symbol, start=start_date, end=end_date, progress=False)\n"
          ]
        },
        {
          "output_type": "stream",
          "name": "stdout",
          "text": [
            "Successfully downloaded data for BIIB.\n",
            "\n",
            "--- Last 5 Days of Data for BIIB ---\n",
            "Price            Close        High         Low        Open   Volume\n",
            "Ticker            BIIB        BIIB        BIIB        BIIB     BIIB\n",
            "Date                                                               \n",
            "2025-07-25  131.520004  133.050003  130.130005  133.050003   977000\n",
            "2025-07-28  129.279999  131.850006  128.429993  131.350006  1045500\n",
            "2025-07-29  127.900002  129.259995  127.599998  128.539993  1108800\n",
            "2025-07-30  126.639999  129.779999  125.970001  128.559998  1892100\n",
            "2025-07-31  128.000000  135.429993  127.239998  133.000000  3239700\n",
            "Data successfully saved to 'BIIB_historical_data_2025-08-01.csv'\n",
            "------------------------------\n",
            "Attempting to download data for BLK from 2024-08-01 to 2025-08-01...\n"
          ]
        },
        {
          "output_type": "stream",
          "name": "stderr",
          "text": [
            "/tmp/ipython-input-2137805434.py:22: FutureWarning: YF.download() has changed argument auto_adjust default to True\n",
            "  stock_data = yf.download(ticker_symbol, start=start_date, end=end_date, progress=False)\n"
          ]
        },
        {
          "output_type": "stream",
          "name": "stdout",
          "text": [
            "Successfully downloaded data for BLK.\n",
            "\n",
            "--- Last 5 Days of Data for BLK ---\n",
            "Price             Close         High          Low         Open  Volume\n",
            "Ticker              BLK          BLK          BLK          BLK     BLK\n",
            "Date                                                                  \n",
            "2025-07-25  1123.280029  1130.660034  1117.760010  1122.319946  516300\n",
            "2025-07-28  1117.819946  1125.689941  1115.089966  1124.000000  299300\n",
            "2025-07-29  1121.530029  1127.939941  1114.750000  1123.349976  422000\n",
            "2025-07-30  1114.650024  1126.550049  1109.439941  1117.300049  372400\n",
            "2025-07-31  1106.010010  1120.949951  1103.239990  1108.290039  498400\n",
            "Data successfully saved to 'BLK_historical_data_2025-08-01.csv'\n",
            "------------------------------\n",
            "Attempting to download data for BA from 2024-08-01 to 2025-08-01...\n"
          ]
        },
        {
          "output_type": "stream",
          "name": "stderr",
          "text": [
            "/tmp/ipython-input-2137805434.py:22: FutureWarning: YF.download() has changed argument auto_adjust default to True\n",
            "  stock_data = yf.download(ticker_symbol, start=start_date, end=end_date, progress=False)\n"
          ]
        },
        {
          "output_type": "stream",
          "name": "stdout",
          "text": [
            "Successfully downloaded data for BA.\n",
            "\n",
            "--- Last 5 Days of Data for BA ---\n",
            "Price            Close        High         Low        Open    Volume\n",
            "Ticker              BA          BA          BA          BA        BA\n",
            "Date                                                                \n",
            "2025-07-25  233.059998  233.309998  228.839996  232.020004   4628500\n",
            "2025-07-28  236.410004  236.630005  232.910004  233.240005   7923800\n",
            "2025-07-29  226.080002  242.690002  225.259995  239.500000  20163600\n",
            "2025-07-30  225.839996  231.720001  224.350006  227.839996   9354600\n",
            "2025-07-31  221.839996  225.000000  221.149994  224.020004   7810300\n",
            "Data successfully saved to 'BA_historical_data_2025-08-01.csv'\n",
            "------------------------------\n",
            "Attempting to download data for BKNG from 2024-08-01 to 2025-08-01...\n"
          ]
        },
        {
          "output_type": "stream",
          "name": "stderr",
          "text": [
            "/tmp/ipython-input-2137805434.py:22: FutureWarning: YF.download() has changed argument auto_adjust default to True\n",
            "  stock_data = yf.download(ticker_symbol, start=start_date, end=end_date, progress=False)\n"
          ]
        },
        {
          "output_type": "stream",
          "name": "stdout",
          "text": [
            "Successfully downloaded data for BKNG.\n",
            "\n",
            "--- Last 5 Days of Data for BKNG ---\n",
            "Price             Close         High          Low         Open  Volume\n",
            "Ticker             BKNG         BKNG         BKNG         BKNG    BKNG\n",
            "Date                                                                  \n",
            "2025-07-25  5632.270020  5680.279785  5624.209961  5678.509766  184800\n",
            "2025-07-28  5678.750000  5685.000000  5583.129883  5638.810059  225600\n",
            "2025-07-29  5590.770020  5696.000000  5541.640137  5696.000000  324400\n",
            "2025-07-30  5612.910156  5691.569824  5432.049805  5490.000000  371400\n",
            "2025-07-31  5504.060059  5664.410156  5493.680176  5625.000000  288400\n",
            "Data successfully saved to 'BKNG_historical_data_2025-08-01.csv'\n",
            "------------------------------\n",
            "Attempting to download data for BWA from 2024-08-01 to 2025-08-01...\n"
          ]
        },
        {
          "output_type": "stream",
          "name": "stderr",
          "text": [
            "/tmp/ipython-input-2137805434.py:22: FutureWarning: YF.download() has changed argument auto_adjust default to True\n",
            "  stock_data = yf.download(ticker_symbol, start=start_date, end=end_date, progress=False)\n"
          ]
        },
        {
          "output_type": "stream",
          "name": "stdout",
          "text": [
            "Successfully downloaded data for BWA.\n",
            "\n",
            "--- Last 5 Days of Data for BWA ---\n",
            "Price           Close       High        Low       Open   Volume\n",
            "Ticker            BWA        BWA        BWA        BWA      BWA\n",
            "Date                                                           \n",
            "2025-07-25  36.020000  36.150002  35.419998  36.150002  1479100\n",
            "2025-07-28  35.770000  36.169998  35.610001  35.799999  1810500\n",
            "2025-07-29  35.139999  35.970001  35.060001  35.970001  1342700\n",
            "2025-07-30  34.529999  35.290001  34.270000  35.230000  2465400\n",
            "2025-07-31  36.799999  37.049999  35.040001  36.049999  5151300\n",
            "Data successfully saved to 'BWA_historical_data_2025-08-01.csv'\n",
            "------------------------------\n",
            "Attempting to download data for BXP from 2024-08-01 to 2025-08-01...\n"
          ]
        },
        {
          "output_type": "stream",
          "name": "stderr",
          "text": [
            "/tmp/ipython-input-2137805434.py:22: FutureWarning: YF.download() has changed argument auto_adjust default to True\n",
            "  stock_data = yf.download(ticker_symbol, start=start_date, end=end_date, progress=False)\n"
          ]
        },
        {
          "output_type": "stream",
          "name": "stdout",
          "text": [
            "Successfully downloaded data for BXP.\n",
            "\n",
            "--- Last 5 Days of Data for BXP ---\n",
            "Price           Close       High        Low       Open   Volume\n",
            "Ticker            BXP        BXP        BXP        BXP      BXP\n",
            "Date                                                           \n",
            "2025-07-25  71.800003  72.050003  70.559998  70.949997  1540300\n",
            "2025-07-28  69.599998  71.610001  69.510002  71.529999  1287200\n",
            "2025-07-29  70.430000  70.690002  69.360001  69.820000  2058900\n",
            "2025-07-30  66.430000  70.400002  65.690002  69.769997  3158500\n",
            "2025-07-31  65.430000  66.790001  65.300003  65.830002  4179700\n",
            "Data successfully saved to 'BXP_historical_data_2025-08-01.csv'\n",
            "------------------------------\n",
            "Attempting to download data for BSX from 2024-08-01 to 2025-08-01...\n"
          ]
        },
        {
          "output_type": "stream",
          "name": "stderr",
          "text": [
            "/tmp/ipython-input-2137805434.py:22: FutureWarning: YF.download() has changed argument auto_adjust default to True\n",
            "  stock_data = yf.download(ticker_symbol, start=start_date, end=end_date, progress=False)\n"
          ]
        },
        {
          "output_type": "stream",
          "name": "stdout",
          "text": [
            "Successfully downloaded data for BSX.\n",
            "\n",
            "--- Last 5 Days of Data for BSX ---\n",
            "Price            Close        High         Low        Open   Volume\n",
            "Ticker             BSX         BSX         BSX         BSX      BSX\n",
            "Date                                                               \n",
            "2025-07-25  106.139999  107.250000  105.940002  106.180000  5875100\n",
            "2025-07-28  105.839996  107.379997  105.559998  106.330002  6624800\n",
            "2025-07-29  106.470001  107.250000  106.099998  106.680000  6352600\n",
            "2025-07-30  106.760002  107.230003  105.879997  106.459999  7165700\n",
            "2025-07-31  104.919998  106.430000  104.580002  106.129997  6714600\n",
            "Data successfully saved to 'BSX_historical_data_2025-08-01.csv'\n",
            "------------------------------\n",
            "Attempting to download data for BMY from 2024-08-01 to 2025-08-01...\n"
          ]
        },
        {
          "output_type": "stream",
          "name": "stderr",
          "text": [
            "/tmp/ipython-input-2137805434.py:22: FutureWarning: YF.download() has changed argument auto_adjust default to True\n",
            "  stock_data = yf.download(ticker_symbol, start=start_date, end=end_date, progress=False)\n"
          ]
        },
        {
          "output_type": "stream",
          "name": "stdout",
          "text": [
            "Successfully downloaded data for BMY.\n",
            "\n",
            "--- Last 5 Days of Data for BMY ---\n",
            "Price           Close       High        Low       Open    Volume\n",
            "Ticker            BMY        BMY        BMY        BMY       BMY\n",
            "Date                                                            \n",
            "2025-07-25  48.430000  49.240002  47.290001  49.080002  11922000\n",
            "2025-07-28  47.509998  48.459999  47.340000  48.439999   7445600\n",
            "2025-07-29  46.860001  47.180000  46.369999  47.169998  11423400\n",
            "2025-07-30  45.980000  47.259998  45.810001  47.000000  14148800\n",
            "2025-07-31  43.310001  45.509998  42.959999  44.169998  44517800\n",
            "Data successfully saved to 'BMY_historical_data_2025-08-01.csv'\n",
            "------------------------------\n",
            "Attempting to download data for BR from 2024-08-01 to 2025-08-01...\n"
          ]
        },
        {
          "output_type": "stream",
          "name": "stderr",
          "text": [
            "/tmp/ipython-input-2137805434.py:22: FutureWarning: YF.download() has changed argument auto_adjust default to True\n",
            "  stock_data = yf.download(ticker_symbol, start=start_date, end=end_date, progress=False)\n"
          ]
        },
        {
          "output_type": "stream",
          "name": "stdout",
          "text": [
            "Successfully downloaded data for BR.\n",
            "\n",
            "--- Last 5 Days of Data for BR ---\n",
            "Price            Close        High         Low        Open   Volume\n",
            "Ticker              BR          BR          BR          BR       BR\n",
            "Date                                                               \n",
            "2025-07-25  253.690002  257.649994  251.000000  252.440002  1815700\n",
            "2025-07-28  252.470001  256.109985  250.580002  252.350006  2012700\n",
            "2025-07-29  247.970001  253.800003  246.100006  253.679993   970500\n",
            "2025-07-30  246.679993  249.600006  245.809998  247.419998   497400\n",
            "2025-07-31  247.509995  249.220001  244.539993  246.429993  1340900\n",
            "Data successfully saved to 'BR_historical_data_2025-08-01.csv'\n",
            "------------------------------\n",
            "Attempting to download data for BRO from 2024-08-01 to 2025-08-01...\n"
          ]
        },
        {
          "output_type": "stream",
          "name": "stderr",
          "text": [
            "/tmp/ipython-input-2137805434.py:22: FutureWarning: YF.download() has changed argument auto_adjust default to True\n",
            "  stock_data = yf.download(ticker_symbol, start=start_date, end=end_date, progress=False)\n"
          ]
        },
        {
          "output_type": "stream",
          "name": "stdout",
          "text": [
            "Successfully downloaded data for BRO.\n",
            "\n",
            "--- Last 5 Days of Data for BRO ---\n",
            "Price            Close        High         Low        Open    Volume\n",
            "Ticker             BRO         BRO         BRO         BRO       BRO\n",
            "Date                                                                \n",
            "2025-07-25  103.379997  104.250000  103.139999  103.199997   3136300\n",
            "2025-07-28  102.580002  104.099998  102.470001  104.099998   4150100\n",
            "2025-07-29   91.910004   98.099998   91.550003   97.279999  10471500\n",
            "2025-07-30   92.940002   94.500000   91.610001   94.000000   7490300\n",
            "2025-07-31   91.370003   92.989998   91.000000   91.980003   5835200\n",
            "Data successfully saved to 'BRO_historical_data_2025-08-01.csv'\n",
            "------------------------------\n",
            "Attempting to download data for BF.B from 2024-08-01 to 2025-08-01...\n"
          ]
        },
        {
          "output_type": "stream",
          "name": "stderr",
          "text": [
            "/tmp/ipython-input-2137805434.py:22: FutureWarning: YF.download() has changed argument auto_adjust default to True\n",
            "  stock_data = yf.download(ticker_symbol, start=start_date, end=end_date, progress=False)\n",
            "ERROR:yfinance:\n",
            "1 Failed download:\n",
            "ERROR:yfinance:['BF.B']: YFPricesMissingError('possibly delisted; no price data found  (1d 2024-08-01 -> 2025-08-01)')\n",
            "/tmp/ipython-input-2137805434.py:22: FutureWarning: YF.download() has changed argument auto_adjust default to True\n",
            "  stock_data = yf.download(ticker_symbol, start=start_date, end=end_date, progress=False)\n"
          ]
        },
        {
          "output_type": "stream",
          "name": "stdout",
          "text": [
            "No data found for ticker 'BF.B'. It might be an invalid ticker or delisted.\n",
            "------------------------------\n",
            "Attempting to download data for CHRW from 2024-08-01 to 2025-08-01...\n",
            "Successfully downloaded data for CHRW.\n",
            "\n",
            "--- Last 5 Days of Data for CHRW ---\n",
            "Price            Close        High         Low        Open   Volume\n",
            "Ticker            CHRW        CHRW        CHRW        CHRW     CHRW\n",
            "Date                                                               \n",
            "2025-07-25  102.709999  103.779999  101.870003  103.720001  1416900\n",
            "2025-07-28  101.489998  102.760002  101.239998  102.230003  1066400\n",
            "2025-07-29   99.790001  100.809998   98.580002  100.739998  1540900\n",
            "2025-07-30   97.650002  100.160004   96.889999   99.889999  2255300\n",
            "2025-07-31  115.320000  116.160004  104.949997  110.470001  6470000\n",
            "Data successfully saved to 'CHRW_historical_data_2025-08-01.csv'\n",
            "------------------------------\n",
            "Attempting to download data for CDNS from 2024-08-01 to 2025-08-01...\n"
          ]
        },
        {
          "output_type": "stream",
          "name": "stderr",
          "text": [
            "/tmp/ipython-input-2137805434.py:22: FutureWarning: YF.download() has changed argument auto_adjust default to True\n",
            "  stock_data = yf.download(ticker_symbol, start=start_date, end=end_date, progress=False)\n"
          ]
        },
        {
          "output_type": "stream",
          "name": "stdout",
          "text": [
            "Successfully downloaded data for CDNS.\n",
            "\n",
            "--- Last 5 Days of Data for CDNS ---\n",
            "Price            Close        High         Low        Open   Volume\n",
            "Ticker            CDNS        CDNS        CDNS        CDNS     CDNS\n",
            "Date                                                               \n",
            "2025-07-25  332.190002  335.160004  324.500000  325.000000  2718300\n",
            "2025-07-28  333.760010  335.000000  328.459991  334.480011  2682400\n",
            "2025-07-29  366.260010  370.609985  353.000000  355.000000  4666700\n",
            "2025-07-30  371.029999  374.049988  363.750000  367.489990  3894000\n",
            "2025-07-31  364.570007  376.450012  363.470001  371.519989  3012000\n",
            "Data successfully saved to 'CDNS_historical_data_2025-08-01.csv'\n",
            "------------------------------\n",
            "Attempting to download data for CPB from 2024-08-01 to 2025-08-01...\n"
          ]
        },
        {
          "output_type": "stream",
          "name": "stderr",
          "text": [
            "/tmp/ipython-input-2137805434.py:22: FutureWarning: YF.download() has changed argument auto_adjust default to True\n",
            "  stock_data = yf.download(ticker_symbol, start=start_date, end=end_date, progress=False)\n"
          ]
        },
        {
          "output_type": "stream",
          "name": "stdout",
          "text": [
            "Successfully downloaded data for CPB.\n",
            "\n",
            "--- Last 5 Days of Data for CPB ---\n",
            "Price           Close       High        Low       Open    Volume\n",
            "Ticker            CPB        CPB        CPB        CPB       CPB\n",
            "Date                                                            \n",
            "2025-07-25  32.660000  32.799999  32.209999  32.750000   3777000\n",
            "2025-07-28  32.240002  32.520000  31.940001  32.470001   4518400\n",
            "2025-07-29  32.849998  33.049999  32.220001  32.220001   4805300\n",
            "2025-07-30  32.090000  33.169998  31.799999  32.900002   7179400\n",
            "2025-07-31  31.920000  32.299999  31.510000  31.700001  10247500\n",
            "Data successfully saved to 'CPB_historical_data_2025-08-01.csv'\n",
            "------------------------------\n",
            "Attempting to download data for COF from 2024-08-01 to 2025-08-01...\n"
          ]
        },
        {
          "output_type": "stream",
          "name": "stderr",
          "text": [
            "/tmp/ipython-input-2137805434.py:22: FutureWarning: YF.download() has changed argument auto_adjust default to True\n",
            "  stock_data = yf.download(ticker_symbol, start=start_date, end=end_date, progress=False)\n"
          ]
        },
        {
          "output_type": "stream",
          "name": "stdout",
          "text": [
            "Successfully downloaded data for COF.\n",
            "\n",
            "--- Last 5 Days of Data for COF ---\n",
            "Price            Close        High         Low        Open   Volume\n",
            "Ticker             COF         COF         COF         COF      COF\n",
            "Date                                                               \n",
            "2025-07-25  212.850006  214.199997  208.809998  211.500000  4726800\n",
            "2025-07-28  214.179993  216.089996  212.250000  213.050003  6192000\n",
            "2025-07-29  213.820007  216.410004  212.750000  215.000000  3435900\n",
            "2025-07-30  215.229996  216.880005  213.320007  213.910004  3471400\n",
            "2025-07-31  215.000000  216.289993  213.380005  214.330002  4298900\n",
            "Data successfully saved to 'COF_historical_data_2025-08-01.csv'\n",
            "------------------------------\n",
            "Attempting to download data for CAH from 2024-08-01 to 2025-08-01...\n"
          ]
        },
        {
          "output_type": "stream",
          "name": "stderr",
          "text": [
            "/tmp/ipython-input-2137805434.py:22: FutureWarning: YF.download() has changed argument auto_adjust default to True\n",
            "  stock_data = yf.download(ticker_symbol, start=start_date, end=end_date, progress=False)\n"
          ]
        },
        {
          "output_type": "stream",
          "name": "stdout",
          "text": [
            "Successfully downloaded data for CAH.\n",
            "\n",
            "--- Last 5 Days of Data for CAH ---\n",
            "Price            Close        High         Low        Open   Volume\n",
            "Ticker             CAH         CAH         CAH         CAH      CAH\n",
            "Date                                                               \n",
            "2025-07-25  157.139999  159.250000  157.039993  158.289993  1213900\n",
            "2025-07-28  156.330002  157.110001  155.100006  157.110001  1832500\n",
            "2025-07-29  157.389999  158.240005  156.389999  157.029999  1199400\n",
            "2025-07-30  157.899994  158.029999  155.750000  156.350006  1284500\n",
            "2025-07-31  155.220001  158.729996  152.589996  157.550003  3114100\n",
            "Data successfully saved to 'CAH_historical_data_2025-08-01.csv'\n",
            "------------------------------\n",
            "Attempting to download data for KMX from 2024-08-01 to 2025-08-01...\n"
          ]
        },
        {
          "output_type": "stream",
          "name": "stderr",
          "text": [
            "/tmp/ipython-input-2137805434.py:22: FutureWarning: YF.download() has changed argument auto_adjust default to True\n",
            "  stock_data = yf.download(ticker_symbol, start=start_date, end=end_date, progress=False)\n"
          ]
        },
        {
          "output_type": "stream",
          "name": "stdout",
          "text": [
            "Successfully downloaded data for KMX.\n",
            "\n",
            "--- Last 5 Days of Data for KMX ---\n",
            "Price           Close       High        Low       Open   Volume\n",
            "Ticker            KMX        KMX        KMX        KMX      KMX\n",
            "Date                                                           \n",
            "2025-07-25  60.720001  60.869999  59.959999  60.650002  2199100\n",
            "2025-07-28  60.259998  61.389999  60.080002  60.880001  2104700\n",
            "2025-07-29  59.070000  60.299999  58.919998  60.209999  2802100\n",
            "2025-07-30  58.000000  59.360001  57.540001  59.259998  3404200\n",
            "2025-07-31  56.610001  58.330002  56.410000  57.680000  4338600\n",
            "Data successfully saved to 'KMX_historical_data_2025-08-01.csv'\n",
            "------------------------------\n",
            "Attempting to download data for CCL from 2024-08-01 to 2025-08-01...\n"
          ]
        },
        {
          "output_type": "stream",
          "name": "stderr",
          "text": [
            "/tmp/ipython-input-2137805434.py:22: FutureWarning: YF.download() has changed argument auto_adjust default to True\n",
            "  stock_data = yf.download(ticker_symbol, start=start_date, end=end_date, progress=False)\n"
          ]
        },
        {
          "output_type": "stream",
          "name": "stdout",
          "text": [
            "Successfully downloaded data for CCL.\n",
            "\n",
            "--- Last 5 Days of Data for CCL ---\n",
            "Price           Close       High        Low       Open    Volume\n",
            "Ticker            CCL        CCL        CCL        CCL       CCL\n",
            "Date                                                            \n",
            "2025-07-25  29.750000  29.959999  29.379999  29.900000  13068100\n",
            "2025-07-28  29.730000  29.879999  29.480000  29.830000  15433000\n",
            "2025-07-29  29.700001  29.889999  29.000000  29.520000  22569600\n",
            "2025-07-30  30.139999  30.430000  29.670000  29.940001  25730700\n",
            "2025-07-31  29.770000  30.920000  29.709999  30.639999  23113700\n",
            "Data successfully saved to 'CCL_historical_data_2025-08-01.csv'\n",
            "------------------------------\n",
            "Attempting to download data for CARR from 2024-08-01 to 2025-08-01...\n"
          ]
        },
        {
          "output_type": "stream",
          "name": "stderr",
          "text": [
            "/tmp/ipython-input-2137805434.py:22: FutureWarning: YF.download() has changed argument auto_adjust default to True\n",
            "  stock_data = yf.download(ticker_symbol, start=start_date, end=end_date, progress=False)\n"
          ]
        },
        {
          "output_type": "stream",
          "name": "stdout",
          "text": [
            "Successfully downloaded data for CARR.\n",
            "\n",
            "--- Last 5 Days of Data for CARR ---\n",
            "Price           Close       High        Low       Open    Volume\n",
            "Ticker           CARR       CARR       CARR       CARR      CARR\n",
            "Date                                                            \n",
            "2025-07-25  80.730003  80.809998  79.510002  79.790001   3401200\n",
            "2025-07-28  80.180000  81.089996  80.019997  80.919998   7126100\n",
            "2025-07-29  71.669998  74.739998  70.989998  73.879997  13098800\n",
            "2025-07-30  68.199997  71.459999  67.739998  71.449997  10081700\n",
            "2025-07-31  68.620003  69.610001  68.000000  68.000000   7641100\n",
            "Data successfully saved to 'CARR_historical_data_2025-08-01.csv'\n",
            "------------------------------\n",
            "Attempting to download data for CTLT from 2024-08-01 to 2025-08-01...\n"
          ]
        },
        {
          "output_type": "stream",
          "name": "stderr",
          "text": [
            "/tmp/ipython-input-2137805434.py:22: FutureWarning: YF.download() has changed argument auto_adjust default to True\n",
            "  stock_data = yf.download(ticker_symbol, start=start_date, end=end_date, progress=False)\n",
            "ERROR:yfinance:\n",
            "1 Failed download:\n",
            "ERROR:yfinance:['CTLT']: YFTzMissingError('possibly delisted; no timezone found')\n"
          ]
        },
        {
          "output_type": "stream",
          "name": "stdout",
          "text": [
            "No data found for ticker 'CTLT'. It might be an invalid ticker or delisted.\n",
            "------------------------------\n",
            "Attempting to download data for CBOE from 2024-08-01 to 2025-08-01...\n"
          ]
        },
        {
          "output_type": "stream",
          "name": "stderr",
          "text": [
            "/tmp/ipython-input-2137805434.py:22: FutureWarning: YF.download() has changed argument auto_adjust default to True\n",
            "  stock_data = yf.download(ticker_symbol, start=start_date, end=end_date, progress=False)\n"
          ]
        },
        {
          "output_type": "stream",
          "name": "stdout",
          "text": [
            "Successfully downloaded data for CBOE.\n",
            "\n",
            "--- Last 5 Days of Data for CBOE ---\n",
            "Price            Close        High         Low        Open   Volume\n",
            "Ticker            CBOE        CBOE        CBOE        CBOE     CBOE\n",
            "Date                                                               \n",
            "2025-07-25  246.509995  248.789993  245.750000  246.779999   782100\n",
            "2025-07-28  241.539993  247.729996  240.850006  247.729996   928000\n",
            "2025-07-29  239.759995  243.990005  238.000000  241.050003  2201800\n",
            "2025-07-30  241.679993  243.039993  238.199997  239.779999  1064000\n",
            "2025-07-31  241.039993  242.679993  240.529999  241.619995   938000\n",
            "Data successfully saved to 'CBOE_historical_data_2025-08-01.csv'\n",
            "------------------------------\n",
            "Attempting to download data for CBRE from 2024-08-01 to 2025-08-01...\n"
          ]
        },
        {
          "output_type": "stream",
          "name": "stderr",
          "text": [
            "/tmp/ipython-input-2137805434.py:22: FutureWarning: YF.download() has changed argument auto_adjust default to True\n",
            "  stock_data = yf.download(ticker_symbol, start=start_date, end=end_date, progress=False)\n"
          ]
        },
        {
          "output_type": "stream",
          "name": "stdout",
          "text": [
            "Successfully downloaded data for CBRE.\n",
            "\n",
            "--- Last 5 Days of Data for CBRE ---\n",
            "Price            Close        High         Low        Open   Volume\n",
            "Ticker            CBRE        CBRE        CBRE        CBRE     CBRE\n",
            "Date                                                               \n",
            "2025-07-25  147.570007  147.979996  143.910004  145.399994  1202300\n",
            "2025-07-28  146.559998  148.500000  146.360001  147.190002  2046700\n",
            "2025-07-29  158.050003  161.029999  152.729996  152.729996  4878900\n",
            "2025-07-30  157.369995  159.789993  156.149994  157.619995  3282500\n",
            "2025-07-31  155.740005  157.770004  155.399994  156.830002  1854300\n",
            "Data successfully saved to 'CBRE_historical_data_2025-08-01.csv'\n",
            "------------------------------\n",
            "Attempting to download data for CDW from 2024-08-01 to 2025-08-01...\n"
          ]
        },
        {
          "output_type": "stream",
          "name": "stderr",
          "text": [
            "/tmp/ipython-input-2137805434.py:22: FutureWarning: YF.download() has changed argument auto_adjust default to True\n",
            "  stock_data = yf.download(ticker_symbol, start=start_date, end=end_date, progress=False)\n"
          ]
        },
        {
          "output_type": "stream",
          "name": "stdout",
          "text": [
            "Successfully downloaded data for CDW.\n",
            "\n",
            "--- Last 5 Days of Data for CDW ---\n",
            "Price            Close        High         Low        Open   Volume\n",
            "Ticker             CDW         CDW         CDW         CDW      CDW\n",
            "Date                                                               \n",
            "2025-07-25  181.139999  182.279999  180.139999  181.679993   631800\n",
            "2025-07-28  181.779999  182.929993  181.559998  181.729996   545600\n",
            "2025-07-29  182.179993  183.660004  181.039993  182.830002   641800\n",
            "2025-07-30  179.940002  182.740005  178.729996  182.740005   854800\n",
            "2025-07-31  174.380005  179.270004  173.850006  178.479996  1408100\n",
            "Data successfully saved to 'CDW_historical_data_2025-08-01.csv'\n",
            "------------------------------\n",
            "Attempting to download data for CE from 2024-08-01 to 2025-08-01...\n"
          ]
        },
        {
          "output_type": "stream",
          "name": "stderr",
          "text": [
            "/tmp/ipython-input-2137805434.py:22: FutureWarning: YF.download() has changed argument auto_adjust default to True\n",
            "  stock_data = yf.download(ticker_symbol, start=start_date, end=end_date, progress=False)\n"
          ]
        },
        {
          "output_type": "stream",
          "name": "stdout",
          "text": [
            "Successfully downloaded data for CE.\n",
            "\n",
            "--- Last 5 Days of Data for CE ---\n",
            "Price           Close       High        Low       Open   Volume\n",
            "Ticker             CE         CE         CE         CE       CE\n",
            "Date                                                           \n",
            "2025-07-25  58.669594  58.939454  56.830547  57.590151  1419300\n",
            "2025-07-28  57.880001  58.649603  57.370267  58.459702  1202300\n",
            "2025-07-29  56.970001  58.330002  56.730000  58.080002  2507500\n",
            "2025-07-30  54.139999  56.990002  53.599998  56.759998  1642900\n",
            "2025-07-31  52.230000  54.000000  51.980000  53.290001  2516000\n",
            "Data successfully saved to 'CE_historical_data_2025-08-01.csv'\n",
            "------------------------------\n",
            "Attempting to download data for CNC from 2024-08-01 to 2025-08-01...\n"
          ]
        },
        {
          "output_type": "stream",
          "name": "stderr",
          "text": [
            "/tmp/ipython-input-2137805434.py:22: FutureWarning: YF.download() has changed argument auto_adjust default to True\n",
            "  stock_data = yf.download(ticker_symbol, start=start_date, end=end_date, progress=False)\n"
          ]
        },
        {
          "output_type": "stream",
          "name": "stdout",
          "text": [
            "Successfully downloaded data for CNC.\n",
            "\n",
            "--- Last 5 Days of Data for CNC ---\n",
            "Price           Close       High        Low       Open    Volume\n",
            "Ticker            CNC        CNC        CNC        CNC       CNC\n",
            "Date                                                            \n",
            "2025-07-25  28.389999  28.780001  26.250000  27.129999  63491700\n",
            "2025-07-28  26.860001  28.370001  26.820000  28.160000  21489300\n",
            "2025-07-29  25.530001  26.469999  25.500000  26.320000  22735500\n",
            "2025-07-30  25.790001  26.340000  25.600000  25.900000  19585900\n",
            "2025-07-31  26.070000  26.879999  25.110001  25.500000  23589500\n",
            "Data successfully saved to 'CNC_historical_data_2025-08-01.csv'\n",
            "------------------------------\n",
            "Attempting to download data for CNP from 2024-08-01 to 2025-08-01...\n"
          ]
        },
        {
          "output_type": "stream",
          "name": "stderr",
          "text": [
            "/tmp/ipython-input-2137805434.py:22: FutureWarning: YF.download() has changed argument auto_adjust default to True\n",
            "  stock_data = yf.download(ticker_symbol, start=start_date, end=end_date, progress=False)\n",
            "/tmp/ipython-input-2137805434.py:22: FutureWarning: YF.download() has changed argument auto_adjust default to True\n",
            "  stock_data = yf.download(ticker_symbol, start=start_date, end=end_date, progress=False)\n",
            "ERROR:yfinance:\n",
            "1 Failed download:\n",
            "ERROR:yfinance:['CDAY']: YFTzMissingError('possibly delisted; no timezone found')\n"
          ]
        },
        {
          "output_type": "stream",
          "name": "stdout",
          "text": [
            "Successfully downloaded data for CNP.\n",
            "\n",
            "--- Last 5 Days of Data for CNP ---\n",
            "Price           Close       High        Low       Open    Volume\n",
            "Ticker            CNP        CNP        CNP        CNP       CNP\n",
            "Date                                                            \n",
            "2025-07-25  38.360001  38.439999  37.720001  38.000000   5429000\n",
            "2025-07-28  37.299999  38.110001  37.220001  37.750000  11515100\n",
            "2025-07-29  38.290001  38.310001  37.220001  37.299999  12152600\n",
            "2025-07-30  38.459999  38.759998  38.250000  38.290001   6635500\n",
            "2025-07-31  38.820000  38.980000  38.150002  38.259998   5662200\n",
            "Data successfully saved to 'CNP_historical_data_2025-08-01.csv'\n",
            "------------------------------\n",
            "Attempting to download data for CDAY from 2024-08-01 to 2025-08-01...\n"
          ]
        },
        {
          "output_type": "stream",
          "name": "stderr",
          "text": [
            "/tmp/ipython-input-2137805434.py:22: FutureWarning: YF.download() has changed argument auto_adjust default to True\n",
            "  stock_data = yf.download(ticker_symbol, start=start_date, end=end_date, progress=False)\n"
          ]
        },
        {
          "output_type": "stream",
          "name": "stdout",
          "text": [
            "No data found for ticker 'CDAY'. It might be an invalid ticker or delisted.\n",
            "------------------------------\n",
            "Attempting to download data for CF from 2024-08-01 to 2025-08-01...\n",
            "Successfully downloaded data for CF.\n",
            "\n",
            "--- Last 5 Days of Data for CF ---\n",
            "Price           Close       High        Low       Open   Volume\n",
            "Ticker             CF         CF         CF         CF       CF\n",
            "Date                                                           \n",
            "2025-07-25  93.300003  93.650002  92.639999  93.400002  1550100\n",
            "2025-07-28  92.529999  93.790001  91.809998  93.790001  1206600\n",
            "2025-07-29  94.910004  95.059998  92.739998  93.620003  2088800\n",
            "2025-07-30  92.639999  94.370003  92.000000  93.760002  2027500\n",
            "2025-07-31  92.830002  92.949997  91.610001  91.730003  2024200\n",
            "Data successfully saved to 'CF_historical_data_2025-08-01.csv'\n",
            "------------------------------\n",
            "Attempting to download data for SCHW from 2024-08-01 to 2025-08-01...\n"
          ]
        },
        {
          "output_type": "stream",
          "name": "stderr",
          "text": [
            "/tmp/ipython-input-2137805434.py:22: FutureWarning: YF.download() has changed argument auto_adjust default to True\n",
            "  stock_data = yf.download(ticker_symbol, start=start_date, end=end_date, progress=False)\n"
          ]
        },
        {
          "output_type": "stream",
          "name": "stdout",
          "text": [
            "Successfully downloaded data for SCHW.\n",
            "\n",
            "--- Last 5 Days of Data for SCHW ---\n",
            "Price           Close       High        Low       Open   Volume\n",
            "Ticker           SCHW       SCHW       SCHW       SCHW     SCHW\n",
            "Date                                                           \n",
            "2025-07-25  97.059998  98.279999  96.650002  97.480003  9105900\n",
            "2025-07-28  97.910004  98.080002  96.900002  97.089996  7197600\n",
            "2025-07-29  97.910004  99.589996  97.720001  99.000000  9532000\n",
            "2025-07-30  98.570000  98.879997  97.599998  98.000000  5962800\n",
            "2025-07-31  97.730003  98.750000  97.550003  98.000000  7163900\n",
            "Data successfully saved to 'SCHW_historical_data_2025-08-01.csv'\n",
            "------------------------------\n",
            "Attempting to download data for CHTR from 2024-08-01 to 2025-08-01...\n",
            "Successfully downloaded data for CHTR.\n",
            "\n",
            "--- Last 5 Days of Data for CHTR ---\n",
            "Price            Close        High         Low        Open   Volume\n",
            "Ticker            CHTR        CHTR        CHTR        CHTR     CHTR\n",
            "Date                                                               \n",
            "2025-07-25  309.750000  335.519989  307.339996  329.000000  9638100\n",
            "2025-07-28  298.269989  309.399994  296.369995  309.010010  4020600\n",
            "2025-07-29  280.679993  298.209991  280.109985  297.369995  4374500\n",
            "2025-07-30  279.890015  285.959991  274.000000  280.450012  3908200\n",
            "2025-07-31  269.359985  283.480011  268.579987  278.559998  3532000\n",
            "Data successfully saved to 'CHTR_historical_data_2025-08-01.csv'\n",
            "------------------------------\n",
            "Attempting to download data for CMG from 2024-08-01 to 2025-08-01...\n"
          ]
        },
        {
          "output_type": "stream",
          "name": "stderr",
          "text": [
            "/tmp/ipython-input-2137805434.py:22: FutureWarning: YF.download() has changed argument auto_adjust default to True\n",
            "  stock_data = yf.download(ticker_symbol, start=start_date, end=end_date, progress=False)\n",
            "/tmp/ipython-input-2137805434.py:22: FutureWarning: YF.download() has changed argument auto_adjust default to True\n",
            "  stock_data = yf.download(ticker_symbol, start=start_date, end=end_date, progress=False)\n"
          ]
        },
        {
          "output_type": "stream",
          "name": "stdout",
          "text": [
            "Successfully downloaded data for CMG.\n",
            "\n",
            "--- Last 5 Days of Data for CMG ---\n",
            "Price           Close       High        Low       Open    Volume\n",
            "Ticker            CMG        CMG        CMG        CMG       CMG\n",
            "Date                                                            \n",
            "2025-07-25  46.759998  47.180000  45.759998  45.900002  33814900\n",
            "2025-07-28  44.860001  46.610001  44.860001  46.560001  32072000\n",
            "2025-07-29  44.380001  44.830002  44.119999  44.720001  28369100\n",
            "2025-07-30  43.759998  44.540001  43.630001  44.430000  28442200\n",
            "2025-07-31  42.880001  43.910000  42.830002  43.509998  26192200\n",
            "Data successfully saved to 'CMG_historical_data_2025-08-01.csv'\n",
            "------------------------------\n",
            "Attempting to download data for CB from 2024-08-01 to 2025-08-01...\n"
          ]
        },
        {
          "output_type": "stream",
          "name": "stderr",
          "text": [
            "/tmp/ipython-input-2137805434.py:22: FutureWarning: YF.download() has changed argument auto_adjust default to True\n",
            "  stock_data = yf.download(ticker_symbol, start=start_date, end=end_date, progress=False)\n"
          ]
        },
        {
          "output_type": "stream",
          "name": "stdout",
          "text": [
            "Successfully downloaded data for CB.\n",
            "\n",
            "--- Last 5 Days of Data for CB ---\n",
            "Price            Close        High         Low        Open   Volume\n",
            "Ticker              CB          CB          CB          CB       CB\n",
            "Date                                                               \n",
            "2025-07-25  269.149994  272.559998  269.089996  270.579987  2979100\n",
            "2025-07-28  265.989990  269.500000  264.529999  268.769989  2541500\n",
            "2025-07-29  268.549988  269.250000  266.559998  268.059998  2442000\n",
            "2025-07-30  266.510010  269.820007  265.079987  268.880005  1948100\n",
            "2025-07-31  266.040009  269.149994  265.589996  266.190002  2962000\n",
            "Data successfully saved to 'CB_historical_data_2025-08-01.csv'\n",
            "------------------------------\n",
            "Attempting to download data for CI from 2024-08-01 to 2025-08-01...\n"
          ]
        },
        {
          "output_type": "stream",
          "name": "stderr",
          "text": [
            "/tmp/ipython-input-2137805434.py:22: FutureWarning: YF.download() has changed argument auto_adjust default to True\n",
            "  stock_data = yf.download(ticker_symbol, start=start_date, end=end_date, progress=False)\n"
          ]
        },
        {
          "output_type": "stream",
          "name": "stdout",
          "text": [
            "Successfully downloaded data for CI.\n",
            "\n",
            "--- Last 5 Days of Data for CI ---\n",
            "Price            Close        High         Low        Open   Volume\n",
            "Ticker              CI          CI          CI          CI       CI\n",
            "Date                                                               \n",
            "2025-07-25  296.369995  298.850006  294.000000  294.670013  1325700\n",
            "2025-07-28  292.390015  296.019989  290.920013  294.690002  1193600\n",
            "2025-07-29  292.170013  297.399994  285.809998  290.190002  1808300\n",
            "2025-07-30  297.859985  298.709991  287.459991  289.809998  2649700\n",
            "2025-07-31  267.380005  297.500000  264.220001  293.190002  5451000\n",
            "Data successfully saved to 'CI_historical_data_2025-08-01.csv'\n",
            "------------------------------\n",
            "Attempting to download data for CINF from 2024-08-01 to 2025-08-01...\n"
          ]
        },
        {
          "output_type": "stream",
          "name": "stderr",
          "text": [
            "/tmp/ipython-input-2137805434.py:22: FutureWarning: YF.download() has changed argument auto_adjust default to True\n",
            "  stock_data = yf.download(ticker_symbol, start=start_date, end=end_date, progress=False)\n"
          ]
        },
        {
          "output_type": "stream",
          "name": "stdout",
          "text": [
            "Successfully downloaded data for CINF.\n",
            "\n",
            "--- Last 5 Days of Data for CINF ---\n",
            "Price            Close        High         Low        Open   Volume\n",
            "Ticker            CINF        CINF        CINF        CINF     CINF\n",
            "Date                                                               \n",
            "2025-07-25  149.399994  150.250000  147.529999  148.320007   419300\n",
            "2025-07-28  147.100006  149.529999  147.070007  149.059998   828700\n",
            "2025-07-29  152.419998  157.509995  151.110001  154.470001  1149600\n",
            "2025-07-30  149.509995  153.330002  148.940002  153.259995   885000\n",
            "2025-07-31  147.509995  150.679993  146.970001  149.000000   869900\n",
            "Data successfully saved to 'CINF_historical_data_2025-08-01.csv'\n",
            "------------------------------\n",
            "Attempting to download data for CTAS from 2024-08-01 to 2025-08-01...\n"
          ]
        },
        {
          "output_type": "stream",
          "name": "stderr",
          "text": [
            "/tmp/ipython-input-2137805434.py:22: FutureWarning: YF.download() has changed argument auto_adjust default to True\n",
            "  stock_data = yf.download(ticker_symbol, start=start_date, end=end_date, progress=False)\n"
          ]
        },
        {
          "output_type": "stream",
          "name": "stdout",
          "text": [
            "Successfully downloaded data for CTAS.\n",
            "\n",
            "--- Last 5 Days of Data for CTAS ---\n",
            "Price            Close        High         Low        Open   Volume\n",
            "Ticker            CTAS        CTAS        CTAS        CTAS     CTAS\n",
            "Date                                                               \n",
            "2025-07-25  223.559998  224.429993  222.250000  222.820007  1074700\n",
            "2025-07-28  220.380005  222.460007  220.089996  222.130005   984500\n",
            "2025-07-29  222.679993  223.100006  220.110001  221.559998  1101300\n",
            "2025-07-30  223.130005  224.339996  221.669998  222.869995  1539800\n",
            "2025-07-31  222.550003  225.869995  221.460007  223.399994  1456400\n",
            "Data successfully saved to 'CTAS_historical_data_2025-08-01.csv'\n",
            "------------------------------\n",
            "Attempting to download data for C from 2024-08-01 to 2025-08-01...\n"
          ]
        },
        {
          "output_type": "stream",
          "name": "stderr",
          "text": [
            "/tmp/ipython-input-2137805434.py:22: FutureWarning: YF.download() has changed argument auto_adjust default to True\n",
            "  stock_data = yf.download(ticker_symbol, start=start_date, end=end_date, progress=False)\n"
          ]
        },
        {
          "output_type": "stream",
          "name": "stdout",
          "text": [
            "Successfully downloaded data for C.\n",
            "\n",
            "--- Last 5 Days of Data for C ---\n",
            "Price           Close       High        Low       Open    Volume\n",
            "Ticker              C          C          C          C         C\n",
            "Date                                                            \n",
            "2025-07-25  96.070000  96.190002  94.430000  95.389999  13543400\n",
            "2025-07-28  95.550003  96.199997  95.070000  96.070000  19370700\n",
            "2025-07-29  94.480003  96.110001  94.360001  96.000000  13169900\n",
            "2025-07-30  95.809998  95.989998  94.580002  94.900002  13998000\n",
            "2025-07-31  93.699997  96.150002  93.550003  95.470001  14635100\n",
            "Data successfully saved to 'C_historical_data_2025-08-01.csv'\n",
            "------------------------------\n",
            "Attempting to download data for CFG from 2024-08-01 to 2025-08-01...\n"
          ]
        },
        {
          "output_type": "stream",
          "name": "stderr",
          "text": [
            "/tmp/ipython-input-2137805434.py:22: FutureWarning: YF.download() has changed argument auto_adjust default to True\n",
            "  stock_data = yf.download(ticker_symbol, start=start_date, end=end_date, progress=False)\n"
          ]
        },
        {
          "output_type": "stream",
          "name": "stdout",
          "text": [
            "Successfully downloaded data for CFG.\n",
            "\n",
            "--- Last 5 Days of Data for CFG ---\n",
            "Price           Close       High        Low       Open   Volume\n",
            "Ticker            CFG        CFG        CFG        CFG      CFG\n",
            "Date                                                           \n",
            "2025-07-25  49.063103  49.102755  47.982505  48.914395  5220000\n",
            "2025-07-28  48.904484  49.172151  48.646724  49.023448  3068400\n",
            "2025-07-29  48.666550  49.320856  48.473232  49.310944  2812300\n",
            "2025-07-30  48.270000  49.023447  47.863537  48.765687  3461900\n",
            "2025-07-31  47.720001  48.310001  47.630001  48.000000  4652700\n",
            "Data successfully saved to 'CFG_historical_data_2025-08-01.csv'\n",
            "------------------------------\n",
            "Attempting to download data for CLX from 2024-08-01 to 2025-08-01...\n"
          ]
        },
        {
          "output_type": "stream",
          "name": "stderr",
          "text": [
            "/tmp/ipython-input-2137805434.py:22: FutureWarning: YF.download() has changed argument auto_adjust default to True\n",
            "  stock_data = yf.download(ticker_symbol, start=start_date, end=end_date, progress=False)\n"
          ]
        },
        {
          "output_type": "stream",
          "name": "stdout",
          "text": [
            "Successfully downloaded data for CLX.\n",
            "\n",
            "--- Last 5 Days of Data for CLX ---\n",
            "Price            Close        High         Low        Open   Volume\n",
            "Ticker             CLX         CLX         CLX         CLX      CLX\n",
            "Date                                                               \n",
            "2025-07-25  130.809998  131.860001  130.139999  131.449997  1287000\n",
            "2025-07-28  127.239998  130.410004  127.239998  130.410004  1718400\n",
            "2025-07-29  127.040001  128.050003  126.019997  127.160004  1746800\n",
            "2025-07-30  126.180000  127.800003  125.720001  127.389999  1869800\n",
            "2025-07-31  125.559998  126.760002  124.870003  126.480003  4107900\n",
            "Data successfully saved to 'CLX_historical_data_2025-08-01.csv'\n",
            "------------------------------\n",
            "Attempting to download data for CME from 2024-08-01 to 2025-08-01...\n"
          ]
        },
        {
          "output_type": "stream",
          "name": "stderr",
          "text": [
            "/tmp/ipython-input-2137805434.py:22: FutureWarning: YF.download() has changed argument auto_adjust default to True\n",
            "  stock_data = yf.download(ticker_symbol, start=start_date, end=end_date, progress=False)\n"
          ]
        },
        {
          "output_type": "stream",
          "name": "stdout",
          "text": [
            "Successfully downloaded data for CME.\n",
            "\n",
            "--- Last 5 Days of Data for CME ---\n",
            "Price            Close        High         Low        Open   Volume\n",
            "Ticker             CME         CME         CME         CME      CME\n",
            "Date                                                               \n",
            "2025-07-25  279.549988  281.799988  277.029999  277.910004  1834700\n",
            "2025-07-28  274.119995  279.679993  273.859985  278.700012  2233400\n",
            "2025-07-29  274.600006  278.149994  274.019989  274.640015  2147200\n",
            "2025-07-30  277.739990  278.299988  273.570007  274.820007  1410900\n",
            "2025-07-31  278.279999  280.850006  276.070007  276.970001  1961500\n",
            "Data successfully saved to 'CME_historical_data_2025-08-01.csv'\n",
            "------------------------------\n",
            "Attempting to download data for CMS from 2024-08-01 to 2025-08-01...\n"
          ]
        },
        {
          "output_type": "stream",
          "name": "stderr",
          "text": [
            "/tmp/ipython-input-2137805434.py:22: FutureWarning: YF.download() has changed argument auto_adjust default to True\n",
            "  stock_data = yf.download(ticker_symbol, start=start_date, end=end_date, progress=False)\n"
          ]
        },
        {
          "output_type": "stream",
          "name": "stdout",
          "text": [
            "Successfully downloaded data for CMS.\n",
            "\n",
            "--- Last 5 Days of Data for CMS ---\n",
            "Price           Close       High        Low       Open   Volume\n",
            "Ticker            CMS        CMS        CMS        CMS      CMS\n",
            "Date                                                           \n",
            "2025-07-25  72.779999  73.269997  72.120003  72.830002  2035900\n",
            "2025-07-28  71.339996  72.570000  71.330002  72.489998  1944100\n",
            "2025-07-29  72.269997  72.360001  71.160004  71.510002  2165600\n",
            "2025-07-30  72.169998  72.910004  71.940002  72.360001  2505800\n",
            "2025-07-31  73.800003  73.849998  72.150002  72.150002  3890000\n",
            "Data successfully saved to 'CMS_historical_data_2025-08-01.csv'\n",
            "------------------------------\n",
            "Attempting to download data for CTSH from 2024-08-01 to 2025-08-01...\n",
            "Successfully downloaded data for CTSH.\n",
            "\n",
            "--- Last 5 Days of Data for CTSH ---\n",
            "Price           Close       High        Low       Open    Volume\n",
            "Ticker           CTSH       CTSH       CTSH       CTSH      CTSH\n",
            "Date                                                            \n",
            "2025-07-25  76.669998  76.919998  76.059998  76.919998   2550000\n",
            "2025-07-28  75.419998  76.800003  75.269997  76.669998   3184300\n",
            "2025-07-29  74.910004  75.970001  74.839996  75.790001   5895800\n",
            "2025-07-30  73.529999  75.739998  73.110001  75.000000   5283500\n",
            "2025-07-31  71.760002  75.000000  71.489998  73.360001  10133400\n",
            "Data successfully saved to 'CTSH_historical_data_2025-08-01.csv'\n",
            "------------------------------\n",
            "Attempting to download data for CL from 2024-08-01 to 2025-08-01...\n"
          ]
        },
        {
          "output_type": "stream",
          "name": "stderr",
          "text": [
            "/tmp/ipython-input-2137805434.py:22: FutureWarning: YF.download() has changed argument auto_adjust default to True\n",
            "  stock_data = yf.download(ticker_symbol, start=start_date, end=end_date, progress=False)\n",
            "/tmp/ipython-input-2137805434.py:22: FutureWarning: YF.download() has changed argument auto_adjust default to True\n",
            "  stock_data = yf.download(ticker_symbol, start=start_date, end=end_date, progress=False)\n"
          ]
        },
        {
          "output_type": "stream",
          "name": "stdout",
          "text": [
            "Successfully downloaded data for CL.\n",
            "\n",
            "--- Last 5 Days of Data for CL ---\n",
            "Price           Close       High        Low       Open   Volume\n",
            "Ticker             CL         CL         CL         CL       CL\n",
            "Date                                                           \n",
            "2025-07-25  87.930000  88.809998  87.489998  88.389999  3186100\n",
            "2025-07-28  86.470001  87.879997  86.370003  87.800003  4823700\n",
            "2025-07-29  86.860001  88.019997  86.459999  86.879997  4382400\n",
            "2025-07-30  85.800003  87.449997  85.570000  87.080002  4638800\n",
            "2025-07-31  83.849998  85.650002  83.529999  85.529999  9558100\n",
            "Data successfully saved to 'CL_historical_data_2025-08-01.csv'\n",
            "------------------------------\n",
            "Attempting to download data for CMCSA from 2024-08-01 to 2025-08-01...\n"
          ]
        },
        {
          "output_type": "stream",
          "name": "stderr",
          "text": [
            "/tmp/ipython-input-2137805434.py:22: FutureWarning: YF.download() has changed argument auto_adjust default to True\n",
            "  stock_data = yf.download(ticker_symbol, start=start_date, end=end_date, progress=False)\n"
          ]
        },
        {
          "output_type": "stream",
          "name": "stdout",
          "text": [
            "Successfully downloaded data for CMCSA.\n",
            "\n",
            "--- Last 5 Days of Data for CMCSA ---\n",
            "Price           Close       High        Low       Open    Volume\n",
            "Ticker          CMCSA      CMCSA      CMCSA      CMCSA     CMCSA\n",
            "Date                                                            \n",
            "2025-07-25  33.680000  34.439999  33.200001  34.139999  32924600\n",
            "2025-07-28  33.529999  33.750000  33.310001  33.669998  19631900\n",
            "2025-07-29  32.830002  33.650002  32.580002  33.560001  32911500\n",
            "2025-07-30  32.500000  33.139999  32.389999  32.830002  35644500\n",
            "2025-07-31  33.230000  34.099998  32.900002  33.990002  40573700\n",
            "Data successfully saved to 'CMCSA_historical_data_2025-08-01.csv'\n",
            "------------------------------\n",
            "Attempting to download data for CMA from 2024-08-01 to 2025-08-01...\n"
          ]
        },
        {
          "output_type": "stream",
          "name": "stderr",
          "text": [
            "/tmp/ipython-input-2137805434.py:22: FutureWarning: YF.download() has changed argument auto_adjust default to True\n",
            "  stock_data = yf.download(ticker_symbol, start=start_date, end=end_date, progress=False)\n"
          ]
        },
        {
          "output_type": "stream",
          "name": "stdout",
          "text": [
            "Successfully downloaded data for CMA.\n",
            "\n",
            "--- Last 5 Days of Data for CMA ---\n",
            "Price           Close       High        Low       Open   Volume\n",
            "Ticker            CMA        CMA        CMA        CMA      CMA\n",
            "Date                                                           \n",
            "2025-07-25  67.989998  68.150002  65.800003  67.169998  3551700\n",
            "2025-07-28  69.629997  69.910004  68.360001  68.400002  3987400\n",
            "2025-07-29  69.339996  70.150002  69.250000  69.629997  2647400\n",
            "2025-07-30  67.970001  69.809998  67.580002  69.410004  2573500\n",
            "2025-07-31  67.570000  68.800003  67.370003  67.779999  2767900\n",
            "Data successfully saved to 'CMA_historical_data_2025-08-01.csv'\n",
            "------------------------------\n",
            "Attempting to download data for CAG from 2024-08-01 to 2025-08-01...\n"
          ]
        },
        {
          "output_type": "stream",
          "name": "stderr",
          "text": [
            "/tmp/ipython-input-2137805434.py:22: FutureWarning: YF.download() has changed argument auto_adjust default to True\n",
            "  stock_data = yf.download(ticker_symbol, start=start_date, end=end_date, progress=False)\n"
          ]
        },
        {
          "output_type": "stream",
          "name": "stdout",
          "text": [
            "Successfully downloaded data for CAG.\n",
            "\n",
            "--- Last 5 Days of Data for CAG ---\n",
            "Price           Close       High        Low       Open    Volume\n",
            "Ticker            CAG        CAG        CAG        CAG       CAG\n",
            "Date                                                            \n",
            "2025-07-25  18.863070  18.971084  18.715779  18.941627   8409600\n",
            "2025-07-28  18.853252  19.079098  18.607767  18.725599  10824500\n",
            "2025-07-29  19.029999  19.069277  18.627403  18.823792  12525100\n",
            "2025-07-30  18.530001  19.100000  18.389999  19.030001  14814000\n",
            "2025-07-31  18.260000  18.580000  18.180000  18.360001  20194300\n",
            "Data successfully saved to 'CAG_historical_data_2025-08-01.csv'\n",
            "------------------------------\n",
            "Attempting to download data for COP from 2024-08-01 to 2025-08-01...\n"
          ]
        },
        {
          "output_type": "stream",
          "name": "stderr",
          "text": [
            "/tmp/ipython-input-2137805434.py:22: FutureWarning: YF.download() has changed argument auto_adjust default to True\n",
            "  stock_data = yf.download(ticker_symbol, start=start_date, end=end_date, progress=False)\n"
          ]
        },
        {
          "output_type": "stream",
          "name": "stdout",
          "text": [
            "Successfully downloaded data for COP.\n",
            "\n",
            "--- Last 5 Days of Data for COP ---\n",
            "Price           Close       High        Low       Open   Volume\n",
            "Ticker            COP        COP        COP        COP      COP\n",
            "Date                                                           \n",
            "2025-07-25  94.949997  96.010002  94.739998  95.699997  4501800\n",
            "2025-07-28  97.019997  97.320000  95.690002  95.690002  4632400\n",
            "2025-07-29  97.989998  98.070000  96.650002  97.309998  5157700\n",
            "2025-07-30  96.669998  97.449997  95.870003  97.389999  6607600\n",
            "2025-07-31  95.339996  96.949997  95.099998  95.260002  5648100\n",
            "Data successfully saved to 'COP_historical_data_2025-08-01.csv'\n",
            "------------------------------\n",
            "Attempting to download data for ED from 2024-08-01 to 2025-08-01...\n"
          ]
        },
        {
          "output_type": "stream",
          "name": "stderr",
          "text": [
            "/tmp/ipython-input-2137805434.py:22: FutureWarning: YF.download() has changed argument auto_adjust default to True\n",
            "  stock_data = yf.download(ticker_symbol, start=start_date, end=end_date, progress=False)\n"
          ]
        },
        {
          "output_type": "stream",
          "name": "stdout",
          "text": [
            "Successfully downloaded data for ED.\n",
            "\n",
            "--- Last 5 Days of Data for ED ---\n",
            "Price            Close        High         Low        Open   Volume\n",
            "Ticker              ED          ED          ED          ED       ED\n",
            "Date                                                               \n",
            "2025-07-25  102.260002  102.650002  101.489998  101.970001  1375700\n",
            "2025-07-28  100.980003  101.940002  100.470001  101.879997  1995200\n",
            "2025-07-29  102.239998  102.269997  100.800003  101.019997  1265000\n",
            "2025-07-30  102.589996  103.660004  101.760002  102.139999  1565100\n",
            "2025-07-31  103.500000  103.570000  101.459999  101.680000  3482700\n",
            "Data successfully saved to 'ED_historical_data_2025-08-01.csv'\n",
            "------------------------------\n",
            "Attempting to download data for STZ from 2024-08-01 to 2025-08-01...\n"
          ]
        },
        {
          "output_type": "stream",
          "name": "stderr",
          "text": [
            "/tmp/ipython-input-2137805434.py:22: FutureWarning: YF.download() has changed argument auto_adjust default to True\n",
            "  stock_data = yf.download(ticker_symbol, start=start_date, end=end_date, progress=False)\n"
          ]
        },
        {
          "output_type": "stream",
          "name": "stdout",
          "text": [
            "Successfully downloaded data for STZ.\n",
            "\n",
            "--- Last 5 Days of Data for STZ ---\n",
            "Price            Close        High         Low        Open   Volume\n",
            "Ticker             STZ         STZ         STZ         STZ      STZ\n",
            "Date                                                               \n",
            "2025-07-25  174.501801  174.979012  172.662526  174.660861  1014700\n",
            "2025-07-28  171.598740  174.293010  170.684063  173.239162  1315100\n",
            "2025-07-29  174.809998  174.929297  170.773552  171.280588  1496000\n",
            "2025-07-30  171.460007  176.330002  170.660004  174.500000  1400700\n",
            "2025-07-31  167.039993  171.770004  166.000000  168.740005  2239400\n",
            "Data successfully saved to 'STZ_historical_data_2025-08-01.csv'\n",
            "------------------------------\n",
            "Attempting to download data for COO from 2024-08-01 to 2025-08-01...\n"
          ]
        },
        {
          "output_type": "stream",
          "name": "stderr",
          "text": [
            "/tmp/ipython-input-2137805434.py:22: FutureWarning: YF.download() has changed argument auto_adjust default to True\n",
            "  stock_data = yf.download(ticker_symbol, start=start_date, end=end_date, progress=False)\n"
          ]
        },
        {
          "output_type": "stream",
          "name": "stdout",
          "text": [
            "Successfully downloaded data for COO.\n",
            "\n",
            "--- Last 5 Days of Data for COO ---\n",
            "Price           Close       High        Low       Open   Volume\n",
            "Ticker            COO        COO        COO        COO      COO\n",
            "Date                                                           \n",
            "2025-07-25  74.589996  74.730003  73.519997  74.040001  1284900\n",
            "2025-07-28  72.910004  74.379997  72.849998  74.349998  1019300\n",
            "2025-07-29  73.699997  73.720001  72.739998  73.029999  1080000\n",
            "2025-07-30  72.279999  73.849998  71.889999  73.750000  1421900\n",
            "2025-07-31  70.690002  72.000000  70.470001  71.410004  1494600\n",
            "Data successfully saved to 'COO_historical_data_2025-08-01.csv'\n",
            "------------------------------\n",
            "Attempting to download data for CPRT from 2024-08-01 to 2025-08-01...\n"
          ]
        },
        {
          "output_type": "stream",
          "name": "stderr",
          "text": [
            "/tmp/ipython-input-2137805434.py:22: FutureWarning: YF.download() has changed argument auto_adjust default to True\n",
            "  stock_data = yf.download(ticker_symbol, start=start_date, end=end_date, progress=False)\n"
          ]
        },
        {
          "output_type": "stream",
          "name": "stdout",
          "text": [
            "Successfully downloaded data for CPRT.\n",
            "\n",
            "--- Last 5 Days of Data for CPRT ---\n",
            "Price           Close       High        Low       Open   Volume\n",
            "Ticker           CPRT       CPRT       CPRT       CPRT     CPRT\n",
            "Date                                                           \n",
            "2025-07-25  46.689999  46.700001  46.220001  46.349998  4818800\n",
            "2025-07-28  46.080002  46.810001  46.020000  46.810001  4629300\n",
            "2025-07-29  46.450001  46.580002  46.099998  46.209999  4805500\n",
            "2025-07-30  46.279999  46.740002  46.110001  46.549999  6130100\n",
            "2025-07-31  45.330002  46.610001  45.220001  46.110001  6441100\n",
            "Data successfully saved to 'CPRT_historical_data_2025-08-01.csv'\n",
            "------------------------------\n",
            "Attempting to download data for GLW from 2024-08-01 to 2025-08-01...\n"
          ]
        },
        {
          "output_type": "stream",
          "name": "stderr",
          "text": [
            "/tmp/ipython-input-2137805434.py:22: FutureWarning: YF.download() has changed argument auto_adjust default to True\n",
            "  stock_data = yf.download(ticker_symbol, start=start_date, end=end_date, progress=False)\n"
          ]
        },
        {
          "output_type": "stream",
          "name": "stdout",
          "text": [
            "Successfully downloaded data for GLW.\n",
            "\n",
            "--- Last 5 Days of Data for GLW ---\n",
            "Price           Close       High        Low       Open    Volume\n",
            "Ticker            GLW        GLW        GLW        GLW       GLW\n",
            "Date                                                            \n",
            "2025-07-25  55.360001  56.000000  54.889999  56.000000   4718100\n",
            "2025-07-28  55.410000  55.570000  54.919998  55.549999   5979200\n",
            "2025-07-29  61.980000  62.980000  57.930000  58.869999  17713500\n",
            "2025-07-30  62.610001  63.200001  61.700001  61.799999   7928000\n",
            "2025-07-31  63.240002  63.910000  62.360001  63.080002   7354100\n",
            "Data successfully saved to 'GLW_historical_data_2025-08-01.csv'\n",
            "------------------------------\n",
            "Attempting to download data for CTVA from 2024-08-01 to 2025-08-01...\n"
          ]
        },
        {
          "output_type": "stream",
          "name": "stderr",
          "text": [
            "/tmp/ipython-input-2137805434.py:22: FutureWarning: YF.download() has changed argument auto_adjust default to True\n",
            "  stock_data = yf.download(ticker_symbol, start=start_date, end=end_date, progress=False)\n"
          ]
        },
        {
          "output_type": "stream",
          "name": "stdout",
          "text": [
            "Successfully downloaded data for CTVA.\n",
            "\n",
            "--- Last 5 Days of Data for CTVA ---\n",
            "Price           Close       High        Low       Open   Volume\n",
            "Ticker           CTVA       CTVA       CTVA       CTVA     CTVA\n",
            "Date                                                           \n",
            "2025-07-25  73.430000  73.500000  72.550003  72.839996  2668500\n",
            "2025-07-28  72.400002  73.230003  72.269997  73.230003  2317900\n",
            "2025-07-29  72.879997  73.080002  72.480003  72.830002  2631400\n",
            "2025-07-30  71.980003  72.849998  71.709999  72.849998  4975900\n",
            "2025-07-31  72.129997  72.300003  71.665001  71.820000  4852700\n",
            "Data successfully saved to 'CTVA_historical_data_2025-08-01.csv'\n",
            "------------------------------\n",
            "Attempting to download data for CSGP from 2024-08-01 to 2025-08-01...\n"
          ]
        },
        {
          "output_type": "stream",
          "name": "stderr",
          "text": [
            "/tmp/ipython-input-2137805434.py:22: FutureWarning: YF.download() has changed argument auto_adjust default to True\n",
            "  stock_data = yf.download(ticker_symbol, start=start_date, end=end_date, progress=False)\n"
          ]
        },
        {
          "output_type": "stream",
          "name": "stdout",
          "text": [
            "Successfully downloaded data for CSGP.\n",
            "\n",
            "--- Last 5 Days of Data for CSGP ---\n",
            "Price           Close       High        Low       Open   Volume\n",
            "Ticker           CSGP       CSGP       CSGP       CSGP     CSGP\n",
            "Date                                                           \n",
            "2025-07-25  92.970001  93.650002  92.330002  93.379997  2529700\n",
            "2025-07-28  93.360001  93.669998  92.419998  92.849998  2619100\n",
            "2025-07-29  95.589996  95.660004  93.489998  93.690002  3968800\n",
            "2025-07-30  96.250000  97.150002  95.139999  95.510002  3576000\n",
            "2025-07-31  95.190002  96.730003  94.769997  96.099998  3099500\n",
            "Data successfully saved to 'CSGP_historical_data_2025-08-01.csv'\n",
            "------------------------------\n",
            "Attempting to download data for CTRA from 2024-08-01 to 2025-08-01...\n"
          ]
        },
        {
          "output_type": "stream",
          "name": "stderr",
          "text": [
            "/tmp/ipython-input-2137805434.py:22: FutureWarning: YF.download() has changed argument auto_adjust default to True\n",
            "  stock_data = yf.download(ticker_symbol, start=start_date, end=end_date, progress=False)\n"
          ]
        },
        {
          "output_type": "stream",
          "name": "stdout",
          "text": [
            "Successfully downloaded data for CTRA.\n",
            "\n",
            "--- Last 5 Days of Data for CTRA ---\n",
            "Price           Close       High        Low       Open    Volume\n",
            "Ticker           CTRA       CTRA       CTRA       CTRA      CTRA\n",
            "Date                                                            \n",
            "2025-07-25  23.629999  23.850000  23.540001  23.770000   3331300\n",
            "2025-07-28  23.809999  23.910000  23.660000  23.850000   4782100\n",
            "2025-07-29  24.219999  24.309999  23.820000  23.860001   6290800\n",
            "2025-07-30  24.290001  24.570000  23.900000  23.980000   7763700\n",
            "2025-07-31  24.389999  24.510000  24.010000  24.020000  10990400\n",
            "Data successfully saved to 'CTRA_historical_data_2025-08-01.csv'\n",
            "------------------------------\n",
            "Attempting to download data for CCI from 2024-08-01 to 2025-08-01...\n"
          ]
        },
        {
          "output_type": "stream",
          "name": "stderr",
          "text": [
            "/tmp/ipython-input-2137805434.py:22: FutureWarning: YF.download() has changed argument auto_adjust default to True\n",
            "  stock_data = yf.download(ticker_symbol, start=start_date, end=end_date, progress=False)\n"
          ]
        },
        {
          "output_type": "stream",
          "name": "stdout",
          "text": [
            "Successfully downloaded data for CCI.\n",
            "\n",
            "--- Last 5 Days of Data for CCI ---\n",
            "Price            Close        High         Low        Open   Volume\n",
            "Ticker             CCI         CCI         CCI         CCI      CCI\n",
            "Date                                                               \n",
            "2025-07-25  111.480003  113.800003  110.480003  113.800003  3420700\n",
            "2025-07-28  108.800003  111.430000  108.529999  110.879997  4044200\n",
            "2025-07-29  109.330002  110.139999  107.349998  109.290001  3494800\n",
            "2025-07-30  106.970001  109.370003  106.040001  108.120003  4169100\n",
            "2025-07-31  105.089996  107.120003  104.760002  105.949997  4962300\n",
            "Data successfully saved to 'CCI_historical_data_2025-08-01.csv'\n",
            "------------------------------\n",
            "Attempting to download data for CSX from 2024-08-01 to 2025-08-01...\n"
          ]
        },
        {
          "output_type": "stream",
          "name": "stderr",
          "text": [
            "/tmp/ipython-input-2137805434.py:22: FutureWarning: YF.download() has changed argument auto_adjust default to True\n",
            "  stock_data = yf.download(ticker_symbol, start=start_date, end=end_date, progress=False)\n"
          ]
        },
        {
          "output_type": "stream",
          "name": "stdout",
          "text": [
            "Successfully downloaded data for CSX.\n",
            "\n",
            "--- Last 5 Days of Data for CSX ---\n",
            "Price           Close       High        Low       Open    Volume\n",
            "Ticker            CSX        CSX        CSX        CSX       CSX\n",
            "Date                                                            \n",
            "2025-07-25  35.759998  36.000000  35.040001  35.380001  31707900\n",
            "2025-07-28  35.709999  36.160000  35.509998  35.759998  21514400\n",
            "2025-07-29  35.419998  36.040001  34.680000  35.990002  42665900\n",
            "2025-07-30  35.290001  35.650002  35.130001  35.490002  12823600\n",
            "2025-07-31  35.540001  36.049999  35.009998  35.099998  26351200\n",
            "Data successfully saved to 'CSX_historical_data_2025-08-01.csv'\n",
            "------------------------------\n",
            "Attempting to download data for CMI from 2024-08-01 to 2025-08-01...\n"
          ]
        },
        {
          "output_type": "stream",
          "name": "stderr",
          "text": [
            "/tmp/ipython-input-2137805434.py:22: FutureWarning: YF.download() has changed argument auto_adjust default to True\n",
            "  stock_data = yf.download(ticker_symbol, start=start_date, end=end_date, progress=False)\n"
          ]
        },
        {
          "output_type": "stream",
          "name": "stdout",
          "text": [
            "Successfully downloaded data for CMI.\n",
            "\n",
            "--- Last 5 Days of Data for CMI ---\n",
            "Price            Close        High         Low        Open   Volume\n",
            "Ticker             CMI         CMI         CMI         CMI      CMI\n",
            "Date                                                               \n",
            "2025-07-25  369.519989  369.989990  362.820007  367.339996   697900\n",
            "2025-07-28  370.700012  371.459991  366.070007  369.660004   805900\n",
            "2025-07-29  366.339996  370.940002  362.420013  370.700012  1027000\n",
            "2025-07-30  365.500000  370.359985  363.390015  367.459991   916600\n",
            "2025-07-31  367.619995  370.510010  364.899994  364.899994   762700\n",
            "Data successfully saved to 'CMI_historical_data_2025-08-01.csv'\n",
            "------------------------------\n",
            "Attempting to download data for CVS from 2024-08-01 to 2025-08-01...\n"
          ]
        },
        {
          "output_type": "stream",
          "name": "stderr",
          "text": [
            "/tmp/ipython-input-2137805434.py:22: FutureWarning: YF.download() has changed argument auto_adjust default to True\n",
            "  stock_data = yf.download(ticker_symbol, start=start_date, end=end_date, progress=False)\n"
          ]
        },
        {
          "output_type": "stream",
          "name": "stdout",
          "text": [
            "Successfully downloaded data for CVS.\n",
            "\n",
            "--- Last 5 Days of Data for CVS ---\n",
            "Price           Close       High        Low       Open    Volume\n",
            "Ticker            CVS        CVS        CVS        CVS       CVS\n",
            "Date                                                            \n",
            "2025-07-25  60.700001  61.169998  59.439999  59.610001  10881900\n",
            "2025-07-28  59.639999  61.130001  59.349998  60.560001   8953600\n",
            "2025-07-29  60.000000  60.939999  58.990002  59.799999  11026800\n",
            "2025-07-30  62.299999  62.880001  61.000000  61.700001  15343800\n",
            "2025-07-31  62.099998  66.919998  61.230000  65.510002  27411700\n",
            "Data successfully saved to 'CVS_historical_data_2025-08-01.csv'\n",
            "------------------------------\n",
            "Attempting to download data for DHI from 2024-08-01 to 2025-08-01...\n"
          ]
        },
        {
          "output_type": "stream",
          "name": "stderr",
          "text": [
            "/tmp/ipython-input-2137805434.py:22: FutureWarning: YF.download() has changed argument auto_adjust default to True\n",
            "  stock_data = yf.download(ticker_symbol, start=start_date, end=end_date, progress=False)\n"
          ]
        },
        {
          "output_type": "stream",
          "name": "stdout",
          "text": [
            "Successfully downloaded data for DHI.\n",
            "\n",
            "--- Last 5 Days of Data for DHI ---\n",
            "Price            Close        High         Low        Open   Volume\n",
            "Ticker             DHI         DHI         DHI         DHI      DHI\n",
            "Date                                                               \n",
            "2025-07-25  145.320007  145.589996  143.440002  145.039993  3752100\n",
            "2025-07-28  146.199997  147.130005  144.020004  144.740005  2891800\n",
            "2025-07-29  147.350006  147.639999  145.229996  146.059998  3067800\n",
            "2025-07-30  143.309998  148.089996  142.440002  146.580002  4277100\n",
            "2025-07-31  142.839996  144.399994  141.070007  141.320007  3513900\n",
            "Data successfully saved to 'DHI_historical_data_2025-08-01.csv'\n",
            "------------------------------\n",
            "Attempting to download data for DRI from 2024-08-01 to 2025-08-01...\n"
          ]
        },
        {
          "output_type": "stream",
          "name": "stderr",
          "text": [
            "/tmp/ipython-input-2137805434.py:22: FutureWarning: YF.download() has changed argument auto_adjust default to True\n",
            "  stock_data = yf.download(ticker_symbol, start=start_date, end=end_date, progress=False)\n"
          ]
        },
        {
          "output_type": "stream",
          "name": "stdout",
          "text": [
            "Successfully downloaded data for DRI.\n",
            "\n",
            "--- Last 5 Days of Data for DRI ---\n",
            "Price            Close        High         Low        Open   Volume\n",
            "Ticker             DRI         DRI         DRI         DRI      DRI\n",
            "Date                                                               \n",
            "2025-07-25  204.479996  204.589996  202.369995  203.130005   867200\n",
            "2025-07-28  203.110001  204.550003  201.949997  204.550003  1225000\n",
            "2025-07-29  202.729996  204.009995  201.440002  203.690002  1017300\n",
            "2025-07-30  203.199997  207.059998  202.169998  204.759995  1450400\n",
            "2025-07-31  201.669998  205.229996  200.919998  202.779999  1223900\n",
            "Data successfully saved to 'DRI_historical_data_2025-08-01.csv'\n",
            "------------------------------\n",
            "Attempting to download data for DVA from 2024-08-01 to 2025-08-01...\n"
          ]
        },
        {
          "output_type": "stream",
          "name": "stderr",
          "text": [
            "/tmp/ipython-input-2137805434.py:22: FutureWarning: YF.download() has changed argument auto_adjust default to True\n",
            "  stock_data = yf.download(ticker_symbol, start=start_date, end=end_date, progress=False)\n"
          ]
        },
        {
          "output_type": "stream",
          "name": "stdout",
          "text": [
            "Successfully downloaded data for DVA.\n",
            "\n",
            "--- Last 5 Days of Data for DVA ---\n",
            "Price            Close        High         Low        Open  Volume\n",
            "Ticker             DVA         DVA         DVA         DVA     DVA\n",
            "Date                                                              \n",
            "2025-07-25  145.169998  145.210007  142.889999  144.679993  524500\n",
            "2025-07-28  145.309998  146.199997  144.320007  145.000000  440200\n",
            "2025-07-29  145.979996  147.300003  144.880005  145.199997  488800\n",
            "2025-07-30  144.570007  146.660004  143.589996  145.589996  628000\n",
            "2025-07-31  140.369995  144.589996  140.110001  143.559998  663200\n",
            "Data successfully saved to 'DVA_historical_data_2025-08-01.csv'\n",
            "------------------------------\n",
            "Attempting to download data for DE from 2024-08-01 to 2025-08-01...\n"
          ]
        },
        {
          "output_type": "stream",
          "name": "stderr",
          "text": [
            "/tmp/ipython-input-2137805434.py:22: FutureWarning: YF.download() has changed argument auto_adjust default to True\n",
            "  stock_data = yf.download(ticker_symbol, start=start_date, end=end_date, progress=False)\n"
          ]
        },
        {
          "output_type": "stream",
          "name": "stdout",
          "text": [
            "Successfully downloaded data for DE.\n",
            "\n",
            "--- Last 5 Days of Data for DE ---\n",
            "Price            Close        High         Low        Open   Volume\n",
            "Ticker              DE          DE          DE          DE       DE\n",
            "Date                                                               \n",
            "2025-07-25  517.380005  519.000000  508.769989  514.669983   858400\n",
            "2025-07-28  510.549988  516.510010  509.049988  516.419983   824700\n",
            "2025-07-29  512.500000  514.799988  505.959991  511.679993  1139100\n",
            "2025-07-30  507.869995  512.719971  504.739990  510.440002  1121000\n",
            "2025-07-31  524.369995  526.559998  512.000000  512.000000  1549300\n",
            "Data successfully saved to 'DE_historical_data_2025-08-01.csv'\n",
            "------------------------------\n",
            "Attempting to download data for DAL from 2024-08-01 to 2025-08-01...\n"
          ]
        },
        {
          "output_type": "stream",
          "name": "stderr",
          "text": [
            "/tmp/ipython-input-2137805434.py:22: FutureWarning: YF.download() has changed argument auto_adjust default to True\n",
            "  stock_data = yf.download(ticker_symbol, start=start_date, end=end_date, progress=False)\n"
          ]
        },
        {
          "output_type": "stream",
          "name": "stdout",
          "text": [
            "Successfully downloaded data for DAL.\n",
            "\n",
            "--- Last 5 Days of Data for DAL ---\n",
            "Price           Close       High        Low       Open   Volume\n",
            "Ticker            DAL        DAL        DAL        DAL      DAL\n",
            "Date                                                           \n",
            "2025-07-25  54.667583  54.807092  54.049759  54.607793  6819900\n",
            "2025-07-28  55.414951  55.494669  54.458319  54.797127  6545600\n",
            "2025-07-29  54.308846  55.773691  54.029829  55.773691  5916300\n",
            "2025-07-30  53.411999  54.288913  53.073191  54.009897  7354800\n",
            "2025-07-31  53.209999  53.730000  52.820000  53.450001  6536300\n",
            "Data successfully saved to 'DAL_historical_data_2025-08-01.csv'\n",
            "------------------------------\n",
            "Attempting to download data for XRAY from 2024-08-01 to 2025-08-01...\n"
          ]
        },
        {
          "output_type": "stream",
          "name": "stderr",
          "text": [
            "/tmp/ipython-input-2137805434.py:22: FutureWarning: YF.download() has changed argument auto_adjust default to True\n",
            "  stock_data = yf.download(ticker_symbol, start=start_date, end=end_date, progress=False)\n"
          ]
        },
        {
          "output_type": "stream",
          "name": "stdout",
          "text": [
            "Successfully downloaded data for XRAY.\n",
            "\n",
            "--- Last 5 Days of Data for XRAY ---\n",
            "Price           Close       High    Low       Open   Volume\n",
            "Ticker           XRAY       XRAY   XRAY       XRAY     XRAY\n",
            "Date                                                       \n",
            "2025-07-25  16.030001  16.600000  16.01  16.570000  3278500\n",
            "2025-07-28  16.070000  16.209999  15.89  16.020000  2779000\n",
            "2025-07-29  16.110001  16.290001  15.99  16.059999  2172600\n",
            "2025-07-30  15.470000  16.250000  15.45  16.120001  3080500\n",
            "2025-07-31  14.310000  15.210000  14.28  15.120000  5690200\n",
            "Data successfully saved to 'XRAY_historical_data_2025-08-01.csv'\n",
            "------------------------------\n",
            "Attempting to download data for DVN from 2024-08-01 to 2025-08-01...\n"
          ]
        },
        {
          "output_type": "stream",
          "name": "stderr",
          "text": [
            "/tmp/ipython-input-2137805434.py:22: FutureWarning: YF.download() has changed argument auto_adjust default to True\n",
            "  stock_data = yf.download(ticker_symbol, start=start_date, end=end_date, progress=False)\n"
          ]
        },
        {
          "output_type": "stream",
          "name": "stdout",
          "text": [
            "Successfully downloaded data for DVN.\n",
            "\n",
            "--- Last 5 Days of Data for DVN ---\n",
            "Price           Close       High        Low       Open   Volume\n",
            "Ticker            DVN        DVN        DVN        DVN      DVN\n",
            "Date                                                           \n",
            "2025-07-25  32.939999  33.459999  32.849998  33.330002  5664200\n",
            "2025-07-28  34.090000  34.119999  33.299999  33.340000  7174600\n",
            "2025-07-29  34.220001  34.330002  33.709999  34.180000  6184100\n",
            "2025-07-30  33.759998  34.160000  33.509998  33.939999  6439900\n",
            "2025-07-31  33.220001  34.040001  33.070000  33.419998  5466500\n",
            "Data successfully saved to 'DVN_historical_data_2025-08-01.csv'\n",
            "------------------------------\n",
            "Attempting to download data for DXCM from 2024-08-01 to 2025-08-01...\n"
          ]
        },
        {
          "output_type": "stream",
          "name": "stderr",
          "text": [
            "/tmp/ipython-input-2137805434.py:22: FutureWarning: YF.download() has changed argument auto_adjust default to True\n",
            "  stock_data = yf.download(ticker_symbol, start=start_date, end=end_date, progress=False)\n"
          ]
        },
        {
          "output_type": "stream",
          "name": "stdout",
          "text": [
            "Successfully downloaded data for DXCM.\n",
            "\n",
            "--- Last 5 Days of Data for DXCM ---\n",
            "Price           Close       High        Low       Open   Volume\n",
            "Ticker           DXCM       DXCM       DXCM       DXCM     DXCM\n",
            "Date                                                           \n",
            "2025-07-25  88.989998  89.070000  86.690002  87.220001  3072100\n",
            "2025-07-28  89.529999  89.760002  88.629997  88.989998  2700600\n",
            "2025-07-29  89.349998  89.959999  88.970001  89.639999  2472200\n",
            "2025-07-30  89.059998  89.980003  88.300003  89.349998  4522200\n",
            "2025-07-31  80.769997  87.000000  80.459999  85.699997  9279800\n",
            "Data successfully saved to 'DXCM_historical_data_2025-08-01.csv'\n",
            "------------------------------\n",
            "Attempting to download data for FANG from 2024-08-01 to 2025-08-01...\n"
          ]
        },
        {
          "output_type": "stream",
          "name": "stderr",
          "text": [
            "/tmp/ipython-input-2137805434.py:22: FutureWarning: YF.download() has changed argument auto_adjust default to True\n",
            "  stock_data = yf.download(ticker_symbol, start=start_date, end=end_date, progress=False)\n"
          ]
        },
        {
          "output_type": "stream",
          "name": "stdout",
          "text": [
            "Successfully downloaded data for FANG.\n",
            "\n",
            "--- Last 5 Days of Data for FANG ---\n",
            "Price            Close        High         Low        Open   Volume\n",
            "Ticker            FANG        FANG        FANG        FANG     FANG\n",
            "Date                                                               \n",
            "2025-07-25  144.610001  146.169998  143.259995  145.600006  1035600\n",
            "2025-07-28  150.520004  150.990005  145.990005  145.990005  1686800\n",
            "2025-07-29  152.500000  153.050003  149.220001  150.520004  2587200\n",
            "2025-07-30  151.000000  151.929993  149.490005  151.610001  2019300\n",
            "2025-07-31  148.660004  152.199997  147.759995  149.000000  1866000\n",
            "Data successfully saved to 'FANG_historical_data_2025-08-01.csv'\n",
            "------------------------------\n",
            "Attempting to download data for DLR from 2024-08-01 to 2025-08-01...\n"
          ]
        },
        {
          "output_type": "stream",
          "name": "stderr",
          "text": [
            "/tmp/ipython-input-2137805434.py:22: FutureWarning: YF.download() has changed argument auto_adjust default to True\n",
            "  stock_data = yf.download(ticker_symbol, start=start_date, end=end_date, progress=False)\n"
          ]
        },
        {
          "output_type": "stream",
          "name": "stdout",
          "text": [
            "Successfully downloaded data for DLR.\n",
            "\n",
            "--- Last 5 Days of Data for DLR ---\n",
            "Price            Close        High         Low        Open   Volume\n",
            "Ticker             DLR         DLR         DLR         DLR      DLR\n",
            "Date                                                               \n",
            "2025-07-25  177.910004  182.000000  174.809998  181.500000  2602200\n",
            "2025-07-28  175.720001  179.059998  175.690002  177.080002  1547000\n",
            "2025-07-29  178.300003  178.570007  175.449997  177.440002  1609400\n",
            "2025-07-30  177.300003  179.869995  176.130005  178.880005  1128000\n",
            "2025-07-31  176.440002  180.570007  175.910004  178.240005  1963300\n",
            "Data successfully saved to 'DLR_historical_data_2025-08-01.csv'\n",
            "------------------------------\n",
            "Attempting to download data for DFS from 2024-08-01 to 2025-08-01...\n"
          ]
        },
        {
          "output_type": "stream",
          "name": "stderr",
          "text": [
            "/tmp/ipython-input-2137805434.py:22: FutureWarning: YF.download() has changed argument auto_adjust default to True\n",
            "  stock_data = yf.download(ticker_symbol, start=start_date, end=end_date, progress=False)\n",
            "ERROR:yfinance:\n",
            "1 Failed download:\n",
            "ERROR:yfinance:['DFS']: YFTzMissingError('possibly delisted; no timezone found')\n",
            "/tmp/ipython-input-2137805434.py:22: FutureWarning: YF.download() has changed argument auto_adjust default to True\n",
            "  stock_data = yf.download(ticker_symbol, start=start_date, end=end_date, progress=False)\n",
            "ERROR:yfinance:\n",
            "1 Failed download:\n",
            "ERROR:yfinance:['DISH']: YFTzMissingError('possibly delisted; no timezone found')\n"
          ]
        },
        {
          "output_type": "stream",
          "name": "stdout",
          "text": [
            "No data found for ticker 'DFS'. It might be an invalid ticker or delisted.\n",
            "------------------------------\n",
            "Attempting to download data for DISH from 2024-08-01 to 2025-08-01...\n",
            "No data found for ticker 'DISH'. It might be an invalid ticker or delisted.\n",
            "------------------------------\n",
            "Attempting to download data for DG from 2024-08-01 to 2025-08-01...\n"
          ]
        },
        {
          "output_type": "stream",
          "name": "stderr",
          "text": [
            "/tmp/ipython-input-2137805434.py:22: FutureWarning: YF.download() has changed argument auto_adjust default to True\n",
            "  stock_data = yf.download(ticker_symbol, start=start_date, end=end_date, progress=False)\n"
          ]
        },
        {
          "output_type": "stream",
          "name": "stdout",
          "text": [
            "Successfully downloaded data for DG.\n",
            "\n",
            "--- Last 5 Days of Data for DG ---\n",
            "Price            Close        High         Low        Open   Volume\n",
            "Ticker              DG          DG          DG          DG       DG\n",
            "Date                                                               \n",
            "2025-07-25  107.559998  108.750000  107.220001  107.820000  1603800\n",
            "2025-07-28  105.809998  107.059998  104.699997  107.029999  2729600\n",
            "2025-07-29  106.849998  107.349998  105.510002  105.879997  2038100\n",
            "2025-07-30  105.540001  107.269997  105.419998  106.699997  3020700\n",
            "2025-07-31  104.900002  106.349998  104.500000  105.000000  3132800\n",
            "Data successfully saved to 'DG_historical_data_2025-08-01.csv'\n",
            "------------------------------\n",
            "Attempting to download data for DLTR from 2024-08-01 to 2025-08-01...\n",
            "Successfully downloaded data for DLTR.\n",
            "\n",
            "--- Last 5 Days of Data for DLTR ---\n",
            "Price            Close        High         Low        Open   Volume\n",
            "Ticker            DLTR        DLTR        DLTR        DLTR     DLTR\n",
            "Date                                                               \n",
            "2025-07-25  114.410004  115.300003  113.309998  114.199997  2004200\n",
            "2025-07-28  115.430000  115.830002  114.040001  114.489998  4699000\n",
            "2025-07-29  114.989998  115.250000  113.400002  115.250000  2974000\n",
            "2025-07-30  114.150002  115.180000  113.510002  114.830002  2393800\n",
            "2025-07-31  113.550003  114.120003  112.900002  113.470001  3221300\n",
            "Data successfully saved to 'DLTR_historical_data_2025-08-01.csv'\n",
            "------------------------------\n",
            "Attempting to download data for D from 2024-08-01 to 2025-08-01...\n"
          ]
        },
        {
          "output_type": "stream",
          "name": "stderr",
          "text": [
            "/tmp/ipython-input-2137805434.py:22: FutureWarning: YF.download() has changed argument auto_adjust default to True\n",
            "  stock_data = yf.download(ticker_symbol, start=start_date, end=end_date, progress=False)\n",
            "/tmp/ipython-input-2137805434.py:22: FutureWarning: YF.download() has changed argument auto_adjust default to True\n",
            "  stock_data = yf.download(ticker_symbol, start=start_date, end=end_date, progress=False)\n"
          ]
        },
        {
          "output_type": "stream",
          "name": "stdout",
          "text": [
            "Successfully downloaded data for D.\n",
            "\n",
            "--- Last 5 Days of Data for D ---\n",
            "Price           Close       High        Low       Open   Volume\n",
            "Ticker              D          D          D          D        D\n",
            "Date                                                           \n",
            "2025-07-25  58.750000  58.980000  58.450001  58.750000  2908700\n",
            "2025-07-28  58.000000  58.689999  57.820000  58.599998  2908100\n",
            "2025-07-29  58.660000  58.689999  57.889999  58.150002  2976400\n",
            "2025-07-30  58.250000  59.000000  58.000000  58.650002  4091900\n",
            "2025-07-31  58.450001  58.509998  57.529999  57.740002  9135200\n",
            "Data successfully saved to 'D_historical_data_2025-08-01.csv'\n",
            "------------------------------\n",
            "Attempting to download data for DPZ from 2024-08-01 to 2025-08-01...\n"
          ]
        },
        {
          "output_type": "stream",
          "name": "stderr",
          "text": [
            "/tmp/ipython-input-2137805434.py:22: FutureWarning: YF.download() has changed argument auto_adjust default to True\n",
            "  stock_data = yf.download(ticker_symbol, start=start_date, end=end_date, progress=False)\n"
          ]
        },
        {
          "output_type": "stream",
          "name": "stdout",
          "text": [
            "Successfully downloaded data for DPZ.\n",
            "\n",
            "--- Last 5 Days of Data for DPZ ---\n",
            "Price            Close        High         Low        Open  Volume\n",
            "Ticker             DPZ         DPZ         DPZ         DPZ     DPZ\n",
            "Date                                                              \n",
            "2025-07-25  485.529999  486.450012  477.339996  478.100006  422900\n",
            "2025-07-28  474.320007  486.679993  471.320007  486.000000  744800\n",
            "2025-07-29  470.049988  473.399994  466.359985  472.709991  711200\n",
            "2025-07-30  475.380005  475.899994  469.760010  470.049988  515900\n",
            "2025-07-31  463.209991  477.000000  461.489990  470.130005  848700\n",
            "Data successfully saved to 'DPZ_historical_data_2025-08-01.csv'\n",
            "------------------------------\n",
            "Attempting to download data for DOV from 2024-08-01 to 2025-08-01...\n"
          ]
        },
        {
          "output_type": "stream",
          "name": "stderr",
          "text": [
            "/tmp/ipython-input-2137805434.py:22: FutureWarning: YF.download() has changed argument auto_adjust default to True\n",
            "  stock_data = yf.download(ticker_symbol, start=start_date, end=end_date, progress=False)\n"
          ]
        },
        {
          "output_type": "stream",
          "name": "stdout",
          "text": [
            "Successfully downloaded data for DOV.\n",
            "\n",
            "--- Last 5 Days of Data for DOV ---\n",
            "Price            Close        High         Low        Open   Volume\n",
            "Ticker             DOV         DOV         DOV         DOV      DOV\n",
            "Date                                                               \n",
            "2025-07-25  186.500000  187.539993  184.000000  186.960007  1579900\n",
            "2025-07-28  184.929993  187.000000  184.570007  187.000000  1105200\n",
            "2025-07-29  184.050003  186.539993  183.399994  186.330002   955400\n",
            "2025-07-30  182.220001  185.009995  181.380005  184.580002  1119800\n",
            "2025-07-31  181.139999  183.529999  180.679993  181.570007  1212600\n",
            "Data successfully saved to 'DOV_historical_data_2025-08-01.csv'\n",
            "------------------------------\n",
            "Attempting to download data for DOW from 2024-08-01 to 2025-08-01...\n"
          ]
        },
        {
          "output_type": "stream",
          "name": "stderr",
          "text": [
            "/tmp/ipython-input-2137805434.py:22: FutureWarning: YF.download() has changed argument auto_adjust default to True\n",
            "  stock_data = yf.download(ticker_symbol, start=start_date, end=end_date, progress=False)\n"
          ]
        },
        {
          "output_type": "stream",
          "name": "stdout",
          "text": [
            "Successfully downloaded data for DOW.\n",
            "\n",
            "--- Last 5 Days of Data for DOW ---\n",
            "Price           Close       High        Low       Open    Volume\n",
            "Ticker            DOW        DOW        DOW        DOW       DOW\n",
            "Date                                                            \n",
            "2025-07-25  25.510000  25.650000  24.420000  24.639999  36918200\n",
            "2025-07-28  25.709999  26.129999  24.920000  25.330000  17843700\n",
            "2025-07-29  25.180000  25.600000  24.980000  25.600000  13123800\n",
            "2025-07-30  23.920000  25.049999  23.780001  25.030001  16559800\n",
            "2025-07-31  23.290001  23.657000  22.940001  23.635000  21295100\n",
            "Data successfully saved to 'DOW_historical_data_2025-08-01.csv'\n",
            "------------------------------\n",
            "Attempting to download data for DTE from 2024-08-01 to 2025-08-01...\n"
          ]
        },
        {
          "output_type": "stream",
          "name": "stderr",
          "text": [
            "/tmp/ipython-input-2137805434.py:22: FutureWarning: YF.download() has changed argument auto_adjust default to True\n",
            "  stock_data = yf.download(ticker_symbol, start=start_date, end=end_date, progress=False)\n"
          ]
        },
        {
          "output_type": "stream",
          "name": "stdout",
          "text": [
            "Successfully downloaded data for DTE.\n",
            "\n",
            "--- Last 5 Days of Data for DTE ---\n",
            "Price            Close        High         Low        Open   Volume\n",
            "Ticker             DTE         DTE         DTE         DTE      DTE\n",
            "Date                                                               \n",
            "2025-07-25  139.429993  139.770004  138.710007  139.179993  1244300\n",
            "2025-07-28  137.350006  139.210007  137.100006  139.169998  1628900\n",
            "2025-07-29  137.100006  138.449997  134.600006  136.899994  2818100\n",
            "2025-07-30  135.380005  138.789993  134.949997  137.500000  2005300\n",
            "2025-07-31  138.410004  138.410004  134.710007  134.710007  1757700\n",
            "Data successfully saved to 'DTE_historical_data_2025-08-01.csv'\n",
            "------------------------------\n",
            "Attempting to download data for DUK from 2024-08-01 to 2025-08-01...\n"
          ]
        },
        {
          "output_type": "stream",
          "name": "stderr",
          "text": [
            "/tmp/ipython-input-2137805434.py:22: FutureWarning: YF.download() has changed argument auto_adjust default to True\n",
            "  stock_data = yf.download(ticker_symbol, start=start_date, end=end_date, progress=False)\n"
          ]
        },
        {
          "output_type": "stream",
          "name": "stdout",
          "text": [
            "Successfully downloaded data for DUK.\n",
            "\n",
            "--- Last 5 Days of Data for DUK ---\n",
            "Price            Close        High         Low        Open   Volume\n",
            "Ticker             DUK         DUK         DUK         DUK      DUK\n",
            "Date                                                               \n",
            "2025-07-25  119.930000  120.389999  119.589996  119.680000  2317100\n",
            "2025-07-28  117.599998  119.910004  117.449997  119.629997  2930100\n",
            "2025-07-29  119.489998  119.529999  117.690002  118.019997  2848000\n",
            "2025-07-30  120.480003  121.489998  119.250000  119.500000  3432300\n",
            "2025-07-31  121.639999  121.779999  119.500000  120.029999  5490800\n",
            "Data successfully saved to 'DUK_historical_data_2025-08-01.csv'\n",
            "------------------------------\n",
            "Attempting to download data for DD from 2024-08-01 to 2025-08-01...\n"
          ]
        },
        {
          "output_type": "stream",
          "name": "stderr",
          "text": [
            "/tmp/ipython-input-2137805434.py:22: FutureWarning: YF.download() has changed argument auto_adjust default to True\n",
            "  stock_data = yf.download(ticker_symbol, start=start_date, end=end_date, progress=False)\n"
          ]
        },
        {
          "output_type": "stream",
          "name": "stdout",
          "text": [
            "Successfully downloaded data for DD.\n",
            "\n",
            "--- Last 5 Days of Data for DD ---\n",
            "Price           Close       High        Low       Open   Volume\n",
            "Ticker             DD         DD         DD         DD       DD\n",
            "Date                                                           \n",
            "2025-07-25  75.769997  75.849998  74.339996  74.870003  2233200\n",
            "2025-07-28  75.059998  75.820000  74.690002  75.820000  1623100\n",
            "2025-07-29  74.300003  75.410004  74.199997  75.360001  1961700\n",
            "2025-07-30  72.199997  74.349998  71.669998  74.059998  3361300\n",
            "2025-07-31  71.900002  72.459999  71.250000  71.690002  3307100\n",
            "Data successfully saved to 'DD_historical_data_2025-08-01.csv'\n",
            "------------------------------\n",
            "Attempting to download data for DT from 2024-08-01 to 2025-08-01...\n"
          ]
        },
        {
          "output_type": "stream",
          "name": "stderr",
          "text": [
            "/tmp/ipython-input-2137805434.py:22: FutureWarning: YF.download() has changed argument auto_adjust default to True\n",
            "  stock_data = yf.download(ticker_symbol, start=start_date, end=end_date, progress=False)\n"
          ]
        },
        {
          "output_type": "stream",
          "name": "stdout",
          "text": [
            "Successfully downloaded data for DT.\n",
            "\n",
            "--- Last 5 Days of Data for DT ---\n",
            "Price           Close       High        Low       Open   Volume\n",
            "Ticker             DT         DT         DT         DT       DT\n",
            "Date                                                           \n",
            "2025-07-25  54.150002  54.880001  53.935001  54.330002  2000900\n",
            "2025-07-28  54.709999  55.169998  54.020000  54.320000  1939000\n",
            "2025-07-29  54.619999  55.490002  53.639999  55.099998  1764300\n",
            "2025-07-30  53.919998  54.669998  53.450001  54.450001  2345200\n",
            "2025-07-31  52.610001  54.009998  52.520000  54.000000  2850100\n",
            "Data successfully saved to 'DT_historical_data_2025-08-01.csv'\n",
            "------------------------------\n",
            "Attempting to download data for EMN from 2024-08-01 to 2025-08-01...\n"
          ]
        },
        {
          "output_type": "stream",
          "name": "stderr",
          "text": [
            "/tmp/ipython-input-2137805434.py:22: FutureWarning: YF.download() has changed argument auto_adjust default to True\n",
            "  stock_data = yf.download(ticker_symbol, start=start_date, end=end_date, progress=False)\n"
          ]
        },
        {
          "output_type": "stream",
          "name": "stdout",
          "text": [
            "Successfully downloaded data for EMN.\n",
            "\n",
            "--- Last 5 Days of Data for EMN ---\n",
            "Price           Close       High        Low       Open   Volume\n",
            "Ticker            EMN        EMN        EMN        EMN      EMN\n",
            "Date                                                           \n",
            "2025-07-25  78.309998  78.379997  76.750000  77.529999  1801000\n",
            "2025-07-28  76.709999  78.529999  76.529999  78.000000   969200\n",
            "2025-07-29  75.800003  76.750000  75.599998  76.709999   955600\n",
            "2025-07-30  73.430000  75.690002  73.099998  75.250000  1442100\n",
            "2025-07-31  72.610001  73.370003  72.070000  72.730003  4435300\n",
            "Data successfully saved to 'EMN_historical_data_2025-08-01.csv'\n",
            "------------------------------\n",
            "Attempting to download data for ETN from 2024-08-01 to 2025-08-01...\n"
          ]
        },
        {
          "output_type": "stream",
          "name": "stderr",
          "text": [
            "/tmp/ipython-input-2137805434.py:22: FutureWarning: YF.download() has changed argument auto_adjust default to True\n",
            "  stock_data = yf.download(ticker_symbol, start=start_date, end=end_date, progress=False)\n"
          ]
        },
        {
          "output_type": "stream",
          "name": "stdout",
          "text": [
            "Successfully downloaded data for ETN.\n",
            "\n",
            "--- Last 5 Days of Data for ETN ---\n",
            "Price            Close        High         Low        Open   Volume\n",
            "Ticker             ETN         ETN         ETN         ETN      ETN\n",
            "Date                                                               \n",
            "2025-07-25  392.170013  393.070007  387.799988  388.000000  2107400\n",
            "2025-07-28  392.760010  399.559998  391.519989  399.559998  2334500\n",
            "2025-07-29  390.010010  395.619995  387.059998  394.260010  1777100\n",
            "2025-07-30  390.089996  393.850006  387.260010  392.089996  2727000\n",
            "2025-07-31  384.720001  396.279999  384.119995  390.130005  2898400\n",
            "Data successfully saved to 'ETN_historical_data_2025-08-01.csv'\n",
            "------------------------------\n",
            "Attempting to download data for EBAY from 2024-08-01 to 2025-08-01...\n"
          ]
        },
        {
          "output_type": "stream",
          "name": "stderr",
          "text": [
            "/tmp/ipython-input-2137805434.py:22: FutureWarning: YF.download() has changed argument auto_adjust default to True\n",
            "  stock_data = yf.download(ticker_symbol, start=start_date, end=end_date, progress=False)\n"
          ]
        },
        {
          "output_type": "stream",
          "name": "stdout",
          "text": [
            "Successfully downloaded data for EBAY.\n",
            "\n",
            "--- Last 5 Days of Data for EBAY ---\n",
            "Price           Close       High        Low       Open    Volume\n",
            "Ticker           EBAY       EBAY       EBAY       EBAY      EBAY\n",
            "Date                                                            \n",
            "2025-07-25  81.430000  83.529999  81.389999  83.019997   6918800\n",
            "2025-07-28  79.000000  81.279999  78.459999  81.190002   9521900\n",
            "2025-07-29  78.500000  79.339996  78.000000  79.050003   4531100\n",
            "2025-07-30  77.559998  78.779999  77.120003  78.620003   8042900\n",
            "2025-07-31  91.750000  92.790001  87.750000  88.199997  20276200\n",
            "Data successfully saved to 'EBAY_historical_data_2025-08-01.csv'\n",
            "------------------------------\n",
            "Attempting to download data for ECL from 2024-08-01 to 2025-08-01...\n"
          ]
        },
        {
          "output_type": "stream",
          "name": "stderr",
          "text": [
            "/tmp/ipython-input-2137805434.py:22: FutureWarning: YF.download() has changed argument auto_adjust default to True\n",
            "  stock_data = yf.download(ticker_symbol, start=start_date, end=end_date, progress=False)\n"
          ]
        },
        {
          "output_type": "stream",
          "name": "stdout",
          "text": [
            "Successfully downloaded data for ECL.\n",
            "\n",
            "--- Last 5 Days of Data for ECL ---\n",
            "Price            Close        High         Low        Open   Volume\n",
            "Ticker             ECL         ECL         ECL         ECL      ECL\n",
            "Date                                                               \n",
            "2025-07-25  271.750000  272.320007  268.950012  270.220001   972500\n",
            "2025-07-28  269.989990  272.320007  269.070007  270.970001  1793800\n",
            "2025-07-29  259.390015  267.119995  255.029999  267.119995  2264800\n",
            "2025-07-30  263.130005  265.910004  259.010010  260.109985  1709900\n",
            "2025-07-31  261.760010  266.190002  261.480011  261.619995  1364900\n",
            "Data successfully saved to 'ECL_historical_data_2025-08-01.csv'\n",
            "------------------------------\n",
            "Attempting to download data for EIX from 2024-08-01 to 2025-08-01...\n"
          ]
        },
        {
          "output_type": "stream",
          "name": "stderr",
          "text": [
            "/tmp/ipython-input-2137805434.py:22: FutureWarning: YF.download() has changed argument auto_adjust default to True\n",
            "  stock_data = yf.download(ticker_symbol, start=start_date, end=end_date, progress=False)\n"
          ]
        },
        {
          "output_type": "stream",
          "name": "stdout",
          "text": [
            "Successfully downloaded data for EIX.\n",
            "\n",
            "--- Last 5 Days of Data for EIX ---\n",
            "Price           Close       High        Low       Open   Volume\n",
            "Ticker            EIX        EIX        EIX        EIX      EIX\n",
            "Date                                                           \n",
            "2025-07-25  52.950001  53.080002  51.220001  51.389999  4216100\n",
            "2025-07-28  52.270000  53.169998  52.150002  52.779999  3801500\n",
            "2025-07-29  52.450001  52.619999  51.959999  52.439999  2861400\n",
            "2025-07-30  51.689999  53.070000  51.389999  52.480000  4453700\n",
            "2025-07-31  52.119999  52.279999  51.009998  51.540001  7372800\n",
            "Data successfully saved to 'EIX_historical_data_2025-08-01.csv'\n",
            "------------------------------\n",
            "Attempting to download data for EW from 2024-08-01 to 2025-08-01...\n"
          ]
        },
        {
          "output_type": "stream",
          "name": "stderr",
          "text": [
            "/tmp/ipython-input-2137805434.py:22: FutureWarning: YF.download() has changed argument auto_adjust default to True\n",
            "  stock_data = yf.download(ticker_symbol, start=start_date, end=end_date, progress=False)\n"
          ]
        },
        {
          "output_type": "stream",
          "name": "stdout",
          "text": [
            "Successfully downloaded data for EW.\n",
            "\n",
            "--- Last 5 Days of Data for EW ---\n",
            "Price           Close       High        Low       Open    Volume\n",
            "Ticker             EW         EW         EW         EW        EW\n",
            "Date                                                            \n",
            "2025-07-25  80.000000  83.000000  77.519997  81.500000  15656700\n",
            "2025-07-28  78.489998  80.730003  78.370003  80.449997   6024500\n",
            "2025-07-29  80.470001  80.529999  79.110001  79.489998   6361600\n",
            "2025-07-30  81.160004  81.879997  80.449997  80.919998   5834200\n",
            "2025-07-31  79.309998  81.050003  79.019997  80.779999   5063800\n",
            "Data successfully saved to 'EW_historical_data_2025-08-01.csv'\n",
            "------------------------------\n",
            "Attempting to download data for EA from 2024-08-01 to 2025-08-01...\n"
          ]
        },
        {
          "output_type": "stream",
          "name": "stderr",
          "text": [
            "/tmp/ipython-input-2137805434.py:22: FutureWarning: YF.download() has changed argument auto_adjust default to True\n",
            "  stock_data = yf.download(ticker_symbol, start=start_date, end=end_date, progress=False)\n"
          ]
        },
        {
          "output_type": "stream",
          "name": "stdout",
          "text": [
            "Successfully downloaded data for EA.\n",
            "\n",
            "--- Last 5 Days of Data for EA ---\n",
            "Price            Close        High         Low        Open   Volume\n",
            "Ticker              EA          EA          EA          EA       EA\n",
            "Date                                                               \n",
            "2025-07-25  151.679993  153.210007  151.479996  152.960007  1450600\n",
            "2025-07-28  151.990005  152.880005  150.970001  151.000000  2991300\n",
            "2025-07-29  147.789993  153.289993  146.970001  152.410004  3172200\n",
            "2025-07-30  156.259995  159.369995  150.869995  151.899994  6044500\n",
            "2025-07-31  152.490005  156.190002  152.199997  155.279999  3640500\n",
            "Data successfully saved to 'EA_historical_data_2025-08-01.csv'\n",
            "------------------------------\n",
            "Attempting to download data for EMR from 2024-08-01 to 2025-08-01...\n"
          ]
        },
        {
          "output_type": "stream",
          "name": "stderr",
          "text": [
            "/tmp/ipython-input-2137805434.py:22: FutureWarning: YF.download() has changed argument auto_adjust default to True\n",
            "  stock_data = yf.download(ticker_symbol, start=start_date, end=end_date, progress=False)\n"
          ]
        },
        {
          "output_type": "stream",
          "name": "stdout",
          "text": [
            "Successfully downloaded data for EMR.\n",
            "\n",
            "--- Last 5 Days of Data for EMR ---\n",
            "Price            Close        High         Low        Open   Volume\n",
            "Ticker             EMR         EMR         EMR         EMR      EMR\n",
            "Date                                                               \n",
            "2025-07-25  149.630005  149.839996  146.589996  147.490005  2594100\n",
            "2025-07-28  149.479996  149.830002  148.759995  149.509995  2528600\n",
            "2025-07-29  147.610001  150.270004  146.139999  150.000000  3428100\n",
            "2025-07-30  146.059998  147.649994  145.229996  147.649994  3814900\n",
            "2025-07-31  145.509995  147.250000  144.949997  146.160004  4561600\n",
            "Data successfully saved to 'EMR_historical_data_2025-08-01.csv'\n",
            "------------------------------\n",
            "Attempting to download data for ENPH from 2024-08-01 to 2025-08-01...\n"
          ]
        },
        {
          "output_type": "stream",
          "name": "stderr",
          "text": [
            "/tmp/ipython-input-2137805434.py:22: FutureWarning: YF.download() has changed argument auto_adjust default to True\n",
            "  stock_data = yf.download(ticker_symbol, start=start_date, end=end_date, progress=False)\n"
          ]
        },
        {
          "output_type": "stream",
          "name": "stdout",
          "text": [
            "Successfully downloaded data for ENPH.\n",
            "\n",
            "--- Last 5 Days of Data for ENPH ---\n",
            "Price           Close       High        Low       Open   Volume\n",
            "Ticker           ENPH       ENPH       ENPH       ENPH     ENPH\n",
            "Date                                                           \n",
            "2025-07-25  35.410000  35.820000  34.959999  35.660000  9321600\n",
            "2025-07-28  34.950001  35.950001  34.520000  35.790001  6579600\n",
            "2025-07-29  33.480000  34.919998  33.419998  34.840000  7021500\n",
            "2025-07-30  33.400002  34.299999  32.860001  33.410000  7748100\n",
            "2025-07-31  32.360001  33.320000  31.980000  33.099998  7537700\n",
            "Data successfully saved to 'ENPH_historical_data_2025-08-01.csv'\n",
            "------------------------------\n",
            "Attempting to download data for ETR from 2024-08-01 to 2025-08-01...\n"
          ]
        },
        {
          "output_type": "stream",
          "name": "stderr",
          "text": [
            "/tmp/ipython-input-2137805434.py:22: FutureWarning: YF.download() has changed argument auto_adjust default to True\n",
            "  stock_data = yf.download(ticker_symbol, start=start_date, end=end_date, progress=False)\n"
          ]
        },
        {
          "output_type": "stream",
          "name": "stdout",
          "text": [
            "Successfully downloaded data for ETR.\n",
            "\n",
            "--- Last 5 Days of Data for ETR ---\n",
            "Price           Close       High        Low       Open   Volume\n",
            "Ticker            ETR        ETR        ETR        ETR      ETR\n",
            "Date                                                           \n",
            "2025-07-25  88.160004  88.459999  87.849998  88.050003  1804800\n",
            "2025-07-28  86.680000  88.300003  86.489998  88.169998  2814400\n",
            "2025-07-29  88.239998  88.540001  86.750000  87.029999  3357000\n",
            "2025-07-30  89.290001  91.459999  89.269997  90.199997  5480900\n",
            "2025-07-31  90.430000  90.639999  89.160004  89.690002  2965300\n",
            "Data successfully saved to 'ETR_historical_data_2025-08-01.csv'\n",
            "------------------------------\n",
            "Attempting to download data for EOG from 2024-08-01 to 2025-08-01...\n"
          ]
        },
        {
          "output_type": "stream",
          "name": "stderr",
          "text": [
            "/tmp/ipython-input-2137805434.py:22: FutureWarning: YF.download() has changed argument auto_adjust default to True\n",
            "  stock_data = yf.download(ticker_symbol, start=start_date, end=end_date, progress=False)\n"
          ]
        },
        {
          "output_type": "stream",
          "name": "stdout",
          "text": [
            "Successfully downloaded data for EOG.\n",
            "\n",
            "--- Last 5 Days of Data for EOG ---\n",
            "Price            Close        High         Low        Open   Volume\n",
            "Ticker             EOG         EOG         EOG         EOG      EOG\n",
            "Date                                                               \n",
            "2025-07-25  118.389999  119.330002  117.860001  119.059998  1785300\n",
            "2025-07-28  121.650002  121.720001  119.449997  119.739998  2795000\n",
            "2025-07-29  123.150002  123.220001  120.860001  122.000000  2916200\n",
            "2025-07-30  121.239998  122.860001  120.650002  122.230003  2691400\n",
            "2025-07-31  120.019997  122.639999  119.760002  120.290001  2657200\n",
            "Data successfully saved to 'EOG_historical_data_2025-08-01.csv'\n",
            "------------------------------\n",
            "Attempting to download data for EFX from 2024-08-01 to 2025-08-01...\n"
          ]
        },
        {
          "output_type": "stream",
          "name": "stderr",
          "text": [
            "/tmp/ipython-input-2137805434.py:22: FutureWarning: YF.download() has changed argument auto_adjust default to True\n",
            "  stock_data = yf.download(ticker_symbol, start=start_date, end=end_date, progress=False)\n"
          ]
        },
        {
          "output_type": "stream",
          "name": "stdout",
          "text": [
            "Successfully downloaded data for EFX.\n",
            "\n",
            "--- Last 5 Days of Data for EFX ---\n",
            "Price            Close        High         Low        Open   Volume\n",
            "Ticker             EFX         EFX         EFX         EFX      EFX\n",
            "Date                                                               \n",
            "2025-07-25  246.259995  247.639999  243.669998  246.839996   968800\n",
            "2025-07-28  240.949997  247.050003  240.389999  245.539993   976700\n",
            "2025-07-29  247.210007  247.289993  241.179993  241.779999  1271200\n",
            "2025-07-30  242.089996  248.000000  240.470001  246.800003   776000\n",
            "2025-07-31  240.229996  244.100006  239.679993  241.330002  1169900\n",
            "Data successfully saved to 'EFX_historical_data_2025-08-01.csv'\n",
            "------------------------------\n",
            "Attempting to download data for EQIX from 2024-08-01 to 2025-08-01...\n"
          ]
        },
        {
          "output_type": "stream",
          "name": "stderr",
          "text": [
            "/tmp/ipython-input-2137805434.py:22: FutureWarning: YF.download() has changed argument auto_adjust default to True\n",
            "  stock_data = yf.download(ticker_symbol, start=start_date, end=end_date, progress=False)\n"
          ]
        },
        {
          "output_type": "stream",
          "name": "stdout",
          "text": [
            "Successfully downloaded data for EQIX.\n",
            "\n",
            "--- Last 5 Days of Data for EQIX ---\n",
            "Price            Close        High         Low        Open  Volume\n",
            "Ticker            EQIX        EQIX        EQIX        EQIX    EQIX\n",
            "Date                                                              \n",
            "2025-07-25  801.429993  803.400024  786.750000  791.320007  482700\n",
            "2025-07-28  793.619995  805.080017  791.719971  801.619995  578300\n",
            "2025-07-29  811.130005  813.179993  795.340027  797.289978  612900\n",
            "2025-07-30  797.039978  815.000000  791.719971  811.530029  572600\n",
            "2025-07-31  785.169983  809.469971  783.460022  805.659973  935200\n",
            "Data successfully saved to 'EQIX_historical_data_2025-08-01.csv'\n",
            "------------------------------\n",
            "Attempting to download data for EQR from 2024-08-01 to 2025-08-01...\n"
          ]
        },
        {
          "output_type": "stream",
          "name": "stderr",
          "text": [
            "/tmp/ipython-input-2137805434.py:22: FutureWarning: YF.download() has changed argument auto_adjust default to True\n",
            "  stock_data = yf.download(ticker_symbol, start=start_date, end=end_date, progress=False)\n"
          ]
        },
        {
          "output_type": "stream",
          "name": "stdout",
          "text": [
            "Successfully downloaded data for EQR.\n",
            "\n",
            "--- Last 5 Days of Data for EQR ---\n",
            "Price           Close       High        Low       Open   Volume\n",
            "Ticker            EQR        EQR        EQR        EQR      EQR\n",
            "Date                                                           \n",
            "2025-07-25  67.370003  68.070000  67.080002  67.620003  1507300\n",
            "2025-07-28  66.209999  67.489998  66.110001  67.449997  1540900\n",
            "2025-07-29  67.779999  67.830002  66.290001  66.540001  1730000\n",
            "2025-07-30  65.300003  67.480003  64.519997  67.339996  3933600\n",
            "2025-07-31  63.200001  65.099998  62.980000  64.949997  5288500\n",
            "Data successfully saved to 'EQR_historical_data_2025-08-01.csv'\n",
            "------------------------------\n",
            "Attempting to download data for ESS from 2024-08-01 to 2025-08-01...\n"
          ]
        },
        {
          "output_type": "stream",
          "name": "stderr",
          "text": [
            "/tmp/ipython-input-2137805434.py:22: FutureWarning: YF.download() has changed argument auto_adjust default to True\n",
            "  stock_data = yf.download(ticker_symbol, start=start_date, end=end_date, progress=False)\n"
          ]
        },
        {
          "output_type": "stream",
          "name": "stdout",
          "text": [
            "Successfully downloaded data for ESS.\n",
            "\n",
            "--- Last 5 Days of Data for ESS ---\n",
            "Price            Close        High         Low        Open   Volume\n",
            "Ticker             ESS         ESS         ESS         ESS      ESS\n",
            "Date                                                               \n",
            "2025-07-25  287.059998  287.750000  284.760010  287.600006   310200\n",
            "2025-07-28  283.160004  289.890015  283.079987  286.049988   365100\n",
            "2025-07-29  290.670013  291.470001  282.500000  283.070007   657500\n",
            "2025-07-30  268.459991  285.279999  266.980011  284.859985  2675600\n",
            "2025-07-31  260.179993  267.059998  258.799988  265.049988  1256400\n",
            "Data successfully saved to 'ESS_historical_data_2025-08-01.csv'\n",
            "------------------------------\n",
            "Attempting to download data for EL from 2024-08-01 to 2025-08-01...\n"
          ]
        },
        {
          "output_type": "stream",
          "name": "stderr",
          "text": [
            "/tmp/ipython-input-2137805434.py:22: FutureWarning: YF.download() has changed argument auto_adjust default to True\n",
            "  stock_data = yf.download(ticker_symbol, start=start_date, end=end_date, progress=False)\n"
          ]
        },
        {
          "output_type": "stream",
          "name": "stdout",
          "text": [
            "Successfully downloaded data for EL.\n",
            "\n",
            "--- Last 5 Days of Data for EL ---\n",
            "Price           Close       High        Low       Open   Volume\n",
            "Ticker             EL         EL         EL         EL       EL\n",
            "Date                                                           \n",
            "2025-07-25  90.400002  90.489998  87.029999  89.709999  7610800\n",
            "2025-07-28  92.519997  93.089996  90.260002  90.379997  4329800\n",
            "2025-07-29  91.400002  93.660004  90.760002  92.910004  3738800\n",
            "2025-07-30  93.660004  94.690002  92.059998  92.730003  5796200\n",
            "2025-07-31  93.339996  95.300003  92.400002  93.120003  3755600\n",
            "Data successfully saved to 'EL_historical_data_2025-08-01.csv'\n",
            "------------------------------\n",
            "Attempting to download data for ETSY from 2024-08-01 to 2025-08-01...\n"
          ]
        },
        {
          "output_type": "stream",
          "name": "stderr",
          "text": [
            "/tmp/ipython-input-2137805434.py:22: FutureWarning: YF.download() has changed argument auto_adjust default to True\n",
            "  stock_data = yf.download(ticker_symbol, start=start_date, end=end_date, progress=False)\n"
          ]
        },
        {
          "output_type": "stream",
          "name": "stdout",
          "text": [
            "Successfully downloaded data for ETSY.\n",
            "\n",
            "--- Last 5 Days of Data for ETSY ---\n",
            "Price           Close       High        Low       Open    Volume\n",
            "Ticker           ETSY       ETSY       ETSY       ETSY      ETSY\n",
            "Date                                                            \n",
            "2025-07-25  62.459999  64.549004  61.904999  64.199997   3819500\n",
            "2025-07-28  62.750000  63.779999  62.160000  62.520000   4412600\n",
            "2025-07-29  60.299999  62.915001  60.009998  62.915001   8578400\n",
            "2025-07-30  61.980000  68.449997  61.139999  65.739998  12894000\n",
            "2025-07-31  58.270000  61.490002  55.889999  61.349998   9793800\n",
            "Data successfully saved to 'ETSY_historical_data_2025-08-01.csv'\n",
            "------------------------------\n",
            "Attempting to download data for EVRG from 2024-08-01 to 2025-08-01...\n"
          ]
        },
        {
          "output_type": "stream",
          "name": "stderr",
          "text": [
            "/tmp/ipython-input-2137805434.py:22: FutureWarning: YF.download() has changed argument auto_adjust default to True\n",
            "  stock_data = yf.download(ticker_symbol, start=start_date, end=end_date, progress=False)\n"
          ]
        },
        {
          "output_type": "stream",
          "name": "stdout",
          "text": [
            "Successfully downloaded data for EVRG.\n",
            "\n",
            "--- Last 5 Days of Data for EVRG ---\n",
            "Price           Close       High        Low       Open   Volume\n",
            "Ticker           EVRG       EVRG       EVRG       EVRG     EVRG\n",
            "Date                                                           \n",
            "2025-07-25  69.800003  70.010002  69.269997  69.900002  1410800\n",
            "2025-07-28  68.360001  69.800003  68.330002  69.800003  1751400\n",
            "2025-07-29  69.709999  69.800003  68.050003  68.589996  2170300\n",
            "2025-07-30  70.160004  70.750000  69.639999  69.900002  2167700\n",
            "2025-07-31  70.800003  70.849998  69.540001  69.750000  2480900\n",
            "Data successfully saved to 'EVRG_historical_data_2025-08-01.csv'\n",
            "------------------------------\n",
            "Attempting to download data for ES from 2024-08-01 to 2025-08-01...\n"
          ]
        },
        {
          "output_type": "stream",
          "name": "stderr",
          "text": [
            "/tmp/ipython-input-2137805434.py:22: FutureWarning: YF.download() has changed argument auto_adjust default to True\n",
            "  stock_data = yf.download(ticker_symbol, start=start_date, end=end_date, progress=False)\n"
          ]
        },
        {
          "output_type": "stream",
          "name": "stdout",
          "text": [
            "Successfully downloaded data for ES.\n",
            "\n",
            "--- Last 5 Days of Data for ES ---\n",
            "Price           Close       High        Low       Open   Volume\n",
            "Ticker             ES         ES         ES         ES       ES\n",
            "Date                                                           \n",
            "2025-07-25  66.620003  66.790001  66.190002  66.410004  1715900\n",
            "2025-07-28  65.180000  66.570000  64.980003  66.480003  1695100\n",
            "2025-07-29  66.370003  66.419998  65.059998  65.230003  1848900\n",
            "2025-07-30  65.989998  66.830002  65.769997  66.190002  1859300\n",
            "2025-07-31  66.099998  66.300003  65.510002  65.510002  4534200\n",
            "Data successfully saved to 'ES_historical_data_2025-08-01.csv'\n",
            "------------------------------\n",
            "Attempting to download data for EXC from 2024-08-01 to 2025-08-01...\n"
          ]
        },
        {
          "output_type": "stream",
          "name": "stderr",
          "text": [
            "/tmp/ipython-input-2137805434.py:22: FutureWarning: YF.download() has changed argument auto_adjust default to True\n",
            "  stock_data = yf.download(ticker_symbol, start=start_date, end=end_date, progress=False)\n"
          ]
        },
        {
          "output_type": "stream",
          "name": "stdout",
          "text": [
            "Successfully downloaded data for EXC.\n",
            "\n",
            "--- Last 5 Days of Data for EXC ---\n",
            "Price           Close       High        Low       Open    Volume\n",
            "Ticker            EXC        EXC        EXC        EXC       EXC\n",
            "Date                                                            \n",
            "2025-07-25  43.990002  44.029999  43.709999  43.849998   3894400\n",
            "2025-07-28  43.410000  43.930000  43.250000  43.910000   5928700\n",
            "2025-07-29  44.299999  44.330002  43.330002  43.580002   5226500\n",
            "2025-07-30  44.259998  44.669998  44.110001  44.349998   6648300\n",
            "2025-07-31  44.939999  44.970001  43.900002  43.950001  11536300\n",
            "Data successfully saved to 'EXC_historical_data_2025-08-01.csv'\n",
            "------------------------------\n",
            "Attempting to download data for EXPE from 2024-08-01 to 2025-08-01...\n"
          ]
        },
        {
          "output_type": "stream",
          "name": "stderr",
          "text": [
            "/tmp/ipython-input-2137805434.py:22: FutureWarning: YF.download() has changed argument auto_adjust default to True\n",
            "  stock_data = yf.download(ticker_symbol, start=start_date, end=end_date, progress=False)\n"
          ]
        },
        {
          "output_type": "stream",
          "name": "stdout",
          "text": [
            "Successfully downloaded data for EXPE.\n",
            "\n",
            "--- Last 5 Days of Data for EXPE ---\n",
            "Price            Close        High         Low        Open   Volume\n",
            "Ticker            EXPE        EXPE        EXPE        EXPE     EXPE\n",
            "Date                                                               \n",
            "2025-07-25  187.339996  192.580002  186.889999  192.089996  1419300\n",
            "2025-07-28  187.160004  188.850006  186.119995  187.529999  1302200\n",
            "2025-07-29  182.809998  188.479996  182.589996  187.350006  1262400\n",
            "2025-07-30  179.789993  182.039993  177.240005  179.880005  1993400\n",
            "2025-07-31  180.220001  183.339996  179.460007  180.339996  1308200\n",
            "Data successfully saved to 'EXPE_historical_data_2025-08-01.csv'\n",
            "------------------------------\n",
            "Attempting to download data for EXPD from 2024-08-01 to 2025-08-01...\n"
          ]
        },
        {
          "output_type": "stream",
          "name": "stderr",
          "text": [
            "/tmp/ipython-input-2137805434.py:22: FutureWarning: YF.download() has changed argument auto_adjust default to True\n",
            "  stock_data = yf.download(ticker_symbol, start=start_date, end=end_date, progress=False)\n"
          ]
        },
        {
          "output_type": "stream",
          "name": "stdout",
          "text": [
            "Successfully downloaded data for EXPD.\n",
            "\n",
            "--- Last 5 Days of Data for EXPD ---\n",
            "Price            Close        High         Low        Open   Volume\n",
            "Ticker            EXPD        EXPD        EXPD        EXPD     EXPD\n",
            "Date                                                               \n",
            "2025-07-25  116.699997  117.690002  116.260002  117.639999   912500\n",
            "2025-07-28  115.360001  116.610001  115.059998  115.989998  1013800\n",
            "2025-07-29  114.459999  115.610001  113.529999  115.230003  1501300\n",
            "2025-07-30  111.370003  114.250000  110.559998  114.099998  1531800\n",
            "2025-07-31  116.239998  116.919998  110.480003  111.809998  2368900\n",
            "Data successfully saved to 'EXPD_historical_data_2025-08-01.csv'\n",
            "------------------------------\n",
            "Attempting to download data for EXR from 2024-08-01 to 2025-08-01...\n"
          ]
        },
        {
          "output_type": "stream",
          "name": "stderr",
          "text": [
            "/tmp/ipython-input-2137805434.py:22: FutureWarning: YF.download() has changed argument auto_adjust default to True\n",
            "  stock_data = yf.download(ticker_symbol, start=start_date, end=end_date, progress=False)\n"
          ]
        },
        {
          "output_type": "stream",
          "name": "stdout",
          "text": [
            "Successfully downloaded data for EXR.\n",
            "\n",
            "--- Last 5 Days of Data for EXR ---\n",
            "Price            Close        High         Low        Open   Volume\n",
            "Ticker             EXR         EXR         EXR         EXR      EXR\n",
            "Date                                                               \n",
            "2025-07-25  150.860001  151.960007  149.020004  150.669998   866700\n",
            "2025-07-28  148.309998  150.679993  148.190002  150.020004   939100\n",
            "2025-07-29  151.910004  151.960007  148.110001  149.320007  1125400\n",
            "2025-07-30  149.339996  152.899994  148.669998  152.029999  1423400\n",
            "2025-07-31  134.360001  144.470001  134.360001  144.389999  4362900\n",
            "Data successfully saved to 'EXR_historical_data_2025-08-01.csv'\n",
            "------------------------------\n",
            "Attempting to download data for FFIV from 2024-08-01 to 2025-08-01...\n"
          ]
        },
        {
          "output_type": "stream",
          "name": "stderr",
          "text": [
            "/tmp/ipython-input-2137805434.py:22: FutureWarning: YF.download() has changed argument auto_adjust default to True\n",
            "  stock_data = yf.download(ticker_symbol, start=start_date, end=end_date, progress=False)\n"
          ]
        },
        {
          "output_type": "stream",
          "name": "stdout",
          "text": [
            "Successfully downloaded data for FFIV.\n",
            "\n",
            "--- Last 5 Days of Data for FFIV ---\n",
            "Price            Close        High         Low        Open   Volume\n",
            "Ticker            FFIV        FFIV        FFIV        FFIV     FFIV\n",
            "Date                                                               \n",
            "2025-07-25  299.369995  303.769989  299.010010  302.119995   262500\n",
            "2025-07-28  301.630005  302.010010  298.700012  299.540009   370000\n",
            "2025-07-29  299.239990  305.980011  298.359985  302.890015   462400\n",
            "2025-07-30  298.989990  301.890015  294.890015  299.970001   830300\n",
            "2025-07-31  313.420013  334.000000  312.589996  323.000000  1829100\n",
            "Data successfully saved to 'FFIV_historical_data_2025-08-01.csv'\n",
            "------------------------------\n",
            "Attempting to download data for FDS from 2024-08-01 to 2025-08-01...\n"
          ]
        },
        {
          "output_type": "stream",
          "name": "stderr",
          "text": [
            "/tmp/ipython-input-2137805434.py:22: FutureWarning: YF.download() has changed argument auto_adjust default to True\n",
            "  stock_data = yf.download(ticker_symbol, start=start_date, end=end_date, progress=False)\n"
          ]
        },
        {
          "output_type": "stream",
          "name": "stdout",
          "text": [
            "Successfully downloaded data for FDS.\n",
            "\n",
            "--- Last 5 Days of Data for FDS ---\n",
            "Price            Close        High         Low        Open  Volume\n",
            "Ticker             FDS         FDS         FDS         FDS     FDS\n",
            "Date                                                              \n",
            "2025-07-25  419.540009  424.619995  415.929993  420.489990  348100\n",
            "2025-07-28  414.140015  419.220001  413.700012  417.540009  243000\n",
            "2025-07-29  415.489990  417.309998  411.260010  416.470001  292400\n",
            "2025-07-30  409.160004  418.059998  407.279999  416.119995  332900\n",
            "2025-07-31  402.899994  409.160004  390.829987  408.059998  946900\n",
            "Data successfully saved to 'FDS_historical_data_2025-08-01.csv'\n",
            "------------------------------\n",
            "Attempting to download data for FAST from 2024-08-01 to 2025-08-01...\n"
          ]
        },
        {
          "output_type": "stream",
          "name": "stderr",
          "text": [
            "/tmp/ipython-input-2137805434.py:22: FutureWarning: YF.download() has changed argument auto_adjust default to True\n",
            "  stock_data = yf.download(ticker_symbol, start=start_date, end=end_date, progress=False)\n"
          ]
        },
        {
          "output_type": "stream",
          "name": "stdout",
          "text": [
            "Successfully downloaded data for FAST.\n",
            "\n",
            "--- Last 5 Days of Data for FAST ---\n",
            "Price           Close       High        Low       Open   Volume\n",
            "Ticker           FAST       FAST       FAST       FAST     FAST\n",
            "Date                                                           \n",
            "2025-07-25  47.525536  47.873889  47.037837  47.834080  5508600\n",
            "2025-07-28  46.580002  47.396147  46.540189  47.316525  5777000\n",
            "2025-07-29  46.599998  46.860001  46.380001  46.730000  5711800\n",
            "2025-07-30  46.410000  46.880001  46.060001  46.570000  5815900\n",
            "2025-07-31  46.130001  46.759998  45.889999  46.099998  8679100\n",
            "Data successfully saved to 'FAST_historical_data_2025-08-01.csv'\n",
            "------------------------------\n",
            "Attempting to download data for FRT from 2024-08-01 to 2025-08-01...\n"
          ]
        },
        {
          "output_type": "stream",
          "name": "stderr",
          "text": [
            "/tmp/ipython-input-2137805434.py:22: FutureWarning: YF.download() has changed argument auto_adjust default to True\n",
            "  stock_data = yf.download(ticker_symbol, start=start_date, end=end_date, progress=False)\n"
          ]
        },
        {
          "output_type": "stream",
          "name": "stdout",
          "text": [
            "Successfully downloaded data for FRT.\n",
            "\n",
            "--- Last 5 Days of Data for FRT ---\n",
            "Price           Close       High        Low       Open   Volume\n",
            "Ticker            FRT        FRT        FRT        FRT      FRT\n",
            "Date                                                           \n",
            "2025-07-25  94.239998  95.250000  93.550003  95.139999   856500\n",
            "2025-07-28  93.190002  94.290001  93.099998  94.139999   697500\n",
            "2025-07-29  94.839996  94.879997  93.309998  93.970001   799600\n",
            "2025-07-30  93.580002  95.889999  92.889999  95.099998   939400\n",
            "2025-07-31  92.160004  93.639999  91.650002  92.470001  2340300\n",
            "Data successfully saved to 'FRT_historical_data_2025-08-01.csv'\n",
            "------------------------------\n",
            "Attempting to download data for FDX from 2024-08-01 to 2025-08-01...\n"
          ]
        },
        {
          "output_type": "stream",
          "name": "stderr",
          "text": [
            "/tmp/ipython-input-2137805434.py:22: FutureWarning: YF.download() has changed argument auto_adjust default to True\n",
            "  stock_data = yf.download(ticker_symbol, start=start_date, end=end_date, progress=False)\n"
          ]
        },
        {
          "output_type": "stream",
          "name": "stdout",
          "text": [
            "Successfully downloaded data for FDX.\n",
            "\n",
            "--- Last 5 Days of Data for FDX ---\n",
            "Price            Close        High         Low        Open   Volume\n",
            "Ticker             FDX         FDX         FDX         FDX      FDX\n",
            "Date                                                               \n",
            "2025-07-25  243.199997  243.639999  237.539993  238.199997  1812800\n",
            "2025-07-28  242.410004  244.399994  239.449997  240.369995  1624500\n",
            "2025-07-29  234.539993  241.649994  234.250000  240.279999  2068900\n",
            "2025-07-30  223.860001  234.000000  222.279999  233.440002  3617300\n",
            "2025-07-31  223.490005  225.070007  220.979996  222.660004  2296200\n",
            "Data successfully saved to 'FDX_historical_data_2025-08-01.csv'\n",
            "------------------------------\n",
            "Attempting to download data for FIS from 2024-08-01 to 2025-08-01...\n"
          ]
        },
        {
          "output_type": "stream",
          "name": "stderr",
          "text": [
            "/tmp/ipython-input-2137805434.py:22: FutureWarning: YF.download() has changed argument auto_adjust default to True\n",
            "  stock_data = yf.download(ticker_symbol, start=start_date, end=end_date, progress=False)\n"
          ]
        },
        {
          "output_type": "stream",
          "name": "stdout",
          "text": [
            "Successfully downloaded data for FIS.\n",
            "\n",
            "--- Last 5 Days of Data for FIS ---\n",
            "Price           Close       High        Low       Open   Volume\n",
            "Ticker            FIS        FIS        FIS        FIS      FIS\n",
            "Date                                                           \n",
            "2025-07-25  81.940002  82.059998  79.860001  80.419998  2694200\n",
            "2025-07-28  81.830002  82.169998  81.080002  81.410004  1540400\n",
            "2025-07-29  81.620003  82.620003  81.430000  82.110001  1829100\n",
            "2025-07-30  80.639999  82.070000  80.500000  81.660004  1873200\n",
            "2025-07-31  79.410004  80.989998  79.269997  80.199997  2870000\n",
            "Data successfully saved to 'FIS_historical_data_2025-08-01.csv'\n",
            "------------------------------\n",
            "Attempting to download data for FITB from 2024-08-01 to 2025-08-01...\n"
          ]
        },
        {
          "output_type": "stream",
          "name": "stderr",
          "text": [
            "/tmp/ipython-input-2137805434.py:22: FutureWarning: YF.download() has changed argument auto_adjust default to True\n",
            "  stock_data = yf.download(ticker_symbol, start=start_date, end=end_date, progress=False)\n"
          ]
        },
        {
          "output_type": "stream",
          "name": "stdout",
          "text": [
            "Successfully downloaded data for FITB.\n",
            "\n",
            "--- Last 5 Days of Data for FITB ---\n",
            "Price           Close       High        Low       Open   Volume\n",
            "Ticker           FITB       FITB       FITB       FITB     FITB\n",
            "Date                                                           \n",
            "2025-07-25  42.840000  42.849998  42.150002  42.680000  4485700\n",
            "2025-07-28  42.529999  43.020000  42.259998  42.840000  3119500\n",
            "2025-07-29  42.639999  42.880001  42.480000  42.849998  2853500\n",
            "2025-07-30  42.220001  42.880001  41.990002  42.759998  3548600\n",
            "2025-07-31  41.570000  42.310001  41.439999  42.009998  4665600\n",
            "Data successfully saved to 'FITB_historical_data_2025-08-01.csv'\n",
            "------------------------------\n",
            "Attempting to download data for FE from 2024-08-01 to 2025-08-01...\n"
          ]
        },
        {
          "output_type": "stream",
          "name": "stderr",
          "text": [
            "/tmp/ipython-input-2137805434.py:22: FutureWarning: YF.download() has changed argument auto_adjust default to True\n",
            "  stock_data = yf.download(ticker_symbol, start=start_date, end=end_date, progress=False)\n"
          ]
        },
        {
          "output_type": "stream",
          "name": "stdout",
          "text": [
            "Successfully downloaded data for FE.\n",
            "\n",
            "--- Last 5 Days of Data for FE ---\n",
            "Price           Close       High        Low       Open   Volume\n",
            "Ticker             FE         FE         FE         FE       FE\n",
            "Date                                                           \n",
            "2025-07-25  41.939999  42.099998  41.360001  41.360001  5689800\n",
            "2025-07-28  41.410000  41.939999  41.369999  41.869999  4313500\n",
            "2025-07-29  41.799999  41.860001  41.299999  41.529999  5618400\n",
            "2025-07-30  41.790001  42.250000  41.639999  42.000000  4612500\n",
            "2025-07-31  42.709999  42.759998  41.869999  41.919998  6440800\n",
            "Data successfully saved to 'FE_historical_data_2025-08-01.csv'\n",
            "------------------------------\n",
            "Attempting to download data for FISV from 2024-08-01 to 2025-08-01...\n"
          ]
        },
        {
          "output_type": "stream",
          "name": "stderr",
          "text": [
            "/tmp/ipython-input-2137805434.py:22: FutureWarning: YF.download() has changed argument auto_adjust default to True\n",
            "  stock_data = yf.download(ticker_symbol, start=start_date, end=end_date, progress=False)\n",
            "ERROR:yfinance:\n",
            "1 Failed download:\n",
            "ERROR:yfinance:['FISV']: YFTzMissingError('possibly delisted; no timezone found')\n"
          ]
        },
        {
          "output_type": "stream",
          "name": "stdout",
          "text": [
            "No data found for ticker 'FISV'. It might be an invalid ticker or delisted.\n",
            "------------------------------\n",
            "Attempting to download data for FLT from 2024-08-01 to 2025-08-01...\n"
          ]
        },
        {
          "output_type": "stream",
          "name": "stderr",
          "text": [
            "/tmp/ipython-input-2137805434.py:22: FutureWarning: YF.download() has changed argument auto_adjust default to True\n",
            "  stock_data = yf.download(ticker_symbol, start=start_date, end=end_date, progress=False)\n",
            "ERROR:yfinance:\n",
            "1 Failed download:\n",
            "ERROR:yfinance:['FLT']: YFTzMissingError('possibly delisted; no timezone found')\n",
            "/tmp/ipython-input-2137805434.py:22: FutureWarning: YF.download() has changed argument auto_adjust default to True\n",
            "  stock_data = yf.download(ticker_symbol, start=start_date, end=end_date, progress=False)\n"
          ]
        },
        {
          "output_type": "stream",
          "name": "stdout",
          "text": [
            "No data found for ticker 'FLT'. It might be an invalid ticker or delisted.\n",
            "------------------------------\n",
            "Attempting to download data for FMC from 2024-08-01 to 2025-08-01...\n",
            "Successfully downloaded data for FMC.\n",
            "\n",
            "--- Last 5 Days of Data for FMC ---\n",
            "Price           Close       High        Low       Open   Volume\n",
            "Ticker            FMC        FMC        FMC        FMC      FMC\n",
            "Date                                                           \n",
            "2025-07-25  43.209999  43.340000  41.939999  41.950001  1146600\n",
            "2025-07-28  42.650002  43.070000  42.250000  42.910000  1214100\n",
            "2025-07-29  42.070000  42.619999  41.290001  42.549999  2322000\n",
            "2025-07-30  41.330002  42.139999  40.680000  41.860001  3250000\n",
            "2025-07-31  39.040001  42.770000  37.549999  42.470001  4617500\n",
            "Data successfully saved to 'FMC_historical_data_2025-08-01.csv'\n",
            "------------------------------\n",
            "Attempting to download data for F from 2024-08-01 to 2025-08-01...\n"
          ]
        },
        {
          "output_type": "stream",
          "name": "stderr",
          "text": [
            "/tmp/ipython-input-2137805434.py:22: FutureWarning: YF.download() has changed argument auto_adjust default to True\n",
            "  stock_data = yf.download(ticker_symbol, start=start_date, end=end_date, progress=False)\n"
          ]
        },
        {
          "output_type": "stream",
          "name": "stdout",
          "text": [
            "Successfully downloaded data for F.\n",
            "\n",
            "--- Last 5 Days of Data for F ---\n",
            "Price       Close   High    Low   Open     Volume\n",
            "Ticker          F      F      F      F          F\n",
            "Date                                             \n",
            "2025-07-25  11.47  11.49  11.24  11.34   52312300\n",
            "2025-07-28  11.28  11.49  11.25  11.48   54173600\n",
            "2025-07-29  11.08  11.29  11.06  11.29   58371500\n",
            "2025-07-30  10.87  11.13  10.82  11.13   79866900\n",
            "2025-07-31  11.07  11.15  10.68  10.77  101002600\n",
            "Data successfully saved to 'F_historical_data_2025-08-01.csv'\n",
            "------------------------------\n",
            "Attempting to download data for FTNT from 2024-08-01 to 2025-08-01...\n",
            "Successfully downloaded data for FTNT.\n",
            "\n",
            "--- Last 5 Days of Data for FTNT ---\n",
            "Price            Close        High         Low        Open   Volume\n",
            "Ticker            FTNT        FTNT        FTNT        FTNT     FTNT\n",
            "Date                                                               \n",
            "2025-07-25  104.820000  105.849998  104.720001  105.230003  2087900\n",
            "2025-07-28  104.879997  106.209999  104.120003  104.980003  2129000\n",
            "2025-07-29  104.769997  106.949997  103.209999  105.629997  3246900\n",
            "2025-07-30  101.709999  104.879997   99.779999  104.879997  5326200\n",
            "2025-07-31   99.900002  102.599998   99.669998  102.269997  4308800\n",
            "Data successfully saved to 'FTNT_historical_data_2025-08-01.csv'\n",
            "------------------------------\n",
            "Attempting to download data for FTV from 2024-08-01 to 2025-08-01...\n"
          ]
        },
        {
          "output_type": "stream",
          "name": "stderr",
          "text": [
            "/tmp/ipython-input-2137805434.py:22: FutureWarning: YF.download() has changed argument auto_adjust default to True\n",
            "  stock_data = yf.download(ticker_symbol, start=start_date, end=end_date, progress=False)\n",
            "/tmp/ipython-input-2137805434.py:22: FutureWarning: YF.download() has changed argument auto_adjust default to True\n",
            "  stock_data = yf.download(ticker_symbol, start=start_date, end=end_date, progress=False)\n"
          ]
        },
        {
          "output_type": "stream",
          "name": "stdout",
          "text": [
            "Successfully downloaded data for FTV.\n",
            "\n",
            "--- Last 5 Days of Data for FTV ---\n",
            "Price           Close       High        Low       Open   Volume\n",
            "Ticker            FTV        FTV        FTV        FTV      FTV\n",
            "Date                                                           \n",
            "2025-07-25  51.520000  51.540001  50.820000  51.150002  2939400\n",
            "2025-07-28  51.259998  51.900002  51.090000  51.560001  3206000\n",
            "2025-07-29  50.919998  51.540001  50.500000  51.410000  3950400\n",
            "2025-07-30  49.650002  52.860001  49.259998  52.860001  9711900\n",
            "2025-07-31  47.930000  49.310001  47.831001  48.990002  4957200\n",
            "Data successfully saved to 'FTV_historical_data_2025-08-01.csv'\n",
            "------------------------------\n",
            "Attempting to download data for BEN from 2024-08-01 to 2025-08-01...\n"
          ]
        },
        {
          "output_type": "stream",
          "name": "stderr",
          "text": [
            "/tmp/ipython-input-2137805434.py:22: FutureWarning: YF.download() has changed argument auto_adjust default to True\n",
            "  stock_data = yf.download(ticker_symbol, start=start_date, end=end_date, progress=False)\n"
          ]
        },
        {
          "output_type": "stream",
          "name": "stdout",
          "text": [
            "Successfully downloaded data for BEN.\n",
            "\n",
            "--- Last 5 Days of Data for BEN ---\n",
            "Price           Close       High        Low   Open    Volume\n",
            "Ticker            BEN        BEN        BEN    BEN       BEN\n",
            "Date                                                        \n",
            "2025-07-25  24.820000  24.889999  24.480000  24.74   3633800\n",
            "2025-07-28  24.670000  24.799999  24.559999  24.73   4146500\n",
            "2025-07-29  24.580000  24.840000  24.420000  24.84   2662900\n",
            "2025-07-30  24.309999  24.680000  24.170000  24.59   3914300\n",
            "2025-07-31  24.000000  24.430000  23.840000  24.23  11790000\n",
            "Data successfully saved to 'BEN_historical_data_2025-08-01.csv'\n",
            "------------------------------\n",
            "Attempting to download data for FCX from 2024-08-01 to 2025-08-01...\n"
          ]
        },
        {
          "output_type": "stream",
          "name": "stderr",
          "text": [
            "/tmp/ipython-input-2137805434.py:22: FutureWarning: YF.download() has changed argument auto_adjust default to True\n",
            "  stock_data = yf.download(ticker_symbol, start=start_date, end=end_date, progress=False)\n"
          ]
        },
        {
          "output_type": "stream",
          "name": "stdout",
          "text": [
            "Successfully downloaded data for FCX.\n",
            "\n",
            "--- Last 5 Days of Data for FCX ---\n",
            "Price           Close       High        Low       Open    Volume\n",
            "Ticker            FCX        FCX        FCX        FCX       FCX\n",
            "Date                                                            \n",
            "2025-07-25  44.889999  44.959999  44.180000  44.570000  16011000\n",
            "2025-07-28  43.790001  44.830002  42.209999  44.680000  26374100\n",
            "2025-07-29  43.230000  43.950001  42.680000  43.900002  16495800\n",
            "2025-07-30  39.139999  43.680000  38.340000  43.189999  64894200\n",
            "2025-07-31  40.240002  40.549999  38.759998  38.900002  26257100\n",
            "Data successfully saved to 'FCX_historical_data_2025-08-01.csv'\n",
            "------------------------------\n",
            "Attempting to download data for GRMN from 2024-08-01 to 2025-08-01...\n"
          ]
        },
        {
          "output_type": "stream",
          "name": "stderr",
          "text": [
            "/tmp/ipython-input-2137805434.py:22: FutureWarning: YF.download() has changed argument auto_adjust default to True\n",
            "  stock_data = yf.download(ticker_symbol, start=start_date, end=end_date, progress=False)\n"
          ]
        },
        {
          "output_type": "stream",
          "name": "stdout",
          "text": [
            "Successfully downloaded data for GRMN.\n",
            "\n",
            "--- Last 5 Days of Data for GRMN ---\n",
            "Price            Close        High         Low        Open   Volume\n",
            "Ticker            GRMN        GRMN        GRMN        GRMN     GRMN\n",
            "Date                                                               \n",
            "2025-07-25  235.630005  235.910004  232.309998  234.199997   596700\n",
            "2025-07-28  236.360001  237.639999  234.740005  236.830002   742200\n",
            "2025-07-29  239.300003  239.470001  236.080002  237.220001  1134200\n",
            "2025-07-30  221.490005  242.470001  219.910004  240.479996  2778400\n",
            "2025-07-31  218.759995  222.309998  217.570007  219.449997  1274700\n",
            "Data successfully saved to 'GRMN_historical_data_2025-08-01.csv'\n",
            "------------------------------\n",
            "Attempting to download data for IT from 2024-08-01 to 2025-08-01...\n"
          ]
        },
        {
          "output_type": "stream",
          "name": "stderr",
          "text": [
            "/tmp/ipython-input-2137805434.py:22: FutureWarning: YF.download() has changed argument auto_adjust default to True\n",
            "  stock_data = yf.download(ticker_symbol, start=start_date, end=end_date, progress=False)\n"
          ]
        },
        {
          "output_type": "stream",
          "name": "stdout",
          "text": [
            "Successfully downloaded data for IT.\n",
            "\n",
            "--- Last 5 Days of Data for IT ---\n",
            "Price            Close        High         Low        Open  Volume\n",
            "Ticker              IT          IT          IT          IT      IT\n",
            "Date                                                              \n",
            "2025-07-25  356.640015  359.359985  354.239990  356.010010  753800\n",
            "2025-07-28  352.470001  357.329987  352.470001  356.739990  617900\n",
            "2025-07-29  350.399994  353.769989  348.640015  353.709991  865200\n",
            "2025-07-30  343.799988  352.079987  342.000000  350.619995  709300\n",
            "2025-07-31  338.649994  345.500000  337.399994  343.250000  897800\n",
            "Data successfully saved to 'IT_historical_data_2025-08-01.csv'\n",
            "------------------------------\n",
            "Attempting to download data for GD from 2024-08-01 to 2025-08-01...\n"
          ]
        },
        {
          "output_type": "stream",
          "name": "stderr",
          "text": [
            "/tmp/ipython-input-2137805434.py:22: FutureWarning: YF.download() has changed argument auto_adjust default to True\n",
            "  stock_data = yf.download(ticker_symbol, start=start_date, end=end_date, progress=False)\n"
          ]
        },
        {
          "output_type": "stream",
          "name": "stdout",
          "text": [
            "Successfully downloaded data for GD.\n",
            "\n",
            "--- Last 5 Days of Data for GD ---\n",
            "Price            Close        High         Low        Open   Volume\n",
            "Ticker              GD          GD          GD          GD       GD\n",
            "Date                                                               \n",
            "2025-07-25  314.019989  314.980011  311.000000  314.040009  1218100\n",
            "2025-07-28  313.100006  313.670013  311.079987  313.670013  1153600\n",
            "2025-07-29  314.700012  316.959991  313.429993  316.000000  1140800\n",
            "2025-07-30  312.179993  315.369995  310.470001  315.100006  1518000\n",
            "2025-07-31  311.609985  313.309998  310.299988  311.350006  1647900\n",
            "Data successfully saved to 'GD_historical_data_2025-08-01.csv'\n",
            "------------------------------\n",
            "Attempting to download data for GIS from 2024-08-01 to 2025-08-01...\n"
          ]
        },
        {
          "output_type": "stream",
          "name": "stderr",
          "text": [
            "/tmp/ipython-input-2137805434.py:22: FutureWarning: YF.download() has changed argument auto_adjust default to True\n",
            "  stock_data = yf.download(ticker_symbol, start=start_date, end=end_date, progress=False)\n"
          ]
        },
        {
          "output_type": "stream",
          "name": "stdout",
          "text": [
            "Successfully downloaded data for GIS.\n",
            "\n",
            "--- Last 5 Days of Data for GIS ---\n",
            "Price           Close       High        Low       Open   Volume\n",
            "Ticker            GIS        GIS        GIS        GIS      GIS\n",
            "Date                                                           \n",
            "2025-07-25  51.070000  51.240002  50.630001  51.000000  4609600\n",
            "2025-07-28  49.849998  50.660000  49.799999  50.639999  5920800\n",
            "2025-07-29  50.020000  50.439999  49.700001  49.910000  3874600\n",
            "2025-07-30  49.209999  50.169998  49.009998  50.029999  7302500\n",
            "2025-07-31  48.980000  49.480000  48.590000  48.750000  7971500\n",
            "Data successfully saved to 'GIS_historical_data_2025-08-01.csv'\n",
            "------------------------------\n",
            "Attempting to download data for GM from 2024-08-01 to 2025-08-01...\n"
          ]
        },
        {
          "output_type": "stream",
          "name": "stderr",
          "text": [
            "/tmp/ipython-input-2137805434.py:22: FutureWarning: YF.download() has changed argument auto_adjust default to True\n",
            "  stock_data = yf.download(ticker_symbol, start=start_date, end=end_date, progress=False)\n"
          ]
        },
        {
          "output_type": "stream",
          "name": "stdout",
          "text": [
            "Successfully downloaded data for GM.\n",
            "\n",
            "--- Last 5 Days of Data for GM ---\n",
            "Price           Close       High        Low       Open    Volume\n",
            "Ticker             GM         GM         GM         GM        GM\n",
            "Date                                                            \n",
            "2025-07-25  53.400002  53.470001  52.080002  52.860001   6491300\n",
            "2025-07-28  53.450001  53.939999  53.029999  53.220001   6954500\n",
            "2025-07-29  52.110001  53.790001  52.080002  53.790001   8443000\n",
            "2025-07-30  52.110001  52.750000  51.689999  52.389999   7854200\n",
            "2025-07-31  53.340000  54.709999  52.459999  52.570000  14454600\n",
            "Data successfully saved to 'GM_historical_data_2025-08-01.csv'\n",
            "------------------------------\n",
            "Attempting to download data for GPC from 2024-08-01 to 2025-08-01...\n"
          ]
        },
        {
          "output_type": "stream",
          "name": "stderr",
          "text": [
            "/tmp/ipython-input-2137805434.py:22: FutureWarning: YF.download() has changed argument auto_adjust default to True\n",
            "  stock_data = yf.download(ticker_symbol, start=start_date, end=end_date, progress=False)\n"
          ]
        },
        {
          "output_type": "stream",
          "name": "stdout",
          "text": [
            "Successfully downloaded data for GPC.\n",
            "\n",
            "--- Last 5 Days of Data for GPC ---\n",
            "Price            Close        High         Low        Open   Volume\n",
            "Ticker             GPC         GPC         GPC         GPC      GPC\n",
            "Date                                                               \n",
            "2025-07-25  133.699997  133.789993  131.929993  132.770004   823100\n",
            "2025-07-28  133.070007  133.750000  131.779999  133.330002  1192800\n",
            "2025-07-29  133.460007  133.589996  132.070007  132.830002  1353700\n",
            "2025-07-30  132.029999  133.770004  131.039993  133.479996  1975100\n",
            "2025-07-31  128.880005  131.990005  128.330002  130.449997  2190600\n",
            "Data successfully saved to 'GPC_historical_data_2025-08-01.csv'\n",
            "------------------------------\n",
            "Attempting to download data for GILD from 2024-08-01 to 2025-08-01...\n"
          ]
        },
        {
          "output_type": "stream",
          "name": "stderr",
          "text": [
            "/tmp/ipython-input-2137805434.py:22: FutureWarning: YF.download() has changed argument auto_adjust default to True\n",
            "  stock_data = yf.download(ticker_symbol, start=start_date, end=end_date, progress=False)\n"
          ]
        },
        {
          "output_type": "stream",
          "name": "stdout",
          "text": [
            "Successfully downloaded data for GILD.\n",
            "\n",
            "--- Last 5 Days of Data for GILD ---\n",
            "Price            Close        High         Low        Open   Volume\n",
            "Ticker            GILD        GILD        GILD        GILD     GILD\n",
            "Date                                                               \n",
            "2025-07-25  116.199997  117.599998  114.129997  114.559998  7680800\n",
            "2025-07-28  113.029999  114.750000  112.680000  113.389999  5370500\n",
            "2025-07-29  114.230003  114.410004  112.300003  112.949997  6278900\n",
            "2025-07-30  114.760002  115.750000  113.529999  114.269997  5826900\n",
            "2025-07-31  112.290001  115.540001  111.800003  113.860001  7881100\n",
            "Data successfully saved to 'GILD_historical_data_2025-08-01.csv'\n",
            "------------------------------\n",
            "Attempting to download data for GPN from 2024-08-01 to 2025-08-01...\n"
          ]
        },
        {
          "output_type": "stream",
          "name": "stderr",
          "text": [
            "/tmp/ipython-input-2137805434.py:22: FutureWarning: YF.download() has changed argument auto_adjust default to True\n",
            "  stock_data = yf.download(ticker_symbol, start=start_date, end=end_date, progress=False)\n"
          ]
        },
        {
          "output_type": "stream",
          "name": "stdout",
          "text": [
            "Successfully downloaded data for GPN.\n",
            "\n",
            "--- Last 5 Days of Data for GPN ---\n",
            "Price           Close       High        Low       Open   Volume\n",
            "Ticker            GPN        GPN        GPN        GPN      GPN\n",
            "Date                                                           \n",
            "2025-07-25  85.760002  86.209999  83.309998  85.260002  3422400\n",
            "2025-07-28  84.709999  86.099998  84.330002  85.360001  1602300\n",
            "2025-07-29  83.230003  84.919998  83.019997  84.540001  1651700\n",
            "2025-07-30  81.440002  83.650002  81.059998  83.500000  2186800\n",
            "2025-07-31  79.949997  82.370003  79.870003  81.099998  1762000\n",
            "Data successfully saved to 'GPN_historical_data_2025-08-01.csv'\n",
            "------------------------------\n",
            "Attempting to download data for GL from 2024-08-01 to 2025-08-01...\n"
          ]
        },
        {
          "output_type": "stream",
          "name": "stderr",
          "text": [
            "/tmp/ipython-input-2137805434.py:22: FutureWarning: YF.download() has changed argument auto_adjust default to True\n",
            "  stock_data = yf.download(ticker_symbol, start=start_date, end=end_date, progress=False)\n"
          ]
        },
        {
          "output_type": "stream",
          "name": "stdout",
          "text": [
            "Successfully downloaded data for GL.\n",
            "\n",
            "--- Last 5 Days of Data for GL ---\n",
            "Price            Close        High         Low        Open   Volume\n",
            "Ticker              GL          GL          GL          GL       GL\n",
            "Date                                                               \n",
            "2025-07-25  135.130005  138.410004  133.279999  133.910004  1363200\n",
            "2025-07-28  134.160004  135.229996  133.229996  134.759995   743900\n",
            "2025-07-29  143.270004  143.839996  136.750000  138.600006  1762300\n",
            "2025-07-30  141.050003  143.149994  140.270004  142.600006   824200\n",
            "2025-07-31  140.470001  144.000000  139.949997  142.320007   617800\n",
            "Data successfully saved to 'GL_historical_data_2025-08-01.csv'\n",
            "------------------------------\n",
            "Attempting to download data for GS from 2024-08-01 to 2025-08-01...\n"
          ]
        },
        {
          "output_type": "stream",
          "name": "stderr",
          "text": [
            "/tmp/ipython-input-2137805434.py:22: FutureWarning: YF.download() has changed argument auto_adjust default to True\n",
            "  stock_data = yf.download(ticker_symbol, start=start_date, end=end_date, progress=False)\n"
          ]
        },
        {
          "output_type": "stream",
          "name": "stdout",
          "text": [
            "Successfully downloaded data for GS.\n",
            "\n",
            "--- Last 5 Days of Data for GS ---\n",
            "Price            Close        High         Low        Open   Volume\n",
            "Ticker              GS          GS          GS          GS       GS\n",
            "Date                                                               \n",
            "2025-07-25  728.979980  729.890015  718.349976  720.760010  1851400\n",
            "2025-07-28  723.650024  732.520020  722.169983  728.000000  1464800\n",
            "2025-07-29  731.979980  734.130005  722.419983  726.849976  2136000\n",
            "2025-07-30  730.750000  737.880005  723.179993  731.140015  1816200\n",
            "2025-07-31  723.590027  734.039978  720.440002  726.590027  2356700\n",
            "Data successfully saved to 'GS_historical_data_2025-08-01.csv'\n",
            "------------------------------\n",
            "Attempting to download data for GWW from 2024-08-01 to 2025-08-01...\n"
          ]
        },
        {
          "output_type": "stream",
          "name": "stderr",
          "text": [
            "/tmp/ipython-input-2137805434.py:22: FutureWarning: YF.download() has changed argument auto_adjust default to True\n",
            "  stock_data = yf.download(ticker_symbol, start=start_date, end=end_date, progress=False)\n"
          ]
        },
        {
          "output_type": "stream",
          "name": "stdout",
          "text": [
            "Successfully downloaded data for GWW.\n",
            "\n",
            "--- Last 5 Days of Data for GWW ---\n",
            "Price             Close         High          Low         Open  Volume\n",
            "Ticker              GWW          GWW          GWW          GWW     GWW\n",
            "Date                                                                  \n",
            "2025-07-25  1054.020020  1055.469971  1044.760010  1055.469971  241400\n",
            "2025-07-28  1048.369995  1054.459961  1042.839966  1051.930054  140800\n",
            "2025-07-29  1055.069946  1055.069946  1046.189941  1052.099976  275900\n",
            "2025-07-30  1042.670044  1062.329956  1035.170044  1056.540039  256400\n",
            "2025-07-31  1039.540039  1050.130005  1036.469971  1036.469971  427500\n",
            "Data successfully saved to 'GWW_historical_data_2025-08-01.csv'\n",
            "------------------------------\n",
            "Attempting to download data for HAL from 2024-08-01 to 2025-08-01...\n"
          ]
        },
        {
          "output_type": "stream",
          "name": "stderr",
          "text": [
            "/tmp/ipython-input-2137805434.py:22: FutureWarning: YF.download() has changed argument auto_adjust default to True\n",
            "  stock_data = yf.download(ticker_symbol, start=start_date, end=end_date, progress=False)\n"
          ]
        },
        {
          "output_type": "stream",
          "name": "stdout",
          "text": [
            "Successfully downloaded data for HAL.\n",
            "\n",
            "--- Last 5 Days of Data for HAL ---\n",
            "Price           Close   High    Low       Open    Volume\n",
            "Ticker            HAL    HAL    HAL        HAL       HAL\n",
            "Date                                                    \n",
            "2025-07-25  22.450001  22.68  22.08  22.490000  15844800\n",
            "2025-07-28  22.840000  23.02  22.52  22.549999  13123400\n",
            "2025-07-29  23.080000  23.17  22.60  22.750000  18971000\n",
            "2025-07-30  22.400000  23.00  22.18  22.959999  22446500\n",
            "2025-07-31  22.400000  22.75  22.18  22.219999  14020800\n",
            "Data successfully saved to 'HAL_historical_data_2025-08-01.csv'\n",
            "------------------------------\n",
            "Attempting to download data for HBI from 2024-08-01 to 2025-08-01...\n"
          ]
        },
        {
          "output_type": "stream",
          "name": "stderr",
          "text": [
            "/tmp/ipython-input-2137805434.py:22: FutureWarning: YF.download() has changed argument auto_adjust default to True\n",
            "  stock_data = yf.download(ticker_symbol, start=start_date, end=end_date, progress=False)\n"
          ]
        },
        {
          "output_type": "stream",
          "name": "stdout",
          "text": [
            "Successfully downloaded data for HBI.\n",
            "\n",
            "--- Last 5 Days of Data for HBI ---\n",
            "Price      Close  High   Low  Open   Volume\n",
            "Ticker       HBI   HBI   HBI   HBI      HBI\n",
            "Date                                       \n",
            "2025-07-25  4.58  4.61  4.50  4.60  3379900\n",
            "2025-07-28  4.50  4.61  4.48  4.59  3920800\n",
            "2025-07-29  4.33  4.55  4.30  4.54  4070100\n",
            "2025-07-30  4.11  4.34  4.08  4.34  7007800\n",
            "2025-07-31  4.09  4.12  4.02  4.07  6246900\n",
            "Data successfully saved to 'HBI_historical_data_2025-08-01.csv'\n",
            "------------------------------\n",
            "Attempting to download data for HIG from 2024-08-01 to 2025-08-01...\n"
          ]
        },
        {
          "output_type": "stream",
          "name": "stderr",
          "text": [
            "/tmp/ipython-input-2137805434.py:22: FutureWarning: YF.download() has changed argument auto_adjust default to True\n",
            "  stock_data = yf.download(ticker_symbol, start=start_date, end=end_date, progress=False)\n"
          ]
        },
        {
          "output_type": "stream",
          "name": "stdout",
          "text": [
            "Successfully downloaded data for HIG.\n",
            "\n",
            "--- Last 5 Days of Data for HIG ---\n",
            "Price            Close        High         Low        Open   Volume\n",
            "Ticker             HIG         HIG         HIG         HIG      HIG\n",
            "Date                                                               \n",
            "2025-07-25  123.349998  124.330002  123.070000  123.070000  1415400\n",
            "2025-07-28  121.239998  123.360001  120.949997  123.000000  1860500\n",
            "2025-07-29  124.639999  126.870003  122.230003  123.669998  2734400\n",
            "2025-07-30  124.629997  125.790001  123.940002  125.150002  2037900\n",
            "2025-07-31  124.389999  126.169998  124.040001  124.330002  1367800\n",
            "Data successfully saved to 'HIG_historical_data_2025-08-01.csv'\n",
            "------------------------------\n",
            "Attempting to download data for HAS from 2024-08-01 to 2025-08-01...\n"
          ]
        },
        {
          "output_type": "stream",
          "name": "stderr",
          "text": [
            "/tmp/ipython-input-2137805434.py:22: FutureWarning: YF.download() has changed argument auto_adjust default to True\n",
            "  stock_data = yf.download(ticker_symbol, start=start_date, end=end_date, progress=False)\n"
          ]
        },
        {
          "output_type": "stream",
          "name": "stdout",
          "text": [
            "Successfully downloaded data for HAS.\n",
            "\n",
            "--- Last 5 Days of Data for HAS ---\n",
            "Price           Close       High        Low       Open   Volume\n",
            "Ticker            HAS        HAS        HAS        HAS      HAS\n",
            "Date                                                           \n",
            "2025-07-25  74.980003  76.120003  73.860001  75.839996  2542000\n",
            "2025-07-28  76.300003  76.449997  74.660004  75.720001  3564800\n",
            "2025-07-29  76.300003  77.419998  75.540001  76.449997  2845600\n",
            "2025-07-30  76.000000  76.629997  75.309998  76.400002  1733100\n",
            "2025-07-31  75.160004  75.820000  74.690002  75.589996  2203000\n",
            "Data successfully saved to 'HAS_historical_data_2025-08-01.csv'\n",
            "------------------------------\n",
            "Attempting to download data for HCA from 2024-08-01 to 2025-08-01...\n"
          ]
        },
        {
          "output_type": "stream",
          "name": "stderr",
          "text": [
            "/tmp/ipython-input-2137805434.py:22: FutureWarning: YF.download() has changed argument auto_adjust default to True\n",
            "  stock_data = yf.download(ticker_symbol, start=start_date, end=end_date, progress=False)\n"
          ]
        },
        {
          "output_type": "stream",
          "name": "stdout",
          "text": [
            "Successfully downloaded data for HCA.\n",
            "\n",
            "--- Last 5 Days of Data for HCA ---\n",
            "Price            Close        High         Low        Open   Volume\n",
            "Ticker             HCA         HCA         HCA         HCA      HCA\n",
            "Date                                                               \n",
            "2025-07-25  334.320007  345.000000  330.000000  335.970001  3175900\n",
            "2025-07-28  340.540009  341.190002  331.609985  332.079987  1869500\n",
            "2025-07-29  344.500000  348.420013  339.820007  341.119995  1879300\n",
            "2025-07-30  355.059998  355.489990  342.709991  344.239990  2389900\n",
            "2025-07-31  353.989990  358.679993  353.130005  353.750000  1462700\n",
            "Data successfully saved to 'HCA_historical_data_2025-08-01.csv'\n",
            "------------------------------\n",
            "Attempting to download data for PEAK from 2024-08-01 to 2025-08-01...\n"
          ]
        },
        {
          "output_type": "stream",
          "name": "stderr",
          "text": [
            "/tmp/ipython-input-2137805434.py:22: FutureWarning: YF.download() has changed argument auto_adjust default to True\n",
            "  stock_data = yf.download(ticker_symbol, start=start_date, end=end_date, progress=False)\n",
            "ERROR:yfinance:\n",
            "1 Failed download:\n",
            "ERROR:yfinance:['PEAK']: YFTzMissingError('possibly delisted; no timezone found')\n",
            "/tmp/ipython-input-2137805434.py:22: FutureWarning: YF.download() has changed argument auto_adjust default to True\n",
            "  stock_data = yf.download(ticker_symbol, start=start_date, end=end_date, progress=False)\n"
          ]
        },
        {
          "output_type": "stream",
          "name": "stdout",
          "text": [
            "No data found for ticker 'PEAK'. It might be an invalid ticker or delisted.\n",
            "------------------------------\n",
            "Attempting to download data for HSIC from 2024-08-01 to 2025-08-01...\n",
            "Successfully downloaded data for HSIC.\n",
            "\n",
            "--- Last 5 Days of Data for HSIC ---\n",
            "Price           Close       High        Low       Open   Volume\n",
            "Ticker           HSIC       HSIC       HSIC       HSIC     HSIC\n",
            "Date                                                           \n",
            "2025-07-25  71.459999  71.959999  71.230003  71.959999  2049700\n",
            "2025-07-28  70.459999  71.459999  70.099998  71.459999  1715300\n",
            "2025-07-29  70.050003  70.820000  69.830002  70.650002  1453100\n",
            "2025-07-30  69.580002  70.540001  69.339996  70.089996  1666700\n",
            "2025-07-31  67.650002  69.129997  67.449997  68.330002  1779500\n",
            "Data successfully saved to 'HSIC_historical_data_2025-08-01.csv'\n",
            "------------------------------\n",
            "Attempting to download data for HSY from 2024-08-01 to 2025-08-01...\n"
          ]
        },
        {
          "output_type": "stream",
          "name": "stderr",
          "text": [
            "/tmp/ipython-input-2137805434.py:22: FutureWarning: YF.download() has changed argument auto_adjust default to True\n",
            "  stock_data = yf.download(ticker_symbol, start=start_date, end=end_date, progress=False)\n"
          ]
        },
        {
          "output_type": "stream",
          "name": "stdout",
          "text": [
            "Successfully downloaded data for HSY.\n",
            "\n",
            "--- Last 5 Days of Data for HSY ---\n",
            "Price            Close        High         Low        Open   Volume\n",
            "Ticker             HSY         HSY         HSY         HSY      HSY\n",
            "Date                                                               \n",
            "2025-07-25  187.119995  187.660004  182.589996  183.880005  1943800\n",
            "2025-07-28  184.559998  186.479996  182.410004  185.570007  1533400\n",
            "2025-07-29  186.229996  186.839996  182.919998  184.240005  2203900\n",
            "2025-07-30  188.830002  199.000000  188.009995  194.000000  3009200\n",
            "2025-07-31  186.130005  189.750000  185.250000  186.309998  2167800\n",
            "Data successfully saved to 'HSY_historical_data_2025-08-01.csv'\n",
            "------------------------------\n",
            "Attempting to download data for HES from 2024-08-01 to 2025-08-01...\n"
          ]
        },
        {
          "output_type": "stream",
          "name": "stderr",
          "text": [
            "/tmp/ipython-input-2137805434.py:22: FutureWarning: YF.download() has changed argument auto_adjust default to True\n",
            "  stock_data = yf.download(ticker_symbol, start=start_date, end=end_date, progress=False)\n"
          ]
        },
        {
          "output_type": "stream",
          "name": "stdout",
          "text": [
            "Successfully downloaded data for HES.\n",
            "\n",
            "--- Last 5 Days of Data for HES ---\n",
            "Price            Close        High         Low        Open   Volume\n",
            "Ticker             HES         HES         HES         HES      HES\n",
            "Date                                                               \n",
            "2025-07-14  149.449997  152.860001  148.824997  152.600006  2226981\n",
            "2025-07-15  148.619995  150.020004  148.020004  149.429993  2224825\n",
            "2025-07-16  147.550003  149.244995  146.800003  148.580002  3309906\n",
            "2025-07-17  148.970001  149.660004  146.039993  147.119995  3168255\n",
            "2025-07-18  148.970001  148.970001  148.970001  148.970001        0\n",
            "Data successfully saved to 'HES_historical_data_2025-08-01.csv'\n",
            "------------------------------\n",
            "Attempting to download data for HPE from 2024-08-01 to 2025-08-01...\n"
          ]
        },
        {
          "output_type": "stream",
          "name": "stderr",
          "text": [
            "/tmp/ipython-input-2137805434.py:22: FutureWarning: YF.download() has changed argument auto_adjust default to True\n",
            "  stock_data = yf.download(ticker_symbol, start=start_date, end=end_date, progress=False)\n"
          ]
        },
        {
          "output_type": "stream",
          "name": "stdout",
          "text": [
            "Successfully downloaded data for HPE.\n",
            "\n",
            "--- Last 5 Days of Data for HPE ---\n",
            "Price           Close       High        Low       Open    Volume\n",
            "Ticker            HPE        HPE        HPE        HPE       HPE\n",
            "Date                                                            \n",
            "2025-07-25  20.730000  20.730000  20.500000  20.730000   8927400\n",
            "2025-07-28  20.879999  20.927000  20.670000  20.820000  21449000\n",
            "2025-07-29  20.850000  21.100000  20.719999  20.940001  18352500\n",
            "2025-07-30  20.889999  21.090000  20.760000  20.875000  14022900\n",
            "2025-07-31  20.690001  21.198999  20.660000  20.920000  11242600\n",
            "Data successfully saved to 'HPE_historical_data_2025-08-01.csv'\n",
            "------------------------------\n",
            "Attempting to download data for HLT from 2024-08-01 to 2025-08-01...\n"
          ]
        },
        {
          "output_type": "stream",
          "name": "stderr",
          "text": [
            "/tmp/ipython-input-2137805434.py:22: FutureWarning: YF.download() has changed argument auto_adjust default to True\n",
            "  stock_data = yf.download(ticker_symbol, start=start_date, end=end_date, progress=False)\n"
          ]
        },
        {
          "output_type": "stream",
          "name": "stdout",
          "text": [
            "Successfully downloaded data for HLT.\n",
            "\n",
            "--- Last 5 Days of Data for HLT ---\n",
            "Price            Close        High         Low        Open   Volume\n",
            "Ticker             HLT         HLT         HLT         HLT      HLT\n",
            "Date                                                               \n",
            "2025-07-25  273.649994  274.359985  267.709991  269.190002  1735700\n",
            "2025-07-28  270.570007  273.899994  270.049988  273.160004  1753800\n",
            "2025-07-29  273.059998  273.149994  269.829987  271.519989  1810600\n",
            "2025-07-30  273.290009  275.980011  272.109985  273.640015  1558800\n",
            "2025-07-31  268.079987  274.250000  267.350006  273.059998  2313800\n",
            "Data successfully saved to 'HLT_historical_data_2025-08-01.csv'\n",
            "------------------------------\n",
            "Attempting to download data for HOLX from 2024-08-01 to 2025-08-01...\n"
          ]
        },
        {
          "output_type": "stream",
          "name": "stderr",
          "text": [
            "/tmp/ipython-input-2137805434.py:22: FutureWarning: YF.download() has changed argument auto_adjust default to True\n",
            "  stock_data = yf.download(ticker_symbol, start=start_date, end=end_date, progress=False)\n"
          ]
        },
        {
          "output_type": "stream",
          "name": "stdout",
          "text": [
            "Successfully downloaded data for HOLX.\n",
            "\n",
            "--- Last 5 Days of Data for HOLX ---\n",
            "Price           Close       High        Low       Open   Volume\n",
            "Ticker           HOLX       HOLX       HOLX       HOLX     HOLX\n",
            "Date                                                           \n",
            "2025-07-25  66.500000  66.959999  65.610001  66.360001  1116500\n",
            "2025-07-28  65.690002  66.449997  65.589996  66.180000  1959200\n",
            "2025-07-29  66.040001  66.250000  65.169998  65.699997  1663700\n",
            "2025-07-30  64.980003  66.199997  64.779999  65.730003  2750700\n",
            "2025-07-31  66.820000  67.519997  65.050003  66.449997  3187900\n",
            "Data successfully saved to 'HOLX_historical_data_2025-08-01.csv'\n",
            "------------------------------\n",
            "Attempting to download data for HON from 2024-08-01 to 2025-08-01...\n"
          ]
        },
        {
          "output_type": "stream",
          "name": "stderr",
          "text": [
            "/tmp/ipython-input-2137805434.py:22: FutureWarning: YF.download() has changed argument auto_adjust default to True\n",
            "  stock_data = yf.download(ticker_symbol, start=start_date, end=end_date, progress=False)\n"
          ]
        },
        {
          "output_type": "stream",
          "name": "stdout",
          "text": [
            "Successfully downloaded data for HON.\n",
            "\n",
            "--- Last 5 Days of Data for HON ---\n",
            "Price            Close        High         Low        Open   Volume\n",
            "Ticker             HON         HON         HON         HON      HON\n",
            "Date                                                               \n",
            "2025-07-25  224.240005  226.600006  222.289993  226.320007  5969100\n",
            "2025-07-28  225.080002  227.750000  224.720001  225.130005  4823100\n",
            "2025-07-29  221.720001  226.000000  221.240005  225.690002  3764500\n",
            "2025-07-30  222.160004  224.389999  221.220001  222.389999  4746100\n",
            "2025-07-31  222.350006  223.729996  221.300003  221.559998  3053400\n",
            "Data successfully saved to 'HON_historical_data_2025-08-01.csv'\n",
            "------------------------------\n",
            "Attempting to download data for HRL from 2024-08-01 to 2025-08-01...\n"
          ]
        },
        {
          "output_type": "stream",
          "name": "stderr",
          "text": [
            "/tmp/ipython-input-2137805434.py:22: FutureWarning: YF.download() has changed argument auto_adjust default to True\n",
            "  stock_data = yf.download(ticker_symbol, start=start_date, end=end_date, progress=False)\n"
          ]
        },
        {
          "output_type": "stream",
          "name": "stdout",
          "text": [
            "Successfully downloaded data for HRL.\n",
            "\n",
            "--- Last 5 Days of Data for HRL ---\n",
            "Price           Close       High        Low       Open   Volume\n",
            "Ticker            HRL        HRL        HRL        HRL      HRL\n",
            "Date                                                           \n",
            "2025-07-25  29.240000  29.330000  29.070000  29.299999  1986100\n",
            "2025-07-28  28.549999  29.110001  28.540001  29.110001  3198900\n",
            "2025-07-29  28.700001  28.900000  28.490000  28.600000  2549300\n",
            "2025-07-30  28.290001  28.809999  28.219999  28.650000  2907100\n",
            "2025-07-31  28.090000  28.299999  27.950001  28.049999  4744500\n",
            "Data successfully saved to 'HRL_historical_data_2025-08-01.csv'\n",
            "------------------------------\n",
            "Attempting to download data for HST from 2024-08-01 to 2025-08-01...\n"
          ]
        },
        {
          "output_type": "stream",
          "name": "stderr",
          "text": [
            "/tmp/ipython-input-2137805434.py:22: FutureWarning: YF.download() has changed argument auto_adjust default to True\n",
            "  stock_data = yf.download(ticker_symbol, start=start_date, end=end_date, progress=False)\n"
          ]
        },
        {
          "output_type": "stream",
          "name": "stdout",
          "text": [
            "Successfully downloaded data for HST.\n",
            "\n",
            "--- Last 5 Days of Data for HST ---\n",
            "Price           Close       High        Low       Open    Volume\n",
            "Ticker            HST        HST        HST        HST       HST\n",
            "Date                                                            \n",
            "2025-07-25  16.549999  16.719999  16.340000  16.549999  10423300\n",
            "2025-07-28  16.400000  16.719999  16.370001  16.680000   7309400\n",
            "2025-07-29  16.280001  16.510000  16.180000  16.450001  10881700\n",
            "2025-07-30  16.129999  16.450001  15.890000  16.410000  18989900\n",
            "2025-07-31  15.720000  16.510000  15.660000  16.350000  24497400\n",
            "Data successfully saved to 'HST_historical_data_2025-08-01.csv'\n",
            "------------------------------\n",
            "Attempting to download data for HWM from 2024-08-01 to 2025-08-01...\n"
          ]
        },
        {
          "output_type": "stream",
          "name": "stderr",
          "text": [
            "/tmp/ipython-input-2137805434.py:22: FutureWarning: YF.download() has changed argument auto_adjust default to True\n",
            "  stock_data = yf.download(ticker_symbol, start=start_date, end=end_date, progress=False)\n"
          ]
        },
        {
          "output_type": "stream",
          "name": "stdout",
          "text": [
            "Successfully downloaded data for HWM.\n",
            "\n",
            "--- Last 5 Days of Data for HWM ---\n",
            "Price            Close        High         Low        Open   Volume\n",
            "Ticker             HWM         HWM         HWM         HWM      HWM\n",
            "Date                                                               \n",
            "2025-07-25  189.520004  190.940002  187.009995  187.630005  1915600\n",
            "2025-07-28  188.169998  190.440002  187.149994  190.119995  2337900\n",
            "2025-07-29  189.169998  191.199997  188.729996  190.809998  2289500\n",
            "2025-07-30  192.139999  193.259995  188.479996  189.029999  2971700\n",
            "2025-07-31  179.770004  188.800003  171.779999  187.779999  8507800\n",
            "Data successfully saved to 'HWM_historical_data_2025-08-01.csv'\n",
            "------------------------------\n",
            "Attempting to download data for HPQ from 2024-08-01 to 2025-08-01...\n"
          ]
        },
        {
          "output_type": "stream",
          "name": "stderr",
          "text": [
            "/tmp/ipython-input-2137805434.py:22: FutureWarning: YF.download() has changed argument auto_adjust default to True\n",
            "  stock_data = yf.download(ticker_symbol, start=start_date, end=end_date, progress=False)\n"
          ]
        },
        {
          "output_type": "stream",
          "name": "stdout",
          "text": [
            "Successfully downloaded data for HPQ.\n",
            "\n",
            "--- Last 5 Days of Data for HPQ ---\n",
            "Price           Close       High    Low   Open    Volume\n",
            "Ticker            HPQ        HPQ    HPQ    HPQ       HPQ\n",
            "Date                                                    \n",
            "2025-07-25  25.680000  25.799999  25.43  25.73   6327300\n",
            "2025-07-28  25.850000  25.950001  25.49  25.74   5896400\n",
            "2025-07-29  25.670000  26.030001  25.59  26.00   6551200\n",
            "2025-07-30  25.100000  25.799999  24.93  25.75   7181400\n",
            "2025-07-31  24.799999  25.360001  24.76  24.99  12644500\n",
            "Data successfully saved to 'HPQ_historical_data_2025-08-01.csv'\n",
            "------------------------------\n",
            "Attempting to download data for HUM from 2024-08-01 to 2025-08-01...\n"
          ]
        },
        {
          "output_type": "stream",
          "name": "stderr",
          "text": [
            "/tmp/ipython-input-2137805434.py:22: FutureWarning: YF.download() has changed argument auto_adjust default to True\n",
            "  stock_data = yf.download(ticker_symbol, start=start_date, end=end_date, progress=False)\n"
          ]
        },
        {
          "output_type": "stream",
          "name": "stdout",
          "text": [
            "Successfully downloaded data for HUM.\n",
            "\n",
            "--- Last 5 Days of Data for HUM ---\n",
            "Price            Close        High         Low        Open   Volume\n",
            "Ticker             HUM         HUM         HUM         HUM      HUM\n",
            "Date                                                               \n",
            "2025-07-25  237.979996  239.820007  231.100006  231.100006  1569800\n",
            "2025-07-28  231.520004  239.429993  231.100006  237.100006  1791700\n",
            "2025-07-29  232.619995  237.279999  227.509995  229.820007  2089100\n",
            "2025-07-30  261.470001  265.250000  240.839996  249.589996  6384000\n",
            "2025-07-31  249.869995  261.470001  247.949997  260.130005  3140200\n",
            "Data successfully saved to 'HUM_historical_data_2025-08-01.csv'\n",
            "------------------------------\n",
            "Attempting to download data for HBAN from 2024-08-01 to 2025-08-01...\n"
          ]
        },
        {
          "output_type": "stream",
          "name": "stderr",
          "text": [
            "/tmp/ipython-input-2137805434.py:22: FutureWarning: YF.download() has changed argument auto_adjust default to True\n",
            "  stock_data = yf.download(ticker_symbol, start=start_date, end=end_date, progress=False)\n"
          ]
        },
        {
          "output_type": "stream",
          "name": "stdout",
          "text": [
            "Successfully downloaded data for HBAN.\n",
            "\n",
            "--- Last 5 Days of Data for HBAN ---\n",
            "Price           Close       High        Low       Open    Volume\n",
            "Ticker           HBAN       HBAN       HBAN       HBAN      HBAN\n",
            "Date                                                            \n",
            "2025-07-25  16.840000  16.900000  16.480000  16.660000  47061000\n",
            "2025-07-28  16.639999  16.870001  16.580000  16.840000  29412200\n",
            "2025-07-29  16.750000  16.850000  16.690001  16.719999  36365300\n",
            "2025-07-30  16.580000  17.020000  16.490000  16.770000  36710600\n",
            "2025-07-31  16.430000  16.620001  16.400000  16.520000  44658100\n",
            "Data successfully saved to 'HBAN_historical_data_2025-08-01.csv'\n",
            "------------------------------\n",
            "Attempting to download data for IEX from 2024-08-01 to 2025-08-01...\n"
          ]
        },
        {
          "output_type": "stream",
          "name": "stderr",
          "text": [
            "/tmp/ipython-input-2137805434.py:22: FutureWarning: YF.download() has changed argument auto_adjust default to True\n",
            "  stock_data = yf.download(ticker_symbol, start=start_date, end=end_date, progress=False)\n"
          ]
        },
        {
          "output_type": "stream",
          "name": "stdout",
          "text": [
            "Successfully downloaded data for IEX.\n",
            "\n",
            "--- Last 5 Days of Data for IEX ---\n",
            "Price            Close        High         Low        Open   Volume\n",
            "Ticker             IEX         IEX         IEX         IEX      IEX\n",
            "Date                                                               \n",
            "2025-07-25  185.690002  185.729996  182.589996  184.910004   369300\n",
            "2025-07-28  184.429993  186.619995  184.190002  186.000000   534900\n",
            "2025-07-29  185.179993  186.289993  183.419998  185.259995   701900\n",
            "2025-07-30  164.279999  178.229996  163.160004  175.000000  2650700\n",
            "2025-07-31  163.509995  165.419998  161.279999  162.500000  1484800\n",
            "Data successfully saved to 'IEX_historical_data_2025-08-01.csv'\n",
            "------------------------------\n",
            "Attempting to download data for IDXX from 2024-08-01 to 2025-08-01...\n",
            "Successfully downloaded data for IDXX.\n",
            "\n",
            "--- Last 5 Days of Data for IDXX ---\n",
            "Price            Close        High         Low        Open   Volume\n",
            "Ticker            IDXX        IDXX        IDXX        IDXX     IDXX\n",
            "Date                                                               \n",
            "2025-07-25  565.190002  568.469971  548.780029  552.280029  1071500\n",
            "2025-07-28  566.500000  570.359985  560.429993  563.130005   613200\n",
            "2025-07-29  573.070007  575.349976  567.039978  568.900024   887800\n",
            "2025-07-30  572.090027  579.469971  567.989990  573.799988   704800\n",
            "2025-07-31  534.309998  562.570007  533.419983  562.570007  1033200\n",
            "Data successfully saved to 'IDXX_historical_data_2025-08-01.csv'\n",
            "------------------------------\n",
            "Attempting to download data for ITW from 2024-08-01 to 2025-08-01...\n"
          ]
        },
        {
          "output_type": "stream",
          "name": "stderr",
          "text": [
            "/tmp/ipython-input-2137805434.py:22: FutureWarning: YF.download() has changed argument auto_adjust default to True\n",
            "  stock_data = yf.download(ticker_symbol, start=start_date, end=end_date, progress=False)\n",
            "/tmp/ipython-input-2137805434.py:22: FutureWarning: YF.download() has changed argument auto_adjust default to True\n",
            "  stock_data = yf.download(ticker_symbol, start=start_date, end=end_date, progress=False)\n"
          ]
        },
        {
          "output_type": "stream",
          "name": "stdout",
          "text": [
            "Successfully downloaded data for ITW.\n",
            "\n",
            "--- Last 5 Days of Data for ITW ---\n",
            "Price            Close        High         Low        Open   Volume\n",
            "Ticker             ITW         ITW         ITW         ITW      ITW\n",
            "Date                                                               \n",
            "2025-07-25  261.700012  263.660004  260.730011  263.059998  1093000\n",
            "2025-07-28  260.010010  262.170013  259.420013  261.399994   754800\n",
            "2025-07-29  259.500000  261.049988  256.670013  260.790009  1847100\n",
            "2025-07-30  253.669998  257.790009  251.350006  257.790009  1985400\n",
            "2025-07-31  255.970001  257.429993  251.240005  251.240005  1676700\n",
            "Data successfully saved to 'ITW_historical_data_2025-08-01.csv'\n",
            "------------------------------\n",
            "Attempting to download data for ILMN from 2024-08-01 to 2025-08-01...\n",
            "Successfully downloaded data for ILMN.\n",
            "\n",
            "--- Last 5 Days of Data for ILMN ---\n",
            "Price            Close        High         Low        Open   Volume\n",
            "Ticker            ILMN        ILMN        ILMN        ILMN     ILMN\n",
            "Date                                                               \n",
            "2025-07-25  109.300003  110.050003  106.400002  107.510002  1937700\n",
            "2025-07-28  109.879997  111.000000  108.620003  109.400002  1533000\n",
            "2025-07-29  108.709999  109.760002  106.940002  109.760002  2178300\n",
            "2025-07-30  106.660004  109.589996  105.690002  109.070000  1713500\n",
            "2025-07-31  102.709999  107.629997  102.290001  105.500000  3420500\n",
            "Data successfully saved to 'ILMN_historical_data_2025-08-01.csv'\n",
            "------------------------------\n",
            "Attempting to download data for INCY from 2024-08-01 to 2025-08-01...\n"
          ]
        },
        {
          "output_type": "stream",
          "name": "stderr",
          "text": [
            "/tmp/ipython-input-2137805434.py:22: FutureWarning: YF.download() has changed argument auto_adjust default to True\n",
            "  stock_data = yf.download(ticker_symbol, start=start_date, end=end_date, progress=False)\n",
            "/tmp/ipython-input-2137805434.py:22: FutureWarning: YF.download() has changed argument auto_adjust default to True\n",
            "  stock_data = yf.download(ticker_symbol, start=start_date, end=end_date, progress=False)\n"
          ]
        },
        {
          "output_type": "stream",
          "name": "stdout",
          "text": [
            "Successfully downloaded data for INCY.\n",
            "\n",
            "--- Last 5 Days of Data for INCY ---\n",
            "Price           Close       High        Low       Open   Volume\n",
            "Ticker           INCY       INCY       INCY       INCY     INCY\n",
            "Date                                                           \n",
            "2025-07-25  70.199997  70.820000  70.059998  70.820000  1434800\n",
            "2025-07-28  70.160004  70.930000  69.690002  70.349998  1926800\n",
            "2025-07-29  77.379997  77.870003  71.000000  72.000000  3976500\n",
            "2025-07-30  77.550003  78.769997  76.870003  77.839996  2520300\n",
            "2025-07-31  74.889999  77.459999  74.239998  77.180000  2577400\n",
            "Data successfully saved to 'INCY_historical_data_2025-08-01.csv'\n",
            "------------------------------\n",
            "Attempting to download data for IR from 2024-08-01 to 2025-08-01...\n"
          ]
        },
        {
          "output_type": "stream",
          "name": "stderr",
          "text": [
            "/tmp/ipython-input-2137805434.py:22: FutureWarning: YF.download() has changed argument auto_adjust default to True\n",
            "  stock_data = yf.download(ticker_symbol, start=start_date, end=end_date, progress=False)\n"
          ]
        },
        {
          "output_type": "stream",
          "name": "stdout",
          "text": [
            "Successfully downloaded data for IR.\n",
            "\n",
            "--- Last 5 Days of Data for IR ---\n",
            "Price           Close       High        Low       Open   Volume\n",
            "Ticker             IR         IR         IR         IR       IR\n",
            "Date                                                           \n",
            "2025-07-25  88.269997  88.360001  86.839996  87.260002  2081200\n",
            "2025-07-28  87.830002  88.665001  87.650002  88.269997  1947600\n",
            "2025-07-29  87.070000  88.470001  86.699997  88.330002  2309200\n",
            "2025-07-30  85.760002  87.500000  85.330002  87.300003  2826100\n",
            "2025-07-31  84.629997  86.699997  84.410004  85.370003  4827000\n",
            "Data successfully saved to 'IR_historical_data_2025-08-01.csv'\n",
            "------------------------------\n",
            "Attempting to download data for ICE from 2024-08-01 to 2025-08-01...\n"
          ]
        },
        {
          "output_type": "stream",
          "name": "stderr",
          "text": [
            "/tmp/ipython-input-2137805434.py:22: FutureWarning: YF.download() has changed argument auto_adjust default to True\n",
            "  stock_data = yf.download(ticker_symbol, start=start_date, end=end_date, progress=False)\n"
          ]
        },
        {
          "output_type": "stream",
          "name": "stdout",
          "text": [
            "Successfully downloaded data for ICE.\n",
            "\n",
            "--- Last 5 Days of Data for ICE ---\n",
            "Price            Close        High         Low        Open   Volume\n",
            "Ticker             ICE         ICE         ICE         ICE      ICE\n",
            "Date                                                               \n",
            "2025-07-25  184.440002  185.300003  183.259995  183.309998  2588800\n",
            "2025-07-28  182.789993  184.660004  182.429993  184.000000  2353400\n",
            "2025-07-29  184.710007  184.850006  183.100006  183.940002  3035700\n",
            "2025-07-30  185.740005  187.380005  184.369995  184.949997  3507700\n",
            "2025-07-31  184.830002  187.380005  182.699997  185.740005  4429300\n",
            "Data successfully saved to 'ICE_historical_data_2025-08-01.csv'\n",
            "------------------------------\n",
            "Attempting to download data for IFF from 2024-08-01 to 2025-08-01...\n"
          ]
        },
        {
          "output_type": "stream",
          "name": "stderr",
          "text": [
            "/tmp/ipython-input-2137805434.py:22: FutureWarning: YF.download() has changed argument auto_adjust default to True\n",
            "  stock_data = yf.download(ticker_symbol, start=start_date, end=end_date, progress=False)\n"
          ]
        },
        {
          "output_type": "stream",
          "name": "stdout",
          "text": [
            "Successfully downloaded data for IFF.\n",
            "\n",
            "--- Last 5 Days of Data for IFF ---\n",
            "Price           Close       High        Low       Open   Volume\n",
            "Ticker            IFF        IFF        IFF        IFF      IFF\n",
            "Date                                                           \n",
            "2025-07-25  76.629997  77.000000  75.290001  76.000000  1454300\n",
            "2025-07-28  75.230003  76.370003  74.930000  75.889999  1735600\n",
            "2025-07-29  74.790001  75.529999  74.320000  75.160004  1229400\n",
            "2025-07-30  71.769997  74.430000  71.220001  74.279999  3227600\n",
            "2025-07-31  71.029999  71.839996  70.599998  71.169998  2483000\n",
            "Data successfully saved to 'IFF_historical_data_2025-08-01.csv'\n",
            "------------------------------\n",
            "Attempting to download data for IP from 2024-08-01 to 2025-08-01...\n"
          ]
        },
        {
          "output_type": "stream",
          "name": "stderr",
          "text": [
            "/tmp/ipython-input-2137805434.py:22: FutureWarning: YF.download() has changed argument auto_adjust default to True\n",
            "  stock_data = yf.download(ticker_symbol, start=start_date, end=end_date, progress=False)\n"
          ]
        },
        {
          "output_type": "stream",
          "name": "stdout",
          "text": [
            "Successfully downloaded data for IP.\n",
            "\n",
            "--- Last 5 Days of Data for IP ---\n",
            "Price           Close       High        Low       Open    Volume\n",
            "Ticker             IP         IP         IP         IP        IP\n",
            "Date                                                            \n",
            "2025-07-25  55.680000  55.770000  54.630001  54.799999   3587500\n",
            "2025-07-28  55.500000  56.000000  55.340000  55.490002   4357300\n",
            "2025-07-29  54.439999  56.130001  53.939999  55.549999   6336700\n",
            "2025-07-30  53.630001  54.630001  53.389999  53.720001   5326100\n",
            "2025-07-31  46.740002  52.279999  46.639999  51.040001  16291300\n",
            "Data successfully saved to 'IP_historical_data_2025-08-01.csv'\n",
            "------------------------------\n",
            "Attempting to download data for IPG from 2024-08-01 to 2025-08-01...\n"
          ]
        },
        {
          "output_type": "stream",
          "name": "stderr",
          "text": [
            "/tmp/ipython-input-2137805434.py:22: FutureWarning: YF.download() has changed argument auto_adjust default to True\n",
            "  stock_data = yf.download(ticker_symbol, start=start_date, end=end_date, progress=False)\n"
          ]
        },
        {
          "output_type": "stream",
          "name": "stdout",
          "text": [
            "Successfully downloaded data for IPG.\n",
            "\n",
            "--- Last 5 Days of Data for IPG ---\n",
            "Price           Close       High        Low       Open   Volume\n",
            "Ticker            IPG        IPG        IPG        IPG      IPG\n",
            "Date                                                           \n",
            "2025-07-25  26.049999  26.389999  25.809999  26.389999  4322200\n",
            "2025-07-28  25.520000  26.110001  25.490000  26.110001  3130700\n",
            "2025-07-29  25.410000  25.650000  25.260000  25.510000  6905100\n",
            "2025-07-30  24.840000  25.480000  24.690001  25.450001  5024900\n",
            "2025-07-31  24.600000  25.040001  24.480000  24.850000  8767300\n",
            "Data successfully saved to 'IPG_historical_data_2025-08-01.csv'\n",
            "------------------------------\n",
            "Attempting to download data for IVZ from 2024-08-01 to 2025-08-01...\n"
          ]
        },
        {
          "output_type": "stream",
          "name": "stderr",
          "text": [
            "/tmp/ipython-input-2137805434.py:22: FutureWarning: YF.download() has changed argument auto_adjust default to True\n",
            "  stock_data = yf.download(ticker_symbol, start=start_date, end=end_date, progress=False)\n"
          ]
        },
        {
          "output_type": "stream",
          "name": "stdout",
          "text": [
            "Successfully downloaded data for IVZ.\n",
            "\n",
            "--- Last 5 Days of Data for IVZ ---\n",
            "Price           Close       High        Low       Open   Volume\n",
            "Ticker            IVZ        IVZ        IVZ        IVZ      IVZ\n",
            "Date                                                           \n",
            "2025-07-25  21.809999  21.840000  21.270000  21.549999  4955000\n",
            "2025-07-28  21.680000  21.809999  21.480000  21.760000  4263100\n",
            "2025-07-29  21.719999  21.840000  21.469999  21.840000  6715000\n",
            "2025-07-30  21.480000  21.850000  21.309999  21.719999  6512200\n",
            "2025-07-31  21.010000  21.680000  20.910000  21.480000  7071700\n",
            "Data successfully saved to 'IVZ_historical_data_2025-08-01.csv'\n",
            "------------------------------\n",
            "Attempting to download data for IPGP from 2024-08-01 to 2025-08-01...\n"
          ]
        },
        {
          "output_type": "stream",
          "name": "stderr",
          "text": [
            "/tmp/ipython-input-2137805434.py:22: FutureWarning: YF.download() has changed argument auto_adjust default to True\n",
            "  stock_data = yf.download(ticker_symbol, start=start_date, end=end_date, progress=False)\n"
          ]
        },
        {
          "output_type": "stream",
          "name": "stdout",
          "text": [
            "Successfully downloaded data for IPGP.\n",
            "\n",
            "--- Last 5 Days of Data for IPGP ---\n",
            "Price           Close       High        Low       Open  Volume\n",
            "Ticker           IPGP       IPGP       IPGP       IPGP    IPGP\n",
            "Date                                                          \n",
            "2025-07-25  78.029999  78.330002  75.519997  76.080002  234400\n",
            "2025-07-28  79.610001  79.940002  78.260002  78.550003  245300\n",
            "2025-07-29  78.639999  81.089996  78.370003  80.389999  257900\n",
            "2025-07-30  77.040001  79.080002  75.879997  78.709999  197800\n",
            "2025-07-31  74.889999  77.739998  74.589996  76.820000  253100\n",
            "Data successfully saved to 'IPGP_historical_data_2025-08-01.csv'\n",
            "------------------------------\n",
            "Attempting to download data for IQV from 2024-08-01 to 2025-08-01...\n"
          ]
        },
        {
          "output_type": "stream",
          "name": "stderr",
          "text": [
            "/tmp/ipython-input-2137805434.py:22: FutureWarning: YF.download() has changed argument auto_adjust default to True\n",
            "  stock_data = yf.download(ticker_symbol, start=start_date, end=end_date, progress=False)\n"
          ]
        },
        {
          "output_type": "stream",
          "name": "stdout",
          "text": [
            "Successfully downloaded data for IQV.\n",
            "\n",
            "--- Last 5 Days of Data for IQV ---\n",
            "Price            Close        High         Low        Open   Volume\n",
            "Ticker             IQV         IQV         IQV         IQV      IQV\n",
            "Date                                                               \n",
            "2025-07-25  199.169998  201.039993  195.320007  201.039993  2138900\n",
            "2025-07-28  197.759995  201.210007  196.860001  198.679993  1966300\n",
            "2025-07-29  194.550003  198.050003  192.169998  197.759995  2158700\n",
            "2025-07-30  191.539993  195.699997  189.669998  194.800003  1277900\n",
            "2025-07-31  185.860001  191.000000  184.910004  188.929993  1887300\n",
            "Data successfully saved to 'IQV_historical_data_2025-08-01.csv'\n",
            "------------------------------\n",
            "Attempting to download data for IRM from 2024-08-01 to 2025-08-01...\n"
          ]
        },
        {
          "output_type": "stream",
          "name": "stderr",
          "text": [
            "/tmp/ipython-input-2137805434.py:22: FutureWarning: YF.download() has changed argument auto_adjust default to True\n",
            "  stock_data = yf.download(ticker_symbol, start=start_date, end=end_date, progress=False)\n"
          ]
        },
        {
          "output_type": "stream",
          "name": "stdout",
          "text": [
            "Successfully downloaded data for IRM.\n",
            "\n",
            "--- Last 5 Days of Data for IRM ---\n",
            "Price           Close       High        Low       Open   Volume\n",
            "Ticker            IRM        IRM        IRM        IRM      IRM\n",
            "Date                                                           \n",
            "2025-07-25  99.339996  99.500000  97.940002  99.139999   654700\n",
            "2025-07-28  98.000000  99.220001  97.629997  99.190002   783100\n",
            "2025-07-29  99.419998  99.470001  97.900002  98.519997   861900\n",
            "2025-07-30  97.949997  99.660004  97.290001  99.150002   879100\n",
            "2025-07-31  97.360001  98.199997  97.139999  97.750000  1321500\n",
            "Data successfully saved to 'IRM_historical_data_2025-08-01.csv'\n",
            "------------------------------\n",
            "Attempting to download data for JBHT from 2024-08-01 to 2025-08-01...\n"
          ]
        },
        {
          "output_type": "stream",
          "name": "stderr",
          "text": [
            "/tmp/ipython-input-2137805434.py:22: FutureWarning: YF.download() has changed argument auto_adjust default to True\n",
            "  stock_data = yf.download(ticker_symbol, start=start_date, end=end_date, progress=False)\n"
          ]
        },
        {
          "output_type": "stream",
          "name": "stdout",
          "text": [
            "Successfully downloaded data for JBHT.\n",
            "\n",
            "--- Last 5 Days of Data for JBHT ---\n",
            "Price            Close        High         Low        Open   Volume\n",
            "Ticker            JBHT        JBHT        JBHT        JBHT     JBHT\n",
            "Date                                                               \n",
            "2025-07-25  149.309998  152.190002  147.669998  150.899994   980500\n",
            "2025-07-28  148.389999  150.960007  147.229996  149.160004  1100800\n",
            "2025-07-29  146.779999  149.600006  146.479996  148.199997  1206600\n",
            "2025-07-30  143.869995  147.139999  142.550003  146.880005  1148000\n",
            "2025-07-31  144.050003  145.630005  142.720001  142.759995  1128600\n",
            "Data successfully saved to 'JBHT_historical_data_2025-08-01.csv'\n",
            "------------------------------\n",
            "Attempting to download data for JKHY from 2024-08-01 to 2025-08-01...\n"
          ]
        },
        {
          "output_type": "stream",
          "name": "stderr",
          "text": [
            "/tmp/ipython-input-2137805434.py:22: FutureWarning: YF.download() has changed argument auto_adjust default to True\n",
            "  stock_data = yf.download(ticker_symbol, start=start_date, end=end_date, progress=False)\n"
          ]
        },
        {
          "output_type": "stream",
          "name": "stdout",
          "text": [
            "Successfully downloaded data for JKHY.\n",
            "\n",
            "--- Last 5 Days of Data for JKHY ---\n",
            "Price            Close        High         Low        Open  Volume\n",
            "Ticker            JKHY        JKHY        JKHY        JKHY    JKHY\n",
            "Date                                                              \n",
            "2025-07-25  176.350006  180.270004  172.619995  180.270004  792600\n",
            "2025-07-28  175.380005  176.559998  175.139999  175.880005  432100\n",
            "2025-07-29  175.440002  176.649994  174.660004  175.580002  276600\n",
            "2025-07-30  173.350006  176.529999  172.979996  175.750000  447900\n",
            "2025-07-31  169.820007  173.639999  169.520004  172.000000  665200\n",
            "Data successfully saved to 'JKHY_historical_data_2025-08-01.csv'\n",
            "------------------------------\n",
            "Attempting to download data for J from 2024-08-01 to 2025-08-01...\n"
          ]
        },
        {
          "output_type": "stream",
          "name": "stderr",
          "text": [
            "/tmp/ipython-input-2137805434.py:22: FutureWarning: YF.download() has changed argument auto_adjust default to True\n",
            "  stock_data = yf.download(ticker_symbol, start=start_date, end=end_date, progress=False)\n"
          ]
        },
        {
          "output_type": "stream",
          "name": "stdout",
          "text": [
            "Successfully downloaded data for J.\n",
            "\n",
            "--- Last 5 Days of Data for J ---\n",
            "Price            Close        High         Low        Open   Volume\n",
            "Ticker               J           J           J           J        J\n",
            "Date                                                               \n",
            "2025-07-25  143.449997  143.580002  141.729996  142.570007   358800\n",
            "2025-07-28  143.279999  144.490005  142.320007  143.949997   502500\n",
            "2025-07-29  142.789993  144.410004  142.100006  144.410004  1146000\n",
            "2025-07-30  141.399994  142.940002  140.550003  142.789993   735500\n",
            "2025-07-31  141.869995  142.389999  140.210007  140.940002  1070800\n",
            "Data successfully saved to 'J_historical_data_2025-08-01.csv'\n",
            "------------------------------\n",
            "Attempting to download data for JCI from 2024-08-01 to 2025-08-01...\n"
          ]
        },
        {
          "output_type": "stream",
          "name": "stderr",
          "text": [
            "/tmp/ipython-input-2137805434.py:22: FutureWarning: YF.download() has changed argument auto_adjust default to True\n",
            "  stock_data = yf.download(ticker_symbol, start=start_date, end=end_date, progress=False)\n"
          ]
        },
        {
          "output_type": "stream",
          "name": "stdout",
          "text": [
            "Successfully downloaded data for JCI.\n",
            "\n",
            "--- Last 5 Days of Data for JCI ---\n",
            "Price            Close        High         Low        Open    Volume\n",
            "Ticker             JCI         JCI         JCI         JCI       JCI\n",
            "Date                                                                \n",
            "2025-07-25  111.730003  112.000000  109.669998  110.209999   4408800\n",
            "2025-07-28  111.519997  112.629997  111.010002  112.000000   6984500\n",
            "2025-07-29  103.239998  108.599998  102.519997  106.559998  11353400\n",
            "2025-07-30  104.019997  105.199997  102.089996  102.680000   7926700\n",
            "2025-07-31  105.000000  107.199997  104.269997  104.360001   6355100\n",
            "Data successfully saved to 'JCI_historical_data_2025-08-01.csv'\n",
            "------------------------------\n",
            "Attempting to download data for JNPR from 2024-08-01 to 2025-08-01...\n"
          ]
        },
        {
          "output_type": "stream",
          "name": "stderr",
          "text": [
            "/tmp/ipython-input-2137805434.py:22: FutureWarning: YF.download() has changed argument auto_adjust default to True\n",
            "  stock_data = yf.download(ticker_symbol, start=start_date, end=end_date, progress=False)\n"
          ]
        },
        {
          "output_type": "stream",
          "name": "stdout",
          "text": [
            "Successfully downloaded data for JNPR.\n",
            "\n",
            "--- Last 5 Days of Data for JNPR ---\n",
            "Price           Close       High        Low       Open    Volume\n",
            "Ticker           JNPR       JNPR       JNPR       JNPR      JNPR\n",
            "Date                                                            \n",
            "2025-06-26  36.900002  36.965000  36.580002  36.700001   3322621\n",
            "2025-06-27  36.820000  37.200001  36.750000  36.849998   4498265\n",
            "2025-06-30  39.930000  39.930000  39.880001  39.919998  25368305\n",
            "2025-07-01  39.950001  39.959999  39.919998  39.950001   9447508\n",
            "2025-07-02  39.950001  39.950001  39.950001  39.950001         0\n",
            "Data successfully saved to 'JNPR_historical_data_2025-08-01.csv'\n",
            "------------------------------\n",
            "Attempting to download data for K from 2024-08-01 to 2025-08-01...\n"
          ]
        },
        {
          "output_type": "stream",
          "name": "stderr",
          "text": [
            "/tmp/ipython-input-2137805434.py:22: FutureWarning: YF.download() has changed argument auto_adjust default to True\n",
            "  stock_data = yf.download(ticker_symbol, start=start_date, end=end_date, progress=False)\n"
          ]
        },
        {
          "output_type": "stream",
          "name": "stdout",
          "text": [
            "Successfully downloaded data for K.\n",
            "\n",
            "--- Last 5 Days of Data for K ---\n",
            "Price           Close       High        Low       Open   Volume\n",
            "Ticker              K          K          K          K        K\n",
            "Date                                                           \n",
            "2025-07-25  79.830002  79.949997  79.800003  79.949997  2069600\n",
            "2025-07-28  79.790001  79.879997  79.750000  79.800003  1856000\n",
            "2025-07-29  80.139999  80.150002  79.750000  79.860001  4315300\n",
            "2025-07-30  79.800003  80.150002  79.800003  80.150002  1961500\n",
            "2025-07-31  79.830002  80.019997  79.559998  79.750000  3057700\n",
            "Data successfully saved to 'K_historical_data_2025-08-01.csv'\n",
            "------------------------------\n",
            "Attempting to download data for KEY from 2024-08-01 to 2025-08-01...\n"
          ]
        },
        {
          "output_type": "stream",
          "name": "stderr",
          "text": [
            "/tmp/ipython-input-2137805434.py:22: FutureWarning: YF.download() has changed argument auto_adjust default to True\n",
            "  stock_data = yf.download(ticker_symbol, start=start_date, end=end_date, progress=False)\n"
          ]
        },
        {
          "output_type": "stream",
          "name": "stdout",
          "text": [
            "Successfully downloaded data for KEY.\n",
            "\n",
            "--- Last 5 Days of Data for KEY ---\n",
            "Price           Close       High        Low       Open    Volume\n",
            "Ticker            KEY        KEY        KEY        KEY       KEY\n",
            "Date                                                            \n",
            "2025-07-25  18.570000  18.610001  18.230000  18.500000  39231200\n",
            "2025-07-28  18.440001  18.629999  18.320000  18.570000  32397700\n",
            "2025-07-29  18.389999  18.629999  18.280001  18.590000  34808600\n",
            "2025-07-30  18.160000  18.530001  18.020000  18.420000  43720200\n",
            "2025-07-31  17.920000  18.219999  17.879999  18.110001  47085200\n",
            "Data successfully saved to 'KEY_historical_data_2025-08-01.csv'\n",
            "------------------------------\n",
            "Attempting to download data for KEYS from 2024-08-01 to 2025-08-01...\n"
          ]
        },
        {
          "output_type": "stream",
          "name": "stderr",
          "text": [
            "/tmp/ipython-input-2137805434.py:22: FutureWarning: YF.download() has changed argument auto_adjust default to True\n",
            "  stock_data = yf.download(ticker_symbol, start=start_date, end=end_date, progress=False)\n"
          ]
        },
        {
          "output_type": "stream",
          "name": "stdout",
          "text": [
            "Successfully downloaded data for KEYS.\n",
            "\n",
            "--- Last 5 Days of Data for KEYS ---\n",
            "Price            Close        High         Low        Open  Volume\n",
            "Ticker            KEYS        KEYS        KEYS        KEYS    KEYS\n",
            "Date                                                              \n",
            "2025-07-25  166.449997  166.735001  164.970001  165.429993  766700\n",
            "2025-07-28  166.600006  167.365005  165.830002  166.490005  652000\n",
            "2025-07-29  167.009995  168.610001  165.929993  168.100006  791700\n",
            "2025-07-30  167.550003  168.729996  166.039993  168.000000  887100\n",
            "2025-07-31  163.910004  167.649994  163.884995  166.470001  791200\n"
          ]
        },
        {
          "output_type": "stream",
          "name": "stderr",
          "text": [
            "/tmp/ipython-input-2137805434.py:22: FutureWarning: YF.download() has changed argument auto_adjust default to True\n",
            "  stock_data = yf.download(ticker_symbol, start=start_date, end=end_date, progress=False)\n"
          ]
        },
        {
          "output_type": "stream",
          "name": "stdout",
          "text": [
            "Data successfully saved to 'KEYS_historical_data_2025-08-01.csv'\n",
            "------------------------------\n",
            "Attempting to download data for KMB from 2024-08-01 to 2025-08-01...\n",
            "Successfully downloaded data for KMB.\n",
            "\n",
            "--- Last 5 Days of Data for KMB ---\n",
            "Price            Close        High         Low        Open   Volume\n",
            "Ticker             KMB         KMB         KMB         KMB      KMB\n",
            "Date                                                               \n",
            "2025-07-25  127.379997  128.289993  126.650002  127.930000  1549400\n",
            "2025-07-28  126.860001  127.519997  126.360001  126.830002  1911800\n",
            "2025-07-29  127.930000  128.570007  126.519997  126.870003  1995900\n",
            "2025-07-30  125.290001  128.619995  124.900002  128.089996  2123300\n",
            "2025-07-31  124.620003  125.919998  124.370003  125.099998  4592500\n",
            "Data successfully saved to 'KMB_historical_data_2025-08-01.csv'\n",
            "------------------------------\n",
            "Attempting to download data for KIM from 2024-08-01 to 2025-08-01...\n"
          ]
        },
        {
          "output_type": "stream",
          "name": "stderr",
          "text": [
            "/tmp/ipython-input-2137805434.py:22: FutureWarning: YF.download() has changed argument auto_adjust default to True\n",
            "  stock_data = yf.download(ticker_symbol, start=start_date, end=end_date, progress=False)\n"
          ]
        },
        {
          "output_type": "stream",
          "name": "stdout",
          "text": [
            "Successfully downloaded data for KIM.\n",
            "\n",
            "--- Last 5 Days of Data for KIM ---\n",
            "Price           Close       High        Low       Open   Volume\n",
            "Ticker            KIM        KIM        KIM        KIM      KIM\n",
            "Date                                                           \n",
            "2025-07-25  21.780001  22.139999  21.629999  21.980000  4191200\n",
            "2025-07-28  21.549999  21.809999  21.480000  21.740000  2771800\n",
            "2025-07-29  21.930000  22.000000  21.570000  21.690001  5742700\n",
            "2025-07-30  21.900000  22.410000  21.830000  22.010000  7432300\n",
            "2025-07-31  21.230000  22.090000  21.190001  21.459999  7340200\n",
            "Data successfully saved to 'KIM_historical_data_2025-08-01.csv'\n",
            "------------------------------\n",
            "Attempting to download data for KMI from 2024-08-01 to 2025-08-01...\n"
          ]
        },
        {
          "output_type": "stream",
          "name": "stderr",
          "text": [
            "/tmp/ipython-input-2137805434.py:22: FutureWarning: YF.download() has changed argument auto_adjust default to True\n",
            "  stock_data = yf.download(ticker_symbol, start=start_date, end=end_date, progress=False)\n"
          ]
        },
        {
          "output_type": "stream",
          "name": "stdout",
          "text": [
            "Successfully downloaded data for KMI.\n",
            "\n",
            "--- Last 5 Days of Data for KMI ---\n",
            "Price           Close       High        Low       Open    Volume\n",
            "Ticker            KMI        KMI        KMI        KMI       KMI\n",
            "Date                                                            \n",
            "2025-07-25  27.103485  27.410244  26.974846  27.242022  15215800\n",
            "2025-07-28  26.925367  27.350870  26.846204  27.291498  13866600\n",
            "2025-07-29  27.588360  27.657629  26.994638  27.113381  15308200\n",
            "2025-07-30  27.717001  27.914908  27.509197  27.568570  18126200\n",
            "2025-07-31  28.059999  28.120001  27.600000  27.610001  14892200\n",
            "Data successfully saved to 'KMI_historical_data_2025-08-01.csv'\n",
            "------------------------------\n",
            "Attempting to download data for KLAC from 2024-08-01 to 2025-08-01...\n"
          ]
        },
        {
          "output_type": "stream",
          "name": "stderr",
          "text": [
            "/tmp/ipython-input-2137805434.py:22: FutureWarning: YF.download() has changed argument auto_adjust default to True\n",
            "  stock_data = yf.download(ticker_symbol, start=start_date, end=end_date, progress=False)\n"
          ]
        },
        {
          "output_type": "stream",
          "name": "stdout",
          "text": [
            "Successfully downloaded data for KLAC.\n",
            "\n",
            "--- Last 5 Days of Data for KLAC ---\n",
            "Price            Close        High         Low        Open   Volume\n",
            "Ticker            KLAC        KLAC        KLAC        KLAC     KLAC\n",
            "Date                                                               \n",
            "2025-07-25  902.090027  905.000000  888.070007  892.340027   808000\n",
            "2025-07-28  923.150024  931.940002  915.000000  917.359985   839900\n",
            "2025-07-29  916.090027  936.969971  915.099976  928.590027  1027200\n",
            "2025-07-30  924.989990  927.820007  913.380005  922.650024  1058200\n",
            "2025-07-31  879.030029  897.190002  860.000000  864.450012  2279500\n",
            "Data successfully saved to 'KLAC_historical_data_2025-08-01.csv'\n",
            "------------------------------\n",
            "Attempting to download data for KHC from 2024-08-01 to 2025-08-01...\n"
          ]
        },
        {
          "output_type": "stream",
          "name": "stderr",
          "text": [
            "/tmp/ipython-input-2137805434.py:22: FutureWarning: YF.download() has changed argument auto_adjust default to True\n",
            "  stock_data = yf.download(ticker_symbol, start=start_date, end=end_date, progress=False)\n"
          ]
        },
        {
          "output_type": "stream",
          "name": "stdout",
          "text": [
            "Successfully downloaded data for KHC.\n",
            "\n",
            "--- Last 5 Days of Data for KHC ---\n",
            "Price           Close       High        Low       Open    Volume\n",
            "Ticker            KHC        KHC        KHC        KHC       KHC\n",
            "Date                                                            \n",
            "2025-07-25  28.680000  28.809999  28.362000  28.750000   8521600\n",
            "2025-07-28  28.250000  28.570000  28.049999  28.559999  10067000\n",
            "2025-07-29  28.559999  28.620001  28.219999  28.250000  14007100\n",
            "2025-07-30  28.490000  29.190001  28.160000  28.785000  17783400\n",
            "2025-07-31  27.459999  28.055000  27.420000  28.055000  17622200\n",
            "Data successfully saved to 'KHC_historical_data_2025-08-01.csv'\n",
            "------------------------------\n",
            "Attempting to download data for KR from 2024-08-01 to 2025-08-01...\n"
          ]
        },
        {
          "output_type": "stream",
          "name": "stderr",
          "text": [
            "/tmp/ipython-input-2137805434.py:22: FutureWarning: YF.download() has changed argument auto_adjust default to True\n",
            "  stock_data = yf.download(ticker_symbol, start=start_date, end=end_date, progress=False)\n"
          ]
        },
        {
          "output_type": "stream",
          "name": "stdout",
          "text": [
            "Successfully downloaded data for KR.\n",
            "\n",
            "--- Last 5 Days of Data for KR ---\n",
            "Price           Close       High        Low       Open    Volume\n",
            "Ticker             KR         KR         KR         KR        KR\n",
            "Date                                                            \n",
            "2025-07-25  71.459999  72.809998  71.419998  72.419998   3396500\n",
            "2025-07-28  69.320000  71.430000  69.110001  71.389999   6993900\n",
            "2025-07-29  69.300003  70.440002  69.239998  69.599998   5510300\n",
            "2025-07-30  69.300003  69.570000  68.690002  69.309998   5297900\n",
            "2025-07-31  70.099998  70.360001  68.750000  68.809998  10899800\n",
            "Data successfully saved to 'KR_historical_data_2025-08-01.csv'\n",
            "------------------------------\n",
            "Attempting to download data for LHX from 2024-08-01 to 2025-08-01...\n"
          ]
        },
        {
          "output_type": "stream",
          "name": "stderr",
          "text": [
            "/tmp/ipython-input-2137805434.py:22: FutureWarning: YF.download() has changed argument auto_adjust default to True\n",
            "  stock_data = yf.download(ticker_symbol, start=start_date, end=end_date, progress=False)\n"
          ]
        },
        {
          "output_type": "stream",
          "name": "stdout",
          "text": [
            "Successfully downloaded data for LHX.\n",
            "\n",
            "--- Last 5 Days of Data for LHX ---\n",
            "Price            Close        High         Low        Open   Volume\n",
            "Ticker             LHX         LHX         LHX         LHX      LHX\n",
            "Date                                                               \n",
            "2025-07-25  269.279999  271.690002  262.980011  270.000000  1965300\n",
            "2025-07-28  269.470001  270.890015  267.750000  270.600006  1216500\n",
            "2025-07-29  272.309998  272.350006  269.839996  271.230011   931000\n",
            "2025-07-30  274.119995  275.720001  271.609985  273.959991   954600\n",
            "2025-07-31  274.820007  275.720001  273.350006  274.350006  1307700\n",
            "Data successfully saved to 'LHX_historical_data_2025-08-01.csv'\n",
            "------------------------------\n",
            "Attempting to download data for LH from 2024-08-01 to 2025-08-01...\n"
          ]
        },
        {
          "output_type": "stream",
          "name": "stderr",
          "text": [
            "/tmp/ipython-input-2137805434.py:22: FutureWarning: YF.download() has changed argument auto_adjust default to True\n",
            "  stock_data = yf.download(ticker_symbol, start=start_date, end=end_date, progress=False)\n"
          ]
        },
        {
          "output_type": "stream",
          "name": "stdout",
          "text": [
            "Successfully downloaded data for LH.\n",
            "\n",
            "--- Last 5 Days of Data for LH ---\n",
            "Price            Close        High         Low        Open   Volume\n",
            "Ticker              LH          LH          LH          LH       LH\n",
            "Date                                                               \n",
            "2025-07-25  264.959991  268.579987  259.359985  268.040009  1152400\n",
            "2025-07-28  261.880005  263.850006  259.799988  262.880005   756100\n",
            "2025-07-29  261.720001  263.769989  260.160004  261.850006   527500\n",
            "2025-07-30  263.910004  265.690002  259.380005  259.929993   594700\n",
            "2025-07-31  260.079987  263.130005  258.760010  260.989990   654800\n",
            "Data successfully saved to 'LH_historical_data_2025-08-01.csv'\n",
            "------------------------------\n",
            "Attempting to download data for LRCX from 2024-08-01 to 2025-08-01...\n"
          ]
        },
        {
          "output_type": "stream",
          "name": "stderr",
          "text": [
            "/tmp/ipython-input-2137805434.py:22: FutureWarning: YF.download() has changed argument auto_adjust default to True\n",
            "  stock_data = yf.download(ticker_symbol, start=start_date, end=end_date, progress=False)\n"
          ]
        },
        {
          "output_type": "stream",
          "name": "stdout",
          "text": [
            "Successfully downloaded data for LRCX.\n",
            "\n",
            "--- Last 5 Days of Data for LRCX ---\n",
            "Price           Close        High        Low       Open    Volume\n",
            "Ticker           LRCX        LRCX       LRCX       LRCX      LRCX\n",
            "Date                                                             \n",
            "2025-07-25  96.959999   97.330002  96.320000  96.699997   8914400\n",
            "2025-07-28  98.620003   99.529999  97.919998  98.980003   8156100\n",
            "2025-07-29  98.940002  100.220001  98.029999  99.389999   7283700\n",
            "2025-07-30  99.089996  100.650002  97.949997  99.519997  12529400\n",
            "2025-07-31  94.839996   95.629997  90.940002  91.019997  27650700\n",
            "Data successfully saved to 'LRCX_historical_data_2025-08-01.csv'\n",
            "------------------------------\n",
            "Attempting to download data for LW from 2024-08-01 to 2025-08-01...\n"
          ]
        },
        {
          "output_type": "stream",
          "name": "stderr",
          "text": [
            "/tmp/ipython-input-2137805434.py:22: FutureWarning: YF.download() has changed argument auto_adjust default to True\n",
            "  stock_data = yf.download(ticker_symbol, start=start_date, end=end_date, progress=False)\n"
          ]
        },
        {
          "output_type": "stream",
          "name": "stdout",
          "text": [
            "Successfully downloaded data for LW.\n",
            "\n",
            "--- Last 5 Days of Data for LW ---\n",
            "Price           Close       High        Low       Open   Volume\n",
            "Ticker             LW         LW         LW         LW       LW\n",
            "Date                                                           \n",
            "2025-07-25  60.860001  61.020000  58.110001  58.230000  3561500\n",
            "2025-07-28  59.220001  60.699001  59.169998  60.250000  2310700\n",
            "2025-07-29  59.459999  59.889999  58.560001  59.209999  1635600\n",
            "2025-07-30  58.700001  59.759998  58.419998  59.759998  1405500\n",
            "2025-07-31  57.070000  58.785000  56.700001  58.160000  2605000\n",
            "Data successfully saved to 'LW_historical_data_2025-08-01.csv'\n",
            "------------------------------\n",
            "Attempting to download data for LVS from 2024-08-01 to 2025-08-01...\n"
          ]
        },
        {
          "output_type": "stream",
          "name": "stderr",
          "text": [
            "/tmp/ipython-input-2137805434.py:22: FutureWarning: YF.download() has changed argument auto_adjust default to True\n",
            "  stock_data = yf.download(ticker_symbol, start=start_date, end=end_date, progress=False)\n"
          ]
        },
        {
          "output_type": "stream",
          "name": "stdout",
          "text": [
            "Successfully downloaded data for LVS.\n",
            "\n",
            "--- Last 5 Days of Data for LVS ---\n",
            "Price           Close       High        Low       Open   Volume\n",
            "Ticker            LVS        LVS        LVS        LVS      LVS\n",
            "Date                                                           \n",
            "2025-07-25  52.410000  52.500000  50.419998  51.250000  6936700\n",
            "2025-07-28  52.490002  53.130001  52.029999  52.799999  7655700\n",
            "2025-07-29  52.340000  52.959999  52.099998  52.500000  4119400\n",
            "2025-07-30  52.970001  53.580002  52.290001  52.419998  4666600\n",
            "2025-07-31  52.400002  52.900002  52.200001  52.490002  4007000\n",
            "Data successfully saved to 'LVS_historical_data_2025-08-01.csv'\n",
            "------------------------------\n",
            "Attempting to download data for LEG from 2024-08-01 to 2025-08-01...\n"
          ]
        },
        {
          "output_type": "stream",
          "name": "stderr",
          "text": [
            "/tmp/ipython-input-2137805434.py:22: FutureWarning: YF.download() has changed argument auto_adjust default to True\n",
            "  stock_data = yf.download(ticker_symbol, start=start_date, end=end_date, progress=False)\n"
          ]
        },
        {
          "output_type": "stream",
          "name": "stdout",
          "text": [
            "Successfully downloaded data for LEG.\n",
            "\n",
            "--- Last 5 Days of Data for LEG ---\n",
            "Price       Close   High    Low   Open   Volume\n",
            "Ticker        LEG    LEG    LEG    LEG      LEG\n",
            "Date                                           \n",
            "2025-07-25  10.33  10.35  10.03  10.28  1250700\n",
            "2025-07-28  10.25  10.36  10.13  10.27  1323800\n",
            "2025-07-29  10.05  10.35  10.03  10.29  1405200\n",
            "2025-07-30   9.66  10.10   9.61  10.09  1983800\n",
            "2025-07-31   9.55   9.69   9.50   9.60  2743900\n",
            "Data successfully saved to 'LEG_historical_data_2025-08-01.csv'\n",
            "------------------------------\n",
            "Attempting to download data for LDOS from 2024-08-01 to 2025-08-01...\n"
          ]
        },
        {
          "output_type": "stream",
          "name": "stderr",
          "text": [
            "/tmp/ipython-input-2137805434.py:22: FutureWarning: YF.download() has changed argument auto_adjust default to True\n",
            "  stock_data = yf.download(ticker_symbol, start=start_date, end=end_date, progress=False)\n"
          ]
        },
        {
          "output_type": "stream",
          "name": "stdout",
          "text": [
            "Successfully downloaded data for LDOS.\n",
            "\n",
            "--- Last 5 Days of Data for LDOS ---\n",
            "Price            Close        High         Low        Open  Volume\n",
            "Ticker            LDOS        LDOS        LDOS        LDOS    LDOS\n",
            "Date                                                              \n",
            "2025-07-25  163.250000  164.100006  160.570007  163.990005  704500\n",
            "2025-07-28  160.350006  163.710007  158.910004  163.220001  961000\n",
            "2025-07-29  161.509995  162.309998  160.330002  161.990005  544100\n",
            "2025-07-30  161.050003  162.500000  160.089996  161.529999  548100\n",
            "2025-07-31  159.649994  161.899994  159.250000  160.779999  871300\n",
            "Data successfully saved to 'LDOS_historical_data_2025-08-01.csv'\n",
            "------------------------------\n",
            "Attempting to download data for LEN from 2024-08-01 to 2025-08-01...\n"
          ]
        },
        {
          "output_type": "stream",
          "name": "stderr",
          "text": [
            "/tmp/ipython-input-2137805434.py:22: FutureWarning: YF.download() has changed argument auto_adjust default to True\n",
            "  stock_data = yf.download(ticker_symbol, start=start_date, end=end_date, progress=False)\n"
          ]
        },
        {
          "output_type": "stream",
          "name": "stdout",
          "text": [
            "Successfully downloaded data for LEN.\n",
            "\n",
            "--- Last 5 Days of Data for LEN ---\n",
            "Price            Close        High         Low        Open   Volume\n",
            "Ticker             LEN         LEN         LEN         LEN      LEN\n",
            "Date                                                               \n",
            "2025-07-25  115.330002  115.699997  112.839996  114.000000  2553500\n",
            "2025-07-28  116.139999  117.889999  114.110001  114.930000  2891200\n",
            "2025-07-29  115.860001  116.639999  114.739998  116.220001  1744000\n",
            "2025-07-30  112.370003  116.570000  111.699997  115.680000  2526000\n",
            "2025-07-31  112.180000  113.510002  110.330002  110.750000  2258500\n",
            "Data successfully saved to 'LEN_historical_data_2025-08-01.csv'\n",
            "------------------------------\n",
            "Attempting to download data for LNC from 2024-08-01 to 2025-08-01...\n"
          ]
        },
        {
          "output_type": "stream",
          "name": "stderr",
          "text": [
            "/tmp/ipython-input-2137805434.py:22: FutureWarning: YF.download() has changed argument auto_adjust default to True\n",
            "  stock_data = yf.download(ticker_symbol, start=start_date, end=end_date, progress=False)\n"
          ]
        },
        {
          "output_type": "stream",
          "name": "stdout",
          "text": [
            "Successfully downloaded data for LNC.\n",
            "\n",
            "--- Last 5 Days of Data for LNC ---\n",
            "Price           Close       High        Low       Open   Volume\n",
            "Ticker            LNC        LNC        LNC        LNC      LNC\n",
            "Date                                                           \n",
            "2025-07-25  34.830002  34.889999  34.380001  34.799999  1154300\n",
            "2025-07-28  35.070000  35.119999  34.720001  34.930000  1603200\n",
            "2025-07-29  35.040001  35.549999  35.000000  35.380001  2830800\n",
            "2025-07-30  34.200001  35.000000  33.919998  34.750000  3254100\n",
            "2025-07-31  38.110001  38.189999  35.529999  35.750000  6386100\n",
            "Data successfully saved to 'LNC_historical_data_2025-08-01.csv'\n",
            "------------------------------\n",
            "Attempting to download data for LYV from 2024-08-01 to 2025-08-01...\n",
            "Successfully downloaded data for LYV.\n",
            "\n",
            "--- Last 5 Days of Data for LYV ---\n",
            "Price            Close        High         Low        Open   Volume\n",
            "Ticker             LYV         LYV         LYV         LYV      LYV\n",
            "Date                                                               \n",
            "2025-07-25  153.059998  153.100006  151.360001  152.240005  1202700\n",
            "2025-07-28  153.080002  153.220001  150.580002  152.830002  1125500\n",
            "2025-07-29  150.490005  153.759995  149.570007  153.080002  2417900\n",
            "2025-07-30  152.190002  153.589996  150.229996  150.759995  1860600\n",
            "2025-07-31  147.699997  152.770004  147.559998  152.190002  2093300\n",
            "Data successfully saved to 'LYV_historical_data_2025-08-01.csv'\n",
            "------------------------------\n",
            "Attempting to download data for LKQ from 2024-08-01 to 2025-08-01...\n"
          ]
        },
        {
          "output_type": "stream",
          "name": "stderr",
          "text": [
            "/tmp/ipython-input-2137805434.py:22: FutureWarning: YF.download() has changed argument auto_adjust default to True\n",
            "  stock_data = yf.download(ticker_symbol, start=start_date, end=end_date, progress=False)\n",
            "/tmp/ipython-input-2137805434.py:22: FutureWarning: YF.download() has changed argument auto_adjust default to True\n",
            "  stock_data = yf.download(ticker_symbol, start=start_date, end=end_date, progress=False)\n"
          ]
        },
        {
          "output_type": "stream",
          "name": "stdout",
          "text": [
            "Successfully downloaded data for LKQ.\n",
            "\n",
            "--- Last 5 Days of Data for LKQ ---\n",
            "Price           Close       High        Low       Open   Volume\n",
            "Ticker            LKQ        LKQ        LKQ        LKQ      LKQ\n",
            "Date                                                           \n",
            "2025-07-25  32.169998  32.310001  31.730000  31.830000  5796200\n",
            "2025-07-28  31.490000  32.270000  31.240000  32.130001  4078300\n",
            "2025-07-29  30.469999  31.430000  30.459999  31.389999  4505000\n",
            "2025-07-30  30.120001  30.740000  29.910000  30.740000  2973000\n",
            "2025-07-31  29.469999  30.080000  29.430000  29.690001  4132600\n",
            "Data successfully saved to 'LKQ_historical_data_2025-08-01.csv'\n",
            "------------------------------\n",
            "Attempting to download data for LMT from 2024-08-01 to 2025-08-01...\n"
          ]
        },
        {
          "output_type": "stream",
          "name": "stderr",
          "text": [
            "/tmp/ipython-input-2137805434.py:22: FutureWarning: YF.download() has changed argument auto_adjust default to True\n",
            "  stock_data = yf.download(ticker_symbol, start=start_date, end=end_date, progress=False)\n"
          ]
        },
        {
          "output_type": "stream",
          "name": "stdout",
          "text": [
            "Successfully downloaded data for LMT.\n",
            "\n",
            "--- Last 5 Days of Data for LMT ---\n",
            "Price            Close        High         Low        Open   Volume\n",
            "Ticker             LMT         LMT         LMT         LMT      LMT\n",
            "Date                                                               \n",
            "2025-07-25  421.170013  425.670013  418.510010  421.540009  2461800\n",
            "2025-07-28  421.339996  428.859985  421.170013  425.899994  2423700\n",
            "2025-07-29  420.130005  423.649994  417.350006  422.739990  2428800\n",
            "2025-07-30  418.679993  422.799988  417.149994  420.130005  1632100\n",
            "2025-07-31  420.980011  422.579987  412.549988  417.130005  2176500\n",
            "Data successfully saved to 'LMT_historical_data_2025-08-01.csv'\n",
            "------------------------------\n",
            "Attempting to download data for L from 2024-08-01 to 2025-08-01...\n"
          ]
        },
        {
          "output_type": "stream",
          "name": "stderr",
          "text": [
            "/tmp/ipython-input-2137805434.py:22: FutureWarning: YF.download() has changed argument auto_adjust default to True\n",
            "  stock_data = yf.download(ticker_symbol, start=start_date, end=end_date, progress=False)\n"
          ]
        },
        {
          "output_type": "stream",
          "name": "stdout",
          "text": [
            "Successfully downloaded data for L.\n",
            "\n",
            "--- Last 5 Days of Data for L ---\n",
            "Price           Close       High        Low       Open  Volume\n",
            "Ticker              L          L          L          L       L\n",
            "Date                                                          \n",
            "2025-07-25  91.660004  91.980003  91.250000  91.250000  436700\n",
            "2025-07-28  90.400002  91.730003  90.250000  91.430000  587300\n",
            "2025-07-29  91.120003  91.760002  90.809998  91.239998  611200\n",
            "2025-07-30  90.290001  91.220001  89.820000  91.099998  709000\n",
            "2025-07-31  90.540001  91.379997  89.760002  89.870003  994600\n",
            "Data successfully saved to 'L_historical_data_2025-08-01.csv'\n",
            "------------------------------\n",
            "Attempting to download data for LOW from 2024-08-01 to 2025-08-01...\n"
          ]
        },
        {
          "output_type": "stream",
          "name": "stderr",
          "text": [
            "/tmp/ipython-input-2137805434.py:22: FutureWarning: YF.download() has changed argument auto_adjust default to True\n",
            "  stock_data = yf.download(ticker_symbol, start=start_date, end=end_date, progress=False)\n"
          ]
        },
        {
          "output_type": "stream",
          "name": "stdout",
          "text": [
            "Successfully downloaded data for LOW.\n",
            "\n",
            "--- Last 5 Days of Data for LOW ---\n",
            "Price            Close        High         Low        Open   Volume\n",
            "Ticker             LOW         LOW         LOW         LOW      LOW\n",
            "Date                                                               \n",
            "2025-07-25  226.800003  227.330002  225.089996  226.500000  2053500\n",
            "2025-07-28  229.990005  231.850006  225.500000  226.750000  3302200\n",
            "2025-07-29  230.039993  230.839996  228.149994  230.330002  1852900\n",
            "2025-07-30  227.429993  231.130005  225.520004  230.250000  2047400\n",
            "2025-07-31  223.570007  228.320007  222.979996  225.899994  2778400\n",
            "Data successfully saved to 'LOW_historical_data_2025-08-01.csv'\n",
            "------------------------------\n",
            "Attempting to download data for LUMN from 2024-08-01 to 2025-08-01...\n"
          ]
        },
        {
          "output_type": "stream",
          "name": "stderr",
          "text": [
            "/tmp/ipython-input-2137805434.py:22: FutureWarning: YF.download() has changed argument auto_adjust default to True\n",
            "  stock_data = yf.download(ticker_symbol, start=start_date, end=end_date, progress=False)\n"
          ]
        },
        {
          "output_type": "stream",
          "name": "stdout",
          "text": [
            "Successfully downloaded data for LUMN.\n",
            "\n",
            "--- Last 5 Days of Data for LUMN ---\n",
            "Price      Close  High   Low  Open    Volume\n",
            "Ticker      LUMN  LUMN  LUMN  LUMN      LUMN\n",
            "Date                                        \n",
            "2025-07-25  4.33  4.42  4.28  4.40   6484600\n",
            "2025-07-28  4.47  4.52  4.31  4.35   9409900\n",
            "2025-07-29  4.59  4.60  4.50  4.51  10352800\n",
            "2025-07-30  4.46  4.59  4.38  4.58   9727700\n",
            "2025-07-31  4.45  4.52  4.39  4.47  13705400\n",
            "Data successfully saved to 'LUMN_historical_data_2025-08-01.csv'\n",
            "------------------------------\n",
            "Attempting to download data for LYB from 2024-08-01 to 2025-08-01...\n",
            "Successfully downloaded data for LYB.\n",
            "\n",
            "--- Last 5 Days of Data for LYB ---\n",
            "Price           Close       High        Low       Open   Volume\n",
            "Ticker            LYB        LYB        LYB        LYB      LYB\n",
            "Date                                                           \n",
            "2025-07-25  64.010002  64.190002  60.509998  61.000000  5730600\n",
            "2025-07-28  62.880001  64.029999  62.500000  63.889999  4637400\n",
            "2025-07-29  62.480000  62.810001  61.380001  62.380001  2757500\n",
            "2025-07-30  58.849998  62.259998  58.619999  62.189999  6287300\n",
            "2025-07-31  57.930000  58.770000  57.639999  58.560001  9065800\n"
          ]
        },
        {
          "output_type": "stream",
          "name": "stderr",
          "text": [
            "/tmp/ipython-input-2137805434.py:22: FutureWarning: YF.download() has changed argument auto_adjust default to True\n",
            "  stock_data = yf.download(ticker_symbol, start=start_date, end=end_date, progress=False)\n"
          ]
        },
        {
          "output_type": "stream",
          "name": "stdout",
          "text": [
            "Data successfully saved to 'LYB_historical_data_2025-08-01.csv'\n",
            "------------------------------\n",
            "Attempting to download data for MTB from 2024-08-01 to 2025-08-01...\n"
          ]
        },
        {
          "output_type": "stream",
          "name": "stderr",
          "text": [
            "/tmp/ipython-input-2137805434.py:22: FutureWarning: YF.download() has changed argument auto_adjust default to True\n",
            "  stock_data = yf.download(ticker_symbol, start=start_date, end=end_date, progress=False)\n"
          ]
        },
        {
          "output_type": "stream",
          "name": "stdout",
          "text": [
            "Successfully downloaded data for MTB.\n",
            "\n",
            "--- Last 5 Days of Data for MTB ---\n",
            "Price            Close        High         Low        Open   Volume\n",
            "Ticker             MTB         MTB         MTB         MTB      MTB\n",
            "Date                                                               \n",
            "2025-07-25  193.770004  194.059998  190.169998  192.679993   779400\n",
            "2025-07-28  194.149994  194.289993  192.539993  193.729996  1140300\n",
            "2025-07-29  194.339996  196.080002  193.570007  195.039993   590900\n",
            "2025-07-30  191.550003  195.110001  190.679993  194.279999   731600\n",
            "2025-07-31  188.699997  191.639999  188.410004  191.050003   860500\n",
            "Data successfully saved to 'MTB_historical_data_2025-08-01.csv'\n",
            "------------------------------\n",
            "Attempting to download data for MRO from 2024-08-01 to 2025-08-01...\n"
          ]
        },
        {
          "output_type": "stream",
          "name": "stderr",
          "text": [
            "/tmp/ipython-input-2137805434.py:22: FutureWarning: YF.download() has changed argument auto_adjust default to True\n",
            "  stock_data = yf.download(ticker_symbol, start=start_date, end=end_date, progress=False)\n",
            "ERROR:yfinance:\n",
            "1 Failed download:\n",
            "ERROR:yfinance:['MRO']: YFTzMissingError('possibly delisted; no timezone found')\n",
            "/tmp/ipython-input-2137805434.py:22: FutureWarning: YF.download() has changed argument auto_adjust default to True\n",
            "  stock_data = yf.download(ticker_symbol, start=start_date, end=end_date, progress=False)\n"
          ]
        },
        {
          "output_type": "stream",
          "name": "stdout",
          "text": [
            "No data found for ticker 'MRO'. It might be an invalid ticker or delisted.\n",
            "------------------------------\n",
            "Attempting to download data for MPC from 2024-08-01 to 2025-08-01...\n",
            "Successfully downloaded data for MPC.\n",
            "\n",
            "--- Last 5 Days of Data for MPC ---\n",
            "Price            Close        High         Low        Open   Volume\n",
            "Ticker             MPC         MPC         MPC         MPC      MPC\n",
            "Date                                                               \n",
            "2025-07-25  171.570007  173.229996  170.339996  172.070007  1287700\n",
            "2025-07-28  174.800003  174.960007  171.869995  172.699997  1100100\n",
            "2025-07-29  175.429993  175.500000  172.990005  175.250000  1296100\n",
            "2025-07-30  170.779999  174.020004  169.449997  173.809998  1494600\n",
            "2025-07-31  170.190002  171.919998  169.169998  170.330002  1340600\n",
            "Data successfully saved to 'MPC_historical_data_2025-08-01.csv'\n",
            "------------------------------\n",
            "Attempting to download data for MKTX from 2024-08-01 to 2025-08-01...\n"
          ]
        },
        {
          "output_type": "stream",
          "name": "stderr",
          "text": [
            "/tmp/ipython-input-2137805434.py:22: FutureWarning: YF.download() has changed argument auto_adjust default to True\n",
            "  stock_data = yf.download(ticker_symbol, start=start_date, end=end_date, progress=False)\n"
          ]
        },
        {
          "output_type": "stream",
          "name": "stdout",
          "text": [
            "Successfully downloaded data for MKTX.\n",
            "\n",
            "--- Last 5 Days of Data for MKTX ---\n",
            "Price            Close        High         Low        Open  Volume\n",
            "Ticker            MKTX        MKTX        MKTX        MKTX    MKTX\n",
            "Date                                                              \n",
            "2025-07-25  211.449997  214.419998  210.630005  213.669998  214800\n",
            "2025-07-28  207.669998  211.160004  207.339996  210.300003  345500\n",
            "2025-07-29  207.169998  209.330002  206.259995  208.119995  342200\n",
            "2025-07-30  210.089996  210.940002  206.039993  207.600006  471200\n",
            "2025-07-31  205.500000  209.100006  205.320007  208.279999  454700\n",
            "Data successfully saved to 'MKTX_historical_data_2025-08-01.csv'\n",
            "------------------------------\n",
            "Attempting to download data for MAR from 2024-08-01 to 2025-08-01...\n"
          ]
        },
        {
          "output_type": "stream",
          "name": "stderr",
          "text": [
            "/tmp/ipython-input-2137805434.py:22: FutureWarning: YF.download() has changed argument auto_adjust default to True\n",
            "  stock_data = yf.download(ticker_symbol, start=start_date, end=end_date, progress=False)\n"
          ]
        },
        {
          "output_type": "stream",
          "name": "stdout",
          "text": [
            "Successfully downloaded data for MAR.\n",
            "\n",
            "--- Last 5 Days of Data for MAR ---\n",
            "Price            Close        High         Low        Open   Volume\n",
            "Ticker             MAR         MAR         MAR         MAR      MAR\n",
            "Date                                                               \n",
            "2025-07-25  279.109985  279.209991  272.750000  274.040009  1013500\n",
            "2025-07-28  275.790009  280.000000  275.609985  278.679993  1485000\n",
            "2025-07-29  273.470001  276.950012  272.570007  276.920013  1504500\n",
            "2025-07-30  270.040009  275.049988  269.220001  274.660004  1300400\n",
            "2025-07-31  263.829987  270.049988  262.950012  268.220001  2279400\n",
            "Data successfully saved to 'MAR_historical_data_2025-08-01.csv'\n",
            "------------------------------\n",
            "Attempting to download data for MMC from 2024-08-01 to 2025-08-01...\n"
          ]
        },
        {
          "output_type": "stream",
          "name": "stderr",
          "text": [
            "/tmp/ipython-input-2137805434.py:22: FutureWarning: YF.download() has changed argument auto_adjust default to True\n",
            "  stock_data = yf.download(ticker_symbol, start=start_date, end=end_date, progress=False)\n"
          ]
        },
        {
          "output_type": "stream",
          "name": "stdout",
          "text": [
            "Successfully downloaded data for MMC.\n",
            "\n",
            "--- Last 5 Days of Data for MMC ---\n",
            "Price            Close        High         Low        Open   Volume\n",
            "Ticker             MMC         MMC         MMC         MMC      MMC\n",
            "Date                                                               \n",
            "2025-07-25  210.399994  211.210007  209.080002  209.149994  2292700\n",
            "2025-07-28  206.270004  209.690002  205.889999  209.460007  2483200\n",
            "2025-07-29  202.919998  206.289993  201.509995  205.839996  4765200\n",
            "2025-07-30  200.559998  203.350006  199.570007  202.779999  3081000\n",
            "2025-07-31  199.199997  201.059998  198.449997  199.000000  3006600\n",
            "Data successfully saved to 'MMC_historical_data_2025-08-01.csv'\n",
            "------------------------------\n",
            "Attempting to download data for MLM from 2024-08-01 to 2025-08-01...\n"
          ]
        },
        {
          "output_type": "stream",
          "name": "stderr",
          "text": [
            "/tmp/ipython-input-2137805434.py:22: FutureWarning: YF.download() has changed argument auto_adjust default to True\n",
            "  stock_data = yf.download(ticker_symbol, start=start_date, end=end_date, progress=False)\n"
          ]
        },
        {
          "output_type": "stream",
          "name": "stdout",
          "text": [
            "Successfully downloaded data for MLM.\n",
            "\n",
            "--- Last 5 Days of Data for MLM ---\n",
            "Price            Close        High         Low        Open  Volume\n",
            "Ticker             MLM         MLM         MLM         MLM     MLM\n",
            "Date                                                              \n",
            "2025-07-25  585.729980  586.979980  580.059998  582.010010  233700\n",
            "2025-07-28  575.880005  585.020020  572.669983  585.020020  325700\n",
            "2025-07-29  579.919983  582.200012  575.900024  579.880005  244300\n",
            "2025-07-30  575.320007  582.130005  572.679993  580.000000  383800\n",
            "2025-07-31  574.880005  576.280029  560.890015  563.619995  589800\n",
            "Data successfully saved to 'MLM_historical_data_2025-08-01.csv'\n",
            "------------------------------\n",
            "Attempting to download data for MAS from 2024-08-01 to 2025-08-01...\n"
          ]
        },
        {
          "output_type": "stream",
          "name": "stderr",
          "text": [
            "/tmp/ipython-input-2137805434.py:22: FutureWarning: YF.download() has changed argument auto_adjust default to True\n",
            "  stock_data = yf.download(ticker_symbol, start=start_date, end=end_date, progress=False)\n"
          ]
        },
        {
          "output_type": "stream",
          "name": "stdout",
          "text": [
            "Successfully downloaded data for MAS.\n",
            "\n",
            "--- Last 5 Days of Data for MAS ---\n",
            "Price           Close       High        Low       Open   Volume\n",
            "Ticker            MAS        MAS        MAS        MAS      MAS\n",
            "Date                                                           \n",
            "2025-07-25  67.750000  68.040001  67.220001  67.949997  1590500\n",
            "2025-07-28  67.500000  68.360001  67.050003  67.629997  1866500\n",
            "2025-07-29  66.650002  67.860001  66.190002  67.500000  3194100\n",
            "2025-07-30  65.730003  66.709999  65.190002  66.570000  4454400\n",
            "2025-07-31  68.129997  72.690002  67.839996  71.660004  5236400\n",
            "Data successfully saved to 'MAS_historical_data_2025-08-01.csv'\n",
            "------------------------------\n",
            "Attempting to download data for MTCH from 2024-08-01 to 2025-08-01...\n"
          ]
        },
        {
          "output_type": "stream",
          "name": "stderr",
          "text": [
            "/tmp/ipython-input-2137805434.py:22: FutureWarning: YF.download() has changed argument auto_adjust default to True\n",
            "  stock_data = yf.download(ticker_symbol, start=start_date, end=end_date, progress=False)\n"
          ]
        },
        {
          "output_type": "stream",
          "name": "stdout",
          "text": [
            "Successfully downloaded data for MTCH.\n",
            "\n",
            "--- Last 5 Days of Data for MTCH ---\n",
            "Price           Close       High        Low       Open   Volume\n",
            "Ticker           MTCH       MTCH       MTCH       MTCH     MTCH\n",
            "Date                                                           \n",
            "2025-07-25  34.560001  34.779999  34.060001  34.240002  3745600\n",
            "2025-07-28  34.160000  34.689999  34.099998  34.500000  4448200\n",
            "2025-07-29  34.055000  34.310001  33.810001  34.130001  4018700\n",
            "2025-07-30  34.299999  34.490002  33.459999  34.150002  4071100\n",
            "2025-07-31  34.270000  34.525002  33.919998  34.230000  4506700\n",
            "Data successfully saved to 'MTCH_historical_data_2025-08-01.csv'\n",
            "------------------------------\n",
            "Attempting to download data for MKC from 2024-08-01 to 2025-08-01...\n"
          ]
        },
        {
          "output_type": "stream",
          "name": "stderr",
          "text": [
            "/tmp/ipython-input-2137805434.py:22: FutureWarning: YF.download() has changed argument auto_adjust default to True\n",
            "  stock_data = yf.download(ticker_symbol, start=start_date, end=end_date, progress=False)\n"
          ]
        },
        {
          "output_type": "stream",
          "name": "stdout",
          "text": [
            "Successfully downloaded data for MKC.\n",
            "\n",
            "--- Last 5 Days of Data for MKC ---\n",
            "Price           Close       High        Low       Open   Volume\n",
            "Ticker            MKC        MKC        MKC        MKC      MKC\n",
            "Date                                                           \n",
            "2025-07-25  71.570000  71.690002  70.790001  71.459999  1974300\n",
            "2025-07-28  71.610001  72.720001  70.900002  71.169998  2137100\n",
            "2025-07-29  72.809998  73.839996  71.349998  71.379997  2830800\n",
            "2025-07-30  71.389999  72.940002  71.080002  72.680000  1680100\n",
            "2025-07-31  70.629997  71.470001  70.250000  70.660004  3634000\n",
            "Data successfully saved to 'MKC_historical_data_2025-08-01.csv'\n",
            "------------------------------\n",
            "Attempting to download data for MCD from 2024-08-01 to 2025-08-01...\n"
          ]
        },
        {
          "output_type": "stream",
          "name": "stderr",
          "text": [
            "/tmp/ipython-input-2137805434.py:22: FutureWarning: YF.download() has changed argument auto_adjust default to True\n",
            "  stock_data = yf.download(ticker_symbol, start=start_date, end=end_date, progress=False)\n"
          ]
        },
        {
          "output_type": "stream",
          "name": "stdout",
          "text": [
            "Successfully downloaded data for MCD.\n",
            "\n",
            "--- Last 5 Days of Data for MCD ---\n",
            "Price            Close        High         Low        Open   Volume\n",
            "Ticker             MCD         MCD         MCD         MCD      MCD\n",
            "Date                                                               \n",
            "2025-07-25  298.470001  298.640015  294.899994  296.809998  3401000\n",
            "2025-07-28  299.220001  299.910004  294.989990  297.059998  3070500\n",
            "2025-07-29  302.670013  302.829987  298.299988  298.950012  3147700\n",
            "2025-07-30  303.609985  305.429993  301.079987  302.570007  2805900\n",
            "2025-07-31  300.070007  303.470001  300.000000  301.019989  3637200\n",
            "Data successfully saved to 'MCD_historical_data_2025-08-01.csv'\n",
            "------------------------------\n",
            "Attempting to download data for MCK from 2024-08-01 to 2025-08-01...\n"
          ]
        },
        {
          "output_type": "stream",
          "name": "stderr",
          "text": [
            "/tmp/ipython-input-2137805434.py:22: FutureWarning: YF.download() has changed argument auto_adjust default to True\n",
            "  stock_data = yf.download(ticker_symbol, start=start_date, end=end_date, progress=False)\n"
          ]
        },
        {
          "output_type": "stream",
          "name": "stdout",
          "text": [
            "Successfully downloaded data for MCK.\n",
            "\n",
            "--- Last 5 Days of Data for MCK ---\n",
            "Price            Close        High         Low        Open   Volume\n",
            "Ticker             MCK         MCK         MCK         MCK      MCK\n",
            "Date                                                               \n",
            "2025-07-25  711.820007  716.900024  709.960022  712.159973   432000\n",
            "2025-07-28  706.280029  716.500000  701.260010  716.500000   692800\n",
            "2025-07-29  712.150024  715.309998  703.130005  710.260010   954800\n",
            "2025-07-30  714.919983  716.659973  706.000000  710.750000   877600\n",
            "2025-07-31  693.539978  717.000000  686.299988  711.190002  1153200\n",
            "Data successfully saved to 'MCK_historical_data_2025-08-01.csv'\n",
            "------------------------------\n",
            "Attempting to download data for MDT from 2024-08-01 to 2025-08-01...\n"
          ]
        },
        {
          "output_type": "stream",
          "name": "stderr",
          "text": [
            "/tmp/ipython-input-2137805434.py:22: FutureWarning: YF.download() has changed argument auto_adjust default to True\n",
            "  stock_data = yf.download(ticker_symbol, start=start_date, end=end_date, progress=False)\n"
          ]
        },
        {
          "output_type": "stream",
          "name": "stdout",
          "text": [
            "Successfully downloaded data for MDT.\n",
            "\n",
            "--- Last 5 Days of Data for MDT ---\n",
            "Price           Close       High        Low       Open   Volume\n",
            "Ticker            MDT        MDT        MDT        MDT      MDT\n",
            "Date                                                           \n",
            "2025-07-25  92.940002  93.099998  91.930000  91.970001  5376500\n",
            "2025-07-28  91.970001  92.750000  91.870003  92.720001  4311500\n",
            "2025-07-29  92.440002  92.709999  91.750000  91.820000  4676800\n",
            "2025-07-30  91.639999  92.379997  91.220001  92.260002  5424000\n",
            "2025-07-31  90.239998  91.690002  90.150002  91.430000  8310000\n",
            "Data successfully saved to 'MDT_historical_data_2025-08-01.csv'\n",
            "------------------------------\n",
            "Attempting to download data for MET from 2024-08-01 to 2025-08-01...\n"
          ]
        },
        {
          "output_type": "stream",
          "name": "stderr",
          "text": [
            "/tmp/ipython-input-2137805434.py:22: FutureWarning: YF.download() has changed argument auto_adjust default to True\n",
            "  stock_data = yf.download(ticker_symbol, start=start_date, end=end_date, progress=False)\n"
          ]
        },
        {
          "output_type": "stream",
          "name": "stdout",
          "text": [
            "Successfully downloaded data for MET.\n",
            "\n",
            "--- Last 5 Days of Data for MET ---\n",
            "Price           Close       High        Low       Open   Volume\n",
            "Ticker            MET        MET        MET        MET      MET\n",
            "Date                                                           \n",
            "2025-07-25  78.559998  78.669998  77.389999  78.000000  2227600\n",
            "2025-07-28  77.660004  78.550003  77.309998  78.410004  2275700\n",
            "2025-07-29  77.680000  78.980003  77.500000  78.330002  3824900\n",
            "2025-07-30  74.790001  77.449997  74.269997  76.849998  4965300\n",
            "2025-07-31  75.949997  76.540001  74.660004  74.750000  5251200\n",
            "Data successfully saved to 'MET_historical_data_2025-08-01.csv'\n",
            "------------------------------\n",
            "Attempting to download data for MTD from 2024-08-01 to 2025-08-01...\n"
          ]
        },
        {
          "output_type": "stream",
          "name": "stderr",
          "text": [
            "/tmp/ipython-input-2137805434.py:22: FutureWarning: YF.download() has changed argument auto_adjust default to True\n",
            "  stock_data = yf.download(ticker_symbol, start=start_date, end=end_date, progress=False)\n"
          ]
        },
        {
          "output_type": "stream",
          "name": "stdout",
          "text": [
            "Successfully downloaded data for MTD.\n",
            "\n",
            "--- Last 5 Days of Data for MTD ---\n",
            "Price             Close         High          Low         Open  Volume\n",
            "Ticker              MTD          MTD          MTD          MTD     MTD\n",
            "Date                                                                  \n",
            "2025-07-25  1263.989990  1268.560059  1246.160034  1268.560059  155600\n",
            "2025-07-28  1261.030029  1275.880005  1250.869995  1252.219971  159100\n",
            "2025-07-29  1266.099976  1272.160034  1254.829956  1261.489990  153700\n",
            "2025-07-30  1265.900024  1277.680054  1247.199951  1269.010010  168900\n",
            "2025-07-31  1233.680054  1274.050049  1233.680054  1251.579956  302600\n",
            "Data successfully saved to 'MTD_historical_data_2025-08-01.csv'\n",
            "------------------------------\n",
            "Attempting to download data for MGM from 2024-08-01 to 2025-08-01...\n"
          ]
        },
        {
          "output_type": "stream",
          "name": "stderr",
          "text": [
            "/tmp/ipython-input-2137805434.py:22: FutureWarning: YF.download() has changed argument auto_adjust default to True\n",
            "  stock_data = yf.download(ticker_symbol, start=start_date, end=end_date, progress=False)\n"
          ]
        },
        {
          "output_type": "stream",
          "name": "stdout",
          "text": [
            "Successfully downloaded data for MGM.\n",
            "\n",
            "--- Last 5 Days of Data for MGM ---\n",
            "Price           Close       High        Low       Open    Volume\n",
            "Ticker            MGM        MGM        MGM        MGM       MGM\n",
            "Date                                                            \n",
            "2025-07-25  38.439999  38.490002  37.080002  37.580002   4079000\n",
            "2025-07-28  38.560001  39.290001  38.400002  38.400002   5202000\n",
            "2025-07-29  37.410000  38.750000  36.930000  38.740002   6235100\n",
            "2025-07-30  37.880001  38.459999  37.200001  37.200001  10266300\n",
            "2025-07-31  36.450001  36.799999  35.340000  36.709999  10769500\n",
            "Data successfully saved to 'MGM_historical_data_2025-08-01.csv'\n",
            "------------------------------\n",
            "Attempting to download data for MCHP from 2024-08-01 to 2025-08-01...\n"
          ]
        },
        {
          "output_type": "stream",
          "name": "stderr",
          "text": [
            "/tmp/ipython-input-2137805434.py:22: FutureWarning: YF.download() has changed argument auto_adjust default to True\n",
            "  stock_data = yf.download(ticker_symbol, start=start_date, end=end_date, progress=False)\n"
          ]
        },
        {
          "output_type": "stream",
          "name": "stdout",
          "text": [
            "Successfully downloaded data for MCHP.\n",
            "\n",
            "--- Last 5 Days of Data for MCHP ---\n",
            "Price           Close       High        Low       Open    Volume\n",
            "Ticker           MCHP       MCHP       MCHP       MCHP      MCHP\n",
            "Date                                                            \n",
            "2025-07-25  69.209999  69.269997  67.680000  67.769997   8354600\n",
            "2025-07-28  70.529999  71.080002  69.349998  69.709999   6765000\n",
            "2025-07-29  70.680000  71.540001  69.830002  71.029999   5449100\n",
            "2025-07-30  70.290001  71.099998  69.480003  70.919998   6430800\n",
            "2025-07-31  67.589996  70.059998  66.809998  69.699997  15363600\n",
            "Data successfully saved to 'MCHP_historical_data_2025-08-01.csv'\n",
            "------------------------------\n",
            "Attempting to download data for MU from 2024-08-01 to 2025-08-01...\n"
          ]
        },
        {
          "output_type": "stream",
          "name": "stderr",
          "text": [
            "/tmp/ipython-input-2137805434.py:22: FutureWarning: YF.download() has changed argument auto_adjust default to True\n",
            "  stock_data = yf.download(ticker_symbol, start=start_date, end=end_date, progress=False)\n"
          ]
        },
        {
          "output_type": "stream",
          "name": "stdout",
          "text": [
            "Successfully downloaded data for MU.\n",
            "\n",
            "--- Last 5 Days of Data for MU ---\n",
            "Price            Close        High         Low        Open    Volume\n",
            "Ticker              MU          MU          MU          MU        MU\n",
            "Date                                                                \n",
            "2025-07-25  111.260002  111.500000  108.830002  110.989998  16372300\n",
            "2025-07-28  111.250000  112.000000  109.860001  111.720001  12932300\n",
            "2025-07-29  111.959999  113.540001  110.669998  112.050003  16653300\n",
            "2025-07-30  114.739998  114.889999  112.410004  112.599998  16378800\n",
            "2025-07-31  109.139999  112.269997  106.940002  112.190002  29153300\n",
            "Data successfully saved to 'MU_historical_data_2025-08-01.csv'\n",
            "------------------------------\n",
            "Attempting to download data for MAA from 2024-08-01 to 2025-08-01...\n"
          ]
        },
        {
          "output_type": "stream",
          "name": "stderr",
          "text": [
            "/tmp/ipython-input-2137805434.py:22: FutureWarning: YF.download() has changed argument auto_adjust default to True\n",
            "  stock_data = yf.download(ticker_symbol, start=start_date, end=end_date, progress=False)\n"
          ]
        },
        {
          "output_type": "stream",
          "name": "stdout",
          "text": [
            "Successfully downloaded data for MAA.\n",
            "\n",
            "--- Last 5 Days of Data for MAA ---\n",
            "Price            Close        High         Low        Open   Volume\n",
            "Ticker             MAA         MAA         MAA         MAA      MAA\n",
            "Date                                                               \n",
            "2025-07-25  151.649994  151.899994  150.509995  151.389999   560400\n",
            "2025-07-28  149.350006  151.639999  149.139999  151.240005   714300\n",
            "2025-07-29  152.320007  152.350006  149.169998  149.690002   619400\n",
            "2025-07-30  148.789993  151.720001  147.320007  151.630005  1302300\n",
            "2025-07-31  142.429993  149.179993  142.139999  146.330002  1824700\n",
            "Data successfully saved to 'MAA_historical_data_2025-08-01.csv'\n",
            "------------------------------\n",
            "Attempting to download data for MHK from 2024-08-01 to 2025-08-01...\n"
          ]
        },
        {
          "output_type": "stream",
          "name": "stderr",
          "text": [
            "/tmp/ipython-input-2137805434.py:22: FutureWarning: YF.download() has changed argument auto_adjust default to True\n",
            "  stock_data = yf.download(ticker_symbol, start=start_date, end=end_date, progress=False)\n"
          ]
        },
        {
          "output_type": "stream",
          "name": "stdout",
          "text": [
            "Successfully downloaded data for MHK.\n",
            "\n",
            "--- Last 5 Days of Data for MHK ---\n",
            "Price            Close        High         Low        Open   Volume\n",
            "Ticker             MHK         MHK         MHK         MHK      MHK\n",
            "Date                                                               \n",
            "2025-07-25  120.900002  122.379997  115.029999  119.190002  2290200\n",
            "2025-07-28  120.000000  122.570000  118.959999  120.320000  1300800\n",
            "2025-07-29  121.309998  121.940002  119.800003  119.900002  1339500\n",
            "2025-07-30  117.230003  121.650002  116.650002  121.349998   833700\n",
            "2025-07-31  114.510002  116.820000  114.169998  115.620003   927500\n",
            "Data successfully saved to 'MHK_historical_data_2025-08-01.csv'\n",
            "------------------------------\n",
            "Attempting to download data for MOH from 2024-08-01 to 2025-08-01...\n"
          ]
        },
        {
          "output_type": "stream",
          "name": "stderr",
          "text": [
            "/tmp/ipython-input-2137805434.py:22: FutureWarning: YF.download() has changed argument auto_adjust default to True\n",
            "  stock_data = yf.download(ticker_symbol, start=start_date, end=end_date, progress=False)\n"
          ]
        },
        {
          "output_type": "stream",
          "name": "stdout",
          "text": [
            "Successfully downloaded data for MOH.\n",
            "\n",
            "--- Last 5 Days of Data for MOH ---\n",
            "Price            Close        High         Low        Open   Volume\n",
            "Ticker             MOH         MOH         MOH         MOH      MOH\n",
            "Date                                                               \n",
            "2025-07-25  165.020004  169.419998  156.360001  157.800003  4892200\n",
            "2025-07-28  164.190002  166.750000  162.000000  164.520004  2124200\n",
            "2025-07-29  161.070007  169.880005  158.750000  160.279999  3408900\n",
            "2025-07-30  159.970001  164.000000  158.740005  163.000000  2332000\n",
            "2025-07-31  157.869995  162.520004  155.529999  158.600006  1725500\n",
            "Data successfully saved to 'MOH_historical_data_2025-08-01.csv'\n",
            "------------------------------\n",
            "Attempting to download data for TAP from 2024-08-01 to 2025-08-01...\n"
          ]
        },
        {
          "output_type": "stream",
          "name": "stderr",
          "text": [
            "/tmp/ipython-input-2137805434.py:22: FutureWarning: YF.download() has changed argument auto_adjust default to True\n",
            "  stock_data = yf.download(ticker_symbol, start=start_date, end=end_date, progress=False)\n"
          ]
        },
        {
          "output_type": "stream",
          "name": "stdout",
          "text": [
            "Successfully downloaded data for TAP.\n",
            "\n",
            "--- Last 5 Days of Data for TAP ---\n",
            "Price           Close       High        Low       Open   Volume\n",
            "Ticker            TAP        TAP        TAP        TAP      TAP\n",
            "Date                                                           \n",
            "2025-07-25  51.189999  51.270000  50.770000  51.070000  1976500\n",
            "2025-07-28  49.919998  50.889999  49.630001  50.650002  1996400\n",
            "2025-07-29  50.619999  50.660000  49.750000  49.980000  2118100\n",
            "2025-07-30  49.320000  50.750000  49.130001  50.529999  2244000\n",
            "2025-07-31  48.720001  49.259998  48.029999  48.480000  4733200\n",
            "Data successfully saved to 'TAP_historical_data_2025-08-01.csv'\n",
            "------------------------------\n",
            "Attempting to download data for MDLZ from 2024-08-01 to 2025-08-01...\n"
          ]
        },
        {
          "output_type": "stream",
          "name": "stderr",
          "text": [
            "/tmp/ipython-input-2137805434.py:22: FutureWarning: YF.download() has changed argument auto_adjust default to True\n",
            "  stock_data = yf.download(ticker_symbol, start=start_date, end=end_date, progress=False)\n"
          ]
        },
        {
          "output_type": "stream",
          "name": "stdout",
          "text": [
            "Successfully downloaded data for MDLZ.\n",
            "\n",
            "--- Last 5 Days of Data for MDLZ ---\n",
            "Price           Close       High        Low       Open    Volume\n",
            "Ticker           MDLZ       MDLZ       MDLZ       MDLZ      MDLZ\n",
            "Date                                                            \n",
            "2025-07-25  70.580002  70.610001  69.860001  70.250000   4520800\n",
            "2025-07-28  69.580002  70.230003  69.190002  70.209999   7984000\n",
            "2025-07-29  69.709999  70.330002  69.279999  69.580002   7926100\n",
            "2025-07-30  65.099998  67.949997  65.029999  67.510002  22047700\n",
            "2025-07-31  64.690002  65.650002  64.169998  64.739998  12174500\n",
            "Data successfully saved to 'MDLZ_historical_data_2025-08-01.csv'\n",
            "------------------------------\n",
            "Attempting to download data for MPWR from 2024-08-01 to 2025-08-01...\n"
          ]
        },
        {
          "output_type": "stream",
          "name": "stderr",
          "text": [
            "/tmp/ipython-input-2137805434.py:22: FutureWarning: YF.download() has changed argument auto_adjust default to True\n",
            "  stock_data = yf.download(ticker_symbol, start=start_date, end=end_date, progress=False)\n"
          ]
        },
        {
          "output_type": "stream",
          "name": "stdout",
          "text": [
            "Successfully downloaded data for MPWR.\n",
            "\n",
            "--- Last 5 Days of Data for MPWR ---\n",
            "Price            Close        High         Low        Open   Volume\n",
            "Ticker            MPWR        MPWR        MPWR        MPWR     MPWR\n",
            "Date                                                               \n",
            "2025-07-25  714.679993  718.250000  704.020020  711.609985   275900\n",
            "2025-07-28  738.549988  741.070007  721.719971  722.559998   545500\n",
            "2025-07-29  724.369995  751.489990  715.000000  745.520020   488700\n",
            "2025-07-30  730.539978  747.500000  726.049988  734.460022   629600\n",
            "2025-07-31  711.239990  740.000000  706.000000  731.239990  1337800\n",
            "Data successfully saved to 'MPWR_historical_data_2025-08-01.csv'\n",
            "------------------------------\n",
            "Attempting to download data for MCO from 2024-08-01 to 2025-08-01...\n"
          ]
        },
        {
          "output_type": "stream",
          "name": "stderr",
          "text": [
            "/tmp/ipython-input-2137805434.py:22: FutureWarning: YF.download() has changed argument auto_adjust default to True\n",
            "  stock_data = yf.download(ticker_symbol, start=start_date, end=end_date, progress=False)\n"
          ]
        },
        {
          "output_type": "stream",
          "name": "stdout",
          "text": [
            "Successfully downloaded data for MCO.\n",
            "\n",
            "--- Last 5 Days of Data for MCO ---\n",
            "Price            Close        High         Low        Open   Volume\n",
            "Ticker             MCO         MCO         MCO         MCO      MCO\n",
            "Date                                                               \n",
            "2025-07-25  512.950012  516.210022  511.989990  512.919983   688500\n",
            "2025-07-28  507.500000  515.710022  507.000000  511.329987   459200\n",
            "2025-07-29  510.500000  512.719971  505.660004  510.700012   849300\n",
            "2025-07-30  512.619995  519.919983  510.410004  511.559998  1155800\n",
            "2025-07-31  515.729980  521.000000  509.309998  510.679993  1260500\n",
            "Data successfully saved to 'MCO_historical_data_2025-08-01.csv'\n",
            "------------------------------\n",
            "Attempting to download data for MS from 2024-08-01 to 2025-08-01...\n"
          ]
        },
        {
          "output_type": "stream",
          "name": "stderr",
          "text": [
            "/tmp/ipython-input-2137805434.py:22: FutureWarning: YF.download() has changed argument auto_adjust default to True\n",
            "  stock_data = yf.download(ticker_symbol, start=start_date, end=end_date, progress=False)\n"
          ]
        },
        {
          "output_type": "stream",
          "name": "stdout",
          "text": [
            "Successfully downloaded data for MS.\n",
            "\n",
            "--- Last 5 Days of Data for MS ---\n",
            "Price            Close        High         Low        Open   Volume\n",
            "Ticker              MS          MS          MS          MS       MS\n",
            "Date                                                               \n",
            "2025-07-25  142.023315  142.390773  141.069947  141.933940  3463000\n",
            "2025-07-28  141.576416  142.152416  141.040148  142.053100  3729300\n",
            "2025-07-29  142.569519  143.056144  141.119601  142.509935  5158700\n",
            "2025-07-30  143.940002  144.476270  142.291452  142.837660  5236800\n",
            "2025-07-31  142.460007  144.699997  142.000000  143.199997  5523200\n",
            "Data successfully saved to 'MS_historical_data_2025-08-01.csv'\n",
            "------------------------------\n",
            "Attempting to download data for MORN from 2024-08-01 to 2025-08-01...\n"
          ]
        },
        {
          "output_type": "stream",
          "name": "stderr",
          "text": [
            "/tmp/ipython-input-2137805434.py:22: FutureWarning: YF.download() has changed argument auto_adjust default to True\n",
            "  stock_data = yf.download(ticker_symbol, start=start_date, end=end_date, progress=False)\n"
          ]
        },
        {
          "output_type": "stream",
          "name": "stdout",
          "text": [
            "Successfully downloaded data for MORN.\n",
            "\n",
            "--- Last 5 Days of Data for MORN ---\n",
            "Price            Close        High         Low        Open  Volume\n",
            "Ticker            MORN        MORN        MORN        MORN    MORN\n",
            "Date                                                              \n",
            "2025-07-25  278.029999  279.609985  277.170013  279.019989  243100\n",
            "2025-07-28  282.559998  282.809998  277.519989  277.839996  348900\n",
            "2025-07-29  286.809998  287.459991  283.019989  283.899994  311400\n",
            "2025-07-30  284.239990  289.630005  283.420013  286.540009  368500\n",
            "2025-07-31  276.459991  279.329987  269.760010  277.029999  637500\n",
            "Data successfully saved to 'MORN_historical_data_2025-08-01.csv'\n",
            "------------------------------\n",
            "Attempting to download data for MSI from 2024-08-01 to 2025-08-01...\n"
          ]
        },
        {
          "output_type": "stream",
          "name": "stderr",
          "text": [
            "/tmp/ipython-input-2137805434.py:22: FutureWarning: YF.download() has changed argument auto_adjust default to True\n",
            "  stock_data = yf.download(ticker_symbol, start=start_date, end=end_date, progress=False)\n"
          ]
        },
        {
          "output_type": "stream",
          "name": "stdout",
          "text": [
            "Successfully downloaded data for MSI.\n",
            "\n",
            "--- Last 5 Days of Data for MSI ---\n",
            "Price            Close        High         Low        Open   Volume\n",
            "Ticker             MSI         MSI         MSI         MSI      MSI\n",
            "Date                                                               \n",
            "2025-07-25  428.000000  428.320007  424.299988  424.869995   633200\n",
            "2025-07-28  429.970001  430.500000  425.399994  427.089996   974100\n",
            "2025-07-29  433.950012  436.269989  427.290009  430.760010   814100\n",
            "2025-07-30  436.070007  437.559998  433.000000  433.390015  1101300\n",
            "2025-07-31  438.980011  441.720001  436.420013  436.420013  1440600\n",
            "Data successfully saved to 'MSI_historical_data_2025-08-01.csv'\n",
            "------------------------------\n",
            "Attempting to download data for MSCI from 2024-08-01 to 2025-08-01...\n"
          ]
        },
        {
          "output_type": "stream",
          "name": "stderr",
          "text": [
            "/tmp/ipython-input-2137805434.py:22: FutureWarning: YF.download() has changed argument auto_adjust default to True\n",
            "  stock_data = yf.download(ticker_symbol, start=start_date, end=end_date, progress=False)\n"
          ]
        },
        {
          "output_type": "stream",
          "name": "stdout",
          "text": [
            "Successfully downloaded data for MSCI.\n",
            "\n",
            "--- Last 5 Days of Data for MSCI ---\n",
            "Price            Close        High         Low        Open   Volume\n",
            "Ticker            MSCI        MSCI        MSCI        MSCI     MSCI\n",
            "Date                                                               \n",
            "2025-07-25  546.289978  551.419983  544.500000  546.489990   998800\n",
            "2025-07-28  552.789978  556.909973  541.119995  542.460022  1668300\n",
            "2025-07-29  557.210022  561.000000  552.880005  557.609985  1162100\n",
            "2025-07-30  559.150024  563.789978  554.630005  555.070007   994500\n",
            "2025-07-31  561.359985  569.989990  556.479980  556.479980  1103000\n",
            "Data successfully saved to 'MSCI_historical_data_2025-08-01.csv'\n",
            "------------------------------\n",
            "Attempting to download data for NTAP from 2024-08-01 to 2025-08-01...\n"
          ]
        },
        {
          "output_type": "stream",
          "name": "stderr",
          "text": [
            "/tmp/ipython-input-2137805434.py:22: FutureWarning: YF.download() has changed argument auto_adjust default to True\n",
            "  stock_data = yf.download(ticker_symbol, start=start_date, end=end_date, progress=False)\n"
          ]
        },
        {
          "output_type": "stream",
          "name": "stdout",
          "text": [
            "Successfully downloaded data for NTAP.\n",
            "\n",
            "--- Last 5 Days of Data for NTAP ---\n",
            "Price            Close        High         Low        Open   Volume\n",
            "Ticker            NTAP        NTAP        NTAP        NTAP     NTAP\n",
            "Date                                                               \n",
            "2025-07-25  104.940002  105.339996  104.370003  105.089996   893200\n",
            "2025-07-28  106.910004  107.129997  105.360001  105.360001  1177200\n",
            "2025-07-29  106.089996  107.919998  105.389999  107.660004  1362900\n",
            "2025-07-30  104.699997  106.500000  104.180000  106.000000  1363200\n",
            "2025-07-31  104.129997  105.919998  103.900002  104.879997  1196400\n",
            "Data successfully saved to 'NTAP_historical_data_2025-08-01.csv'\n",
            "------------------------------\n",
            "Attempting to download data for NEM from 2024-08-01 to 2025-08-01...\n"
          ]
        },
        {
          "output_type": "stream",
          "name": "stderr",
          "text": [
            "/tmp/ipython-input-2137805434.py:22: FutureWarning: YF.download() has changed argument auto_adjust default to True\n",
            "  stock_data = yf.download(ticker_symbol, start=start_date, end=end_date, progress=False)\n"
          ]
        },
        {
          "output_type": "stream",
          "name": "stdout",
          "text": [
            "Successfully downloaded data for NEM.\n",
            "\n",
            "--- Last 5 Days of Data for NEM ---\n",
            "Price           Close       High        Low       Open    Volume\n",
            "Ticker            NEM        NEM        NEM        NEM       NEM\n",
            "Date                                                            \n",
            "2025-07-25  65.750000  66.570000  63.360001  63.880001  30913500\n",
            "2025-07-28  63.660000  65.050003  62.660000  64.820000  11877400\n",
            "2025-07-29  63.990002  64.150002  63.320000  63.830002   8035200\n",
            "2025-07-30  62.310001  63.560001  61.900002  63.240002  10392900\n",
            "2025-07-31  62.099998  63.049999  61.759998  62.750000   8796900\n",
            "Data successfully saved to 'NEM_historical_data_2025-08-01.csv'\n",
            "------------------------------\n",
            "Attempting to download data for NWSA from 2024-08-01 to 2025-08-01...\n",
            "Successfully downloaded data for NWSA.\n",
            "\n",
            "--- Last 5 Days of Data for NWSA ---\n",
            "Price           Close       High    Low   Open   Volume\n",
            "Ticker           NWSA       NWSA   NWSA   NWSA     NWSA\n",
            "Date                                                   \n",
            "2025-07-25  29.530001  29.600000  29.26  29.35  2332400\n",
            "2025-07-28  29.370001  29.540001  29.33  29.48  2330200\n",
            "2025-07-29  29.219999  29.480000  29.16  29.48  2366500\n",
            "2025-07-30  29.299999  29.510000  29.15  29.27  2664900\n",
            "2025-07-31  29.320000  29.469999  29.18  29.24  2557600\n"
          ]
        },
        {
          "output_type": "stream",
          "name": "stderr",
          "text": [
            "/tmp/ipython-input-2137805434.py:22: FutureWarning: YF.download() has changed argument auto_adjust default to True\n",
            "  stock_data = yf.download(ticker_symbol, start=start_date, end=end_date, progress=False)\n"
          ]
        },
        {
          "output_type": "stream",
          "name": "stdout",
          "text": [
            "Data successfully saved to 'NWSA_historical_data_2025-08-01.csv'\n",
            "------------------------------\n",
            "Attempting to download data for NEE from 2024-08-01 to 2025-08-01...\n"
          ]
        },
        {
          "output_type": "stream",
          "name": "stderr",
          "text": [
            "/tmp/ipython-input-2137805434.py:22: FutureWarning: YF.download() has changed argument auto_adjust default to True\n",
            "  stock_data = yf.download(ticker_symbol, start=start_date, end=end_date, progress=False)\n"
          ]
        },
        {
          "output_type": "stream",
          "name": "stdout",
          "text": [
            "Successfully downloaded data for NEE.\n",
            "\n",
            "--- Last 5 Days of Data for NEE ---\n",
            "Price           Close       High        Low       Open   Volume\n",
            "Ticker            NEE        NEE        NEE        NEE      NEE\n",
            "Date                                                           \n",
            "2025-07-25  71.849998  72.720001  71.080002  72.099998  8074800\n",
            "2025-07-28  71.339996  72.300003  70.970001  71.900002  8157200\n",
            "2025-07-29  71.949997  72.279999  71.050003  71.639999  7588500\n",
            "2025-07-30  70.989998  72.010002  70.930000  71.900002  6940300\n",
            "2025-07-31  71.059998  71.220001  69.690002  70.410004  8844100\n",
            "Data successfully saved to 'NEE_historical_data_2025-08-01.csv'\n",
            "------------------------------\n",
            "Attempting to download data for NKE from 2024-08-01 to 2025-08-01...\n"
          ]
        },
        {
          "output_type": "stream",
          "name": "stderr",
          "text": [
            "/tmp/ipython-input-2137805434.py:22: FutureWarning: YF.download() has changed argument auto_adjust default to True\n",
            "  stock_data = yf.download(ticker_symbol, start=start_date, end=end_date, progress=False)\n"
          ]
        },
        {
          "output_type": "stream",
          "name": "stdout",
          "text": [
            "Successfully downloaded data for NKE.\n",
            "\n",
            "--- Last 5 Days of Data for NKE ---\n",
            "Price           Close       High        Low       Open    Volume\n",
            "Ticker            NKE        NKE        NKE        NKE       NKE\n",
            "Date                                                            \n",
            "2025-07-25  76.269997  76.570000  75.529999  75.910004   7208400\n",
            "2025-07-28  79.239998  79.989998  77.559998  79.000000  22631100\n",
            "2025-07-29  78.330002  79.370003  77.760002  78.760002  12885500\n",
            "2025-07-30  76.680000  78.300003  75.959999  77.779999  14601700\n",
            "2025-07-31  74.690002  76.400002  74.309998  76.349998  16686800\n",
            "Data successfully saved to 'NKE_historical_data_2025-08-01.csv'\n",
            "------------------------------\n",
            "Attempting to download data for NI from 2024-08-01 to 2025-08-01...\n"
          ]
        },
        {
          "output_type": "stream",
          "name": "stderr",
          "text": [
            "/tmp/ipython-input-2137805434.py:22: FutureWarning: YF.download() has changed argument auto_adjust default to True\n",
            "  stock_data = yf.download(ticker_symbol, start=start_date, end=end_date, progress=False)\n"
          ]
        },
        {
          "output_type": "stream",
          "name": "stdout",
          "text": [
            "Successfully downloaded data for NI.\n",
            "\n",
            "--- Last 5 Days of Data for NI ---\n",
            "Price           Close       High        Low       Open   Volume\n",
            "Ticker             NI         NI         NI         NI       NI\n",
            "Date                                                           \n",
            "2025-07-25  41.901913  41.981383  41.613824  41.693298  2935800\n",
            "2025-07-28  40.997913  41.891978  40.938308  41.812507  4013100\n",
            "2025-07-29  41.901913  41.931714  41.067451  41.276065  4437500\n",
            "2025-07-30  42.190002  42.617168  41.941651  41.941651  4512100\n",
            "2025-07-31  42.450001  42.540001  41.849998  41.959999  2829800\n",
            "Data successfully saved to 'NI_historical_data_2025-08-01.csv'\n",
            "------------------------------\n",
            "Attempting to download data for NSC from 2024-08-01 to 2025-08-01...\n"
          ]
        },
        {
          "output_type": "stream",
          "name": "stderr",
          "text": [
            "/tmp/ipython-input-2137805434.py:22: FutureWarning: YF.download() has changed argument auto_adjust default to True\n",
            "  stock_data = yf.download(ticker_symbol, start=start_date, end=end_date, progress=False)\n"
          ]
        },
        {
          "output_type": "stream",
          "name": "stdout",
          "text": [
            "Successfully downloaded data for NSC.\n",
            "\n",
            "--- Last 5 Days of Data for NSC ---\n",
            "Price            Close        High         Low        Open   Volume\n",
            "Ticker             NSC         NSC         NSC         NSC      NSC\n",
            "Date                                                               \n",
            "2025-07-25  282.380005  283.459991  275.570007  277.510010  4530300\n",
            "2025-07-28  286.420013  287.980011  282.119995  282.350006  3822100\n",
            "2025-07-29  277.700012  282.899994  274.000000  275.420013  9749600\n",
            "2025-07-30  279.000000  283.989990  278.250000  278.970001  5866700\n",
            "2025-07-31  278.000000  280.339996  276.799988  277.380005  3690900\n",
            "Data successfully saved to 'NSC_historical_data_2025-08-01.csv'\n",
            "------------------------------\n",
            "Attempting to download data for NTRS from 2024-08-01 to 2025-08-01...\n"
          ]
        },
        {
          "output_type": "stream",
          "name": "stderr",
          "text": [
            "/tmp/ipython-input-2137805434.py:22: FutureWarning: YF.download() has changed argument auto_adjust default to True\n",
            "  stock_data = yf.download(ticker_symbol, start=start_date, end=end_date, progress=False)\n"
          ]
        },
        {
          "output_type": "stream",
          "name": "stdout",
          "text": [
            "Successfully downloaded data for NTRS.\n",
            "\n",
            "--- Last 5 Days of Data for NTRS ---\n",
            "Price            Close        High         Low        Open   Volume\n",
            "Ticker            NTRS        NTRS        NTRS        NTRS     NTRS\n",
            "Date                                                               \n",
            "2025-07-25  130.029999  130.190002  127.709999  128.960007  1158000\n",
            "2025-07-28  129.779999  130.130005  128.720001  129.830002   817000\n",
            "2025-07-29  131.639999  132.470001  130.240005  130.940002  1315200\n",
            "2025-07-30  131.559998  132.750000  130.699997  131.460007   805500\n",
            "2025-07-31  130.000000  131.979996  129.570007  130.970001  1289300\n",
            "Data successfully saved to 'NTRS_historical_data_2025-08-01.csv'\n",
            "------------------------------\n",
            "Attempting to download data for NOC from 2024-08-01 to 2025-08-01...\n"
          ]
        },
        {
          "output_type": "stream",
          "name": "stderr",
          "text": [
            "/tmp/ipython-input-2137805434.py:22: FutureWarning: YF.download() has changed argument auto_adjust default to True\n",
            "  stock_data = yf.download(ticker_symbol, start=start_date, end=end_date, progress=False)\n"
          ]
        },
        {
          "output_type": "stream",
          "name": "stdout",
          "text": [
            "Successfully downloaded data for NOC.\n",
            "\n",
            "--- Last 5 Days of Data for NOC ---\n",
            "Price            Close        High         Low        Open  Volume\n",
            "Ticker             NOC         NOC         NOC         NOC     NOC\n",
            "Date                                                              \n",
            "2025-07-25  569.739990  570.159973  563.299988  568.000000  635700\n",
            "2025-07-28  568.619995  570.000000  563.640015  569.239990  679600\n",
            "2025-07-29  573.219971  573.299988  568.190002  571.400024  682800\n",
            "2025-07-30  572.809998  573.809998  568.710022  572.940002  661500\n",
            "2025-07-31  576.609985  577.380005  568.890015  572.000000  760400\n",
            "Data successfully saved to 'NOC_historical_data_2025-08-01.csv'\n",
            "------------------------------\n",
            "Attempting to download data for NLOK from 2024-08-01 to 2025-08-01...\n"
          ]
        },
        {
          "output_type": "stream",
          "name": "stderr",
          "text": [
            "/tmp/ipython-input-2137805434.py:22: FutureWarning: YF.download() has changed argument auto_adjust default to True\n",
            "  stock_data = yf.download(ticker_symbol, start=start_date, end=end_date, progress=False)\n",
            "ERROR:yfinance:\n",
            "1 Failed download:\n",
            "ERROR:yfinance:['NLOK']: YFTzMissingError('possibly delisted; no timezone found')\n",
            "/tmp/ipython-input-2137805434.py:22: FutureWarning: YF.download() has changed argument auto_adjust default to True\n",
            "  stock_data = yf.download(ticker_symbol, start=start_date, end=end_date, progress=False)\n",
            "/tmp/ipython-input-2137805434.py:22: FutureWarning: YF.download() has changed argument auto_adjust default to True\n",
            "  stock_data = yf.download(ticker_symbol, start=start_date, end=end_date, progress=False)\n"
          ]
        },
        {
          "output_type": "stream",
          "name": "stdout",
          "text": [
            "No data found for ticker 'NLOK'. It might be an invalid ticker or delisted.\n",
            "------------------------------\n",
            "Attempting to download data for NCLH from 2024-08-01 to 2025-08-01...\n",
            "Successfully downloaded data for NCLH.\n",
            "\n",
            "--- Last 5 Days of Data for NCLH ---\n",
            "Price           Close       High        Low       Open    Volume\n",
            "Ticker           NCLH       NCLH       NCLH       NCLH      NCLH\n",
            "Date                                                            \n",
            "2025-07-25  23.820000  23.860001  23.320000  23.629999   9160300\n",
            "2025-07-28  23.879999  24.330000  23.629999  24.010000  13968700\n",
            "2025-07-29  23.410000  23.870001  23.129999  23.200001  16225800\n",
            "2025-07-30  23.400000  23.790001  23.150000  23.530001  15354900\n",
            "2025-07-31  25.559999  27.100000  25.170000  26.120001  40640500\n",
            "Data successfully saved to 'NCLH_historical_data_2025-08-01.csv'\n",
            "------------------------------\n",
            "Attempting to download data for NRG from 2024-08-01 to 2025-08-01...\n",
            "Successfully downloaded data for NRG.\n",
            "\n",
            "--- Last 5 Days of Data for NRG ---\n",
            "Price            Close        High         Low        Open   Volume\n",
            "Ticker             NRG         NRG         NRG         NRG      NRG\n",
            "Date                                                               \n",
            "2025-07-25  156.589996  158.880005  155.830002  158.429993  2026200\n",
            "2025-07-28  158.539993  159.649994  157.169998  158.009995  2071500\n",
            "2025-07-29  159.869995  160.350006  156.880005  159.559998  1979500\n",
            "2025-07-30  166.589996  167.000000  161.000000  161.600006  3887600\n",
            "2025-07-31  167.199997  169.240005  165.500000  167.289993  3265800\n",
            "Data successfully saved to 'NRG_historical_data_2025-08-01.csv'\n",
            "------------------------------\n",
            "Attempting to download data for NUE from 2024-08-01 to 2025-08-01...\n"
          ]
        },
        {
          "output_type": "stream",
          "name": "stderr",
          "text": [
            "/tmp/ipython-input-2137805434.py:22: FutureWarning: YF.download() has changed argument auto_adjust default to True\n",
            "  stock_data = yf.download(ticker_symbol, start=start_date, end=end_date, progress=False)\n"
          ]
        },
        {
          "output_type": "stream",
          "name": "stdout",
          "text": [
            "Successfully downloaded data for NUE.\n",
            "\n",
            "--- Last 5 Days of Data for NUE ---\n",
            "Price            Close        High         Low        Open   Volume\n",
            "Ticker             NUE         NUE         NUE         NUE      NUE\n",
            "Date                                                               \n",
            "2025-07-25  145.830002  146.000000  140.300003  141.809998  1983700\n",
            "2025-07-28  144.520004  147.149994  144.059998  145.830002  2404200\n",
            "2025-07-29  140.639999  141.039993  134.029999  134.750000  4232700\n",
            "2025-07-30  142.949997  143.679993  139.100006  140.669998  2675200\n",
            "2025-07-31  143.070007  144.669998  141.449997  142.559998  2751000\n",
            "Data successfully saved to 'NUE_historical_data_2025-08-01.csv'\n",
            "------------------------------\n",
            "Attempting to download data for NVR from 2024-08-01 to 2025-08-01...\n"
          ]
        },
        {
          "output_type": "stream",
          "name": "stderr",
          "text": [
            "/tmp/ipython-input-2137805434.py:22: FutureWarning: YF.download() has changed argument auto_adjust default to True\n",
            "  stock_data = yf.download(ticker_symbol, start=start_date, end=end_date, progress=False)\n"
          ]
        },
        {
          "output_type": "stream",
          "name": "stdout",
          "text": [
            "Successfully downloaded data for NVR.\n",
            "\n",
            "--- Last 5 Days of Data for NVR ---\n",
            "Price             Close         High          Low         Open Volume\n",
            "Ticker              NVR          NVR          NVR          NVR    NVR\n",
            "Date                                                                 \n",
            "2025-07-25  7792.930176  7800.000000  7655.000000  7800.000000  12700\n",
            "2025-07-28  7845.299805  7907.259766  7697.419922  7762.560059  15500\n",
            "2025-07-29  7821.049805  7856.790039  7769.299805  7824.020020  11900\n",
            "2025-07-30  7633.399902  7845.330078  7595.910156  7800.000000  17400\n",
            "2025-07-31  7549.490234  7656.790039  7515.009766  7570.000000  20500\n",
            "Data successfully saved to 'NVR_historical_data_2025-08-01.csv'\n",
            "------------------------------\n",
            "Attempting to download data for ORLY from 2024-08-01 to 2025-08-01...\n",
            "Successfully downloaded data for ORLY.\n",
            "\n",
            "--- Last 5 Days of Data for ORLY ---\n",
            "Price           Close        High        Low       Open   Volume\n",
            "Ticker           ORLY        ORLY       ORLY       ORLY     ORLY\n",
            "Date                                                            \n",
            "2025-07-25  97.660004   99.650002  97.430000  99.239998  5514100\n",
            "2025-07-28  97.330002   98.440002  97.080002  97.650002  3657700\n",
            "2025-07-29  98.900002   99.589996  97.459999  97.650002  4922500\n",
            "2025-07-30  99.379997  100.599998  98.809998  99.010002  5165000\n",
            "2025-07-31  98.320000   99.970001  98.099998  98.760002  5581100\n",
            "Data successfully saved to 'ORLY_historical_data_2025-08-01.csv'\n",
            "------------------------------\n",
            "Attempting to download data for OXY from 2024-08-01 to 2025-08-01...\n"
          ]
        },
        {
          "output_type": "stream",
          "name": "stderr",
          "text": [
            "/tmp/ipython-input-2137805434.py:22: FutureWarning: YF.download() has changed argument auto_adjust default to True\n",
            "  stock_data = yf.download(ticker_symbol, start=start_date, end=end_date, progress=False)\n",
            "/tmp/ipython-input-2137805434.py:22: FutureWarning: YF.download() has changed argument auto_adjust default to True\n",
            "  stock_data = yf.download(ticker_symbol, start=start_date, end=end_date, progress=False)\n"
          ]
        },
        {
          "output_type": "stream",
          "name": "stdout",
          "text": [
            "Successfully downloaded data for OXY.\n",
            "\n",
            "--- Last 5 Days of Data for OXY ---\n",
            "Price           Close       High        Low       Open    Volume\n",
            "Ticker            OXY        OXY        OXY        OXY       OXY\n",
            "Date                                                            \n",
            "2025-07-25  44.709999  44.990002  44.290001  44.669998   5640800\n",
            "2025-07-28  45.549999  45.610001  45.029999  45.099998   7675600\n",
            "2025-07-29  45.459999  45.639999  44.619999  45.419998  12012500\n",
            "2025-07-30  44.410000  45.230000  44.040001  45.119999   7880400\n",
            "2025-07-31  43.939999  44.799999  43.840000  43.919998   8413800\n",
            "Data successfully saved to 'OXY_historical_data_2025-08-01.csv'\n",
            "------------------------------\n",
            "Attempting to download data for ODFL from 2024-08-01 to 2025-08-01...\n"
          ]
        },
        {
          "output_type": "stream",
          "name": "stderr",
          "text": [
            "/tmp/ipython-input-2137805434.py:22: FutureWarning: YF.download() has changed argument auto_adjust default to True\n",
            "  stock_data = yf.download(ticker_symbol, start=start_date, end=end_date, progress=False)\n"
          ]
        },
        {
          "output_type": "stream",
          "name": "stdout",
          "text": [
            "Successfully downloaded data for ODFL.\n",
            "\n",
            "--- Last 5 Days of Data for ODFL ---\n",
            "Price            Close        High         Low        Open   Volume\n",
            "Ticker            ODFL        ODFL        ODFL        ODFL     ODFL\n",
            "Date                                                               \n",
            "2025-07-25  167.089996  174.789993  163.779999  173.369995  1747300\n",
            "2025-07-28  164.320007  167.559998  164.160004  166.479996  1634000\n",
            "2025-07-29  162.119995  165.449997  161.550003  164.320007  2771600\n",
            "2025-07-30  146.460007  152.500000  144.500000  152.500000  5557100\n",
            "2025-07-31  149.250000  151.529999  147.500000  148.789993  4285100\n",
            "Data successfully saved to 'ODFL_historical_data_2025-08-01.csv'\n",
            "------------------------------\n",
            "Attempting to download data for OMC from 2024-08-01 to 2025-08-01...\n"
          ]
        },
        {
          "output_type": "stream",
          "name": "stderr",
          "text": [
            "/tmp/ipython-input-2137805434.py:22: FutureWarning: YF.download() has changed argument auto_adjust default to True\n",
            "  stock_data = yf.download(ticker_symbol, start=start_date, end=end_date, progress=False)\n"
          ]
        },
        {
          "output_type": "stream",
          "name": "stdout",
          "text": [
            "Successfully downloaded data for OMC.\n",
            "\n",
            "--- Last 5 Days of Data for OMC ---\n",
            "Price           Close       High        Low       Open   Volume\n",
            "Ticker            OMC        OMC        OMC        OMC      OMC\n",
            "Date                                                           \n",
            "2025-07-25  76.480003  77.279999  75.589996  76.860001  2112500\n",
            "2025-07-28  74.629997  76.250000  74.610001  76.230003  2648200\n",
            "2025-07-29  74.320000  75.110001  74.070000  74.879997  1978000\n",
            "2025-07-30  72.650002  74.750000  72.300003  74.300003  3777200\n",
            "2025-07-31  72.050003  73.370003  71.730003  72.519997  5288800\n",
            "Data successfully saved to 'OMC_historical_data_2025-08-01.csv'\n",
            "------------------------------\n",
            "Attempting to download data for ON from 2024-08-01 to 2025-08-01...\n"
          ]
        },
        {
          "output_type": "stream",
          "name": "stderr",
          "text": [
            "/tmp/ipython-input-2137805434.py:22: FutureWarning: YF.download() has changed argument auto_adjust default to True\n",
            "  stock_data = yf.download(ticker_symbol, start=start_date, end=end_date, progress=False)\n"
          ]
        },
        {
          "output_type": "stream",
          "name": "stdout",
          "text": [
            "Successfully downloaded data for ON.\n",
            "\n",
            "--- Last 5 Days of Data for ON ---\n",
            "Price           Close       High        Low       Open    Volume\n",
            "Ticker             ON         ON         ON         ON        ON\n",
            "Date                                                            \n",
            "2025-07-25  56.919998  56.970001  55.419998  55.740002   8073400\n",
            "2025-07-28  58.660000  59.279999  57.349998  57.459999   9870300\n",
            "2025-07-29  58.380001  60.369999  58.270000  59.500000   9417400\n",
            "2025-07-30  58.049999  58.880001  57.240002  58.790001   7337800\n",
            "2025-07-31  56.360001  57.950001  55.520000  57.169998  11028500\n",
            "Data successfully saved to 'ON_historical_data_2025-08-01.csv'\n",
            "------------------------------\n",
            "Attempting to download data for OGN from 2024-08-01 to 2025-08-01...\n"
          ]
        },
        {
          "output_type": "stream",
          "name": "stderr",
          "text": [
            "/tmp/ipython-input-2137805434.py:22: FutureWarning: YF.download() has changed argument auto_adjust default to True\n",
            "  stock_data = yf.download(ticker_symbol, start=start_date, end=end_date, progress=False)\n"
          ]
        },
        {
          "output_type": "stream",
          "name": "stdout",
          "text": [
            "Successfully downloaded data for OGN.\n",
            "\n",
            "--- Last 5 Days of Data for OGN ---\n",
            "Price       Close    High     Low   Open   Volume\n",
            "Ticker        OGN     OGN     OGN    OGN      OGN\n",
            "Date                                             \n",
            "2025-07-25  10.21  10.215  10.000  10.10  2176100\n",
            "2025-07-28   9.97  10.180   9.935  10.17  2904800\n",
            "2025-07-29  10.14  10.150   9.780   9.90  3825300\n",
            "2025-07-30  10.04  10.390  10.025  10.26  4010300\n",
            "2025-07-31   9.70  10.045   9.650  10.01  4759000\n",
            "Data successfully saved to 'OGN_historical_data_2025-08-01.csv'\n",
            "------------------------------\n",
            "Attempting to download data for OTIS from 2024-08-01 to 2025-08-01...\n"
          ]
        },
        {
          "output_type": "stream",
          "name": "stderr",
          "text": [
            "/tmp/ipython-input-2137805434.py:22: FutureWarning: YF.download() has changed argument auto_adjust default to True\n",
            "  stock_data = yf.download(ticker_symbol, start=start_date, end=end_date, progress=False)\n"
          ]
        },
        {
          "output_type": "stream",
          "name": "stdout",
          "text": [
            "Successfully downloaded data for OTIS.\n",
            "\n",
            "--- Last 5 Days of Data for OTIS ---\n",
            "Price           Close       High        Low       Open   Volume\n",
            "Ticker           OTIS       OTIS       OTIS       OTIS     OTIS\n",
            "Date                                                           \n",
            "2025-07-25  89.790001  90.430000  89.120003  90.190002  4084500\n",
            "2025-07-28  87.900002  89.720001  87.879997  89.459999  4694700\n",
            "2025-07-29  87.300003  88.239998  87.059998  88.139999  3457000\n",
            "2025-07-30  86.430000  87.519997  86.044998  87.000000  3237200\n",
            "2025-07-31  85.690002  86.595001  85.449997  85.949997  4071500\n",
            "Data successfully saved to 'OTIS_historical_data_2025-08-01.csv'\n",
            "------------------------------\n",
            "Attempting to download data for PCAR from 2024-08-01 to 2025-08-01...\n"
          ]
        },
        {
          "output_type": "stream",
          "name": "stderr",
          "text": [
            "/tmp/ipython-input-2137805434.py:22: FutureWarning: YF.download() has changed argument auto_adjust default to True\n",
            "  stock_data = yf.download(ticker_symbol, start=start_date, end=end_date, progress=False)\n"
          ]
        },
        {
          "output_type": "stream",
          "name": "stdout",
          "text": [
            "Successfully downloaded data for PCAR.\n",
            "\n",
            "--- Last 5 Days of Data for PCAR ---\n",
            "Price            Close        High        Low        Open   Volume\n",
            "Ticker            PCAR        PCAR       PCAR        PCAR     PCAR\n",
            "Date                                                              \n",
            "2025-07-25  101.570000  101.739998  99.839996  101.570000  2983300\n",
            "2025-07-28  100.639999  101.489998  99.320000  101.489998  3003800\n",
            "2025-07-29   99.480003  101.440002  99.129997  101.029999  2218100\n",
            "2025-07-30   99.000000  101.080002  98.180000   99.769997  5078400\n",
            "2025-07-31   98.760002   99.949997  97.550003   97.959999  2841000\n",
            "Data successfully saved to 'PCAR_historical_data_2025-08-01.csv'\n",
            "------------------------------\n",
            "Attempting to download data for PKG from 2024-08-01 to 2025-08-01...\n",
            "Successfully downloaded data for PKG.\n",
            "\n",
            "--- Last 5 Days of Data for PKG ---\n",
            "Price            Close        High         Low        Open   Volume\n",
            "Ticker             PKG         PKG         PKG         PKG      PKG\n",
            "Date                                                               \n",
            "2025-07-25  206.529999  207.750000  204.130005  206.289993   629900\n",
            "2025-07-28  204.179993  206.039993  203.550003  205.589996   516700\n",
            "2025-07-29  203.059998  205.839996  202.130005  205.000000   652000\n",
            "2025-07-30  198.429993  202.199997  197.929993  202.199997   945100\n",
            "2025-07-31  193.750000  199.339996  193.149994  197.419998  1144500\n"
          ]
        },
        {
          "output_type": "stream",
          "name": "stderr",
          "text": [
            "/tmp/ipython-input-2137805434.py:22: FutureWarning: YF.download() has changed argument auto_adjust default to True\n",
            "  stock_data = yf.download(ticker_symbol, start=start_date, end=end_date, progress=False)\n"
          ]
        },
        {
          "output_type": "stream",
          "name": "stdout",
          "text": [
            "Data successfully saved to 'PKG_historical_data_2025-08-01.csv'\n",
            "------------------------------\n",
            "Attempting to download data for PH from 2024-08-01 to 2025-08-01...\n"
          ]
        },
        {
          "output_type": "stream",
          "name": "stderr",
          "text": [
            "/tmp/ipython-input-2137805434.py:22: FutureWarning: YF.download() has changed argument auto_adjust default to True\n",
            "  stock_data = yf.download(ticker_symbol, start=start_date, end=end_date, progress=False)\n"
          ]
        },
        {
          "output_type": "stream",
          "name": "stdout",
          "text": [
            "Successfully downloaded data for PH.\n",
            "\n",
            "--- Last 5 Days of Data for PH ---\n",
            "Price            Close        High         Low        Open  Volume\n",
            "Ticker              PH          PH          PH          PH      PH\n",
            "Date                                                              \n",
            "2025-07-25  738.820007  740.830017  726.140015  731.460022  499800\n",
            "2025-07-28  739.059998  745.349976  736.070007  740.359985  446100\n",
            "2025-07-29  734.859985  744.609985  731.919983  744.270020  686100\n",
            "2025-07-30  732.030029  738.330017  726.250000  737.200012  718200\n",
            "2025-07-31  731.900024  737.429993  728.320007  728.320007  508300\n",
            "Data successfully saved to 'PH_historical_data_2025-08-01.csv'\n",
            "------------------------------\n",
            "Attempting to download data for PAYX from 2024-08-01 to 2025-08-01...\n"
          ]
        },
        {
          "output_type": "stream",
          "name": "stderr",
          "text": [
            "/tmp/ipython-input-2137805434.py:22: FutureWarning: YF.download() has changed argument auto_adjust default to True\n",
            "  stock_data = yf.download(ticker_symbol, start=start_date, end=end_date, progress=False)\n"
          ]
        },
        {
          "output_type": "stream",
          "name": "stdout",
          "text": [
            "Successfully downloaded data for PAYX.\n",
            "\n",
            "--- Last 5 Days of Data for PAYX ---\n",
            "Price            Close        High         Low        Open   Volume\n",
            "Ticker            PAYX        PAYX        PAYX        PAYX     PAYX\n",
            "Date                                                               \n",
            "2025-07-25  147.990005  148.100006  145.889999  146.929993  1294600\n",
            "2025-07-28  146.259995  148.110001  146.000000  148.039993  1447000\n",
            "2025-07-29  147.289993  147.350006  145.039993  146.729996  2112100\n",
            "2025-07-30  145.910004  148.000000  145.490005  146.690002  1749900\n",
            "2025-07-31  144.330002  146.830002  144.070007  144.789993  2420700\n",
            "Data successfully saved to 'PAYX_historical_data_2025-08-01.csv'\n",
            "------------------------------\n",
            "Attempting to download data for PAYC from 2024-08-01 to 2025-08-01...\n",
            "Successfully downloaded data for PAYC.\n",
            "\n",
            "--- Last 5 Days of Data for PAYC ---\n",
            "Price            Close        High         Low        Open  Volume\n",
            "Ticker            PAYC        PAYC        PAYC        PAYC    PAYC\n",
            "Date                                                              \n",
            "2025-07-25  238.800003  240.139999  236.835007  238.100006  325700\n",
            "2025-07-28  236.440002  239.619995  235.600006  239.000000  474900\n",
            "2025-07-29  237.449997  237.690002  233.149994  235.570007  474900\n",
            "2025-07-30  235.570007  238.440002  233.490005  236.779999  518100\n",
            "2025-07-31  231.539993  237.654999  231.190002  235.869995  523500\n",
            "Data successfully saved to 'PAYC_historical_data_2025-08-01.csv'\n",
            "------------------------------\n",
            "Attempting to download data for PYPL from 2024-08-01 to 2025-08-01...\n"
          ]
        },
        {
          "output_type": "stream",
          "name": "stderr",
          "text": [
            "/tmp/ipython-input-2137805434.py:22: FutureWarning: YF.download() has changed argument auto_adjust default to True\n",
            "  stock_data = yf.download(ticker_symbol, start=start_date, end=end_date, progress=False)\n",
            "/tmp/ipython-input-2137805434.py:22: FutureWarning: YF.download() has changed argument auto_adjust default to True\n",
            "  stock_data = yf.download(ticker_symbol, start=start_date, end=end_date, progress=False)\n"
          ]
        },
        {
          "output_type": "stream",
          "name": "stdout",
          "text": [
            "Successfully downloaded data for PYPL.\n",
            "\n",
            "--- Last 5 Days of Data for PYPL ---\n",
            "Price           Close       High        Low       Open    Volume\n",
            "Ticker           PYPL       PYPL       PYPL       PYPL      PYPL\n",
            "Date                                                            \n",
            "2025-07-25  77.980003  78.815002  77.500000  77.589996   6888100\n",
            "2025-07-28  78.220001  79.500000  77.930000  78.510002  15978400\n",
            "2025-07-29  71.449997  73.279999  70.309998  71.730003  42890700\n",
            "2025-07-30  69.709999  72.205002  69.555000  72.190002  20790400\n",
            "2025-07-31  68.760002  70.055000  68.459999  69.474998  16626100\n",
            "Data successfully saved to 'PYPL_historical_data_2025-08-01.csv'\n",
            "------------------------------\n",
            "Attempting to download data for PENN from 2024-08-01 to 2025-08-01...\n",
            "Successfully downloaded data for PENN.\n",
            "\n",
            "--- Last 5 Days of Data for PENN ---\n",
            "Price           Close       High        Low       Open   Volume\n",
            "Ticker           PENN       PENN       PENN       PENN     PENN\n",
            "Date                                                           \n",
            "2025-07-25  19.230000  19.230000  18.230000  18.559999  5786000\n",
            "2025-07-28  18.850000  19.309999  18.830000  19.230000  2674200\n",
            "2025-07-29  18.350000  18.900000  18.260000  18.680000  2810700\n",
            "2025-07-30  18.520000  18.830000  18.309999  18.510000  2254000\n",
            "2025-07-31  18.059999  18.320000  17.770000  18.240000  2980400\n",
            "Data successfully saved to 'PENN_historical_data_2025-08-01.csv'\n",
            "------------------------------\n",
            "Attempting to download data for PNR from 2024-08-01 to 2025-08-01...\n"
          ]
        },
        {
          "output_type": "stream",
          "name": "stderr",
          "text": [
            "/tmp/ipython-input-2137805434.py:22: FutureWarning: YF.download() has changed argument auto_adjust default to True\n",
            "  stock_data = yf.download(ticker_symbol, start=start_date, end=end_date, progress=False)\n",
            "/tmp/ipython-input-2137805434.py:22: FutureWarning: YF.download() has changed argument auto_adjust default to True\n",
            "  stock_data = yf.download(ticker_symbol, start=start_date, end=end_date, progress=False)\n"
          ]
        },
        {
          "output_type": "stream",
          "name": "stdout",
          "text": [
            "Successfully downloaded data for PNR.\n",
            "\n",
            "--- Last 5 Days of Data for PNR ---\n",
            "Price            Close        High         Low        Open   Volume\n",
            "Ticker             PNR         PNR         PNR         PNR      PNR\n",
            "Date                                                               \n",
            "2025-07-25  103.080002  103.639999  102.550003  103.260002  1757400\n",
            "2025-07-28  103.339996  103.489998  102.180000  103.050003  1451600\n",
            "2025-07-29  102.349998  103.230003  101.610001  103.070000  1783000\n",
            "2025-07-30  101.300003  102.760002  100.449997  102.660004  1984700\n",
            "2025-07-31  102.199997  103.080002  100.800003  100.980003  2856900\n",
            "Data successfully saved to 'PNR_historical_data_2025-08-01.csv'\n",
            "------------------------------\n",
            "Attempting to download data for PEP from 2024-08-01 to 2025-08-01...\n"
          ]
        },
        {
          "output_type": "stream",
          "name": "stderr",
          "text": [
            "/tmp/ipython-input-2137805434.py:22: FutureWarning: YF.download() has changed argument auto_adjust default to True\n",
            "  stock_data = yf.download(ticker_symbol, start=start_date, end=end_date, progress=False)\n"
          ]
        },
        {
          "output_type": "stream",
          "name": "stdout",
          "text": [
            "Successfully downloaded data for PEP.\n",
            "\n",
            "--- Last 5 Days of Data for PEP ---\n",
            "Price            Close        High         Low        Open    Volume\n",
            "Ticker             PEP         PEP         PEP         PEP       PEP\n",
            "Date                                                                \n",
            "2025-07-25  143.449997  144.820007  142.699997  144.809998   7021600\n",
            "2025-07-28  141.570007  143.100006  141.460007  142.699997  10639100\n",
            "2025-07-29  143.889999  143.990005  141.130005  141.570007   6282900\n",
            "2025-07-30  142.860001  144.399994  142.289993  143.770004   9738400\n",
            "2025-07-31  137.919998  141.570007  137.639999  140.979996  11686100\n",
            "Data successfully saved to 'PEP_historical_data_2025-08-01.csv'\n",
            "------------------------------\n",
            "Attempting to download data for PFE from 2024-08-01 to 2025-08-01...\n"
          ]
        },
        {
          "output_type": "stream",
          "name": "stderr",
          "text": [
            "/tmp/ipython-input-2137805434.py:22: FutureWarning: YF.download() has changed argument auto_adjust default to True\n",
            "  stock_data = yf.download(ticker_symbol, start=start_date, end=end_date, progress=False)\n"
          ]
        },
        {
          "output_type": "stream",
          "name": "stdout",
          "text": [
            "Successfully downloaded data for PFE.\n",
            "\n",
            "--- Last 5 Days of Data for PFE ---\n",
            "Price           Close       High        Low       Open    Volume\n",
            "Ticker            PFE        PFE        PFE        PFE       PFE\n",
            "Date                                                            \n",
            "2025-07-25  24.790001  24.969999  24.620001  24.969999  35643400\n",
            "2025-07-28  24.309999  24.730000  24.240000  24.680000  31096600\n",
            "2025-07-29  24.299999  24.330000  23.930000  24.309999  38499800\n",
            "2025-07-30  23.809999  24.400000  23.799999  24.320000  35649500\n",
            "2025-07-31  23.290001  23.840000  23.139999  23.600000  62727900\n",
            "Data successfully saved to 'PFE_historical_data_2025-08-01.csv'\n",
            "------------------------------\n",
            "Attempting to download data for PSX from 2024-08-01 to 2025-08-01...\n"
          ]
        },
        {
          "output_type": "stream",
          "name": "stderr",
          "text": [
            "/tmp/ipython-input-2137805434.py:22: FutureWarning: YF.download() has changed argument auto_adjust default to True\n",
            "  stock_data = yf.download(ticker_symbol, start=start_date, end=end_date, progress=False)\n"
          ]
        },
        {
          "output_type": "stream",
          "name": "stdout",
          "text": [
            "Successfully downloaded data for PSX.\n",
            "\n",
            "--- Last 5 Days of Data for PSX ---\n",
            "Price            Close        High         Low        Open   Volume\n",
            "Ticker             PSX         PSX         PSX         PSX      PSX\n",
            "Date                                                               \n",
            "2025-07-25  124.970001  126.790001  122.739998  125.809998  3666300\n",
            "2025-07-28  127.690002  127.830002  125.559998  125.559998  2690400\n",
            "2025-07-29  128.410004  128.520004  126.080002  127.360001  2395700\n",
            "2025-07-30  124.400002  127.589996  123.769997  127.220001  3193800\n",
            "2025-07-31  123.580002  125.029999  122.970001  124.339996  3925900\n",
            "Data successfully saved to 'PSX_historical_data_2025-08-01.csv'\n",
            "------------------------------\n",
            "Attempting to download data for PNW from 2024-08-01 to 2025-08-01...\n"
          ]
        },
        {
          "output_type": "stream",
          "name": "stderr",
          "text": [
            "/tmp/ipython-input-2137805434.py:22: FutureWarning: YF.download() has changed argument auto_adjust default to True\n",
            "  stock_data = yf.download(ticker_symbol, start=start_date, end=end_date, progress=False)\n"
          ]
        },
        {
          "output_type": "stream",
          "name": "stdout",
          "text": [
            "Successfully downloaded data for PNW.\n",
            "\n",
            "--- Last 5 Days of Data for PNW ---\n",
            "Price           Close       High        Low       Open   Volume\n",
            "Ticker            PNW        PNW        PNW        PNW      PNW\n",
            "Date                                                           \n",
            "2025-07-25  90.910004  92.110001  90.080002  91.699997  1760700\n",
            "2025-07-28  88.690002  91.129997  88.690002  90.870003  1498100\n",
            "2025-07-29  89.870003  89.919998  88.220001  88.650002  1352500\n",
            "2025-07-30  89.500000  90.580002  89.019997  90.089996   807300\n",
            "2025-07-31  90.620003  90.720001  88.739998  88.739998  1405500\n",
            "Data successfully saved to 'PNW_historical_data_2025-08-01.csv'\n",
            "------------------------------\n",
            "Attempting to download data for PXD from 2024-08-01 to 2025-08-01...\n"
          ]
        },
        {
          "output_type": "stream",
          "name": "stderr",
          "text": [
            "/tmp/ipython-input-2137805434.py:22: FutureWarning: YF.download() has changed argument auto_adjust default to True\n",
            "  stock_data = yf.download(ticker_symbol, start=start_date, end=end_date, progress=False)\n",
            "ERROR:yfinance:\n",
            "1 Failed download:\n",
            "ERROR:yfinance:['PXD']: YFTzMissingError('possibly delisted; no timezone found')\n",
            "/tmp/ipython-input-2137805434.py:22: FutureWarning: YF.download() has changed argument auto_adjust default to True\n",
            "  stock_data = yf.download(ticker_symbol, start=start_date, end=end_date, progress=False)\n"
          ]
        },
        {
          "output_type": "stream",
          "name": "stdout",
          "text": [
            "No data found for ticker 'PXD'. It might be an invalid ticker or delisted.\n",
            "------------------------------\n",
            "Attempting to download data for PNC from 2024-08-01 to 2025-08-01...\n",
            "Successfully downloaded data for PNC.\n",
            "\n",
            "--- Last 5 Days of Data for PNC ---\n",
            "Price            Close        High         Low        Open   Volume\n",
            "Ticker             PNC         PNC         PNC         PNC      PNC\n",
            "Date                                                               \n",
            "2025-07-25  196.050003  196.699997  193.690002  196.330002  1817300\n",
            "2025-07-28  193.970001  196.500000  193.059998  196.029999  1484000\n",
            "2025-07-29  193.369995  195.509995  192.869995  195.229996  1236600\n",
            "2025-07-30  192.550003  195.259995  191.419998  195.020004  1546200\n",
            "2025-07-31  190.270004  192.869995  189.820007  192.089996  1669300\n",
            "Data successfully saved to 'PNC_historical_data_2025-08-01.csv'\n",
            "------------------------------\n",
            "Attempting to download data for POOL from 2024-08-01 to 2025-08-01...\n"
          ]
        },
        {
          "output_type": "stream",
          "name": "stderr",
          "text": [
            "/tmp/ipython-input-2137805434.py:22: FutureWarning: YF.download() has changed argument auto_adjust default to True\n",
            "  stock_data = yf.download(ticker_symbol, start=start_date, end=end_date, progress=False)\n"
          ]
        },
        {
          "output_type": "stream",
          "name": "stdout",
          "text": [
            "Successfully downloaded data for POOL.\n",
            "\n",
            "--- Last 5 Days of Data for POOL ---\n",
            "Price            Close        High         Low        Open  Volume\n",
            "Ticker            POOL        POOL        POOL        POOL    POOL\n",
            "Date                                                              \n",
            "2025-07-25  324.899994  327.429993  320.390015  324.820007  755700\n",
            "2025-07-28  321.480011  326.660004  320.089996  323.429993  561400\n",
            "2025-07-29  316.480011  322.940002  315.540009  322.089996  508900\n",
            "2025-07-30  312.239990  318.190002  309.070007  316.890015  454500\n",
            "2025-07-31  308.140015  313.589996  305.570007  308.579987  446300\n",
            "Data successfully saved to 'POOL_historical_data_2025-08-01.csv'\n",
            "------------------------------\n",
            "Attempting to download data for PPG from 2024-08-01 to 2025-08-01...\n"
          ]
        },
        {
          "output_type": "stream",
          "name": "stderr",
          "text": [
            "/tmp/ipython-input-2137805434.py:22: FutureWarning: YF.download() has changed argument auto_adjust default to True\n",
            "  stock_data = yf.download(ticker_symbol, start=start_date, end=end_date, progress=False)\n"
          ]
        },
        {
          "output_type": "stream",
          "name": "stdout",
          "text": [
            "Successfully downloaded data for PPG.\n",
            "\n",
            "--- Last 5 Days of Data for PPG ---\n",
            "Price            Close        High         Low        Open   Volume\n",
            "Ticker             PPG         PPG         PPG         PPG      PPG\n",
            "Date                                                               \n",
            "2025-07-25  115.949997  116.150002  114.760002  115.500000  1280200\n",
            "2025-07-28  113.970001  115.699997  113.870003  115.239998  1469300\n",
            "2025-07-29  112.230003  115.080002  112.089996  114.139999  2255900\n",
            "2025-07-30  106.250000  110.070000  105.300003  110.000000  6555100\n",
            "2025-07-31  105.500000  107.500000  105.180000  105.360001  3895800\n",
            "Data successfully saved to 'PPG_historical_data_2025-08-01.csv'\n",
            "------------------------------\n",
            "Attempting to download data for PPL from 2024-08-01 to 2025-08-01...\n"
          ]
        },
        {
          "output_type": "stream",
          "name": "stderr",
          "text": [
            "/tmp/ipython-input-2137805434.py:22: FutureWarning: YF.download() has changed argument auto_adjust default to True\n",
            "  stock_data = yf.download(ticker_symbol, start=start_date, end=end_date, progress=False)\n"
          ]
        },
        {
          "output_type": "stream",
          "name": "stdout",
          "text": [
            "Successfully downloaded data for PPL.\n",
            "\n",
            "--- Last 5 Days of Data for PPL ---\n",
            "Price           Close       High        Low       Open   Volume\n",
            "Ticker            PPL        PPL        PPL        PPL      PPL\n",
            "Date                                                           \n",
            "2025-07-25  36.570000  36.730000  36.459999  36.650002  3422700\n",
            "2025-07-28  35.709999  36.570000  35.669998  36.549999  5876600\n",
            "2025-07-29  36.200001  36.299999  35.689999  35.770000  4391000\n",
            "2025-07-30  36.040001  36.490002  35.740002  36.220001  7615700\n",
            "2025-07-31  35.689999  35.959999  35.310001  35.490002  7921200\n",
            "Data successfully saved to 'PPL_historical_data_2025-08-01.csv'\n",
            "------------------------------\n",
            "Attempting to download data for PFG from 2024-08-01 to 2025-08-01...\n"
          ]
        },
        {
          "output_type": "stream",
          "name": "stderr",
          "text": [
            "/tmp/ipython-input-2137805434.py:22: FutureWarning: YF.download() has changed argument auto_adjust default to True\n",
            "  stock_data = yf.download(ticker_symbol, start=start_date, end=end_date, progress=False)\n"
          ]
        },
        {
          "output_type": "stream",
          "name": "stdout",
          "text": [
            "Successfully downloaded data for PFG.\n",
            "\n",
            "--- Last 5 Days of Data for PFG ---\n",
            "Price           Close       High        Low       Open   Volume\n",
            "Ticker            PFG        PFG        PFG        PFG      PFG\n",
            "Date                                                           \n",
            "2025-07-25  81.050003  81.139999  80.160004  80.500000   737900\n",
            "2025-07-28  80.389999  81.139999  79.970001  80.930000  1677400\n",
            "2025-07-29  80.190002  83.639999  79.779999  83.160004  2014100\n",
            "2025-07-30  76.589996  80.150002  75.879997  80.150002  3111100\n",
            "2025-07-31  77.830002  78.389999  75.970001  76.290001  2971800\n",
            "Data successfully saved to 'PFG_historical_data_2025-08-01.csv'\n",
            "------------------------------\n",
            "Attempting to download data for PGR from 2024-08-01 to 2025-08-01...\n"
          ]
        },
        {
          "output_type": "stream",
          "name": "stderr",
          "text": [
            "/tmp/ipython-input-2137805434.py:22: FutureWarning: YF.download() has changed argument auto_adjust default to True\n",
            "  stock_data = yf.download(ticker_symbol, start=start_date, end=end_date, progress=False)\n"
          ]
        },
        {
          "output_type": "stream",
          "name": "stdout",
          "text": [
            "Successfully downloaded data for PGR.\n",
            "\n",
            "--- Last 5 Days of Data for PGR ---\n",
            "Price            Close        High         Low        Open   Volume\n",
            "Ticker             PGR         PGR         PGR         PGR      PGR\n",
            "Date                                                               \n",
            "2025-07-25  250.100006  251.800003  247.070007  247.300003  2805300\n",
            "2025-07-28  240.970001  249.830002  239.110001  249.240005  5550000\n",
            "2025-07-29  241.490005  242.369995  240.110001  242.169998  4691800\n",
            "2025-07-30  241.710007  242.570007  240.429993  242.149994  3537900\n",
            "2025-07-31  242.039993  244.690002  240.490005  241.759995  3545400\n",
            "Data successfully saved to 'PGR_historical_data_2025-08-01.csv'\n",
            "------------------------------\n",
            "Attempting to download data for PLD from 2024-08-01 to 2025-08-01...\n"
          ]
        },
        {
          "output_type": "stream",
          "name": "stderr",
          "text": [
            "/tmp/ipython-input-2137805434.py:22: FutureWarning: YF.download() has changed argument auto_adjust default to True\n",
            "  stock_data = yf.download(ticker_symbol, start=start_date, end=end_date, progress=False)\n"
          ]
        },
        {
          "output_type": "stream",
          "name": "stdout",
          "text": [
            "Successfully downloaded data for PLD.\n",
            "\n",
            "--- Last 5 Days of Data for PLD ---\n",
            "Price            Close        High         Low        Open   Volume\n",
            "Ticker             PLD         PLD         PLD         PLD      PLD\n",
            "Date                                                               \n",
            "2025-07-25  110.290001  110.360001  108.330002  109.949997  2150700\n",
            "2025-07-28  107.120003  110.279999  107.070000  110.000000  2850600\n",
            "2025-07-29  109.720001  109.830002  106.800003  107.580002  3812700\n",
            "2025-07-30  108.489998  110.389999  107.589996  109.900002  3796500\n",
            "2025-07-31  106.779999  108.779999  106.589996  107.470001  4136100\n",
            "Data successfully saved to 'PLD_historical_data_2025-08-01.csv'\n",
            "------------------------------\n",
            "Attempting to download data for PRU from 2024-08-01 to 2025-08-01...\n"
          ]
        },
        {
          "output_type": "stream",
          "name": "stderr",
          "text": [
            "/tmp/ipython-input-2137805434.py:22: FutureWarning: YF.download() has changed argument auto_adjust default to True\n",
            "  stock_data = yf.download(ticker_symbol, start=start_date, end=end_date, progress=False)\n"
          ]
        },
        {
          "output_type": "stream",
          "name": "stdout",
          "text": [
            "Successfully downloaded data for PRU.\n",
            "\n",
            "--- Last 5 Days of Data for PRU ---\n",
            "Price            Close        High         Low        Open   Volume\n",
            "Ticker             PRU         PRU         PRU         PRU      PRU\n",
            "Date                                                               \n",
            "2025-07-25  105.209999  105.309998  104.010002  104.510002  1122900\n",
            "2025-07-28  103.750000  105.000000  103.400002  105.000000  1649000\n",
            "2025-07-29  103.440002  105.489998  103.239998  104.839996  1401500\n",
            "2025-07-30  101.779999  103.419998  100.620003  103.110001  2663700\n",
            "2025-07-31  103.580002  105.860001  102.230003  102.559998  3500600\n",
            "Data successfully saved to 'PRU_historical_data_2025-08-01.csv'\n",
            "------------------------------\n",
            "Attempting to download data for PEG from 2024-08-01 to 2025-08-01...\n"
          ]
        },
        {
          "output_type": "stream",
          "name": "stderr",
          "text": [
            "/tmp/ipython-input-2137805434.py:22: FutureWarning: YF.download() has changed argument auto_adjust default to True\n",
            "  stock_data = yf.download(ticker_symbol, start=start_date, end=end_date, progress=False)\n"
          ]
        },
        {
          "output_type": "stream",
          "name": "stdout",
          "text": [
            "Successfully downloaded data for PEG.\n",
            "\n",
            "--- Last 5 Days of Data for PEG ---\n",
            "Price           Close       High        Low       Open   Volume\n",
            "Ticker            PEG        PEG        PEG        PEG      PEG\n",
            "Date                                                           \n",
            "2025-07-25  87.580002  87.739998  86.739998  86.970001  1918000\n",
            "2025-07-28  86.940002  87.559998  86.470001  87.559998  1866000\n",
            "2025-07-29  88.610001  88.669998  87.010002  87.370003  2072000\n",
            "2025-07-30  88.879997  89.699997  88.379997  88.580002  2682700\n",
            "2025-07-31  89.790001  90.089996  88.139999  88.279999  2448400\n",
            "Data successfully saved to 'PEG_historical_data_2025-08-01.csv'\n",
            "------------------------------\n",
            "Attempting to download data for PSA from 2024-08-01 to 2025-08-01...\n"
          ]
        },
        {
          "output_type": "stream",
          "name": "stderr",
          "text": [
            "/tmp/ipython-input-2137805434.py:22: FutureWarning: YF.download() has changed argument auto_adjust default to True\n",
            "  stock_data = yf.download(ticker_symbol, start=start_date, end=end_date, progress=False)\n"
          ]
        },
        {
          "output_type": "stream",
          "name": "stdout",
          "text": [
            "Successfully downloaded data for PSA.\n",
            "\n",
            "--- Last 5 Days of Data for PSA ---\n",
            "Price            Close        High         Low        Open   Volume\n",
            "Ticker             PSA         PSA         PSA         PSA      PSA\n",
            "Date                                                               \n",
            "2025-07-25  287.760010  288.040009  284.170013  286.420013   674400\n",
            "2025-07-28  285.989990  289.709991  285.779999  286.779999   905700\n",
            "2025-07-29  292.570007  292.859985  286.119995  287.829987   854100\n",
            "2025-07-30  288.649994  293.540009  286.850006  291.850006   884600\n",
            "2025-07-31  271.940002  290.929993  271.239990  285.230011  1848400\n",
            "Data successfully saved to 'PSA_historical_data_2025-08-01.csv'\n",
            "------------------------------\n",
            "Attempting to download data for PHM from 2024-08-01 to 2025-08-01...\n"
          ]
        },
        {
          "output_type": "stream",
          "name": "stderr",
          "text": [
            "/tmp/ipython-input-2137805434.py:22: FutureWarning: YF.download() has changed argument auto_adjust default to True\n",
            "  stock_data = yf.download(ticker_symbol, start=start_date, end=end_date, progress=False)\n"
          ]
        },
        {
          "output_type": "stream",
          "name": "stdout",
          "text": [
            "Successfully downloaded data for PHM.\n",
            "\n",
            "--- Last 5 Days of Data for PHM ---\n",
            "Price            Close        High         Low        Open   Volume\n",
            "Ticker             PHM         PHM         PHM         PHM      PHM\n",
            "Date                                                               \n",
            "2025-07-25  116.349998  116.910004  114.589996  116.059998  1415000\n",
            "2025-07-28  116.820000  117.610001  114.930000  116.139999  1569100\n",
            "2025-07-29  117.059998  117.809998  115.940002  116.870003  1630600\n",
            "2025-07-30  113.360001  117.599998  112.410004  116.760002  1932600\n",
            "2025-07-31  112.919998  113.790001  111.500000  111.860001  1932300\n",
            "Data successfully saved to 'PHM_historical_data_2025-08-01.csv'\n",
            "------------------------------\n",
            "Attempting to download data for QRVO from 2024-08-01 to 2025-08-01...\n",
            "Successfully downloaded data for QRVO.\n",
            "\n",
            "--- Last 5 Days of Data for QRVO ---\n",
            "Price           Close       High        Low       Open   Volume\n",
            "Ticker           QRVO       QRVO       QRVO       QRVO     QRVO\n",
            "Date                                                           \n",
            "2025-07-25  85.279999  86.089996  84.750000  86.000000  1868300\n",
            "2025-07-28  84.320000  86.290001  84.144997  86.129997  2483600\n",
            "2025-07-29  84.669998  85.540001  83.820000  84.970001  4167600\n",
            "2025-07-30  86.500000  91.434998  81.599998  91.290001  5858000\n",
            "2025-07-31  83.599998  85.669998  82.610001  85.489998  2447300\n",
            "Data successfully saved to 'QRVO_historical_data_2025-08-01.csv'\n",
            "------------------------------\n",
            "Attempting to download data for PWR from 2024-08-01 to 2025-08-01...\n"
          ]
        },
        {
          "output_type": "stream",
          "name": "stderr",
          "text": [
            "/tmp/ipython-input-2137805434.py:22: FutureWarning: YF.download() has changed argument auto_adjust default to True\n",
            "  stock_data = yf.download(ticker_symbol, start=start_date, end=end_date, progress=False)\n",
            "/tmp/ipython-input-2137805434.py:22: FutureWarning: YF.download() has changed argument auto_adjust default to True\n",
            "  stock_data = yf.download(ticker_symbol, start=start_date, end=end_date, progress=False)\n"
          ]
        },
        {
          "output_type": "stream",
          "name": "stdout",
          "text": [
            "Successfully downloaded data for PWR.\n",
            "\n",
            "--- Last 5 Days of Data for PWR ---\n",
            "Price            Close        High         Low        Open   Volume\n",
            "Ticker             PWR         PWR         PWR         PWR      PWR\n",
            "Date                                                               \n",
            "2025-07-25  421.679993  424.940002  412.600006  412.600006  1370800\n",
            "2025-07-28  411.989990  418.989990  409.130005  418.989990  2101400\n",
            "2025-07-29  410.989990  416.410004  408.329987  416.410004  1094800\n",
            "2025-07-30  411.109985  414.500000  409.459991  412.790009  1837000\n",
            "2025-07-31  406.130005  423.500000  399.070007  406.089996  2435900\n",
            "Data successfully saved to 'PWR_historical_data_2025-08-01.csv'\n",
            "------------------------------\n",
            "Attempting to download data for DGX from 2024-08-01 to 2025-08-01...\n"
          ]
        },
        {
          "output_type": "stream",
          "name": "stderr",
          "text": [
            "/tmp/ipython-input-2137805434.py:22: FutureWarning: YF.download() has changed argument auto_adjust default to True\n",
            "  stock_data = yf.download(ticker_symbol, start=start_date, end=end_date, progress=False)\n"
          ]
        },
        {
          "output_type": "stream",
          "name": "stdout",
          "text": [
            "Successfully downloaded data for DGX.\n",
            "\n",
            "--- Last 5 Days of Data for DGX ---\n",
            "Price            Close        High         Low        Open   Volume\n",
            "Ticker             DGX         DGX         DGX         DGX      DGX\n",
            "Date                                                               \n",
            "2025-07-25  168.550003  173.039993  167.160004  172.600006  1877500\n",
            "2025-07-28  167.850006  168.759995  165.779999  167.589996  1086600\n",
            "2025-07-29  167.929993  169.619995  167.029999  168.720001   810700\n",
            "2025-07-30  168.729996  169.750000  166.750000  167.399994  1094000\n",
            "2025-07-31  167.410004  170.139999  166.759995  166.759995   941400\n",
            "Data successfully saved to 'DGX_historical_data_2025-08-01.csv'\n",
            "------------------------------\n",
            "Attempting to download data for RL from 2024-08-01 to 2025-08-01...\n"
          ]
        },
        {
          "output_type": "stream",
          "name": "stderr",
          "text": [
            "/tmp/ipython-input-2137805434.py:22: FutureWarning: YF.download() has changed argument auto_adjust default to True\n",
            "  stock_data = yf.download(ticker_symbol, start=start_date, end=end_date, progress=False)\n"
          ]
        },
        {
          "output_type": "stream",
          "name": "stdout",
          "text": [
            "Successfully downloaded data for RL.\n",
            "\n",
            "--- Last 5 Days of Data for RL ---\n",
            "Price            Close        High         Low        Open  Volume\n",
            "Ticker              RL          RL          RL          RL      RL\n",
            "Date                                                              \n",
            "2025-07-25  298.230011  299.019989  293.600006  298.809998  446800\n",
            "2025-07-28  301.720001  303.640015  298.549988  300.920013  576900\n",
            "2025-07-29  300.809998  302.500000  297.739990  301.920013  644900\n",
            "2025-07-30  303.209991  306.339996  301.829987  302.600006  706500\n",
            "2025-07-31  298.750000  304.329987  298.480011  304.329987  593600\n",
            "Data successfully saved to 'RL_historical_data_2025-08-01.csv'\n",
            "------------------------------\n",
            "Attempting to download data for RJF from 2024-08-01 to 2025-08-01...\n"
          ]
        },
        {
          "output_type": "stream",
          "name": "stderr",
          "text": [
            "/tmp/ipython-input-2137805434.py:22: FutureWarning: YF.download() has changed argument auto_adjust default to True\n",
            "  stock_data = yf.download(ticker_symbol, start=start_date, end=end_date, progress=False)\n"
          ]
        },
        {
          "output_type": "stream",
          "name": "stdout",
          "text": [
            "Successfully downloaded data for RJF.\n",
            "\n",
            "--- Last 5 Days of Data for RJF ---\n",
            "Price            Close        High         Low        Open   Volume\n",
            "Ticker             RJF         RJF         RJF         RJF      RJF\n",
            "Date                                                               \n",
            "2025-07-25  168.529999  168.679993  165.630005  166.949997  1086800\n",
            "2025-07-28  167.419998  168.949997  166.960007  168.369995   800000\n",
            "2025-07-29  168.020004  169.470001  166.960007  168.559998   877300\n",
            "2025-07-30  169.460007  170.880005  168.020004  168.600006  1217200\n",
            "2025-07-31  167.130005  170.100006  166.600006  168.199997   885700\n",
            "Data successfully saved to 'RJF_historical_data_2025-08-01.csv'\n",
            "------------------------------\n",
            "Attempting to download data for RTX from 2024-08-01 to 2025-08-01...\n"
          ]
        },
        {
          "output_type": "stream",
          "name": "stderr",
          "text": [
            "/tmp/ipython-input-2137805434.py:22: FutureWarning: YF.download() has changed argument auto_adjust default to True\n",
            "  stock_data = yf.download(ticker_symbol, start=start_date, end=end_date, progress=False)\n"
          ]
        },
        {
          "output_type": "stream",
          "name": "stdout",
          "text": [
            "Successfully downloaded data for RTX.\n",
            "\n",
            "--- Last 5 Days of Data for RTX ---\n",
            "Price            Close        High         Low        Open   Volume\n",
            "Ticker             RTX         RTX         RTX         RTX      RTX\n",
            "Date                                                               \n",
            "2025-07-25  156.880005  157.330002  154.259995  155.210007  4728200\n",
            "2025-07-28  156.070007  157.330002  155.630005  157.149994  4022900\n",
            "2025-07-29  157.119995  158.789993  156.330002  157.729996  4341800\n",
            "2025-07-30  158.399994  158.729996  156.419998  157.449997  3998700\n",
            "2025-07-31  157.570007  158.229996  156.750000  158.110001  4788900\n",
            "Data successfully saved to 'RTX_historical_data_2025-08-01.csv'\n",
            "------------------------------\n",
            "Attempting to download data for O from 2024-08-01 to 2025-08-01...\n"
          ]
        },
        {
          "output_type": "stream",
          "name": "stderr",
          "text": [
            "/tmp/ipython-input-2137805434.py:22: FutureWarning: YF.download() has changed argument auto_adjust default to True\n",
            "  stock_data = yf.download(ticker_symbol, start=start_date, end=end_date, progress=False)\n"
          ]
        },
        {
          "output_type": "stream",
          "name": "stdout",
          "text": [
            "Successfully downloaded data for O.\n",
            "\n",
            "--- Last 5 Days of Data for O ---\n",
            "Price           Close       High        Low       Open   Volume\n",
            "Ticker              O          O          O          O        O\n",
            "Date                                                           \n",
            "2025-07-25  57.900002  58.200001  57.290001  58.090000  4439300\n",
            "2025-07-28  56.860001  57.900002  56.849998  57.900002  4243400\n",
            "2025-07-29  57.360001  57.439999  56.759998  57.070000  4392200\n",
            "2025-07-30  56.790001  57.730000  56.590000  57.380001  3860500\n",
            "2025-07-31  56.130001  56.950001  56.040001  56.759998  7449400\n",
            "Data successfully saved to 'O_historical_data_2025-08-01.csv'\n",
            "------------------------------\n",
            "Attempting to download data for REGN from 2024-08-01 to 2025-08-01...\n"
          ]
        },
        {
          "output_type": "stream",
          "name": "stderr",
          "text": [
            "/tmp/ipython-input-2137805434.py:22: FutureWarning: YF.download() has changed argument auto_adjust default to True\n",
            "  stock_data = yf.download(ticker_symbol, start=start_date, end=end_date, progress=False)\n"
          ]
        },
        {
          "output_type": "stream",
          "name": "stdout",
          "text": [
            "Successfully downloaded data for REGN.\n",
            "\n",
            "--- Last 5 Days of Data for REGN ---\n",
            "Price            Close        High         Low        Open   Volume\n",
            "Ticker            REGN        REGN        REGN        REGN     REGN\n",
            "Date                                                               \n",
            "2025-07-25  563.099976  567.210022  555.500000  565.409973   755800\n",
            "2025-07-28  558.630005  567.950012  558.539978  563.530029   588400\n",
            "2025-07-29  558.150024  559.609985  552.000000  558.000000   814900\n",
            "2025-07-30  554.580017  563.590027  550.489990  560.450012   564900\n",
            "2025-07-31  545.460022  558.130005  541.609985  550.010010  1412800\n",
            "Data successfully saved to 'REGN_historical_data_2025-08-01.csv'\n",
            "------------------------------\n",
            "Attempting to download data for RF from 2024-08-01 to 2025-08-01...\n"
          ]
        },
        {
          "output_type": "stream",
          "name": "stderr",
          "text": [
            "/tmp/ipython-input-2137805434.py:22: FutureWarning: YF.download() has changed argument auto_adjust default to True\n",
            "  stock_data = yf.download(ticker_symbol, start=start_date, end=end_date, progress=False)\n"
          ]
        },
        {
          "output_type": "stream",
          "name": "stdout",
          "text": [
            "Successfully downloaded data for RF.\n",
            "\n",
            "--- Last 5 Days of Data for RF ---\n",
            "Price           Close       High        Low       Open    Volume\n",
            "Ticker             RF         RF         RF         RF        RF\n",
            "Date                                                            \n",
            "2025-07-25  26.420000  26.459999  25.860001  26.280001  18073500\n",
            "2025-07-28  26.299999  26.510000  26.170000  26.440001  20406300\n",
            "2025-07-29  26.190001  26.480000  26.150000  26.480000  19801000\n",
            "2025-07-30  25.700001  26.360001  25.540001  26.280001  17970800\n",
            "2025-07-31  25.330000  25.760000  25.230000  25.610001  18280600\n",
            "Data successfully saved to 'RF_historical_data_2025-08-01.csv'\n",
            "------------------------------\n",
            "Attempting to download data for RSG from 2024-08-01 to 2025-08-01...\n"
          ]
        },
        {
          "output_type": "stream",
          "name": "stderr",
          "text": [
            "/tmp/ipython-input-2137805434.py:22: FutureWarning: YF.download() has changed argument auto_adjust default to True\n",
            "  stock_data = yf.download(ticker_symbol, start=start_date, end=end_date, progress=False)\n"
          ]
        },
        {
          "output_type": "stream",
          "name": "stdout",
          "text": [
            "Successfully downloaded data for RSG.\n",
            "\n",
            "--- Last 5 Days of Data for RSG ---\n",
            "Price            Close        High         Low        Open   Volume\n",
            "Ticker             RSG         RSG         RSG         RSG      RSG\n",
            "Date                                                               \n",
            "2025-07-25  245.160004  246.199997  244.509995  245.250000   935900\n",
            "2025-07-28  241.410004  244.809998  241.160004  244.419998   989300\n",
            "2025-07-29  246.009995  246.250000  242.009995  243.160004  1861500\n",
            "2025-07-30  231.690002  240.910004  231.399994  238.839996  3177700\n",
            "2025-07-31  230.649994  234.740005  230.389999  232.000000  2244600\n",
            "Data successfully saved to 'RSG_historical_data_2025-08-01.csv'\n",
            "------------------------------\n",
            "Attempting to download data for RMD from 2024-08-01 to 2025-08-01...\n"
          ]
        },
        {
          "output_type": "stream",
          "name": "stderr",
          "text": [
            "/tmp/ipython-input-2137805434.py:22: FutureWarning: YF.download() has changed argument auto_adjust default to True\n",
            "  stock_data = yf.download(ticker_symbol, start=start_date, end=end_date, progress=False)\n"
          ]
        },
        {
          "output_type": "stream",
          "name": "stdout",
          "text": [
            "Successfully downloaded data for RMD.\n",
            "\n",
            "--- Last 5 Days of Data for RMD ---\n",
            "Price            Close        High         Low        Open   Volume\n",
            "Ticker             RMD         RMD         RMD         RMD      RMD\n",
            "Date                                                               \n",
            "2025-07-25  275.160004  275.799988  271.529999  273.000000  1063900\n",
            "2025-07-28  273.500000  274.609985  270.869995  273.049988  1020600\n",
            "2025-07-29  277.700012  278.100006  271.799988  272.579987  1492800\n",
            "2025-07-30  277.440002  278.859985  271.640015  273.350006  1714400\n",
            "2025-07-31  271.940002  277.299988  271.940002  275.640015  1443000\n",
            "Data successfully saved to 'RMD_historical_data_2025-08-01.csv'\n",
            "------------------------------\n",
            "Attempting to download data for RHI from 2024-08-01 to 2025-08-01...\n"
          ]
        },
        {
          "output_type": "stream",
          "name": "stderr",
          "text": [
            "/tmp/ipython-input-2137805434.py:22: FutureWarning: YF.download() has changed argument auto_adjust default to True\n",
            "  stock_data = yf.download(ticker_symbol, start=start_date, end=end_date, progress=False)\n"
          ]
        },
        {
          "output_type": "stream",
          "name": "stdout",
          "text": [
            "Successfully downloaded data for RHI.\n",
            "\n",
            "--- Last 5 Days of Data for RHI ---\n",
            "Price           Close       High        Low       Open   Volume\n",
            "Ticker            RHI        RHI        RHI        RHI      RHI\n",
            "Date                                                           \n",
            "2025-07-25  39.810001  40.389999  38.900002  40.389999  1872400\n",
            "2025-07-28  39.490002  40.380001  39.490002  39.910000  1431600\n",
            "2025-07-29  38.389999  39.450001  38.340000  39.320000  1456700\n",
            "2025-07-30  37.450001  38.860001  36.959999  38.520000  2541900\n",
            "2025-07-31  36.910000  37.599998  36.840000  37.070000  2076000\n",
            "Data successfully saved to 'RHI_historical_data_2025-08-01.csv'\n",
            "------------------------------\n",
            "Attempting to download data for ROK from 2024-08-01 to 2025-08-01...\n"
          ]
        },
        {
          "output_type": "stream",
          "name": "stderr",
          "text": [
            "/tmp/ipython-input-2137805434.py:22: FutureWarning: YF.download() has changed argument auto_adjust default to True\n",
            "  stock_data = yf.download(ticker_symbol, start=start_date, end=end_date, progress=False)\n"
          ]
        },
        {
          "output_type": "stream",
          "name": "stdout",
          "text": [
            "Successfully downloaded data for ROK.\n",
            "\n",
            "--- Last 5 Days of Data for ROK ---\n",
            "Price            Close        High         Low        Open   Volume\n",
            "Ticker             ROK         ROK         ROK         ROK      ROK\n",
            "Date                                                               \n",
            "2025-07-25  358.519989  359.100006  355.420013  357.660004   642600\n",
            "2025-07-28  356.029999  359.970001  355.839996  359.970001   876900\n",
            "2025-07-29  353.899994  358.750000  352.049988  357.859985   901100\n",
            "2025-07-30  351.190002  355.260010  349.299988  354.630005   811200\n",
            "2025-07-31  351.709991  355.440002  347.299988  351.739990  1000900\n",
            "Data successfully saved to 'ROK_historical_data_2025-08-01.csv'\n",
            "------------------------------\n",
            "Attempting to download data for ROL from 2024-08-01 to 2025-08-01...\n"
          ]
        },
        {
          "output_type": "stream",
          "name": "stderr",
          "text": [
            "/tmp/ipython-input-2137805434.py:22: FutureWarning: YF.download() has changed argument auto_adjust default to True\n",
            "  stock_data = yf.download(ticker_symbol, start=start_date, end=end_date, progress=False)\n"
          ]
        },
        {
          "output_type": "stream",
          "name": "stdout",
          "text": [
            "Successfully downloaded data for ROL.\n",
            "\n",
            "--- Last 5 Days of Data for ROL ---\n",
            "Price           Close       High        Low       Open   Volume\n",
            "Ticker            ROL        ROL        ROL        ROL      ROL\n",
            "Date                                                           \n",
            "2025-07-25  58.090000  58.500000  57.500000  57.860001  2051200\n",
            "2025-07-28  57.259998  58.200001  57.180000  57.910000  1456100\n",
            "2025-07-29  57.320000  57.669998  56.919998  57.470001  1731100\n",
            "2025-07-30  57.639999  57.910000  57.049999  57.139999  1548800\n",
            "2025-07-31  57.270000  57.919998  57.160000  57.450001  1645500\n",
            "Data successfully saved to 'ROL_historical_data_2025-08-01.csv'\n",
            "------------------------------\n",
            "Attempting to download data for ROP from 2024-08-01 to 2025-08-01...\n"
          ]
        },
        {
          "output_type": "stream",
          "name": "stderr",
          "text": [
            "/tmp/ipython-input-2137805434.py:22: FutureWarning: YF.download() has changed argument auto_adjust default to True\n",
            "  stock_data = yf.download(ticker_symbol, start=start_date, end=end_date, progress=False)\n"
          ]
        },
        {
          "output_type": "stream",
          "name": "stdout",
          "text": [
            "Successfully downloaded data for ROP.\n",
            "\n",
            "--- Last 5 Days of Data for ROP ---\n",
            "Price            Close        High         Low        Open  Volume\n",
            "Ticker             ROP         ROP         ROP         ROP     ROP\n",
            "Date                                                              \n",
            "2025-07-25  563.030029  563.409973  557.109985  560.700012  278500\n",
            "2025-07-28  559.030029  564.159973  558.760010  561.619995  439600\n",
            "2025-07-29  563.059998  563.330017  556.190002  561.700012  695800\n",
            "2025-07-30  552.340027  564.679993  549.950012  563.580017  666600\n",
            "2025-07-31  550.400024  556.229980  549.000000  550.679993  708100\n",
            "Data successfully saved to 'ROP_historical_data_2025-08-01.csv'\n",
            "------------------------------\n",
            "Attempting to download data for ROST from 2024-08-01 to 2025-08-01...\n"
          ]
        },
        {
          "output_type": "stream",
          "name": "stderr",
          "text": [
            "/tmp/ipython-input-2137805434.py:22: FutureWarning: YF.download() has changed argument auto_adjust default to True\n",
            "  stock_data = yf.download(ticker_symbol, start=start_date, end=end_date, progress=False)\n"
          ]
        },
        {
          "output_type": "stream",
          "name": "stdout",
          "text": [
            "Successfully downloaded data for ROST.\n",
            "\n",
            "--- Last 5 Days of Data for ROST ---\n",
            "Price            Close        High         Low        Open   Volume\n",
            "Ticker            ROST        ROST        ROST        ROST     ROST\n",
            "Date                                                               \n",
            "2025-07-25  138.330002  138.520004  136.619995  137.270004  1644100\n",
            "2025-07-28  140.820007  140.990005  138.679993  138.779999  2687600\n",
            "2025-07-29  139.559998  141.389999  139.100006  141.389999  2118800\n",
            "2025-07-30  138.479996  140.059998  137.899994  140.000000  2231400\n",
            "2025-07-31  136.539993  138.699997  136.339996  137.229996  2518600\n",
            "Data successfully saved to 'ROST_historical_data_2025-08-01.csv'\n",
            "------------------------------\n",
            "Attempting to download data for RCL from 2024-08-01 to 2025-08-01...\n"
          ]
        },
        {
          "output_type": "stream",
          "name": "stderr",
          "text": [
            "/tmp/ipython-input-2137805434.py:22: FutureWarning: YF.download() has changed argument auto_adjust default to True\n",
            "  stock_data = yf.download(ticker_symbol, start=start_date, end=end_date, progress=False)\n"
          ]
        },
        {
          "output_type": "stream",
          "name": "stdout",
          "text": [
            "Successfully downloaded data for RCL.\n",
            "\n",
            "--- Last 5 Days of Data for RCL ---\n",
            "Price            Close        High         Low        Open   Volume\n",
            "Ticker             RCL         RCL         RCL         RCL      RCL\n",
            "Date                                                               \n",
            "2025-07-25  352.799988  352.920013  348.429993  350.299988  1652600\n",
            "2025-07-28  352.000000  354.339996  348.679993  351.630005  2427700\n",
            "2025-07-29  334.369995  342.160004  321.109985  325.350006  5513500\n",
            "2025-07-30  331.149994  337.769989  327.970001  334.799988  2436900\n",
            "2025-07-31  317.869995  337.100006  315.859985  333.920013  3494300\n",
            "Data successfully saved to 'RCL_historical_data_2025-08-01.csv'\n",
            "------------------------------\n",
            "Attempting to download data for SPGI from 2024-08-01 to 2025-08-01...\n"
          ]
        },
        {
          "output_type": "stream",
          "name": "stderr",
          "text": [
            "/tmp/ipython-input-2137805434.py:22: FutureWarning: YF.download() has changed argument auto_adjust default to True\n",
            "  stock_data = yf.download(ticker_symbol, start=start_date, end=end_date, progress=False)\n"
          ]
        },
        {
          "output_type": "stream",
          "name": "stdout",
          "text": [
            "Successfully downloaded data for SPGI.\n",
            "\n",
            "--- Last 5 Days of Data for SPGI ---\n",
            "Price            Close        High         Low        Open   Volume\n",
            "Ticker            SPGI        SPGI        SPGI        SPGI     SPGI\n",
            "Date                                                               \n",
            "2025-07-25  534.950012  537.000000  529.500000  529.500000   788300\n",
            "2025-07-28  530.409973  535.380005  530.020020  533.330017   877900\n",
            "2025-07-29  530.789978  535.690002  530.130005  533.630005  1145600\n",
            "2025-07-30  529.330017  535.090027  527.630005  530.669983  1263700\n",
            "2025-07-31  551.099976  558.859985  532.380005  535.130005  2494700\n",
            "Data successfully saved to 'SPGI_historical_data_2025-08-01.csv'\n",
            "------------------------------\n",
            "Attempting to download data for SBAC from 2024-08-01 to 2025-08-01...\n",
            "Successfully downloaded data for SBAC.\n",
            "\n",
            "--- Last 5 Days of Data for SBAC ---\n",
            "Price            Close        High         Low        Open  Volume\n",
            "Ticker            SBAC        SBAC        SBAC        SBAC    SBAC\n",
            "Date                                                              \n",
            "2025-07-25  233.919998  235.699997  232.220001  235.449997  500400\n",
            "2025-07-28  226.750000  233.410004  226.449997  232.210007  634500\n",
            "2025-07-29  228.919998  229.179993  223.070007  227.380005  977100\n",
            "2025-07-30  226.979996  231.759995  225.759995  227.970001  778500\n",
            "2025-07-31  224.720001  227.490005  223.470001  224.509995  859200\n",
            "Data successfully saved to 'SBAC_historical_data_2025-08-01.csv'\n",
            "------------------------------\n",
            "Attempting to download data for SLB from 2024-08-01 to 2025-08-01...\n"
          ]
        },
        {
          "output_type": "stream",
          "name": "stderr",
          "text": [
            "/tmp/ipython-input-2137805434.py:22: FutureWarning: YF.download() has changed argument auto_adjust default to True\n",
            "  stock_data = yf.download(ticker_symbol, start=start_date, end=end_date, progress=False)\n",
            "/tmp/ipython-input-2137805434.py:22: FutureWarning: YF.download() has changed argument auto_adjust default to True\n",
            "  stock_data = yf.download(ticker_symbol, start=start_date, end=end_date, progress=False)\n"
          ]
        },
        {
          "output_type": "stream",
          "name": "stdout",
          "text": [
            "Successfully downloaded data for SLB.\n",
            "\n",
            "--- Last 5 Days of Data for SLB ---\n",
            "Price           Close       High        Low       Open    Volume\n",
            "Ticker            SLB        SLB        SLB        SLB       SLB\n",
            "Date                                                            \n",
            "2025-07-25  35.470001  35.630001  35.110001  35.410000  11467800\n",
            "2025-07-28  36.000000  36.189999  35.560001  35.650002  13367900\n",
            "2025-07-29  35.630001  35.959999  35.209999  35.799999  14315300\n",
            "2025-07-30  34.169998  35.509998  33.919998  35.430000  17945400\n",
            "2025-07-31  33.799999  34.380001  33.689999  33.980000  13117500\n",
            "Data successfully saved to 'SLB_historical_data_2025-08-01.csv'\n",
            "------------------------------\n",
            "Attempting to download data for STX from 2024-08-01 to 2025-08-01...\n"
          ]
        },
        {
          "output_type": "stream",
          "name": "stderr",
          "text": [
            "/tmp/ipython-input-2137805434.py:22: FutureWarning: YF.download() has changed argument auto_adjust default to True\n",
            "  stock_data = yf.download(ticker_symbol, start=start_date, end=end_date, progress=False)\n"
          ]
        },
        {
          "output_type": "stream",
          "name": "stdout",
          "text": [
            "Successfully downloaded data for STX.\n",
            "\n",
            "--- Last 5 Days of Data for STX ---\n",
            "Price            Close        High         Low        Open    Volume\n",
            "Ticker             STX         STX         STX         STX       STX\n",
            "Date                                                                \n",
            "2025-07-25  150.889999  153.330002  148.440002  152.399994   3125900\n",
            "2025-07-28  150.460007  152.039993  149.740005  151.479996   2585200\n",
            "2025-07-29  152.679993  155.520004  150.000000  151.750000   6242800\n",
            "2025-07-30  147.419998  148.539993  138.300003  141.000000  12025100\n",
            "2025-07-31  157.009995  157.449997  146.899994  148.300003   7045400\n",
            "Data successfully saved to 'STX_historical_data_2025-08-01.csv'\n",
            "------------------------------\n",
            "Attempting to download data for SEE from 2024-08-01 to 2025-08-01...\n"
          ]
        },
        {
          "output_type": "stream",
          "name": "stderr",
          "text": [
            "/tmp/ipython-input-2137805434.py:22: FutureWarning: YF.download() has changed argument auto_adjust default to True\n",
            "  stock_data = yf.download(ticker_symbol, start=start_date, end=end_date, progress=False)\n"
          ]
        },
        {
          "output_type": "stream",
          "name": "stdout",
          "text": [
            "Successfully downloaded data for SEE.\n",
            "\n",
            "--- Last 5 Days of Data for SEE ---\n",
            "Price           Close       High        Low       Open   Volume\n",
            "Ticker            SEE        SEE        SEE        SEE      SEE\n",
            "Date                                                           \n",
            "2025-07-25  31.040001  31.139999  30.600000  31.139999   962100\n",
            "2025-07-28  30.760000  31.059999  30.670000  31.020000   723400\n",
            "2025-07-29  30.420000  30.900000  30.290001  30.719999  1158100\n",
            "2025-07-30  29.730000  30.700001  29.629999  30.340000   857700\n",
            "2025-07-31  29.270000  29.709999  29.139999  29.500000   906400\n",
            "Data successfully saved to 'SEE_historical_data_2025-08-01.csv'\n",
            "------------------------------\n",
            "Attempting to download data for SRE from 2024-08-01 to 2025-08-01...\n"
          ]
        },
        {
          "output_type": "stream",
          "name": "stderr",
          "text": [
            "/tmp/ipython-input-2137805434.py:22: FutureWarning: YF.download() has changed argument auto_adjust default to True\n",
            "  stock_data = yf.download(ticker_symbol, start=start_date, end=end_date, progress=False)\n"
          ]
        },
        {
          "output_type": "stream",
          "name": "stdout",
          "text": [
            "Successfully downloaded data for SRE.\n",
            "\n",
            "--- Last 5 Days of Data for SRE ---\n",
            "Price           Close       High        Low       Open   Volume\n",
            "Ticker            SRE        SRE        SRE        SRE      SRE\n",
            "Date                                                           \n",
            "2025-07-25  80.820000  80.970001  79.900002  80.519997  2138000\n",
            "2025-07-28  80.309998  80.739998  79.820000  80.720001  2973100\n",
            "2025-07-29  81.150002  81.430000  80.550003  80.750000  4314400\n",
            "2025-07-30  81.180000  81.949997  80.660004  81.449997  3690900\n",
            "2025-07-31  81.680000  82.150002  80.769997  80.769997  3631900\n",
            "Data successfully saved to 'SRE_historical_data_2025-08-01.csv'\n",
            "------------------------------\n",
            "Attempting to download data for SHW from 2024-08-01 to 2025-08-01...\n"
          ]
        },
        {
          "output_type": "stream",
          "name": "stderr",
          "text": [
            "/tmp/ipython-input-2137805434.py:22: FutureWarning: YF.download() has changed argument auto_adjust default to True\n",
            "  stock_data = yf.download(ticker_symbol, start=start_date, end=end_date, progress=False)\n"
          ]
        },
        {
          "output_type": "stream",
          "name": "stdout",
          "text": [
            "Successfully downloaded data for SHW.\n",
            "\n",
            "--- Last 5 Days of Data for SHW ---\n",
            "Price            Close        High         Low        Open   Volume\n",
            "Ticker             SHW         SHW         SHW         SHW      SHW\n",
            "Date                                                               \n",
            "2025-07-25  340.100006  341.880005  338.170013  341.880005  1868400\n",
            "2025-07-28  336.160004  340.600006  334.320007  338.029999  1919500\n",
            "2025-07-29  336.970001  337.750000  333.720001  336.320007  1518200\n",
            "2025-07-30  331.980011  336.970001  330.829987  335.190002  1539700\n",
            "2025-07-31  330.880005  334.040009  329.480011  329.480011  1752600\n",
            "Data successfully saved to 'SHW_historical_data_2025-08-01.csv'\n",
            "------------------------------\n",
            "Attempting to download data for SPG from 2024-08-01 to 2025-08-01...\n"
          ]
        },
        {
          "output_type": "stream",
          "name": "stderr",
          "text": [
            "/tmp/ipython-input-2137805434.py:22: FutureWarning: YF.download() has changed argument auto_adjust default to True\n",
            "  stock_data = yf.download(ticker_symbol, start=start_date, end=end_date, progress=False)\n"
          ]
        },
        {
          "output_type": "stream",
          "name": "stdout",
          "text": [
            "Successfully downloaded data for SPG.\n",
            "\n",
            "--- Last 5 Days of Data for SPG ---\n",
            "Price            Close        High         Low        Open   Volume\n",
            "Ticker             SPG         SPG         SPG         SPG      SPG\n",
            "Date                                                               \n",
            "2025-07-25  167.110001  167.220001  164.270004  165.529999  1374700\n",
            "2025-07-28  165.279999  167.520004  165.100006  166.779999  1090200\n",
            "2025-07-29  168.080002  168.160004  166.100006  166.880005  1125600\n",
            "2025-07-30  165.460007  168.720001  164.339996  168.350006  1085200\n",
            "2025-07-31  163.789993  166.000000  163.429993  164.250000  1739400\n",
            "Data successfully saved to 'SPG_historical_data_2025-08-01.csv'\n",
            "------------------------------\n",
            "Attempting to download data for SWKS from 2024-08-01 to 2025-08-01...\n"
          ]
        },
        {
          "output_type": "stream",
          "name": "stderr",
          "text": [
            "/tmp/ipython-input-2137805434.py:22: FutureWarning: YF.download() has changed argument auto_adjust default to True\n",
            "  stock_data = yf.download(ticker_symbol, start=start_date, end=end_date, progress=False)\n"
          ]
        },
        {
          "output_type": "stream",
          "name": "stdout",
          "text": [
            "Successfully downloaded data for SWKS.\n",
            "\n",
            "--- Last 5 Days of Data for SWKS ---\n",
            "Price           Close       High        Low       Open   Volume\n",
            "Ticker           SWKS       SWKS       SWKS       SWKS     SWKS\n",
            "Date                                                           \n",
            "2025-07-25  71.529999  72.470001  71.209999  72.209999  1539200\n",
            "2025-07-28  71.320000  72.320000  71.110001  72.190002  2211500\n",
            "2025-07-29  71.940002  72.110001  70.639999  71.839996  2406400\n",
            "2025-07-30  71.330002  73.959999  70.790001  73.839996  2454600\n",
            "2025-07-31  68.540001  70.989998  68.230003  70.430000  3299400\n",
            "Data successfully saved to 'SWKS_historical_data_2025-08-01.csv'\n",
            "------------------------------\n",
            "Attempting to download data for SNA from 2024-08-01 to 2025-08-01...\n"
          ]
        },
        {
          "output_type": "stream",
          "name": "stderr",
          "text": [
            "/tmp/ipython-input-2137805434.py:22: FutureWarning: YF.download() has changed argument auto_adjust default to True\n",
            "  stock_data = yf.download(ticker_symbol, start=start_date, end=end_date, progress=False)\n"
          ]
        },
        {
          "output_type": "stream",
          "name": "stdout",
          "text": [
            "Successfully downloaded data for SNA.\n",
            "\n",
            "--- Last 5 Days of Data for SNA ---\n",
            "Price            Close        High         Low        Open  Volume\n",
            "Ticker             SNA         SNA         SNA         SNA     SNA\n",
            "Date                                                              \n",
            "2025-07-25  330.269989  331.299988  326.399994  331.299988  259800\n",
            "2025-07-28  326.529999  330.429993  326.160004  329.420013  255500\n",
            "2025-07-29  325.359985  329.559998  324.679993  328.149994  203800\n",
            "2025-07-30  322.269989  327.829987  320.750000  325.029999  269300\n",
            "2025-07-31  321.190002  325.679993  320.670013  321.059998  349000\n",
            "Data successfully saved to 'SNA_historical_data_2025-08-01.csv'\n",
            "------------------------------\n",
            "Attempting to download data for SEDG from 2024-08-01 to 2025-08-01...\n",
            "Successfully downloaded data for SEDG.\n",
            "\n",
            "--- Last 5 Days of Data for SEDG ---\n",
            "Price           Close       High        Low       Open   Volume\n",
            "Ticker           SEDG       SEDG       SEDG       SEDG     SEDG\n",
            "Date                                                           \n",
            "2025-07-25  27.230000  28.990000  26.719999  28.879999  3664700\n",
            "2025-07-28  27.059999  28.400000  26.459999  27.830000  2761200\n",
            "2025-07-29  24.950001  27.280001  24.760000  27.280001  4058100\n",
            "2025-07-30  25.809999  28.125000  24.450001  25.379999  7279800\n",
            "2025-07-31  25.660000  26.219999  24.799999  25.350000  2857800\n",
            "Data successfully saved to 'SEDG_historical_data_2025-08-01.csv'\n",
            "------------------------------\n",
            "Attempting to download data for SO from 2024-08-01 to 2025-08-01...\n"
          ]
        },
        {
          "output_type": "stream",
          "name": "stderr",
          "text": [
            "/tmp/ipython-input-2137805434.py:22: FutureWarning: YF.download() has changed argument auto_adjust default to True\n",
            "  stock_data = yf.download(ticker_symbol, start=start_date, end=end_date, progress=False)\n",
            "/tmp/ipython-input-2137805434.py:22: FutureWarning: YF.download() has changed argument auto_adjust default to True\n",
            "  stock_data = yf.download(ticker_symbol, start=start_date, end=end_date, progress=False)\n"
          ]
        },
        {
          "output_type": "stream",
          "name": "stdout",
          "text": [
            "Successfully downloaded data for SO.\n",
            "\n",
            "--- Last 5 Days of Data for SO ---\n",
            "Price           Close       High        Low       Open    Volume\n",
            "Ticker             SO         SO         SO         SO        SO\n",
            "Date                                                            \n",
            "2025-07-25  95.349998  95.540001  94.910004  94.910004   3069800\n",
            "2025-07-28  94.300003  95.320000  93.959999  95.199997   5481400\n",
            "2025-07-29  95.199997  95.239998  94.349998  94.550003   5217400\n",
            "2025-07-30  94.900002  95.620003  94.639999  95.300003   6808000\n",
            "2025-07-31  94.480003  95.900002  92.910004  94.879997  12682300\n",
            "Data successfully saved to 'SO_historical_data_2025-08-01.csv'\n",
            "------------------------------\n",
            "Attempting to download data for LUV from 2024-08-01 to 2025-08-01...\n"
          ]
        },
        {
          "output_type": "stream",
          "name": "stderr",
          "text": [
            "/tmp/ipython-input-2137805434.py:22: FutureWarning: YF.download() has changed argument auto_adjust default to True\n",
            "  stock_data = yf.download(ticker_symbol, start=start_date, end=end_date, progress=False)\n"
          ]
        },
        {
          "output_type": "stream",
          "name": "stdout",
          "text": [
            "Successfully downloaded data for LUV.\n",
            "\n",
            "--- Last 5 Days of Data for LUV ---\n",
            "Price           Close       High        Low       Open    Volume\n",
            "Ticker            LUV        LUV        LUV        LUV       LUV\n",
            "Date                                                            \n",
            "2025-07-25  33.209999  33.389999  32.619999  33.349998  16999800\n",
            "2025-07-28  32.520000  33.060001  32.119999  33.000000  15894400\n",
            "2025-07-29  31.100000  32.840000  31.090000  32.650002  13281700\n",
            "2025-07-30  30.709999  31.360001  30.450001  31.360001  11884200\n",
            "2025-07-31  30.930000  31.290001  30.370001  30.500000  13499700\n",
            "Data successfully saved to 'LUV_historical_data_2025-08-01.csv'\n",
            "------------------------------\n",
            "Attempting to download data for SWK from 2024-08-01 to 2025-08-01...\n"
          ]
        },
        {
          "output_type": "stream",
          "name": "stderr",
          "text": [
            "/tmp/ipython-input-2137805434.py:22: FutureWarning: YF.download() has changed argument auto_adjust default to True\n",
            "  stock_data = yf.download(ticker_symbol, start=start_date, end=end_date, progress=False)\n"
          ]
        },
        {
          "output_type": "stream",
          "name": "stdout",
          "text": [
            "Successfully downloaded data for SWK.\n",
            "\n",
            "--- Last 5 Days of Data for SWK ---\n",
            "Price           Close       High        Low       Open   Volume\n",
            "Ticker            SWK        SWK        SWK        SWK      SWK\n",
            "Date                                                           \n",
            "2025-07-25  73.900002  74.089996  72.129997  72.949997  1782200\n",
            "2025-07-28  73.930000  74.930000  73.099998  73.849998  3272000\n",
            "2025-07-29  68.610001  69.769997  66.510002  68.220001  5250500\n",
            "2025-07-30  67.769997  69.550003  67.089996  68.500000  3389400\n",
            "2025-07-31  67.650002  68.900002  66.860001  67.389999  4016600\n",
            "Data successfully saved to 'SWK_historical_data_2025-08-01.csv'\n",
            "------------------------------\n",
            "Attempting to download data for SBUX from 2024-08-01 to 2025-08-01...\n"
          ]
        },
        {
          "output_type": "stream",
          "name": "stderr",
          "text": [
            "/tmp/ipython-input-2137805434.py:22: FutureWarning: YF.download() has changed argument auto_adjust default to True\n",
            "  stock_data = yf.download(ticker_symbol, start=start_date, end=end_date, progress=False)\n"
          ]
        },
        {
          "output_type": "stream",
          "name": "stdout",
          "text": [
            "Successfully downloaded data for SBUX.\n",
            "\n",
            "--- Last 5 Days of Data for SBUX ---\n",
            "Price           Close       High        Low       Open    Volume\n",
            "Ticker           SBUX       SBUX       SBUX       SBUX      SBUX\n",
            "Date                                                            \n",
            "2025-07-25  94.419998  94.480003  92.309998  93.400002   7224100\n",
            "2025-07-28  93.669998  95.739998  93.459999  94.930000  10333600\n",
            "2025-07-29  92.959999  94.389999  91.779999  93.250000  20923600\n",
            "2025-07-30  92.760002  98.889999  90.070000  97.830002  44794700\n",
            "2025-07-31  89.160004  93.070000  88.430000  91.599998  16525900\n",
            "Data successfully saved to 'SBUX_historical_data_2025-08-01.csv'\n",
            "------------------------------\n",
            "Attempting to download data for STT from 2024-08-01 to 2025-08-01...\n"
          ]
        },
        {
          "output_type": "stream",
          "name": "stderr",
          "text": [
            "/tmp/ipython-input-2137805434.py:22: FutureWarning: YF.download() has changed argument auto_adjust default to True\n",
            "  stock_data = yf.download(ticker_symbol, start=start_date, end=end_date, progress=False)\n"
          ]
        },
        {
          "output_type": "stream",
          "name": "stdout",
          "text": [
            "Successfully downloaded data for STT.\n",
            "\n",
            "--- Last 5 Days of Data for STT ---\n",
            "Price            Close        High         Low        Open   Volume\n",
            "Ticker             STT         STT         STT         STT      STT\n",
            "Date                                                               \n",
            "2025-07-25  112.930000  113.720001  110.150002  110.839996  3321000\n",
            "2025-07-28  112.449997  113.000000  111.830002  112.669998  1078100\n",
            "2025-07-29  113.250000  113.599998  112.379997  113.239998  1443700\n",
            "2025-07-30  113.110001  114.279999  112.440002  113.580002  1952500\n",
            "2025-07-31  111.750000  113.290001  111.400002  112.540001  1635300\n",
            "Data successfully saved to 'STT_historical_data_2025-08-01.csv'\n",
            "------------------------------\n",
            "Attempting to download data for STE from 2024-08-01 to 2025-08-01...\n"
          ]
        },
        {
          "output_type": "stream",
          "name": "stderr",
          "text": [
            "/tmp/ipython-input-2137805434.py:22: FutureWarning: YF.download() has changed argument auto_adjust default to True\n",
            "  stock_data = yf.download(ticker_symbol, start=start_date, end=end_date, progress=False)\n"
          ]
        },
        {
          "output_type": "stream",
          "name": "stdout",
          "text": [
            "Successfully downloaded data for STE.\n",
            "\n",
            "--- Last 5 Days of Data for STE ---\n",
            "Price            Close        High         Low        Open  Volume\n",
            "Ticker             STE         STE         STE         STE     STE\n",
            "Date                                                              \n",
            "2025-07-25  230.460007  231.270004  226.440002  226.889999  650300\n",
            "2025-07-28  226.529999  230.559998  226.229996  229.610001  429700\n",
            "2025-07-29  228.369995  228.729996  225.899994  226.479996  438300\n",
            "2025-07-30  229.270004  229.839996  227.589996  227.589996  408100\n",
            "2025-07-31  226.490005  229.970001  226.050003  228.570007  700700\n",
            "Data successfully saved to 'STE_historical_data_2025-08-01.csv'\n",
            "------------------------------\n",
            "Attempting to download data for SYK from 2024-08-01 to 2025-08-01...\n"
          ]
        },
        {
          "output_type": "stream",
          "name": "stderr",
          "text": [
            "/tmp/ipython-input-2137805434.py:22: FutureWarning: YF.download() has changed argument auto_adjust default to True\n",
            "  stock_data = yf.download(ticker_symbol, start=start_date, end=end_date, progress=False)\n"
          ]
        },
        {
          "output_type": "stream",
          "name": "stdout",
          "text": [
            "Successfully downloaded data for SYK.\n",
            "\n",
            "--- Last 5 Days of Data for SYK ---\n",
            "Price            Close        High         Low        Open   Volume\n",
            "Ticker             SYK         SYK         SYK         SYK      SYK\n",
            "Date                                                               \n",
            "2025-07-25  403.529999  403.790009  396.399994  397.829987   963600\n",
            "2025-07-28  400.690002  404.140015  399.250000  402.589996   888400\n",
            "2025-07-29  400.570007  403.920013  399.309998  402.000000   970500\n",
            "2025-07-30  400.410004  403.220001  398.000000  398.750000  1077200\n",
            "2025-07-31  392.730011  401.989990  392.070007  398.269989  2342300\n",
            "Data successfully saved to 'SYK_historical_data_2025-08-01.csv'\n",
            "------------------------------\n",
            "Attempting to download data for SYF from 2024-08-01 to 2025-08-01...\n"
          ]
        },
        {
          "output_type": "stream",
          "name": "stderr",
          "text": [
            "/tmp/ipython-input-2137805434.py:22: FutureWarning: YF.download() has changed argument auto_adjust default to True\n",
            "  stock_data = yf.download(ticker_symbol, start=start_date, end=end_date, progress=False)\n"
          ]
        },
        {
          "output_type": "stream",
          "name": "stdout",
          "text": [
            "Successfully downloaded data for SYF.\n",
            "\n",
            "--- Last 5 Days of Data for SYF ---\n",
            "Price           Close       High        Low       Open   Volume\n",
            "Ticker            SYF        SYF        SYF        SYF      SYF\n",
            "Date                                                           \n",
            "2025-07-25  72.900002  73.419998  71.559998  72.160004  3270900\n",
            "2025-07-28  72.870003  73.300003  72.540001  73.040001  2801000\n",
            "2025-07-29  71.300003  73.760002  71.000000  73.589996  3947200\n",
            "2025-07-30  70.260002  71.739998  69.705002  71.559998  3586100\n",
            "2025-07-31  69.669998  71.070000  69.449997  70.190002  3482800\n",
            "Data successfully saved to 'SYF_historical_data_2025-08-01.csv'\n",
            "------------------------------\n",
            "Attempting to download data for SNPS from 2024-08-01 to 2025-08-01...\n",
            "Successfully downloaded data for SNPS.\n",
            "\n",
            "--- Last 5 Days of Data for SNPS ---\n",
            "Price            Close        High         Low        Open   Volume\n",
            "Ticker            SNPS        SNPS        SNPS        SNPS     SNPS\n",
            "Date                                                               \n",
            "2025-07-25  601.549988  611.650024  600.859985  611.650024  1819800\n",
            "2025-07-28  592.630005  607.710022  588.369995  605.280029  1770500\n",
            "2025-07-29  635.809998  647.200012  613.580017  614.059998  3293600\n",
            "2025-07-30  645.349976  651.729980  632.669983  635.140015  1919000\n",
            "2025-07-31  633.469971  646.289978  632.739990  644.780029  1164700\n"
          ]
        },
        {
          "output_type": "stream",
          "name": "stderr",
          "text": [
            "/tmp/ipython-input-2137805434.py:22: FutureWarning: YF.download() has changed argument auto_adjust default to True\n",
            "  stock_data = yf.download(ticker_symbol, start=start_date, end=end_date, progress=False)\n"
          ]
        },
        {
          "output_type": "stream",
          "name": "stdout",
          "text": [
            "Data successfully saved to 'SNPS_historical_data_2025-08-01.csv'\n",
            "------------------------------\n",
            "Attempting to download data for SYY from 2024-08-01 to 2025-08-01...\n"
          ]
        },
        {
          "output_type": "stream",
          "name": "stderr",
          "text": [
            "/tmp/ipython-input-2137805434.py:22: FutureWarning: YF.download() has changed argument auto_adjust default to True\n",
            "  stock_data = yf.download(ticker_symbol, start=start_date, end=end_date, progress=False)\n"
          ]
        },
        {
          "output_type": "stream",
          "name": "stdout",
          "text": [
            "Successfully downloaded data for SYY.\n",
            "\n",
            "--- Last 5 Days of Data for SYY ---\n",
            "Price           Close       High        Low       Open   Volume\n",
            "Ticker            SYY        SYY        SYY        SYY      SYY\n",
            "Date                                                           \n",
            "2025-07-25  80.300003  80.639999  79.739998  79.930000  2951700\n",
            "2025-07-28  80.349998  80.930000  79.870003  80.029999  4450700\n",
            "2025-07-29  78.379997  79.849998  75.790001  78.160004  7259800\n",
            "2025-07-30  80.110001  80.750000  78.730003  78.779999  4225300\n",
            "2025-07-31  79.599998  80.269997  78.800003  79.459999  3101200\n",
            "Data successfully saved to 'SYY_historical_data_2025-08-01.csv'\n",
            "------------------------------\n",
            "Attempting to download data for TMUS from 2024-08-01 to 2025-08-01...\n"
          ]
        },
        {
          "output_type": "stream",
          "name": "stderr",
          "text": [
            "/tmp/ipython-input-2137805434.py:22: FutureWarning: YF.download() has changed argument auto_adjust default to True\n",
            "  stock_data = yf.download(ticker_symbol, start=start_date, end=end_date, progress=False)\n"
          ]
        },
        {
          "output_type": "stream",
          "name": "stdout",
          "text": [
            "Successfully downloaded data for TMUS.\n",
            "\n",
            "--- Last 5 Days of Data for TMUS ---\n",
            "Price            Close        High         Low        Open   Volume\n",
            "Ticker            TMUS        TMUS        TMUS        TMUS     TMUS\n",
            "Date                                                               \n",
            "2025-07-25  243.550003  249.910004  243.100006  248.259995  5205200\n",
            "2025-07-28  238.190002  242.960007  237.279999  242.580002  3702900\n",
            "2025-07-29  239.250000  241.300003  237.800003  239.169998  3563600\n",
            "2025-07-30  241.580002  242.789993  238.589996  239.330002  4213000\n",
            "2025-07-31  238.410004  242.050003  238.119995  239.380005  4076500\n",
            "Data successfully saved to 'TMUS_historical_data_2025-08-01.csv'\n",
            "------------------------------\n",
            "Attempting to download data for TROW from 2024-08-01 to 2025-08-01...\n"
          ]
        },
        {
          "output_type": "stream",
          "name": "stderr",
          "text": [
            "/tmp/ipython-input-2137805434.py:22: FutureWarning: YF.download() has changed argument auto_adjust default to True\n",
            "  stock_data = yf.download(ticker_symbol, start=start_date, end=end_date, progress=False)\n"
          ]
        },
        {
          "output_type": "stream",
          "name": "stdout",
          "text": [
            "Successfully downloaded data for TROW.\n",
            "\n",
            "--- Last 5 Days of Data for TROW ---\n",
            "Price            Close        High         Low        Open   Volume\n",
            "Ticker            TROW        TROW        TROW        TROW     TROW\n",
            "Date                                                               \n",
            "2025-07-25  106.930000  107.800003  105.760002  107.639999  1380300\n",
            "2025-07-28  106.000000  107.070000  105.209999  107.070000  1310100\n",
            "2025-07-29  104.919998  106.610001  104.470001  106.610001  1348000\n",
            "2025-07-30  103.900002  105.410004  103.459999  105.160004  1519800\n",
            "2025-07-31  101.449997  103.879997  101.260002  103.349998  3974100\n",
            "Data successfully saved to 'TROW_historical_data_2025-08-01.csv'\n",
            "------------------------------\n",
            "Attempting to download data for TTWO from 2024-08-01 to 2025-08-01...\n"
          ]
        },
        {
          "output_type": "stream",
          "name": "stderr",
          "text": [
            "/tmp/ipython-input-2137805434.py:22: FutureWarning: YF.download() has changed argument auto_adjust default to True\n",
            "  stock_data = yf.download(ticker_symbol, start=start_date, end=end_date, progress=False)\n"
          ]
        },
        {
          "output_type": "stream",
          "name": "stdout",
          "text": [
            "Successfully downloaded data for TTWO.\n",
            "\n",
            "--- Last 5 Days of Data for TTWO ---\n",
            "Price            Close        High         Low        Open   Volume\n",
            "Ticker            TTWO        TTWO        TTWO        TTWO     TTWO\n",
            "Date                                                               \n",
            "2025-07-25  224.750000  227.210007  223.039993  226.000000  1895500\n",
            "2025-07-28  226.100006  228.660004  224.410004  228.229996  1421600\n",
            "2025-07-29  223.979996  227.360001  222.500000  227.149994  1857400\n",
            "2025-07-30  223.809998  225.919998  223.050003  224.050003  1512000\n",
            "2025-07-31  222.729996  225.309998  222.300003  224.619995  1643500\n",
            "Data successfully saved to 'TTWO_historical_data_2025-08-01.csv'\n",
            "------------------------------\n",
            "Attempting to download data for TPR from 2024-08-01 to 2025-08-01...\n"
          ]
        },
        {
          "output_type": "stream",
          "name": "stderr",
          "text": [
            "/tmp/ipython-input-2137805434.py:22: FutureWarning: YF.download() has changed argument auto_adjust default to True\n",
            "  stock_data = yf.download(ticker_symbol, start=start_date, end=end_date, progress=False)\n"
          ]
        },
        {
          "output_type": "stream",
          "name": "stdout",
          "text": [
            "Successfully downloaded data for TPR.\n",
            "\n",
            "--- Last 5 Days of Data for TPR ---\n",
            "Price            Close        High         Low        Open   Volume\n",
            "Ticker             TPR         TPR         TPR         TPR      TPR\n",
            "Date                                                               \n",
            "2025-07-25  108.339996  110.220001  107.089996  110.059998  3518500\n",
            "2025-07-28  110.419998  110.440002  108.519997  108.669998  3113900\n",
            "2025-07-29  107.400002  108.320000  105.739998  108.300003  5418000\n",
            "2025-07-30  108.199997  108.820000  106.930000  106.930000  3724100\n",
            "2025-07-31  108.029999  109.389999  107.599998  107.660004  3343000\n",
            "Data successfully saved to 'TPR_historical_data_2025-08-01.csv'\n",
            "------------------------------\n",
            "Attempting to download data for TGT from 2024-08-01 to 2025-08-01...\n"
          ]
        },
        {
          "output_type": "stream",
          "name": "stderr",
          "text": [
            "/tmp/ipython-input-2137805434.py:22: FutureWarning: YF.download() has changed argument auto_adjust default to True\n",
            "  stock_data = yf.download(ticker_symbol, start=start_date, end=end_date, progress=False)\n"
          ]
        },
        {
          "output_type": "stream",
          "name": "stdout",
          "text": [
            "Successfully downloaded data for TGT.\n",
            "\n",
            "--- Last 5 Days of Data for TGT ---\n",
            "Price            Close        High         Low        Open   Volume\n",
            "Ticker             TGT         TGT         TGT         TGT      TGT\n",
            "Date                                                               \n",
            "2025-07-25  106.050003  107.019997  105.150002  106.760002  3476000\n",
            "2025-07-28  106.430000  106.800003  105.250000  106.220001  3864900\n",
            "2025-07-29  104.180000  106.290001  103.919998  106.120003  4753500\n",
            "2025-07-30  103.139999  105.000000  102.339996  104.709999  4527100\n",
            "2025-07-31  100.500000  102.629997  100.360001  102.349998  6436800\n",
            "Data successfully saved to 'TGT_historical_data_2025-08-01.csv'\n",
            "------------------------------\n",
            "Attempting to download data for TEL from 2024-08-01 to 2025-08-01...\n"
          ]
        },
        {
          "output_type": "stream",
          "name": "stderr",
          "text": [
            "/tmp/ipython-input-2137805434.py:22: FutureWarning: YF.download() has changed argument auto_adjust default to True\n",
            "  stock_data = yf.download(ticker_symbol, start=start_date, end=end_date, progress=False)\n"
          ]
        },
        {
          "output_type": "stream",
          "name": "stdout",
          "text": [
            "Successfully downloaded data for TEL.\n",
            "\n",
            "--- Last 5 Days of Data for TEL ---\n",
            "Price            Close        High         Low        Open   Volume\n",
            "Ticker             TEL         TEL         TEL         TEL      TEL\n",
            "Date                                                               \n",
            "2025-07-25  208.059998  208.169998  203.460007  206.889999  2069200\n",
            "2025-07-28  209.339996  210.050003  205.759995  206.729996  2291900\n",
            "2025-07-29  209.169998  212.759995  208.139999  211.809998  1558000\n",
            "2025-07-30  206.679993  209.399994  205.809998  208.429993  2662700\n",
            "2025-07-31  205.750000  208.360001  204.710007  206.149994  1854000\n",
            "Data successfully saved to 'TEL_historical_data_2025-08-01.csv'\n",
            "------------------------------\n",
            "Attempting to download data for TDY from 2024-08-01 to 2025-08-01...\n",
            "Successfully downloaded data for TDY.\n",
            "\n",
            "--- Last 5 Days of Data for TDY ---\n",
            "Price            Close        High         Low        Open  Volume\n",
            "Ticker             TDY         TDY         TDY         TDY     TDY\n",
            "Date                                                              \n",
            "2025-07-25  555.890015  556.429993  545.070007  551.200012  553000\n",
            "2025-07-28  556.960022  561.750000  552.330017  556.000000  467800\n",
            "2025-07-29  552.479980  561.969971  549.770020  559.799988  264500\n",
            "2025-07-30  550.590027  558.739990  545.570007  553.250000  414300\n",
            "2025-07-31  551.020020  560.130005  549.549988  549.549988  373400\n",
            "Data successfully saved to 'TDY_historical_data_2025-08-01.csv'\n",
            "------------------------------\n",
            "Attempting to download data for TFX from 2024-08-01 to 2025-08-01...\n"
          ]
        },
        {
          "output_type": "stream",
          "name": "stderr",
          "text": [
            "/tmp/ipython-input-2137805434.py:22: FutureWarning: YF.download() has changed argument auto_adjust default to True\n",
            "  stock_data = yf.download(ticker_symbol, start=start_date, end=end_date, progress=False)\n",
            "/tmp/ipython-input-2137805434.py:22: FutureWarning: YF.download() has changed argument auto_adjust default to True\n",
            "  stock_data = yf.download(ticker_symbol, start=start_date, end=end_date, progress=False)\n"
          ]
        },
        {
          "output_type": "stream",
          "name": "stdout",
          "text": [
            "Successfully downloaded data for TFX.\n",
            "\n",
            "--- Last 5 Days of Data for TFX ---\n",
            "Price            Close        High         Low        Open  Volume\n",
            "Ticker             TFX         TFX         TFX         TFX     TFX\n",
            "Date                                                              \n",
            "2025-07-25  117.190002  117.360001  114.980003  116.169998  326400\n",
            "2025-07-28  115.559998  117.250000  115.389999  116.120003  395700\n",
            "2025-07-29  115.489998  116.209999  114.570000  115.190002  309600\n",
            "2025-07-30  113.910004  116.129997  113.779999  115.099998  522300\n",
            "2025-07-31  119.500000  123.790001  117.589996  123.099998  893600\n",
            "Data successfully saved to 'TFX_historical_data_2025-08-01.csv'\n",
            "------------------------------\n",
            "Attempting to download data for TER from 2024-08-01 to 2025-08-01...\n"
          ]
        },
        {
          "output_type": "stream",
          "name": "stderr",
          "text": [
            "/tmp/ipython-input-2137805434.py:22: FutureWarning: YF.download() has changed argument auto_adjust default to True\n",
            "  stock_data = yf.download(ticker_symbol, start=start_date, end=end_date, progress=False)\n"
          ]
        },
        {
          "output_type": "stream",
          "name": "stdout",
          "text": [
            "Successfully downloaded data for TER.\n",
            "\n",
            "--- Last 5 Days of Data for TER ---\n",
            "Price            Close        High         Low        Open    Volume\n",
            "Ticker             TER         TER         TER         TER       TER\n",
            "Date                                                                \n",
            "2025-07-25   90.150002   91.769997   89.650002   91.400002   3100400\n",
            "2025-07-28   91.139999   92.440002   90.790001   91.580002   3688400\n",
            "2025-07-29   90.550003   92.370003   89.180000   91.610001   6754500\n",
            "2025-07-30  107.650002  110.500000  102.480003  105.730003  19844300\n",
            "2025-07-31  107.430000  113.430000  107.089996  108.500000   9394600\n",
            "Data successfully saved to 'TER_historical_data_2025-08-01.csv'\n",
            "------------------------------\n",
            "Attempting to download data for TXT from 2024-08-01 to 2025-08-01...\n"
          ]
        },
        {
          "output_type": "stream",
          "name": "stderr",
          "text": [
            "/tmp/ipython-input-2137805434.py:22: FutureWarning: YF.download() has changed argument auto_adjust default to True\n",
            "  stock_data = yf.download(ticker_symbol, start=start_date, end=end_date, progress=False)\n"
          ]
        },
        {
          "output_type": "stream",
          "name": "stdout",
          "text": [
            "Successfully downloaded data for TXT.\n",
            "\n",
            "--- Last 5 Days of Data for TXT ---\n",
            "Price           Close       High        Low       Open   Volume\n",
            "Ticker            TXT        TXT        TXT        TXT      TXT\n",
            "Date                                                           \n",
            "2025-07-25  79.500000  80.610001  77.620003  80.449997  4302800\n",
            "2025-07-28  78.559998  80.239998  78.360001  80.019997  2405000\n",
            "2025-07-29  78.139999  79.510002  77.910004  79.360001  2905000\n",
            "2025-07-30  78.050003  78.690002  77.330002  78.489998  2713400\n",
            "2025-07-31  77.769997  78.470001  77.160004  77.709999  1803900\n",
            "Data successfully saved to 'TXT_historical_data_2025-08-01.csv'\n",
            "------------------------------\n",
            "Attempting to download data for TJX from 2024-08-01 to 2025-08-01...\n"
          ]
        },
        {
          "output_type": "stream",
          "name": "stderr",
          "text": [
            "/tmp/ipython-input-2137805434.py:22: FutureWarning: YF.download() has changed argument auto_adjust default to True\n",
            "  stock_data = yf.download(ticker_symbol, start=start_date, end=end_date, progress=False)\n"
          ]
        },
        {
          "output_type": "stream",
          "name": "stdout",
          "text": [
            "Successfully downloaded data for TJX.\n",
            "\n",
            "--- Last 5 Days of Data for TJX ---\n",
            "Price            Close        High         Low        Open   Volume\n",
            "Ticker             TJX         TJX         TJX         TJX      TJX\n",
            "Date                                                               \n",
            "2025-07-25  126.440002  127.019997  125.959999  126.760002  5143200\n",
            "2025-07-28  125.389999  127.129997  124.849998  126.339996  6114400\n",
            "2025-07-29  126.370003  127.000000  125.500000  126.099998  5543300\n",
            "2025-07-30  125.809998  127.080002  125.279999  126.629997  3193300\n",
            "2025-07-31  124.529999  125.769997  124.379997  124.940002  4650700\n",
            "Data successfully saved to 'TJX_historical_data_2025-08-01.csv'\n",
            "------------------------------\n",
            "Attempting to download data for TSCO from 2024-08-01 to 2025-08-01...\n"
          ]
        },
        {
          "output_type": "stream",
          "name": "stderr",
          "text": [
            "/tmp/ipython-input-2137805434.py:22: FutureWarning: YF.download() has changed argument auto_adjust default to True\n",
            "  stock_data = yf.download(ticker_symbol, start=start_date, end=end_date, progress=False)\n"
          ]
        },
        {
          "output_type": "stream",
          "name": "stdout",
          "text": [
            "Successfully downloaded data for TSCO.\n",
            "\n",
            "--- Last 5 Days of Data for TSCO ---\n",
            "Price           Close       High        Low       Open   Volume\n",
            "Ticker           TSCO       TSCO       TSCO       TSCO     TSCO\n",
            "Date                                                           \n",
            "2025-07-25  59.330002  59.820000  58.520000  59.560001  7589200\n",
            "2025-07-28  58.110001  59.250000  57.779999  59.000000  7983200\n",
            "2025-07-29  58.590000  59.189999  57.930000  58.110001  6466900\n",
            "2025-07-30  57.830002  58.740002  57.500000  58.740002  4556400\n",
            "2025-07-31  56.950001  58.169998  56.730000  57.430000  4179200\n",
            "Data successfully saved to 'TSCO_historical_data_2025-08-01.csv'\n",
            "------------------------------\n",
            "Attempting to download data for TT from 2024-08-01 to 2025-08-01...\n"
          ]
        },
        {
          "output_type": "stream",
          "name": "stderr",
          "text": [
            "/tmp/ipython-input-2137805434.py:22: FutureWarning: YF.download() has changed argument auto_adjust default to True\n",
            "  stock_data = yf.download(ticker_symbol, start=start_date, end=end_date, progress=False)\n"
          ]
        },
        {
          "output_type": "stream",
          "name": "stdout",
          "text": [
            "Successfully downloaded data for TT.\n",
            "\n",
            "--- Last 5 Days of Data for TT ---\n",
            "Price            Close        High         Low        Open   Volume\n",
            "Ticker              TT          TT          TT          TT       TT\n",
            "Date                                                               \n",
            "2025-07-25  472.070007  473.130005  463.529999  464.850006  1195000\n",
            "2025-07-28  472.540009  476.190002  469.420013  473.790009  1209800\n",
            "2025-07-29  470.980011  472.529999  463.980011  469.369995  2442200\n",
            "2025-07-30  431.440002  447.269989  424.309998  434.500000  3364200\n",
            "2025-07-31  438.079987  441.290009  431.079987  431.079987  2245200\n",
            "Data successfully saved to 'TT_historical_data_2025-08-01.csv'\n",
            "------------------------------\n",
            "Attempting to download data for TDG from 2024-08-01 to 2025-08-01...\n"
          ]
        },
        {
          "output_type": "stream",
          "name": "stderr",
          "text": [
            "/tmp/ipython-input-2137805434.py:22: FutureWarning: YF.download() has changed argument auto_adjust default to True\n",
            "  stock_data = yf.download(ticker_symbol, start=start_date, end=end_date, progress=False)\n"
          ]
        },
        {
          "output_type": "stream",
          "name": "stdout",
          "text": [
            "Successfully downloaded data for TDG.\n",
            "\n",
            "--- Last 5 Days of Data for TDG ---\n",
            "Price             Close         High          Low         Open  Volume\n",
            "Ticker              TDG          TDG          TDG          TDG     TDG\n",
            "Date                                                                  \n",
            "2025-07-25  1607.449951  1607.939941  1592.180054  1599.930054  201400\n",
            "2025-07-28  1606.390015  1617.449951  1597.329956  1617.449951  119100\n",
            "2025-07-29  1606.689941  1616.810059  1596.280029  1616.810059  169400\n",
            "2025-07-30  1620.829956  1623.829956  1602.229980  1602.229980  159700\n",
            "2025-07-31  1608.459961  1620.579956  1599.030029  1612.810059  199200\n",
            "Data successfully saved to 'TDG_historical_data_2025-08-01.csv'\n",
            "------------------------------\n",
            "Attempting to download data for TRV from 2024-08-01 to 2025-08-01...\n"
          ]
        },
        {
          "output_type": "stream",
          "name": "stderr",
          "text": [
            "/tmp/ipython-input-2137805434.py:22: FutureWarning: YF.download() has changed argument auto_adjust default to True\n",
            "  stock_data = yf.download(ticker_symbol, start=start_date, end=end_date, progress=False)\n"
          ]
        },
        {
          "output_type": "stream",
          "name": "stdout",
          "text": [
            "Successfully downloaded data for TRV.\n",
            "\n",
            "--- Last 5 Days of Data for TRV ---\n",
            "Price            Close        High         Low        Open   Volume\n",
            "Ticker             TRV         TRV         TRV         TRV      TRV\n",
            "Date                                                               \n",
            "2025-07-25  261.049988  264.079987  260.609985  261.510010  1194200\n",
            "2025-07-28  254.910004  260.239990  254.250000  260.000000  1271500\n",
            "2025-07-29  259.820007  260.010010  255.630005  257.190002  1415500\n",
            "2025-07-30  258.920013  261.600006  257.600006  260.640015   867900\n",
            "2025-07-31  260.239990  263.390015  257.929993  257.929993  1744800\n",
            "Data successfully saved to 'TRV_historical_data_2025-08-01.csv'\n",
            "------------------------------\n",
            "Attempting to download data for TRMB from 2024-08-01 to 2025-08-01...\n"
          ]
        },
        {
          "output_type": "stream",
          "name": "stderr",
          "text": [
            "/tmp/ipython-input-2137805434.py:22: FutureWarning: YF.download() has changed argument auto_adjust default to True\n",
            "  stock_data = yf.download(ticker_symbol, start=start_date, end=end_date, progress=False)\n"
          ]
        },
        {
          "output_type": "stream",
          "name": "stdout",
          "text": [
            "Successfully downloaded data for TRMB.\n",
            "\n",
            "--- Last 5 Days of Data for TRMB ---\n",
            "Price           Close       High        Low       Open   Volume\n",
            "Ticker           TRMB       TRMB       TRMB       TRMB     TRMB\n",
            "Date                                                           \n",
            "2025-07-25  85.239998  85.300003  84.070000  84.540001  1873700\n",
            "2025-07-28  85.070000  86.419998  84.650002  85.309998  2783900\n",
            "2025-07-29  84.690002  85.860001  83.750000  85.220001  1905600\n",
            "2025-07-30  85.190002  85.839996  84.370003  84.839996  2541600\n",
            "2025-07-31  83.889999  85.989998  83.629997  85.080002  2034400\n",
            "Data successfully saved to 'TRMB_historical_data_2025-08-01.csv'\n",
            "------------------------------\n",
            "Attempting to download data for TFC from 2024-08-01 to 2025-08-01...\n"
          ]
        },
        {
          "output_type": "stream",
          "name": "stderr",
          "text": [
            "/tmp/ipython-input-2137805434.py:22: FutureWarning: YF.download() has changed argument auto_adjust default to True\n",
            "  stock_data = yf.download(ticker_symbol, start=start_date, end=end_date, progress=False)\n"
          ]
        },
        {
          "output_type": "stream",
          "name": "stdout",
          "text": [
            "Successfully downloaded data for TFC.\n",
            "\n",
            "--- Last 5 Days of Data for TFC ---\n",
            "Price           Close       High        Low       Open   Volume\n",
            "Ticker            TFC        TFC        TFC        TFC      TFC\n",
            "Date                                                           \n",
            "2025-07-25  45.650002  45.700001  44.820000  45.540001  6278600\n",
            "2025-07-28  45.090000  45.700001  44.830002  45.590000  5658500\n",
            "2025-07-29  44.730000  45.349998  44.680000  45.320000  5090200\n",
            "2025-07-30  44.259998  44.959999  43.889999  44.939999  5372500\n",
            "2025-07-31  43.709999  44.290001  43.590000  44.000000  8718100\n",
            "Data successfully saved to 'TFC_historical_data_2025-08-01.csv'\n",
            "------------------------------\n",
            "Attempting to download data for TYL from 2024-08-01 to 2025-08-01...\n",
            "Successfully downloaded data for TYL.\n",
            "\n",
            "--- Last 5 Days of Data for TYL ---\n",
            "Price            Close        High         Low        Open   Volume\n",
            "Ticker             TYL         TYL         TYL         TYL      TYL\n",
            "Date                                                               \n",
            "2025-07-25  556.460022  562.349976  551.390015  559.289978   424900\n",
            "2025-07-28  556.460022  558.549988  552.440002  558.549988   572300\n",
            "2025-07-29  552.500000  560.469971  550.359985  560.469971   363500\n",
            "2025-07-30  554.669983  555.099976  548.369995  552.000000   600500\n",
            "2025-07-31  584.559998  590.000000  559.419983  563.719971  1014600\n",
            "Data successfully saved to 'TYL_historical_data_2025-08-01.csv'\n",
            "------------------------------\n",
            "Attempting to download data for TSN from 2024-08-01 to 2025-08-01...\n"
          ]
        },
        {
          "output_type": "stream",
          "name": "stderr",
          "text": [
            "/tmp/ipython-input-2137805434.py:22: FutureWarning: YF.download() has changed argument auto_adjust default to True\n",
            "  stock_data = yf.download(ticker_symbol, start=start_date, end=end_date, progress=False)\n",
            "/tmp/ipython-input-2137805434.py:22: FutureWarning: YF.download() has changed argument auto_adjust default to True\n",
            "  stock_data = yf.download(ticker_symbol, start=start_date, end=end_date, progress=False)\n"
          ]
        },
        {
          "output_type": "stream",
          "name": "stdout",
          "text": [
            "Successfully downloaded data for TSN.\n",
            "\n",
            "--- Last 5 Days of Data for TSN ---\n",
            "Price           Close       High        Low       Open   Volume\n",
            "Ticker            TSN        TSN        TSN        TSN      TSN\n",
            "Date                                                           \n",
            "2025-07-25  53.939999  54.130001  53.580002  54.000000  1866800\n",
            "2025-07-28  53.450001  53.919998  53.060001  53.630001  2214300\n",
            "2025-07-29  53.650002  54.330002  53.270000  53.470001  2657500\n",
            "2025-07-30  52.919998  53.740002  52.730000  53.490002  2707000\n",
            "2025-07-31  52.299999  52.959999  52.230000  52.720001  2486800\n",
            "Data successfully saved to 'TSN_historical_data_2025-08-01.csv'\n",
            "------------------------------\n",
            "Attempting to download data for USB from 2024-08-01 to 2025-08-01...\n"
          ]
        },
        {
          "output_type": "stream",
          "name": "stderr",
          "text": [
            "/tmp/ipython-input-2137805434.py:22: FutureWarning: YF.download() has changed argument auto_adjust default to True\n",
            "  stock_data = yf.download(ticker_symbol, start=start_date, end=end_date, progress=False)\n"
          ]
        },
        {
          "output_type": "stream",
          "name": "stdout",
          "text": [
            "Successfully downloaded data for USB.\n",
            "\n",
            "--- Last 5 Days of Data for USB ---\n",
            "Price           Close       High        Low       Open    Volume\n",
            "Ticker            USB        USB        USB        USB       USB\n",
            "Date                                                            \n",
            "2025-07-25  46.320000  46.360001  45.509998  46.130001   8082200\n",
            "2025-07-28  46.090000  46.360001  45.840000  46.250000   6597600\n",
            "2025-07-29  46.090000  46.369999  45.939999  46.299999  10034100\n",
            "2025-07-30  45.880001  46.580002  45.650002  46.290001  11488700\n",
            "2025-07-31  44.959999  45.910000  44.830002  45.709999  11814900\n",
            "Data successfully saved to 'USB_historical_data_2025-08-01.csv'\n",
            "------------------------------\n",
            "Attempting to download data for UDR from 2024-08-01 to 2025-08-01...\n"
          ]
        },
        {
          "output_type": "stream",
          "name": "stderr",
          "text": [
            "/tmp/ipython-input-2137805434.py:22: FutureWarning: YF.download() has changed argument auto_adjust default to True\n",
            "  stock_data = yf.download(ticker_symbol, start=start_date, end=end_date, progress=False)\n"
          ]
        },
        {
          "output_type": "stream",
          "name": "stdout",
          "text": [
            "Successfully downloaded data for UDR.\n",
            "\n",
            "--- Last 5 Days of Data for UDR ---\n",
            "Price           Close       High        Low       Open   Volume\n",
            "Ticker            UDR        UDR        UDR        UDR      UDR\n",
            "Date                                                           \n",
            "2025-07-25  40.410000  40.580002  40.200001  40.509998  1398200\n",
            "2025-07-28  39.900002  40.470001  39.860001  40.080002  1566600\n",
            "2025-07-29  40.599998  40.639999  39.869999  40.150002  2292200\n",
            "2025-07-30  39.790001  40.599998  39.150002  40.570000  5785200\n",
            "2025-07-31  39.290001  40.810001  39.029999  40.590000  6238500\n",
            "Data successfully saved to 'UDR_historical_data_2025-08-01.csv'\n",
            "------------------------------\n",
            "Attempting to download data for ULTA from 2024-08-01 to 2025-08-01...\n"
          ]
        },
        {
          "output_type": "stream",
          "name": "stderr",
          "text": [
            "/tmp/ipython-input-2137805434.py:22: FutureWarning: YF.download() has changed argument auto_adjust default to True\n",
            "  stock_data = yf.download(ticker_symbol, start=start_date, end=end_date, progress=False)\n"
          ]
        },
        {
          "output_type": "stream",
          "name": "stdout",
          "text": [
            "Successfully downloaded data for ULTA.\n",
            "\n",
            "--- Last 5 Days of Data for ULTA ---\n",
            "Price            Close        High         Low        Open  Volume\n",
            "Ticker            ULTA        ULTA        ULTA        ULTA    ULTA\n",
            "Date                                                              \n",
            "2025-07-25  514.950012  515.989990  502.000000  508.429993  466100\n",
            "2025-07-28  519.270020  520.869995  513.549988  514.960022  528500\n",
            "2025-07-29  513.630005  521.770020  511.589996  519.630005  579700\n",
            "2025-07-30  517.429993  520.760010  510.010010  514.359985  390400\n",
            "2025-07-31  515.010010  523.679993  513.960022  516.219971  494100\n",
            "Data successfully saved to 'ULTA_historical_data_2025-08-01.csv'\n",
            "------------------------------\n",
            "Attempting to download data for UAA from 2024-08-01 to 2025-08-01...\n"
          ]
        },
        {
          "output_type": "stream",
          "name": "stderr",
          "text": [
            "/tmp/ipython-input-2137805434.py:22: FutureWarning: YF.download() has changed argument auto_adjust default to True\n",
            "  stock_data = yf.download(ticker_symbol, start=start_date, end=end_date, progress=False)\n"
          ]
        },
        {
          "output_type": "stream",
          "name": "stdout",
          "text": [
            "Successfully downloaded data for UAA.\n",
            "\n",
            "--- Last 5 Days of Data for UAA ---\n",
            "Price      Close  High   Low  Open    Volume\n",
            "Ticker       UAA   UAA   UAA   UAA       UAA\n",
            "Date                                        \n",
            "2025-07-25  7.36  7.36  7.04  7.21  10206500\n",
            "2025-07-28  7.16  7.47  7.13  7.47   9198000\n",
            "2025-07-29  6.88  7.16  6.83  7.14   8462600\n",
            "2025-07-30  6.76  6.96  6.68  6.92   6216400\n",
            "2025-07-31  6.64  6.80  6.61  6.70   8122700\n",
            "Data successfully saved to 'UAA_historical_data_2025-08-01.csv'\n",
            "------------------------------\n",
            "Attempting to download data for UNP from 2024-08-01 to 2025-08-01...\n"
          ]
        },
        {
          "output_type": "stream",
          "name": "stderr",
          "text": [
            "/tmp/ipython-input-2137805434.py:22: FutureWarning: YF.download() has changed argument auto_adjust default to True\n",
            "  stock_data = yf.download(ticker_symbol, start=start_date, end=end_date, progress=False)\n"
          ]
        },
        {
          "output_type": "stream",
          "name": "stdout",
          "text": [
            "Successfully downloaded data for UNP.\n",
            "\n",
            "--- Last 5 Days of Data for UNP ---\n",
            "Price            Close        High         Low        Open    Volume\n",
            "Ticker             UNP         UNP         UNP         UNP       UNP\n",
            "Date                                                                \n",
            "2025-07-25  224.740005  226.279999  221.169998  223.080002   8254700\n",
            "2025-07-28  229.240005  230.970001  224.820007  225.220001   6858400\n",
            "2025-07-29  223.770004  230.380005  219.130005  226.389999  19091000\n",
            "2025-07-30  225.279999  226.570007  222.509995  225.850006   8361200\n",
            "2025-07-31  221.970001  223.779999  220.800003  222.479996   5546800\n",
            "Data successfully saved to 'UNP_historical_data_2025-08-01.csv'\n",
            "------------------------------\n",
            "Attempting to download data for UAL from 2024-08-01 to 2025-08-01...\n"
          ]
        },
        {
          "output_type": "stream",
          "name": "stderr",
          "text": [
            "/tmp/ipython-input-2137805434.py:22: FutureWarning: YF.download() has changed argument auto_adjust default to True\n",
            "  stock_data = yf.download(ticker_symbol, start=start_date, end=end_date, progress=False)\n"
          ]
        },
        {
          "output_type": "stream",
          "name": "stdout",
          "text": [
            "Successfully downloaded data for UAL.\n",
            "\n",
            "--- Last 5 Days of Data for UAL ---\n",
            "Price           Close       High        Low       Open   Volume\n",
            "Ticker            UAL        UAL        UAL        UAL      UAL\n",
            "Date                                                           \n",
            "2025-07-25  91.110001  91.589996  89.099998  89.500000  5263300\n",
            "2025-07-28  92.430000  93.080002  90.599998  91.360001  5138600\n",
            "2025-07-29  90.650002  93.440002  90.279999  92.809998  5144600\n",
            "2025-07-30  90.239998  91.379997  89.099998  90.919998  4661800\n",
            "2025-07-31  88.309998  90.930000  88.019997  90.510002  5955500\n",
            "Data successfully saved to 'UAL_historical_data_2025-08-01.csv'\n",
            "------------------------------\n",
            "Attempting to download data for UPS from 2024-08-01 to 2025-08-01...\n"
          ]
        },
        {
          "output_type": "stream",
          "name": "stderr",
          "text": [
            "/tmp/ipython-input-2137805434.py:22: FutureWarning: YF.download() has changed argument auto_adjust default to True\n",
            "  stock_data = yf.download(ticker_symbol, start=start_date, end=end_date, progress=False)\n"
          ]
        },
        {
          "output_type": "stream",
          "name": "stdout",
          "text": [
            "Successfully downloaded data for UPS.\n",
            "\n",
            "--- Last 5 Days of Data for UPS ---\n",
            "Price            Close        High         Low        Open    Volume\n",
            "Ticker             UPS         UPS         UPS         UPS       UPS\n",
            "Date                                                                \n",
            "2025-07-25  103.559998  104.160004  102.279999  102.870003   5473600\n",
            "2025-07-28  101.580002  103.370003  101.279999  103.059998   7045900\n",
            "2025-07-29   90.839996   98.190002   90.720001   98.190002  26112300\n",
            "2025-07-30   87.180000   91.000000   87.010002   90.790001  20976500\n",
            "2025-07-31   86.160004   87.080002   85.760002   86.900002  15761400\n",
            "Data successfully saved to 'UPS_historical_data_2025-08-01.csv'\n",
            "------------------------------\n",
            "Attempting to download data for URI from 2024-08-01 to 2025-08-01...\n"
          ]
        },
        {
          "output_type": "stream",
          "name": "stderr",
          "text": [
            "/tmp/ipython-input-2137805434.py:22: FutureWarning: YF.download() has changed argument auto_adjust default to True\n",
            "  stock_data = yf.download(ticker_symbol, start=start_date, end=end_date, progress=False)\n"
          ]
        },
        {
          "output_type": "stream",
          "name": "stdout",
          "text": [
            "Successfully downloaded data for URI.\n",
            "\n",
            "--- Last 5 Days of Data for URI ---\n",
            "Price            Close        High         Low        Open  Volume\n",
            "Ticker             URI         URI         URI         URI     URI\n",
            "Date                                                              \n",
            "2025-07-25  890.000000  890.000000  862.960022  873.349976  872800\n",
            "2025-07-28  899.460022  903.609985  885.890015  890.000000  806500\n",
            "2025-07-29  882.239990  903.440002  879.200012  903.000000  751700\n",
            "2025-07-30  880.419983  889.840027  873.799988  885.000000  533300\n",
            "2025-07-31  882.940002  886.619995  872.349976  872.659973  450900\n",
            "Data successfully saved to 'URI_historical_data_2025-08-01.csv'\n",
            "------------------------------\n",
            "Attempting to download data for UHS from 2024-08-01 to 2025-08-01...\n"
          ]
        },
        {
          "output_type": "stream",
          "name": "stderr",
          "text": [
            "/tmp/ipython-input-2137805434.py:22: FutureWarning: YF.download() has changed argument auto_adjust default to True\n",
            "  stock_data = yf.download(ticker_symbol, start=start_date, end=end_date, progress=False)\n"
          ]
        },
        {
          "output_type": "stream",
          "name": "stdout",
          "text": [
            "Successfully downloaded data for UHS.\n",
            "\n",
            "--- Last 5 Days of Data for UHS ---\n",
            "Price            Close        High         Low        Open   Volume\n",
            "Ticker             UHS         UHS         UHS         UHS      UHS\n",
            "Date                                                               \n",
            "2025-07-25  155.600006  156.949997  152.960007  154.990005  1187500\n",
            "2025-07-28  154.949997  158.360001  154.100006  156.289993  1478100\n",
            "2025-07-29  162.820007  163.529999  152.330002  153.789993  1917800\n",
            "2025-07-30  165.440002  166.500000  161.179993  162.110001  1797500\n",
            "2025-07-31  166.449997  169.649994  164.619995  166.199997  1529200\n",
            "Data successfully saved to 'UHS_historical_data_2025-08-01.csv'\n",
            "------------------------------\n",
            "Attempting to download data for VLO from 2024-08-01 to 2025-08-01...\n"
          ]
        },
        {
          "output_type": "stream",
          "name": "stderr",
          "text": [
            "/tmp/ipython-input-2137805434.py:22: FutureWarning: YF.download() has changed argument auto_adjust default to True\n",
            "  stock_data = yf.download(ticker_symbol, start=start_date, end=end_date, progress=False)\n"
          ]
        },
        {
          "output_type": "stream",
          "name": "stdout",
          "text": [
            "Successfully downloaded data for VLO.\n",
            "\n",
            "--- Last 5 Days of Data for VLO ---\n",
            "Price            Close        High         Low        Open   Volume\n",
            "Ticker             VLO         VLO         VLO         VLO      VLO\n",
            "Date                                                               \n",
            "2025-07-25  140.818924  142.128214  138.944248  140.729657  2792200\n",
            "2025-07-28  143.576385  143.794603  141.572759  141.711623  2205700\n",
            "2025-07-29  143.556534  144.151675  140.382482  143.764838  3245700\n",
            "2025-07-30  138.239990  142.415862  136.950543  141.751297  4629600\n",
            "2025-07-31  137.309998  138.720001  136.479996  137.309998  3565500\n",
            "Data successfully saved to 'VLO_historical_data_2025-08-01.csv'\n",
            "------------------------------\n",
            "Attempting to download data for VTR from 2024-08-01 to 2025-08-01...\n"
          ]
        },
        {
          "output_type": "stream",
          "name": "stderr",
          "text": [
            "/tmp/ipython-input-2137805434.py:22: FutureWarning: YF.download() has changed argument auto_adjust default to True\n",
            "  stock_data = yf.download(ticker_symbol, start=start_date, end=end_date, progress=False)\n"
          ]
        },
        {
          "output_type": "stream",
          "name": "stdout",
          "text": [
            "Successfully downloaded data for VTR.\n",
            "\n",
            "--- Last 5 Days of Data for VTR ---\n",
            "Price           Close       High        Low       Open   Volume\n",
            "Ticker            VTR        VTR        VTR        VTR      VTR\n",
            "Date                                                           \n",
            "2025-07-25  66.459999  67.459999  66.169998  67.320000  1928900\n",
            "2025-07-28  65.230003  66.480003  65.150002  66.290001  2032400\n",
            "2025-07-29  66.830002  67.019997  65.599998  65.800003  2898400\n",
            "2025-07-30  66.480003  67.629997  66.120003  67.010002  3555600\n",
            "2025-07-31  67.180000  68.470001  65.820000  65.820000  4480900\n",
            "Data successfully saved to 'VTR_historical_data_2025-08-01.csv'\n",
            "------------------------------\n",
            "Attempting to download data for VRSN from 2024-08-01 to 2025-08-01...\n"
          ]
        },
        {
          "output_type": "stream",
          "name": "stderr",
          "text": [
            "/tmp/ipython-input-2137805434.py:22: FutureWarning: YF.download() has changed argument auto_adjust default to True\n",
            "  stock_data = yf.download(ticker_symbol, start=start_date, end=end_date, progress=False)\n"
          ]
        },
        {
          "output_type": "stream",
          "name": "stdout",
          "text": [
            "Successfully downloaded data for VRSN.\n",
            "\n",
            "--- Last 5 Days of Data for VRSN ---\n",
            "Price            Close        High         Low        Open   Volume\n",
            "Ticker            VRSN        VRSN        VRSN        VRSN     VRSN\n",
            "Date                                                               \n",
            "2025-07-25  305.790009  308.000000  288.119995  295.000000  1260100\n",
            "2025-07-28  305.980011  310.600006  304.839996  305.000000   487200\n",
            "2025-07-29  277.470001  288.000000  273.260010  288.000000  3755700\n",
            "2025-07-30  266.980011  277.250000  263.940002  277.040009  3035600\n",
            "2025-07-31  268.869995  269.119995  264.709991  267.739990  2233100\n",
            "Data successfully saved to 'VRSN_historical_data_2025-08-01.csv'\n",
            "------------------------------\n",
            "Attempting to download data for VRSK from 2024-08-01 to 2025-08-01...\n",
            "Successfully downloaded data for VRSK.\n",
            "\n",
            "--- Last 5 Days of Data for VRSK ---\n",
            "Price            Close        High         Low        Open   Volume\n",
            "Ticker            VRSK        VRSK        VRSK        VRSK     VRSK\n",
            "Date                                                               \n",
            "2025-07-25  297.959991  299.760010  295.920013  297.000000   612400\n",
            "2025-07-28  294.429993  297.589996  294.079987  296.619995   635500\n",
            "2025-07-29  294.049988  295.570007  292.500000  295.500000  1066400\n",
            "2025-07-30  275.470001  300.940002  274.329987  295.790009  2417200\n",
            "2025-07-31  278.709991  279.540009  270.359985  271.260010  2403200\n",
            "Data successfully saved to 'VRSK_historical_data_2025-08-01.csv'\n",
            "------------------------------\n",
            "Attempting to download data for VZ from 2024-08-01 to 2025-08-01...\n"
          ]
        },
        {
          "output_type": "stream",
          "name": "stderr",
          "text": [
            "/tmp/ipython-input-2137805434.py:22: FutureWarning: YF.download() has changed argument auto_adjust default to True\n",
            "  stock_data = yf.download(ticker_symbol, start=start_date, end=end_date, progress=False)\n",
            "/tmp/ipython-input-2137805434.py:22: FutureWarning: YF.download() has changed argument auto_adjust default to True\n",
            "  stock_data = yf.download(ticker_symbol, start=start_date, end=end_date, progress=False)\n"
          ]
        },
        {
          "output_type": "stream",
          "name": "stdout",
          "text": [
            "Successfully downloaded data for VZ.\n",
            "\n",
            "--- Last 5 Days of Data for VZ ---\n",
            "Price           Close       High        Low       Open    Volume\n",
            "Ticker             VZ         VZ         VZ         VZ        VZ\n",
            "Date                                                            \n",
            "2025-07-25  43.080002  43.209999  42.750000  43.020000  16571500\n",
            "2025-07-28  42.360001  43.020000  42.240002  43.020000  18243700\n",
            "2025-07-29  42.709999  42.980000  42.400002  42.419998  13118500\n",
            "2025-07-30  42.599998  42.889999  42.450001  42.669998  13313300\n",
            "2025-07-31  42.759998  43.110001  42.150002  42.290001  25521400\n",
            "Data successfully saved to 'VZ_historical_data_2025-08-01.csv'\n",
            "------------------------------\n",
            "Attempting to download data for VTRS from 2024-08-01 to 2025-08-01...\n"
          ]
        },
        {
          "output_type": "stream",
          "name": "stderr",
          "text": [
            "/tmp/ipython-input-2137805434.py:22: FutureWarning: YF.download() has changed argument auto_adjust default to True\n",
            "  stock_data = yf.download(ticker_symbol, start=start_date, end=end_date, progress=False)\n"
          ]
        },
        {
          "output_type": "stream",
          "name": "stdout",
          "text": [
            "Successfully downloaded data for VTRS.\n",
            "\n",
            "--- Last 5 Days of Data for VTRS ---\n",
            "Price      Close  High   Low  Open    Volume\n",
            "Ticker      VTRS  VTRS  VTRS  VTRS      VTRS\n",
            "Date                                        \n",
            "2025-07-25  9.41  9.42  9.29  9.38   5031200\n",
            "2025-07-28  9.26  9.38  9.22  9.38   5844900\n",
            "2025-07-29  9.19  9.24  9.13  9.24   7071900\n",
            "2025-07-30  9.00  9.27  8.97  9.23   5445600\n",
            "2025-07-31  8.74  9.02  8.68  8.97  10564800\n",
            "Data successfully saved to 'VTRS_historical_data_2025-08-01.csv'\n",
            "------------------------------\n",
            "Attempting to download data for VICI from 2024-08-01 to 2025-08-01...\n",
            "Successfully downloaded data for VICI.\n",
            "\n",
            "--- Last 5 Days of Data for VICI ---\n",
            "Price           Close       High        Low       Open   Volume\n",
            "Ticker           VICI       VICI       VICI       VICI     VICI\n",
            "Date                                                           \n",
            "2025-07-25  33.380001  33.500000  32.849998  33.410000  5276400\n",
            "2025-07-28  32.490002  33.430000  32.485001  33.290001  6285900\n",
            "2025-07-29  32.869999  32.919998  32.509998  32.599998  5425100\n",
            "2025-07-30  32.529999  33.160000  32.419998  32.869999  5558200\n",
            "2025-07-31  32.599998  33.049999  32.439999  32.869999  8836900\n",
            "Data successfully saved to 'VICI_historical_data_2025-08-01.csv'\n",
            "------------------------------\n",
            "Attempting to download data for VNO from 2024-08-01 to 2025-08-01...\n"
          ]
        },
        {
          "output_type": "stream",
          "name": "stderr",
          "text": [
            "/tmp/ipython-input-2137805434.py:22: FutureWarning: YF.download() has changed argument auto_adjust default to True\n",
            "  stock_data = yf.download(ticker_symbol, start=start_date, end=end_date, progress=False)\n",
            "/tmp/ipython-input-2137805434.py:22: FutureWarning: YF.download() has changed argument auto_adjust default to True\n",
            "  stock_data = yf.download(ticker_symbol, start=start_date, end=end_date, progress=False)\n"
          ]
        },
        {
          "output_type": "stream",
          "name": "stdout",
          "text": [
            "Successfully downloaded data for VNO.\n",
            "\n",
            "--- Last 5 Days of Data for VNO ---\n",
            "Price           Close       High        Low       Open   Volume\n",
            "Ticker            VNO        VNO        VNO        VNO      VNO\n",
            "Date                                                           \n",
            "2025-07-25  39.930000  39.970001  39.320000  39.910000   854000\n",
            "2025-07-28  38.939999  40.000000  38.919998  40.000000  1088500\n",
            "2025-07-29  39.650002  39.919998  38.980000  39.299999  1459200\n",
            "2025-07-30  38.590000  39.840000  38.209999  39.840000  1623100\n",
            "2025-07-31  38.419998  38.919998  38.230000  38.369999  1494900\n",
            "Data successfully saved to 'VNO_historical_data_2025-08-01.csv'\n",
            "------------------------------\n",
            "Attempting to download data for VMC from 2024-08-01 to 2025-08-01...\n"
          ]
        },
        {
          "output_type": "stream",
          "name": "stderr",
          "text": [
            "/tmp/ipython-input-2137805434.py:22: FutureWarning: YF.download() has changed argument auto_adjust default to True\n",
            "  stock_data = yf.download(ticker_symbol, start=start_date, end=end_date, progress=False)\n"
          ]
        },
        {
          "output_type": "stream",
          "name": "stdout",
          "text": [
            "Successfully downloaded data for VMC.\n",
            "\n",
            "--- Last 5 Days of Data for VMC ---\n",
            "Price            Close        High         Low        Open   Volume\n",
            "Ticker             VMC         VMC         VMC         VMC      VMC\n",
            "Date                                                               \n",
            "2025-07-25  274.829987  275.170013  271.010010  271.660004   579700\n",
            "2025-07-28  270.109985  276.399994  268.670013  274.000000  1021600\n",
            "2025-07-29  273.920013  274.329987  270.459991  272.269989   985600\n",
            "2025-07-30  272.769989  275.940002  271.329987  274.790009  1416000\n",
            "2025-07-31  274.670013  276.089996  263.170013  266.000000  2372300\n",
            "Data successfully saved to 'VMC_historical_data_2025-08-01.csv'\n",
            "------------------------------\n",
            "Attempting to download data for WBA from 2024-08-01 to 2025-08-01...\n"
          ]
        },
        {
          "output_type": "stream",
          "name": "stderr",
          "text": [
            "/tmp/ipython-input-2137805434.py:22: FutureWarning: YF.download() has changed argument auto_adjust default to True\n",
            "  stock_data = yf.download(ticker_symbol, start=start_date, end=end_date, progress=False)\n"
          ]
        },
        {
          "output_type": "stream",
          "name": "stdout",
          "text": [
            "Successfully downloaded data for WBA.\n",
            "\n",
            "--- Last 5 Days of Data for WBA ---\n",
            "Price       Close   High    Low   Open   Volume\n",
            "Ticker        WBA    WBA    WBA    WBA      WBA\n",
            "Date                                           \n",
            "2025-07-25  11.61  11.64  11.58  11.58  4789500\n",
            "2025-07-28  11.63  11.63  11.59  11.60  7194000\n",
            "2025-07-29  11.62  11.64  11.62  11.64  4838300\n",
            "2025-07-30  11.63  11.66  11.62  11.63  7425800\n",
            "2025-07-31  11.64  11.66  11.62  11.63  5005300\n",
            "Data successfully saved to 'WBA_historical_data_2025-08-01.csv'\n",
            "------------------------------\n",
            "Attempting to download data for WM from 2024-08-01 to 2025-08-01...\n"
          ]
        },
        {
          "output_type": "stream",
          "name": "stderr",
          "text": [
            "/tmp/ipython-input-2137805434.py:22: FutureWarning: YF.download() has changed argument auto_adjust default to True\n",
            "  stock_data = yf.download(ticker_symbol, start=start_date, end=end_date, progress=False)\n"
          ]
        },
        {
          "output_type": "stream",
          "name": "stdout",
          "text": [
            "Successfully downloaded data for WM.\n",
            "\n",
            "--- Last 5 Days of Data for WM ---\n",
            "Price            Close        High         Low        Open   Volume\n",
            "Ticker              WM          WM          WM          WM       WM\n",
            "Date                                                               \n",
            "2025-07-25  229.669998  231.679993  228.940002  230.820007  1126300\n",
            "2025-07-28  227.899994  229.960007  227.199997  229.000000  1722800\n",
            "2025-07-29  235.559998  240.389999  229.520004  229.520004  3653600\n",
            "2025-07-30  232.509995  237.000000  232.300003  235.000000  2138700\n",
            "2025-07-31  229.160004  233.199997  228.589996  232.470001  1798400\n",
            "Data successfully saved to 'WM_historical_data_2025-08-01.csv'\n",
            "------------------------------\n",
            "Attempting to download data for WAT from 2024-08-01 to 2025-08-01...\n"
          ]
        },
        {
          "output_type": "stream",
          "name": "stderr",
          "text": [
            "/tmp/ipython-input-2137805434.py:22: FutureWarning: YF.download() has changed argument auto_adjust default to True\n",
            "  stock_data = yf.download(ticker_symbol, start=start_date, end=end_date, progress=False)\n"
          ]
        },
        {
          "output_type": "stream",
          "name": "stdout",
          "text": [
            "Successfully downloaded data for WAT.\n",
            "\n",
            "--- Last 5 Days of Data for WAT ---\n",
            "Price            Close        High         Low        Open   Volume\n",
            "Ticker             WAT         WAT         WAT         WAT      WAT\n",
            "Date                                                               \n",
            "2025-07-25  302.950012  304.440002  295.089996  297.589996  1039100\n",
            "2025-07-28  302.359985  305.869995  299.480011  300.109985   788000\n",
            "2025-07-29  303.190002  304.989990  299.899994  302.529999   823800\n",
            "2025-07-30  299.070007  305.750000  297.380005  304.149994  1099300\n",
            "2025-07-31  288.760010  300.760010  287.850006  295.010010  1374300\n",
            "Data successfully saved to 'WAT_historical_data_2025-08-01.csv'\n",
            "------------------------------\n",
            "Attempting to download data for WEC from 2024-08-01 to 2025-08-01...\n"
          ]
        },
        {
          "output_type": "stream",
          "name": "stderr",
          "text": [
            "/tmp/ipython-input-2137805434.py:22: FutureWarning: YF.download() has changed argument auto_adjust default to True\n",
            "  stock_data = yf.download(ticker_symbol, start=start_date, end=end_date, progress=False)\n"
          ]
        },
        {
          "output_type": "stream",
          "name": "stdout",
          "text": [
            "Successfully downloaded data for WEC.\n",
            "\n",
            "--- Last 5 Days of Data for WEC ---\n",
            "Price            Close        High         Low        Open   Volume\n",
            "Ticker             WEC         WEC         WEC         WEC      WEC\n",
            "Date                                                               \n",
            "2025-07-25  109.519997  109.730003  109.070000  109.269997  1320700\n",
            "2025-07-28  107.500000  109.290001  107.410004  109.290001  1555100\n",
            "2025-07-29  108.629997  108.660004  107.389999  107.949997  2094000\n",
            "2025-07-30  108.360001  110.080002  107.970001  108.550003  3216700\n",
            "2025-07-31  109.080002  109.339996  107.919998  107.919998  3314900\n",
            "Data successfully saved to 'WEC_historical_data_2025-08-01.csv'\n",
            "------------------------------\n",
            "Attempting to download data for WELL from 2024-08-01 to 2025-08-01...\n"
          ]
        },
        {
          "output_type": "stream",
          "name": "stderr",
          "text": [
            "/tmp/ipython-input-2137805434.py:22: FutureWarning: YF.download() has changed argument auto_adjust default to True\n",
            "  stock_data = yf.download(ticker_symbol, start=start_date, end=end_date, progress=False)\n"
          ]
        },
        {
          "output_type": "stream",
          "name": "stdout",
          "text": [
            "Successfully downloaded data for WELL.\n",
            "\n",
            "--- Last 5 Days of Data for WELL ---\n",
            "Price            Close        High         Low        Open   Volume\n",
            "Ticker            WELL        WELL        WELL        WELL     WELL\n",
            "Date                                                               \n",
            "2025-07-25  161.559998  162.259995  160.199997  161.190002  1588000\n",
            "2025-07-28  158.289993  161.289993  158.240005  161.199997  2178500\n",
            "2025-07-29  165.960007  167.199997  160.509995  162.479996  5266900\n",
            "2025-07-30  166.380005  168.839996  165.559998  165.929993  2461700\n",
            "2025-07-31  165.070007  167.320007  164.880005  165.809998  2908400\n",
            "Data successfully saved to 'WELL_historical_data_2025-08-01.csv'\n",
            "------------------------------\n",
            "Attempting to download data for WST from 2024-08-01 to 2025-08-01...\n"
          ]
        },
        {
          "output_type": "stream",
          "name": "stderr",
          "text": [
            "/tmp/ipython-input-2137805434.py:22: FutureWarning: YF.download() has changed argument auto_adjust default to True\n",
            "  stock_data = yf.download(ticker_symbol, start=start_date, end=end_date, progress=False)\n"
          ]
        },
        {
          "output_type": "stream",
          "name": "stdout",
          "text": [
            "Successfully downloaded data for WST.\n",
            "\n",
            "--- Last 5 Days of Data for WST ---\n",
            "Price            Close        High         Low        Open   Volume\n",
            "Ticker             WST         WST         WST         WST      WST\n",
            "Date                                                               \n",
            "2025-07-25  263.291229  279.397841  260.783303  278.868282  1493200\n",
            "2025-07-28  257.546021  262.112203  256.456929  260.813295  1333000\n",
            "2025-07-29  252.729996  257.935662  251.261215  256.017273   953300\n",
            "2025-07-30  249.210007  254.039993  248.100006  253.070007   648600\n",
            "2025-07-31  239.259995  247.399994  237.660004  246.470001   985700\n",
            "Data successfully saved to 'WST_historical_data_2025-08-01.csv'\n",
            "------------------------------\n",
            "Attempting to download data for WDC from 2024-08-01 to 2025-08-01...\n"
          ]
        },
        {
          "output_type": "stream",
          "name": "stderr",
          "text": [
            "/tmp/ipython-input-2137805434.py:22: FutureWarning: YF.download() has changed argument auto_adjust default to True\n",
            "  stock_data = yf.download(ticker_symbol, start=start_date, end=end_date, progress=False)\n"
          ]
        },
        {
          "output_type": "stream",
          "name": "stdout",
          "text": [
            "Successfully downloaded data for WDC.\n",
            "\n",
            "--- Last 5 Days of Data for WDC ---\n",
            "Price           Close       High        Low       Open    Volume\n",
            "Ticker            WDC        WDC        WDC        WDC       WDC\n",
            "Date                                                            \n",
            "2025-07-25  68.820000  69.720001  66.510002  69.250000   7880400\n",
            "2025-07-28  68.989998  69.620003  68.669998  69.400002   4508800\n",
            "2025-07-29  70.610001  71.309998  69.410004  69.449997   8861400\n",
            "2025-07-30  71.430000  71.809998  69.300003  69.449997  13984000\n",
            "2025-07-31  78.690002  78.800003  73.250000  74.250000  24009500\n",
            "Data successfully saved to 'WDC_historical_data_2025-08-01.csv'\n",
            "------------------------------\n",
            "Attempting to download data for WRK from 2024-08-01 to 2025-08-01...\n"
          ]
        },
        {
          "output_type": "stream",
          "name": "stderr",
          "text": [
            "/tmp/ipython-input-2137805434.py:22: FutureWarning: YF.download() has changed argument auto_adjust default to True\n",
            "  stock_data = yf.download(ticker_symbol, start=start_date, end=end_date, progress=False)\n",
            "ERROR:yfinance:\n",
            "1 Failed download:\n",
            "ERROR:yfinance:['WRK']: YFTzMissingError('possibly delisted; no timezone found')\n",
            "/tmp/ipython-input-2137805434.py:22: FutureWarning: YF.download() has changed argument auto_adjust default to True\n",
            "  stock_data = yf.download(ticker_symbol, start=start_date, end=end_date, progress=False)\n"
          ]
        },
        {
          "output_type": "stream",
          "name": "stdout",
          "text": [
            "No data found for ticker 'WRK'. It might be an invalid ticker or delisted.\n",
            "------------------------------\n",
            "Attempting to download data for WY from 2024-08-01 to 2025-08-01...\n",
            "Successfully downloaded data for WY.\n",
            "\n",
            "--- Last 5 Days of Data for WY ---\n",
            "Price           Close       High        Low       Open   Volume\n",
            "Ticker             WY         WY         WY         WY       WY\n",
            "Date                                                           \n",
            "2025-07-25  26.469999  26.629999  25.350000  25.570000  8976900\n",
            "2025-07-28  25.879999  26.420000  25.840000  26.230000  4402000\n",
            "2025-07-29  25.940001  26.160000  25.719999  25.850000  3968200\n",
            "2025-07-30  25.540001  26.350000  25.400000  25.959999  3961900\n",
            "2025-07-31  25.049999  25.559999  25.020000  25.350000  5650600\n",
            "Data successfully saved to 'WY_historical_data_2025-08-01.csv'\n",
            "------------------------------\n",
            "Attempting to download data for WHR from 2024-08-01 to 2025-08-01...\n"
          ]
        },
        {
          "output_type": "stream",
          "name": "stderr",
          "text": [
            "/tmp/ipython-input-2137805434.py:22: FutureWarning: YF.download() has changed argument auto_adjust default to True\n",
            "  stock_data = yf.download(ticker_symbol, start=start_date, end=end_date, progress=False)\n"
          ]
        },
        {
          "output_type": "stream",
          "name": "stdout",
          "text": [
            "Successfully downloaded data for WHR.\n",
            "\n",
            "--- Last 5 Days of Data for WHR ---\n",
            "Price           Close        High        Low        Open    Volume\n",
            "Ticker            WHR         WHR        WHR         WHR       WHR\n",
            "Date                                                              \n",
            "2025-07-25  99.739998  100.000000  97.349998  100.000000    797800\n",
            "2025-07-28  97.910004  100.489998  96.809998  100.000000   3809700\n",
            "2025-07-29  84.760002   90.550003  84.010002   85.510002  14680200\n",
            "2025-07-30  83.739998   85.160004  83.000000   84.410004   4132200\n",
            "2025-07-31  83.040001   84.419998  82.500000   82.930000   2401200\n",
            "Data successfully saved to 'WHR_historical_data_2025-08-01.csv'\n",
            "------------------------------\n",
            "Attempting to download data for WMB from 2024-08-01 to 2025-08-01...\n"
          ]
        },
        {
          "output_type": "stream",
          "name": "stderr",
          "text": [
            "/tmp/ipython-input-2137805434.py:22: FutureWarning: YF.download() has changed argument auto_adjust default to True\n",
            "  stock_data = yf.download(ticker_symbol, start=start_date, end=end_date, progress=False)\n"
          ]
        },
        {
          "output_type": "stream",
          "name": "stdout",
          "text": [
            "Successfully downloaded data for WMB.\n",
            "\n",
            "--- Last 5 Days of Data for WMB ---\n",
            "Price           Close       High        Low       Open   Volume\n",
            "Ticker            WMB        WMB        WMB        WMB      WMB\n",
            "Date                                                           \n",
            "2025-07-25  57.820000  58.660000  57.720001  58.660000  4957500\n",
            "2025-07-28  57.509998  58.230000  57.230000  58.139999  5337400\n",
            "2025-07-29  58.889999  59.029999  57.770000  58.090000  5768100\n",
            "2025-07-30  59.240002  59.340000  58.599998  58.740002  4467900\n",
            "2025-07-31  59.950001  60.669998  59.000000  59.169998  9593200\n",
            "Data successfully saved to 'WMB_historical_data_2025-08-01.csv'\n",
            "------------------------------\n",
            "Attempting to download data for WTW from 2024-08-01 to 2025-08-01...\n"
          ]
        },
        {
          "output_type": "stream",
          "name": "stderr",
          "text": [
            "/tmp/ipython-input-2137805434.py:22: FutureWarning: YF.download() has changed argument auto_adjust default to True\n",
            "  stock_data = yf.download(ticker_symbol, start=start_date, end=end_date, progress=False)\n"
          ]
        },
        {
          "output_type": "stream",
          "name": "stdout",
          "text": [
            "Successfully downloaded data for WTW.\n",
            "\n",
            "--- Last 5 Days of Data for WTW ---\n",
            "Price            Close        High         Low        Open   Volume\n",
            "Ticker             WTW         WTW         WTW         WTW      WTW\n",
            "Date                                                               \n",
            "2025-07-25  313.109985  314.450012  309.910004  309.910004   445700\n",
            "2025-07-28  309.350006  312.519989  308.839996  311.959991   614200\n",
            "2025-07-29  302.299988  310.250000  298.429993  310.250000   967600\n",
            "2025-07-30  301.829987  304.290009  300.179993  302.799988   709100\n",
            "2025-07-31  315.809998  320.179993  302.000000  307.559998  1042400\n",
            "Data successfully saved to 'WTW_historical_data_2025-08-01.csv'\n",
            "------------------------------\n",
            "Attempting to download data for WRB from 2024-08-01 to 2025-08-01...\n"
          ]
        },
        {
          "output_type": "stream",
          "name": "stderr",
          "text": [
            "/tmp/ipython-input-2137805434.py:22: FutureWarning: YF.download() has changed argument auto_adjust default to True\n",
            "  stock_data = yf.download(ticker_symbol, start=start_date, end=end_date, progress=False)\n"
          ]
        },
        {
          "output_type": "stream",
          "name": "stdout",
          "text": [
            "Successfully downloaded data for WRB.\n",
            "\n",
            "--- Last 5 Days of Data for WRB ---\n",
            "Price           Close       High        Low       Open   Volume\n",
            "Ticker            WRB        WRB        WRB        WRB      WRB\n",
            "Date                                                           \n",
            "2025-07-25  68.989998  69.169998  68.419998  68.459999  1370200\n",
            "2025-07-28  68.000000  68.870003  67.809998  68.820000  2013400\n",
            "2025-07-29  68.629997  68.889999  67.900002  68.470001  1916500\n",
            "2025-07-30  68.910004  69.419998  68.610001  68.830002  1908300\n",
            "2025-07-31  68.809998  69.849998  68.730003  68.980003  2315300\n",
            "Data successfully saved to 'WRB_historical_data_2025-08-01.csv'\n",
            "------------------------------\n",
            "Attempting to download data for XEL from 2024-08-01 to 2025-08-01...\n"
          ]
        },
        {
          "output_type": "stream",
          "name": "stderr",
          "text": [
            "/tmp/ipython-input-2137805434.py:22: FutureWarning: YF.download() has changed argument auto_adjust default to True\n",
            "  stock_data = yf.download(ticker_symbol, start=start_date, end=end_date, progress=False)\n"
          ]
        },
        {
          "output_type": "stream",
          "name": "stdout",
          "text": [
            "Successfully downloaded data for XEL.\n",
            "\n",
            "--- Last 5 Days of Data for XEL ---\n",
            "Price           Close       High        Low       Open   Volume\n",
            "Ticker            XEL        XEL        XEL        XEL      XEL\n",
            "Date                                                           \n",
            "2025-07-25  72.660004  73.059998  72.449997  72.900002  2760100\n",
            "2025-07-28  71.139999  72.779999  71.010002  72.120003  3396500\n",
            "2025-07-29  72.339996  72.370003  71.059998  71.459999  3163700\n",
            "2025-07-30  72.389999  73.239998  72.209999  72.339996  4844900\n",
            "2025-07-31  73.440002  73.870003  72.669998  72.900002  4367500\n",
            "Data successfully saved to 'XEL_historical_data_2025-08-01.csv'\n",
            "------------------------------\n",
            "Attempting to download data for YUM from 2024-08-01 to 2025-08-01...\n"
          ]
        },
        {
          "output_type": "stream",
          "name": "stderr",
          "text": [
            "/tmp/ipython-input-2137805434.py:22: FutureWarning: YF.download() has changed argument auto_adjust default to True\n",
            "  stock_data = yf.download(ticker_symbol, start=start_date, end=end_date, progress=False)\n"
          ]
        },
        {
          "output_type": "stream",
          "name": "stdout",
          "text": [
            "Successfully downloaded data for YUM.\n",
            "\n",
            "--- Last 5 Days of Data for YUM ---\n",
            "Price            Close        High         Low        Open   Volume\n",
            "Ticker             YUM         YUM         YUM         YUM      YUM\n",
            "Date                                                               \n",
            "2025-07-25  146.699997  147.070007  145.089996  145.889999  1152500\n",
            "2025-07-28  144.289993  146.589996  144.259995  145.839996  1658200\n",
            "2025-07-29  145.179993  145.229996  143.490005  144.509995  2472600\n",
            "2025-07-30  146.990005  147.320007  145.160004  145.559998  1643800\n",
            "2025-07-31  144.149994  147.369995  144.110001  145.979996  2653500\n",
            "Data successfully saved to 'YUM_historical_data_2025-08-01.csv'\n",
            "------------------------------\n",
            "Attempting to download data for ZBRA from 2024-08-01 to 2025-08-01...\n",
            "Successfully downloaded data for ZBRA.\n",
            "\n",
            "--- Last 5 Days of Data for ZBRA ---\n",
            "Price            Close        High         Low        Open   Volume\n",
            "Ticker            ZBRA        ZBRA        ZBRA        ZBRA     ZBRA\n",
            "Date                                                               \n",
            "2025-07-25  335.690002  336.149994  329.399994  334.160004   298300\n",
            "2025-07-28  334.690002  337.799988  334.369995  337.799988   303200\n",
            "2025-07-29  331.600006  338.200012  330.679993  337.260010   236900\n",
            "2025-07-30  332.390015  337.709991  329.829987  333.619995   368000\n",
            "2025-07-31  339.019989  352.660004  329.209991  334.440002  1351200\n",
            "Data successfully saved to 'ZBRA_historical_data_2025-08-01.csv'\n",
            "------------------------------\n",
            "Attempting to download data for ZION from 2024-08-01 to 2025-08-01...\n"
          ]
        },
        {
          "output_type": "stream",
          "name": "stderr",
          "text": [
            "/tmp/ipython-input-2137805434.py:22: FutureWarning: YF.download() has changed argument auto_adjust default to True\n",
            "  stock_data = yf.download(ticker_symbol, start=start_date, end=end_date, progress=False)\n",
            "/tmp/ipython-input-2137805434.py:22: FutureWarning: YF.download() has changed argument auto_adjust default to True\n",
            "  stock_data = yf.download(ticker_symbol, start=start_date, end=end_date, progress=False)\n"
          ]
        },
        {
          "output_type": "stream",
          "name": "stdout",
          "text": [
            "Successfully downloaded data for ZION.\n",
            "\n",
            "--- Last 5 Days of Data for ZION ---\n",
            "Price           Close       High        Low       Open   Volume\n",
            "Ticker           ZION       ZION       ZION       ZION     ZION\n",
            "Date                                                           \n",
            "2025-07-25  55.380001  55.590000  54.320000  55.119999  1806900\n",
            "2025-07-28  55.360001  55.680000  54.889999  55.529999  1020400\n",
            "2025-07-29  54.770000  55.720001  54.549999  55.630001   942000\n",
            "2025-07-30  54.209999  55.380001  53.959999  55.040001  1276000\n",
            "2025-07-31  53.619999  54.509998  53.520000  53.959999  1357500\n",
            "Data successfully saved to 'ZION_historical_data_2025-08-01.csv'\n",
            "------------------------------\n",
            "Attempting to download data for ZTS from 2024-08-01 to 2025-08-01...\n",
            "Successfully downloaded data for ZTS.\n",
            "\n",
            "--- Last 5 Days of Data for ZTS ---\n",
            "Price            Close        High         Low        Open   Volume\n",
            "Ticker             ZTS         ZTS         ZTS         ZTS      ZTS\n",
            "Date                                                               \n",
            "2025-07-25  152.119995  153.369995  151.229996  152.300003  3327400\n",
            "2025-07-28  150.750000  152.470001  150.339996  152.270004  2261100\n",
            "2025-07-29  151.009995  151.039993  148.539993  150.020004  3366900\n",
            "2025-07-30  148.809998  152.300003  148.630005  151.350006  3036300\n",
            "2025-07-31  145.789993  148.779999  145.309998  148.000000  4855300\n",
            "Data successfully saved to 'ZTS_historical_data_2025-08-01.csv'\n",
            "------------------------------\n"
          ]
        },
        {
          "output_type": "stream",
          "name": "stderr",
          "text": [
            "/tmp/ipython-input-2137805434.py:22: FutureWarning: YF.download() has changed argument auto_adjust default to True\n",
            "  stock_data = yf.download(ticker_symbol, start=start_date, end=end_date, progress=False)\n"
          ]
        }
      ],
      "execution_count": 5,
      "metadata": {
        "colab": {
          "base_uri": "https://localhost:8080/"
        },
        "id": "-PnLEHSc8pvu",
        "outputId": "0084e99a-61ed-43f1-9c49-e170767891d8"
      }
    },
    {
      "cell_type": "code",
      "source": [
        "from google.colab import drive\n",
        "drive.mount('/content/drive')"
      ],
      "metadata": {
        "id": "ESzVs7KTBMky"
      },
      "execution_count": null,
      "outputs": []
    }
  ],
  "metadata": {
    "colab": {
      "provenance": [],
      "include_colab_link": true
    },
    "kernelspec": {
      "display_name": "Python 3",
      "name": "python3"
    }
  },
  "nbformat": 4,
  "nbformat_minor": 0
}